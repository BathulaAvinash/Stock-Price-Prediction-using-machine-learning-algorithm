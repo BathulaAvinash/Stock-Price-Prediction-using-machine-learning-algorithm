{
  "nbformat": 4,
  "nbformat_minor": 0,
  "metadata": {
    "colab": {
      "provenance": []
    },
    "kernelspec": {
      "name": "python3",
      "display_name": "Python 3"
    },
    "language_info": {
      "name": "python"
    }
  },
  "cells": [
    {
      "cell_type": "markdown",
      "source": [
        "**Stock Market Price Prediction using decision tree**"
      ],
      "metadata": {
        "id": "sGIi5TVTPpjC"
      }
    },
    {
      "cell_type": "markdown",
      "source": [
        "***Importing important libraries***"
      ],
      "metadata": {
        "id": "8iegve4ERG4c"
      }
    },
    {
      "cell_type": "code",
      "execution_count": 227,
      "metadata": {
        "id": "H73G29WpPla7"
      },
      "outputs": [],
      "source": [
        "import pandas as pd\n",
        "from sklearn.model_selection import train_test_split\n",
        "from sklearn.metrics import accuracy_score, recall_score, precision_score,f1_score, roc_auc_score\n",
        "from sklearn.linear_model import LinearRegression\n",
        "from sklearn.neighbors import KNeighborsRegressor\n",
        "from sklearn.svm import SVR\n",
        "from sklearn.tree import DecisionTreeRegressor\n",
        "from sklearn.impute import SimpleImputer\n",
        "from sklearn.metrics import mean_squared_error, mean_absolute_error, r2_score\n",
        "from sklearn.metrics import roc_curve, auc\n",
        "import matplotlib.pyplot as plt"
      ]
    },
    {
      "cell_type": "markdown",
      "source": [
        "***Tesla Dataset***\n",
        "\n",
        "> In this project, I selected tesla datasets which play a crucial role as they form the foundation for training and evaluating machine learning models i.e decision tree for stock market price prediction. Dataset represents historical stock market data for different assets, and understanding their characteristics is vital for building effective predictive models.\n",
        "\n",
        "\n",
        "> Features of dataset\n",
        "* Date: Essential for organizing data chronologically and identifying trends over time.\n",
        "* Open: The opening price of Datasets on a given day.\n",
        "* High: The highest price of Datasets on a given day.\n",
        "* Low: The lowest price of Datasets on a given day.\n",
        "* Close: The closing price of Datasets on a given day.\n",
        "* Adj Close: The adjusted closing price of Datasets on a given day, considering dividends, stock splits, etc.\n",
        "* Volume: The volume of Datasets traded on a given day.\n",
        "\n"
      ],
      "metadata": {
        "id": "eDYfot84P1uP"
      }
    },
    {
      "cell_type": "markdown",
      "source": [
        "*Load the dataset*"
      ],
      "metadata": {
        "id": "RDQJ2pLYRi3m"
      }
    },
    {
      "cell_type": "code",
      "source": [
        "data = pd.read_csv('TESLA.csv')\n",
        "print(data)"
      ],
      "metadata": {
        "colab": {
          "base_uri": "https://localhost:8080/"
        },
        "id": "AvETHCwXRrge",
        "outputId": "83cb740c-3a22-4162-9285-9b269de9422f"
      },
      "execution_count": 228,
      "outputs": [
        {
          "output_type": "stream",
          "name": "stdout",
          "text": [
            "           Date        Open        High         Low       Close   Adj Close  \\\n",
            "0    2021-09-29  259.933319  264.500000  256.893341  260.436676  260.436676   \n",
            "1    2021-09-30  260.333344  263.043335  258.333344  258.493347  258.493347   \n",
            "2    2021-10-01  259.466675  260.260010  254.529999  258.406677  258.406677   \n",
            "3    2021-10-04  265.500000  268.989990  258.706665  260.510010  260.510010   \n",
            "4    2021-10-05  261.600006  265.769989  258.066681  260.196655  260.196655   \n",
            "..          ...         ...         ...         ...         ...         ...   \n",
            "248  2022-09-23  283.089996  284.500000  272.820007  275.329987  275.329987   \n",
            "249  2022-09-26  271.829987  284.089996  270.309998  276.010010  276.010010   \n",
            "250  2022-09-27  283.839996  288.670013  277.510010  282.940002  282.940002   \n",
            "251  2022-09-28  283.079987  289.000000  277.570007  287.809998  287.809998   \n",
            "252  2022-09-29  282.760010  283.649994  265.779999  268.209991  268.209991   \n",
            "\n",
            "       Volume  \n",
            "0    62828700  \n",
            "1    53868000  \n",
            "2    51094200  \n",
            "3    91449900  \n",
            "4    55297800  \n",
            "..        ...  \n",
            "248  63615400  \n",
            "249  58076900  \n",
            "250  61925200  \n",
            "251  54664800  \n",
            "252  77393100  \n",
            "\n",
            "[253 rows x 7 columns]\n"
          ]
        }
      ]
    },
    {
      "cell_type": "markdown",
      "source": [
        "*Quick peek at functions:*"
      ],
      "metadata": {
        "id": "qfrN5JQ0R08l"
      }
    },
    {
      "cell_type": "code",
      "source": [
        "data.shape"
      ],
      "metadata": {
        "colab": {
          "base_uri": "https://localhost:8080/"
        },
        "id": "q-KIFBbcR1UQ",
        "outputId": "12069762-f10b-4844-dd13-85b94b6ad832"
      },
      "execution_count": 229,
      "outputs": [
        {
          "output_type": "execute_result",
          "data": {
            "text/plain": [
              "(253, 7)"
            ]
          },
          "metadata": {},
          "execution_count": 229
        }
      ]
    },
    {
      "cell_type": "code",
      "source": [
        "data.columns"
      ],
      "metadata": {
        "colab": {
          "base_uri": "https://localhost:8080/"
        },
        "id": "rhTHKggCSmDn",
        "outputId": "b2a7ddc8-1843-4a24-c24d-f5cc310bdb23"
      },
      "execution_count": 230,
      "outputs": [
        {
          "output_type": "execute_result",
          "data": {
            "text/plain": [
              "Index(['Date', 'Open', 'High', 'Low', 'Close', 'Adj Close', 'Volume'], dtype='object')"
            ]
          },
          "metadata": {},
          "execution_count": 230
        }
      ]
    },
    {
      "cell_type": "code",
      "source": [
        "print(data.describe())"
      ],
      "metadata": {
        "colab": {
          "base_uri": "https://localhost:8080/"
        },
        "id": "ZlsrQh9pSp4c",
        "outputId": "290355b5-2f7f-4ea4-a8c4-890abf94dd67"
      },
      "execution_count": 231,
      "outputs": [
        {
          "output_type": "stream",
          "name": "stdout",
          "text": [
            "             Open        High         Low       Close   Adj Close  \\\n",
            "count  253.000000  253.000000  253.000000  253.000000  253.000000   \n",
            "mean   300.136008  307.486021  292.114058  299.709104  299.709104   \n",
            "std     46.139272   46.789896   44.685331   45.788283   45.788283   \n",
            "min    207.949997  217.973328  206.856674  209.386673  209.386673   \n",
            "25%    266.513336  273.166656  260.723328  266.923340  266.923340   \n",
            "50%    298.500000  303.709991  289.130005  296.666656  296.666656   \n",
            "75%    335.600006  344.950012  327.510010  336.336670  336.336670   \n",
            "max    411.470001  414.496674  405.666656  409.970001  409.970001   \n",
            "\n",
            "             Volume  \n",
            "count  2.530000e+02  \n",
            "mean   8.050938e+07  \n",
            "std    2.546595e+07  \n",
            "min    3.504270e+07  \n",
            "25%    6.255570e+07  \n",
            "50%    7.695630e+07  \n",
            "75%    9.347310e+07  \n",
            "max    1.885563e+08  \n"
          ]
        }
      ]
    },
    {
      "cell_type": "code",
      "source": [
        "print(data.info())"
      ],
      "metadata": {
        "colab": {
          "base_uri": "https://localhost:8080/"
        },
        "id": "O0LPK8e8Svqs",
        "outputId": "8c00c94e-fa66-40f9-cabb-0fa684a6656c"
      },
      "execution_count": 232,
      "outputs": [
        {
          "output_type": "stream",
          "name": "stdout",
          "text": [
            "<class 'pandas.core.frame.DataFrame'>\n",
            "RangeIndex: 253 entries, 0 to 252\n",
            "Data columns (total 7 columns):\n",
            " #   Column     Non-Null Count  Dtype  \n",
            "---  ------     --------------  -----  \n",
            " 0   Date       253 non-null    object \n",
            " 1   Open       253 non-null    float64\n",
            " 2   High       253 non-null    float64\n",
            " 3   Low        253 non-null    float64\n",
            " 4   Close      253 non-null    float64\n",
            " 5   Adj Close  253 non-null    float64\n",
            " 6   Volume     253 non-null    int64  \n",
            "dtypes: float64(5), int64(1), object(1)\n",
            "memory usage: 14.0+ KB\n",
            "None\n"
          ]
        }
      ]
    },
    {
      "cell_type": "markdown",
      "source": [
        "*Data Preprocessing*\n",
        "\n",
        "> Handling Missing Values:\n",
        "\n"
      ],
      "metadata": {
        "id": "IX0vxBMPVZ4U"
      }
    },
    {
      "cell_type": "code",
      "source": [
        "missing_values = data.isnull().sum()\n",
        "print(\"Missing Values:\\n\", missing_values)\n",
        "data = data.dropna()\n",
        "print(\"Missing Values After Handling:\\n\", data.isnull().sum())"
      ],
      "metadata": {
        "colab": {
          "base_uri": "https://localhost:8080/"
        },
        "id": "aYbkcmJRTQH7",
        "outputId": "5287c288-0f75-4fad-93be-d4c45e26ece6"
      },
      "execution_count": 233,
      "outputs": [
        {
          "output_type": "stream",
          "name": "stdout",
          "text": [
            "Missing Values:\n",
            " Date         0\n",
            "Open         0\n",
            "High         0\n",
            "Low          0\n",
            "Close        0\n",
            "Adj Close    0\n",
            "Volume       0\n",
            "dtype: int64\n",
            "Missing Values After Handling:\n",
            " Date         0\n",
            "Open         0\n",
            "High         0\n",
            "Low          0\n",
            "Close        0\n",
            "Adj Close    0\n",
            "Volume       0\n",
            "dtype: int64\n"
          ]
        }
      ]
    },
    {
      "cell_type": "markdown",
      "source": [
        "\n",
        "\n",
        "> Feature Scaling\n",
        "\n"
      ],
      "metadata": {
        "id": "isndxjVCWRNl"
      }
    },
    {
      "cell_type": "code",
      "source": [
        "from sklearn.preprocessing import MinMaxScaler\n",
        "scaler = MinMaxScaler()\n",
        "data[['High']] = scaler.fit_transform(data[['High']])\n",
        "data[['Low']] = scaler.fit_transform(data[['Low']])\n",
        "data"
      ],
      "metadata": {
        "colab": {
          "base_uri": "https://localhost:8080/",
          "height": 424
        },
        "id": "cBNPMtemWUKf",
        "outputId": "43977514-e0c3-4517-dd73-22da3ce6c755"
      },
      "execution_count": 234,
      "outputs": [
        {
          "output_type": "execute_result",
          "data": {
            "text/plain": [
              "           Date        Open      High       Low       Close   Adj Close  \\\n",
              "0    2021-09-29  259.933319  0.236749  0.251681  260.436676  260.436676   \n",
              "1    2021-09-30  260.333344  0.229337  0.258924  258.493347  258.493347   \n",
              "2    2021-10-01  259.466675  0.215174  0.239793  258.406677  258.406677   \n",
              "3    2021-10-04  265.500000  0.259596  0.260802  260.510010  260.510010   \n",
              "4    2021-10-05  261.600006  0.243211  0.257583  260.196655  260.196655   \n",
              "..          ...         ...       ...       ...         ...         ...   \n",
              "248  2022-09-23  283.089996  0.338518  0.331791  275.329987  275.329987   \n",
              "249  2022-09-26  271.829987  0.336432  0.319166  276.010010  276.010010   \n",
              "250  2022-09-27  283.839996  0.359737  0.355381  282.940002  282.940002   \n",
              "251  2022-09-28  283.079987  0.361416  0.355683  287.809998  287.809998   \n",
              "252  2022-09-29  282.760010  0.334193  0.296380  268.209991  268.209991   \n",
              "\n",
              "       Volume  \n",
              "0    62828700  \n",
              "1    53868000  \n",
              "2    51094200  \n",
              "3    91449900  \n",
              "4    55297800  \n",
              "..        ...  \n",
              "248  63615400  \n",
              "249  58076900  \n",
              "250  61925200  \n",
              "251  54664800  \n",
              "252  77393100  \n",
              "\n",
              "[253 rows x 7 columns]"
            ],
            "text/html": [
              "\n",
              "  <div id=\"df-39772882-b59c-4d3d-9877-b94f1639e173\" class=\"colab-df-container\">\n",
              "    <div>\n",
              "<style scoped>\n",
              "    .dataframe tbody tr th:only-of-type {\n",
              "        vertical-align: middle;\n",
              "    }\n",
              "\n",
              "    .dataframe tbody tr th {\n",
              "        vertical-align: top;\n",
              "    }\n",
              "\n",
              "    .dataframe thead th {\n",
              "        text-align: right;\n",
              "    }\n",
              "</style>\n",
              "<table border=\"1\" class=\"dataframe\">\n",
              "  <thead>\n",
              "    <tr style=\"text-align: right;\">\n",
              "      <th></th>\n",
              "      <th>Date</th>\n",
              "      <th>Open</th>\n",
              "      <th>High</th>\n",
              "      <th>Low</th>\n",
              "      <th>Close</th>\n",
              "      <th>Adj Close</th>\n",
              "      <th>Volume</th>\n",
              "    </tr>\n",
              "  </thead>\n",
              "  <tbody>\n",
              "    <tr>\n",
              "      <th>0</th>\n",
              "      <td>2021-09-29</td>\n",
              "      <td>259.933319</td>\n",
              "      <td>0.236749</td>\n",
              "      <td>0.251681</td>\n",
              "      <td>260.436676</td>\n",
              "      <td>260.436676</td>\n",
              "      <td>62828700</td>\n",
              "    </tr>\n",
              "    <tr>\n",
              "      <th>1</th>\n",
              "      <td>2021-09-30</td>\n",
              "      <td>260.333344</td>\n",
              "      <td>0.229337</td>\n",
              "      <td>0.258924</td>\n",
              "      <td>258.493347</td>\n",
              "      <td>258.493347</td>\n",
              "      <td>53868000</td>\n",
              "    </tr>\n",
              "    <tr>\n",
              "      <th>2</th>\n",
              "      <td>2021-10-01</td>\n",
              "      <td>259.466675</td>\n",
              "      <td>0.215174</td>\n",
              "      <td>0.239793</td>\n",
              "      <td>258.406677</td>\n",
              "      <td>258.406677</td>\n",
              "      <td>51094200</td>\n",
              "    </tr>\n",
              "    <tr>\n",
              "      <th>3</th>\n",
              "      <td>2021-10-04</td>\n",
              "      <td>265.500000</td>\n",
              "      <td>0.259596</td>\n",
              "      <td>0.260802</td>\n",
              "      <td>260.510010</td>\n",
              "      <td>260.510010</td>\n",
              "      <td>91449900</td>\n",
              "    </tr>\n",
              "    <tr>\n",
              "      <th>4</th>\n",
              "      <td>2021-10-05</td>\n",
              "      <td>261.600006</td>\n",
              "      <td>0.243211</td>\n",
              "      <td>0.257583</td>\n",
              "      <td>260.196655</td>\n",
              "      <td>260.196655</td>\n",
              "      <td>55297800</td>\n",
              "    </tr>\n",
              "    <tr>\n",
              "      <th>...</th>\n",
              "      <td>...</td>\n",
              "      <td>...</td>\n",
              "      <td>...</td>\n",
              "      <td>...</td>\n",
              "      <td>...</td>\n",
              "      <td>...</td>\n",
              "      <td>...</td>\n",
              "    </tr>\n",
              "    <tr>\n",
              "      <th>248</th>\n",
              "      <td>2022-09-23</td>\n",
              "      <td>283.089996</td>\n",
              "      <td>0.338518</td>\n",
              "      <td>0.331791</td>\n",
              "      <td>275.329987</td>\n",
              "      <td>275.329987</td>\n",
              "      <td>63615400</td>\n",
              "    </tr>\n",
              "    <tr>\n",
              "      <th>249</th>\n",
              "      <td>2022-09-26</td>\n",
              "      <td>271.829987</td>\n",
              "      <td>0.336432</td>\n",
              "      <td>0.319166</td>\n",
              "      <td>276.010010</td>\n",
              "      <td>276.010010</td>\n",
              "      <td>58076900</td>\n",
              "    </tr>\n",
              "    <tr>\n",
              "      <th>250</th>\n",
              "      <td>2022-09-27</td>\n",
              "      <td>283.839996</td>\n",
              "      <td>0.359737</td>\n",
              "      <td>0.355381</td>\n",
              "      <td>282.940002</td>\n",
              "      <td>282.940002</td>\n",
              "      <td>61925200</td>\n",
              "    </tr>\n",
              "    <tr>\n",
              "      <th>251</th>\n",
              "      <td>2022-09-28</td>\n",
              "      <td>283.079987</td>\n",
              "      <td>0.361416</td>\n",
              "      <td>0.355683</td>\n",
              "      <td>287.809998</td>\n",
              "      <td>287.809998</td>\n",
              "      <td>54664800</td>\n",
              "    </tr>\n",
              "    <tr>\n",
              "      <th>252</th>\n",
              "      <td>2022-09-29</td>\n",
              "      <td>282.760010</td>\n",
              "      <td>0.334193</td>\n",
              "      <td>0.296380</td>\n",
              "      <td>268.209991</td>\n",
              "      <td>268.209991</td>\n",
              "      <td>77393100</td>\n",
              "    </tr>\n",
              "  </tbody>\n",
              "</table>\n",
              "<p>253 rows × 7 columns</p>\n",
              "</div>\n",
              "    <div class=\"colab-df-buttons\">\n",
              "\n",
              "  <div class=\"colab-df-container\">\n",
              "    <button class=\"colab-df-convert\" onclick=\"convertToInteractive('df-39772882-b59c-4d3d-9877-b94f1639e173')\"\n",
              "            title=\"Convert this dataframe to an interactive table.\"\n",
              "            style=\"display:none;\">\n",
              "\n",
              "  <svg xmlns=\"http://www.w3.org/2000/svg\" height=\"24px\" viewBox=\"0 -960 960 960\">\n",
              "    <path d=\"M120-120v-720h720v720H120Zm60-500h600v-160H180v160Zm220 220h160v-160H400v160Zm0 220h160v-160H400v160ZM180-400h160v-160H180v160Zm440 0h160v-160H620v160ZM180-180h160v-160H180v160Zm440 0h160v-160H620v160Z\"/>\n",
              "  </svg>\n",
              "    </button>\n",
              "\n",
              "  <style>\n",
              "    .colab-df-container {\n",
              "      display:flex;\n",
              "      gap: 12px;\n",
              "    }\n",
              "\n",
              "    .colab-df-convert {\n",
              "      background-color: #E8F0FE;\n",
              "      border: none;\n",
              "      border-radius: 50%;\n",
              "      cursor: pointer;\n",
              "      display: none;\n",
              "      fill: #1967D2;\n",
              "      height: 32px;\n",
              "      padding: 0 0 0 0;\n",
              "      width: 32px;\n",
              "    }\n",
              "\n",
              "    .colab-df-convert:hover {\n",
              "      background-color: #E2EBFA;\n",
              "      box-shadow: 0px 1px 2px rgba(60, 64, 67, 0.3), 0px 1px 3px 1px rgba(60, 64, 67, 0.15);\n",
              "      fill: #174EA6;\n",
              "    }\n",
              "\n",
              "    .colab-df-buttons div {\n",
              "      margin-bottom: 4px;\n",
              "    }\n",
              "\n",
              "    [theme=dark] .colab-df-convert {\n",
              "      background-color: #3B4455;\n",
              "      fill: #D2E3FC;\n",
              "    }\n",
              "\n",
              "    [theme=dark] .colab-df-convert:hover {\n",
              "      background-color: #434B5C;\n",
              "      box-shadow: 0px 1px 3px 1px rgba(0, 0, 0, 0.15);\n",
              "      filter: drop-shadow(0px 1px 2px rgba(0, 0, 0, 0.3));\n",
              "      fill: #FFFFFF;\n",
              "    }\n",
              "  </style>\n",
              "\n",
              "    <script>\n",
              "      const buttonEl =\n",
              "        document.querySelector('#df-39772882-b59c-4d3d-9877-b94f1639e173 button.colab-df-convert');\n",
              "      buttonEl.style.display =\n",
              "        google.colab.kernel.accessAllowed ? 'block' : 'none';\n",
              "\n",
              "      async function convertToInteractive(key) {\n",
              "        const element = document.querySelector('#df-39772882-b59c-4d3d-9877-b94f1639e173');\n",
              "        const dataTable =\n",
              "          await google.colab.kernel.invokeFunction('convertToInteractive',\n",
              "                                                    [key], {});\n",
              "        if (!dataTable) return;\n",
              "\n",
              "        const docLinkHtml = 'Like what you see? Visit the ' +\n",
              "          '<a target=\"_blank\" href=https://colab.research.google.com/notebooks/data_table.ipynb>data table notebook</a>'\n",
              "          + ' to learn more about interactive tables.';\n",
              "        element.innerHTML = '';\n",
              "        dataTable['output_type'] = 'display_data';\n",
              "        await google.colab.output.renderOutput(dataTable, element);\n",
              "        const docLink = document.createElement('div');\n",
              "        docLink.innerHTML = docLinkHtml;\n",
              "        element.appendChild(docLink);\n",
              "      }\n",
              "    </script>\n",
              "  </div>\n",
              "\n",
              "\n",
              "<div id=\"df-27252c3a-3404-4fe4-bb02-f154753412a9\">\n",
              "  <button class=\"colab-df-quickchart\" onclick=\"quickchart('df-27252c3a-3404-4fe4-bb02-f154753412a9')\"\n",
              "            title=\"Suggest charts\"\n",
              "            style=\"display:none;\">\n",
              "\n",
              "<svg xmlns=\"http://www.w3.org/2000/svg\" height=\"24px\"viewBox=\"0 0 24 24\"\n",
              "     width=\"24px\">\n",
              "    <g>\n",
              "        <path d=\"M19 3H5c-1.1 0-2 .9-2 2v14c0 1.1.9 2 2 2h14c1.1 0 2-.9 2-2V5c0-1.1-.9-2-2-2zM9 17H7v-7h2v7zm4 0h-2V7h2v10zm4 0h-2v-4h2v4z\"/>\n",
              "    </g>\n",
              "</svg>\n",
              "  </button>\n",
              "\n",
              "<style>\n",
              "  .colab-df-quickchart {\n",
              "      --bg-color: #E8F0FE;\n",
              "      --fill-color: #1967D2;\n",
              "      --hover-bg-color: #E2EBFA;\n",
              "      --hover-fill-color: #174EA6;\n",
              "      --disabled-fill-color: #AAA;\n",
              "      --disabled-bg-color: #DDD;\n",
              "  }\n",
              "\n",
              "  [theme=dark] .colab-df-quickchart {\n",
              "      --bg-color: #3B4455;\n",
              "      --fill-color: #D2E3FC;\n",
              "      --hover-bg-color: #434B5C;\n",
              "      --hover-fill-color: #FFFFFF;\n",
              "      --disabled-bg-color: #3B4455;\n",
              "      --disabled-fill-color: #666;\n",
              "  }\n",
              "\n",
              "  .colab-df-quickchart {\n",
              "    background-color: var(--bg-color);\n",
              "    border: none;\n",
              "    border-radius: 50%;\n",
              "    cursor: pointer;\n",
              "    display: none;\n",
              "    fill: var(--fill-color);\n",
              "    height: 32px;\n",
              "    padding: 0;\n",
              "    width: 32px;\n",
              "  }\n",
              "\n",
              "  .colab-df-quickchart:hover {\n",
              "    background-color: var(--hover-bg-color);\n",
              "    box-shadow: 0 1px 2px rgba(60, 64, 67, 0.3), 0 1px 3px 1px rgba(60, 64, 67, 0.15);\n",
              "    fill: var(--button-hover-fill-color);\n",
              "  }\n",
              "\n",
              "  .colab-df-quickchart-complete:disabled,\n",
              "  .colab-df-quickchart-complete:disabled:hover {\n",
              "    background-color: var(--disabled-bg-color);\n",
              "    fill: var(--disabled-fill-color);\n",
              "    box-shadow: none;\n",
              "  }\n",
              "\n",
              "  .colab-df-spinner {\n",
              "    border: 2px solid var(--fill-color);\n",
              "    border-color: transparent;\n",
              "    border-bottom-color: var(--fill-color);\n",
              "    animation:\n",
              "      spin 1s steps(1) infinite;\n",
              "  }\n",
              "\n",
              "  @keyframes spin {\n",
              "    0% {\n",
              "      border-color: transparent;\n",
              "      border-bottom-color: var(--fill-color);\n",
              "      border-left-color: var(--fill-color);\n",
              "    }\n",
              "    20% {\n",
              "      border-color: transparent;\n",
              "      border-left-color: var(--fill-color);\n",
              "      border-top-color: var(--fill-color);\n",
              "    }\n",
              "    30% {\n",
              "      border-color: transparent;\n",
              "      border-left-color: var(--fill-color);\n",
              "      border-top-color: var(--fill-color);\n",
              "      border-right-color: var(--fill-color);\n",
              "    }\n",
              "    40% {\n",
              "      border-color: transparent;\n",
              "      border-right-color: var(--fill-color);\n",
              "      border-top-color: var(--fill-color);\n",
              "    }\n",
              "    60% {\n",
              "      border-color: transparent;\n",
              "      border-right-color: var(--fill-color);\n",
              "    }\n",
              "    80% {\n",
              "      border-color: transparent;\n",
              "      border-right-color: var(--fill-color);\n",
              "      border-bottom-color: var(--fill-color);\n",
              "    }\n",
              "    90% {\n",
              "      border-color: transparent;\n",
              "      border-bottom-color: var(--fill-color);\n",
              "    }\n",
              "  }\n",
              "</style>\n",
              "\n",
              "  <script>\n",
              "    async function quickchart(key) {\n",
              "      const quickchartButtonEl =\n",
              "        document.querySelector('#' + key + ' button');\n",
              "      quickchartButtonEl.disabled = true;  // To prevent multiple clicks.\n",
              "      quickchartButtonEl.classList.add('colab-df-spinner');\n",
              "      try {\n",
              "        const charts = await google.colab.kernel.invokeFunction(\n",
              "            'suggestCharts', [key], {});\n",
              "      } catch (error) {\n",
              "        console.error('Error during call to suggestCharts:', error);\n",
              "      }\n",
              "      quickchartButtonEl.classList.remove('colab-df-spinner');\n",
              "      quickchartButtonEl.classList.add('colab-df-quickchart-complete');\n",
              "    }\n",
              "    (() => {\n",
              "      let quickchartButtonEl =\n",
              "        document.querySelector('#df-27252c3a-3404-4fe4-bb02-f154753412a9 button');\n",
              "      quickchartButtonEl.style.display =\n",
              "        google.colab.kernel.accessAllowed ? 'block' : 'none';\n",
              "    })();\n",
              "  </script>\n",
              "</div>\n",
              "\n",
              "  <div id=\"id_a7ab11de-bff5-4925-8301-419012bda55c\">\n",
              "    <style>\n",
              "      .colab-df-generate {\n",
              "        background-color: #E8F0FE;\n",
              "        border: none;\n",
              "        border-radius: 50%;\n",
              "        cursor: pointer;\n",
              "        display: none;\n",
              "        fill: #1967D2;\n",
              "        height: 32px;\n",
              "        padding: 0 0 0 0;\n",
              "        width: 32px;\n",
              "      }\n",
              "\n",
              "      .colab-df-generate:hover {\n",
              "        background-color: #E2EBFA;\n",
              "        box-shadow: 0px 1px 2px rgba(60, 64, 67, 0.3), 0px 1px 3px 1px rgba(60, 64, 67, 0.15);\n",
              "        fill: #174EA6;\n",
              "      }\n",
              "\n",
              "      [theme=dark] .colab-df-generate {\n",
              "        background-color: #3B4455;\n",
              "        fill: #D2E3FC;\n",
              "      }\n",
              "\n",
              "      [theme=dark] .colab-df-generate:hover {\n",
              "        background-color: #434B5C;\n",
              "        box-shadow: 0px 1px 3px 1px rgba(0, 0, 0, 0.15);\n",
              "        filter: drop-shadow(0px 1px 2px rgba(0, 0, 0, 0.3));\n",
              "        fill: #FFFFFF;\n",
              "      }\n",
              "    </style>\n",
              "    <button class=\"colab-df-generate\" onclick=\"generateWithVariable('data')\"\n",
              "            title=\"Generate code using this dataframe.\"\n",
              "            style=\"display:none;\">\n",
              "\n",
              "  <svg xmlns=\"http://www.w3.org/2000/svg\" height=\"24px\"viewBox=\"0 0 24 24\"\n",
              "       width=\"24px\">\n",
              "    <path d=\"M7,19H8.4L18.45,9,17,7.55,7,17.6ZM5,21V16.75L18.45,3.32a2,2,0,0,1,2.83,0l1.4,1.43a1.91,1.91,0,0,1,.58,1.4,1.91,1.91,0,0,1-.58,1.4L9.25,21ZM18.45,9,17,7.55Zm-12,3A5.31,5.31,0,0,0,4.9,8.1,5.31,5.31,0,0,0,1,6.5,5.31,5.31,0,0,0,4.9,4.9,5.31,5.31,0,0,0,6.5,1,5.31,5.31,0,0,0,8.1,4.9,5.31,5.31,0,0,0,12,6.5,5.46,5.46,0,0,0,6.5,12Z\"/>\n",
              "  </svg>\n",
              "    </button>\n",
              "    <script>\n",
              "      (() => {\n",
              "      const buttonEl =\n",
              "        document.querySelector('#id_a7ab11de-bff5-4925-8301-419012bda55c button.colab-df-generate');\n",
              "      buttonEl.style.display =\n",
              "        google.colab.kernel.accessAllowed ? 'block' : 'none';\n",
              "\n",
              "      buttonEl.onclick = () => {\n",
              "        google.colab.notebook.generateWithVariable('data');\n",
              "      }\n",
              "      })();\n",
              "    </script>\n",
              "  </div>\n",
              "\n",
              "    </div>\n",
              "  </div>\n"
            ]
          },
          "metadata": {},
          "execution_count": 234
        }
      ]
    },
    {
      "cell_type": "markdown",
      "source": [
        "\n",
        "\n",
        "> Feature Engineering\n",
        "\n"
      ],
      "metadata": {
        "id": "tKbew_lvX4w0"
      }
    },
    {
      "cell_type": "code",
      "source": [
        "data['DailyReturn'] = data['Adj Close'].pct_change() * 100\n",
        "data['MovingAverage'] = data['Adj Close'].rolling(window=5).mean()\n",
        "data['PriceToVolumeRatio'] = data['Adj Close']/data['Volume']\n",
        "data=data.dropna()\n",
        "data"
      ],
      "metadata": {
        "colab": {
          "base_uri": "https://localhost:8080/",
          "height": 617
        },
        "id": "REjgCMQQX-u6",
        "outputId": "9fe1f6fd-64c7-49ec-e569-5dc6c5430aed"
      },
      "execution_count": 235,
      "outputs": [
        {
          "output_type": "execute_result",
          "data": {
            "text/plain": [
              "           Date        Open      High       Low       Close   Adj Close  \\\n",
              "4    2021-10-05  261.600006  0.243211  0.257583  260.196655  260.196655   \n",
              "5    2021-10-06  258.733337  0.225147  0.255939  260.916656  260.916656   \n",
              "6    2021-10-07  261.820007  0.256255  0.272974  264.536682  264.536682   \n",
              "7    2021-10-08  265.403320  0.241634  0.268833  261.829987  261.829987   \n",
              "8    2021-10-11  262.549988  0.249877  0.276529  263.980011  263.980011   \n",
              "..          ...         ...       ...       ...         ...         ...   \n",
              "248  2022-09-23  283.089996  0.338518  0.331791  275.329987  275.329987   \n",
              "249  2022-09-26  271.829987  0.336432  0.319166  276.010010  276.010010   \n",
              "250  2022-09-27  283.839996  0.359737  0.355381  282.940002  282.940002   \n",
              "251  2022-09-28  283.079987  0.361416  0.355683  287.809998  287.809998   \n",
              "252  2022-09-29  282.760010  0.334193  0.296380  268.209991  268.209991   \n",
              "\n",
              "       Volume  DailyReturn  MovingAverage  PriceToVolumeRatio  \n",
              "4    55297800    -0.120285     259.608673            0.000005  \n",
              "5    43898400     0.276714     259.704669            0.000006  \n",
              "6    57587400     1.387426     260.913336            0.000005  \n",
              "7    50215800    -1.023183     261.597998            0.000005  \n",
              "8    42600900     0.821153     262.291998            0.000006  \n",
              "..        ...          ...            ...                 ...  \n",
              "248  63615400    -4.594757     296.503998            0.000004  \n",
              "249  58076900     0.246985     289.891998            0.000005  \n",
              "250  61925200     2.510776     284.733997            0.000005  \n",
              "251  54664800     1.721212     282.135999            0.000005  \n",
              "252  77393100    -6.810051     278.059998            0.000003  \n",
              "\n",
              "[249 rows x 10 columns]"
            ],
            "text/html": [
              "\n",
              "  <div id=\"df-242c6634-b9f6-4af9-889c-e3c52d92862b\" class=\"colab-df-container\">\n",
              "    <div>\n",
              "<style scoped>\n",
              "    .dataframe tbody tr th:only-of-type {\n",
              "        vertical-align: middle;\n",
              "    }\n",
              "\n",
              "    .dataframe tbody tr th {\n",
              "        vertical-align: top;\n",
              "    }\n",
              "\n",
              "    .dataframe thead th {\n",
              "        text-align: right;\n",
              "    }\n",
              "</style>\n",
              "<table border=\"1\" class=\"dataframe\">\n",
              "  <thead>\n",
              "    <tr style=\"text-align: right;\">\n",
              "      <th></th>\n",
              "      <th>Date</th>\n",
              "      <th>Open</th>\n",
              "      <th>High</th>\n",
              "      <th>Low</th>\n",
              "      <th>Close</th>\n",
              "      <th>Adj Close</th>\n",
              "      <th>Volume</th>\n",
              "      <th>DailyReturn</th>\n",
              "      <th>MovingAverage</th>\n",
              "      <th>PriceToVolumeRatio</th>\n",
              "    </tr>\n",
              "  </thead>\n",
              "  <tbody>\n",
              "    <tr>\n",
              "      <th>4</th>\n",
              "      <td>2021-10-05</td>\n",
              "      <td>261.600006</td>\n",
              "      <td>0.243211</td>\n",
              "      <td>0.257583</td>\n",
              "      <td>260.196655</td>\n",
              "      <td>260.196655</td>\n",
              "      <td>55297800</td>\n",
              "      <td>-0.120285</td>\n",
              "      <td>259.608673</td>\n",
              "      <td>0.000005</td>\n",
              "    </tr>\n",
              "    <tr>\n",
              "      <th>5</th>\n",
              "      <td>2021-10-06</td>\n",
              "      <td>258.733337</td>\n",
              "      <td>0.225147</td>\n",
              "      <td>0.255939</td>\n",
              "      <td>260.916656</td>\n",
              "      <td>260.916656</td>\n",
              "      <td>43898400</td>\n",
              "      <td>0.276714</td>\n",
              "      <td>259.704669</td>\n",
              "      <td>0.000006</td>\n",
              "    </tr>\n",
              "    <tr>\n",
              "      <th>6</th>\n",
              "      <td>2021-10-07</td>\n",
              "      <td>261.820007</td>\n",
              "      <td>0.256255</td>\n",
              "      <td>0.272974</td>\n",
              "      <td>264.536682</td>\n",
              "      <td>264.536682</td>\n",
              "      <td>57587400</td>\n",
              "      <td>1.387426</td>\n",
              "      <td>260.913336</td>\n",
              "      <td>0.000005</td>\n",
              "    </tr>\n",
              "    <tr>\n",
              "      <th>7</th>\n",
              "      <td>2021-10-08</td>\n",
              "      <td>265.403320</td>\n",
              "      <td>0.241634</td>\n",
              "      <td>0.268833</td>\n",
              "      <td>261.829987</td>\n",
              "      <td>261.829987</td>\n",
              "      <td>50215800</td>\n",
              "      <td>-1.023183</td>\n",
              "      <td>261.597998</td>\n",
              "      <td>0.000005</td>\n",
              "    </tr>\n",
              "    <tr>\n",
              "      <th>8</th>\n",
              "      <td>2021-10-11</td>\n",
              "      <td>262.549988</td>\n",
              "      <td>0.249877</td>\n",
              "      <td>0.276529</td>\n",
              "      <td>263.980011</td>\n",
              "      <td>263.980011</td>\n",
              "      <td>42600900</td>\n",
              "      <td>0.821153</td>\n",
              "      <td>262.291998</td>\n",
              "      <td>0.000006</td>\n",
              "    </tr>\n",
              "    <tr>\n",
              "      <th>...</th>\n",
              "      <td>...</td>\n",
              "      <td>...</td>\n",
              "      <td>...</td>\n",
              "      <td>...</td>\n",
              "      <td>...</td>\n",
              "      <td>...</td>\n",
              "      <td>...</td>\n",
              "      <td>...</td>\n",
              "      <td>...</td>\n",
              "      <td>...</td>\n",
              "    </tr>\n",
              "    <tr>\n",
              "      <th>248</th>\n",
              "      <td>2022-09-23</td>\n",
              "      <td>283.089996</td>\n",
              "      <td>0.338518</td>\n",
              "      <td>0.331791</td>\n",
              "      <td>275.329987</td>\n",
              "      <td>275.329987</td>\n",
              "      <td>63615400</td>\n",
              "      <td>-4.594757</td>\n",
              "      <td>296.503998</td>\n",
              "      <td>0.000004</td>\n",
              "    </tr>\n",
              "    <tr>\n",
              "      <th>249</th>\n",
              "      <td>2022-09-26</td>\n",
              "      <td>271.829987</td>\n",
              "      <td>0.336432</td>\n",
              "      <td>0.319166</td>\n",
              "      <td>276.010010</td>\n",
              "      <td>276.010010</td>\n",
              "      <td>58076900</td>\n",
              "      <td>0.246985</td>\n",
              "      <td>289.891998</td>\n",
              "      <td>0.000005</td>\n",
              "    </tr>\n",
              "    <tr>\n",
              "      <th>250</th>\n",
              "      <td>2022-09-27</td>\n",
              "      <td>283.839996</td>\n",
              "      <td>0.359737</td>\n",
              "      <td>0.355381</td>\n",
              "      <td>282.940002</td>\n",
              "      <td>282.940002</td>\n",
              "      <td>61925200</td>\n",
              "      <td>2.510776</td>\n",
              "      <td>284.733997</td>\n",
              "      <td>0.000005</td>\n",
              "    </tr>\n",
              "    <tr>\n",
              "      <th>251</th>\n",
              "      <td>2022-09-28</td>\n",
              "      <td>283.079987</td>\n",
              "      <td>0.361416</td>\n",
              "      <td>0.355683</td>\n",
              "      <td>287.809998</td>\n",
              "      <td>287.809998</td>\n",
              "      <td>54664800</td>\n",
              "      <td>1.721212</td>\n",
              "      <td>282.135999</td>\n",
              "      <td>0.000005</td>\n",
              "    </tr>\n",
              "    <tr>\n",
              "      <th>252</th>\n",
              "      <td>2022-09-29</td>\n",
              "      <td>282.760010</td>\n",
              "      <td>0.334193</td>\n",
              "      <td>0.296380</td>\n",
              "      <td>268.209991</td>\n",
              "      <td>268.209991</td>\n",
              "      <td>77393100</td>\n",
              "      <td>-6.810051</td>\n",
              "      <td>278.059998</td>\n",
              "      <td>0.000003</td>\n",
              "    </tr>\n",
              "  </tbody>\n",
              "</table>\n",
              "<p>249 rows × 10 columns</p>\n",
              "</div>\n",
              "    <div class=\"colab-df-buttons\">\n",
              "\n",
              "  <div class=\"colab-df-container\">\n",
              "    <button class=\"colab-df-convert\" onclick=\"convertToInteractive('df-242c6634-b9f6-4af9-889c-e3c52d92862b')\"\n",
              "            title=\"Convert this dataframe to an interactive table.\"\n",
              "            style=\"display:none;\">\n",
              "\n",
              "  <svg xmlns=\"http://www.w3.org/2000/svg\" height=\"24px\" viewBox=\"0 -960 960 960\">\n",
              "    <path d=\"M120-120v-720h720v720H120Zm60-500h600v-160H180v160Zm220 220h160v-160H400v160Zm0 220h160v-160H400v160ZM180-400h160v-160H180v160Zm440 0h160v-160H620v160ZM180-180h160v-160H180v160Zm440 0h160v-160H620v160Z\"/>\n",
              "  </svg>\n",
              "    </button>\n",
              "\n",
              "  <style>\n",
              "    .colab-df-container {\n",
              "      display:flex;\n",
              "      gap: 12px;\n",
              "    }\n",
              "\n",
              "    .colab-df-convert {\n",
              "      background-color: #E8F0FE;\n",
              "      border: none;\n",
              "      border-radius: 50%;\n",
              "      cursor: pointer;\n",
              "      display: none;\n",
              "      fill: #1967D2;\n",
              "      height: 32px;\n",
              "      padding: 0 0 0 0;\n",
              "      width: 32px;\n",
              "    }\n",
              "\n",
              "    .colab-df-convert:hover {\n",
              "      background-color: #E2EBFA;\n",
              "      box-shadow: 0px 1px 2px rgba(60, 64, 67, 0.3), 0px 1px 3px 1px rgba(60, 64, 67, 0.15);\n",
              "      fill: #174EA6;\n",
              "    }\n",
              "\n",
              "    .colab-df-buttons div {\n",
              "      margin-bottom: 4px;\n",
              "    }\n",
              "\n",
              "    [theme=dark] .colab-df-convert {\n",
              "      background-color: #3B4455;\n",
              "      fill: #D2E3FC;\n",
              "    }\n",
              "\n",
              "    [theme=dark] .colab-df-convert:hover {\n",
              "      background-color: #434B5C;\n",
              "      box-shadow: 0px 1px 3px 1px rgba(0, 0, 0, 0.15);\n",
              "      filter: drop-shadow(0px 1px 2px rgba(0, 0, 0, 0.3));\n",
              "      fill: #FFFFFF;\n",
              "    }\n",
              "  </style>\n",
              "\n",
              "    <script>\n",
              "      const buttonEl =\n",
              "        document.querySelector('#df-242c6634-b9f6-4af9-889c-e3c52d92862b button.colab-df-convert');\n",
              "      buttonEl.style.display =\n",
              "        google.colab.kernel.accessAllowed ? 'block' : 'none';\n",
              "\n",
              "      async function convertToInteractive(key) {\n",
              "        const element = document.querySelector('#df-242c6634-b9f6-4af9-889c-e3c52d92862b');\n",
              "        const dataTable =\n",
              "          await google.colab.kernel.invokeFunction('convertToInteractive',\n",
              "                                                    [key], {});\n",
              "        if (!dataTable) return;\n",
              "\n",
              "        const docLinkHtml = 'Like what you see? Visit the ' +\n",
              "          '<a target=\"_blank\" href=https://colab.research.google.com/notebooks/data_table.ipynb>data table notebook</a>'\n",
              "          + ' to learn more about interactive tables.';\n",
              "        element.innerHTML = '';\n",
              "        dataTable['output_type'] = 'display_data';\n",
              "        await google.colab.output.renderOutput(dataTable, element);\n",
              "        const docLink = document.createElement('div');\n",
              "        docLink.innerHTML = docLinkHtml;\n",
              "        element.appendChild(docLink);\n",
              "      }\n",
              "    </script>\n",
              "  </div>\n",
              "\n",
              "\n",
              "<div id=\"df-63b75ee2-a53a-445b-b827-e96e19ed82cb\">\n",
              "  <button class=\"colab-df-quickchart\" onclick=\"quickchart('df-63b75ee2-a53a-445b-b827-e96e19ed82cb')\"\n",
              "            title=\"Suggest charts\"\n",
              "            style=\"display:none;\">\n",
              "\n",
              "<svg xmlns=\"http://www.w3.org/2000/svg\" height=\"24px\"viewBox=\"0 0 24 24\"\n",
              "     width=\"24px\">\n",
              "    <g>\n",
              "        <path d=\"M19 3H5c-1.1 0-2 .9-2 2v14c0 1.1.9 2 2 2h14c1.1 0 2-.9 2-2V5c0-1.1-.9-2-2-2zM9 17H7v-7h2v7zm4 0h-2V7h2v10zm4 0h-2v-4h2v4z\"/>\n",
              "    </g>\n",
              "</svg>\n",
              "  </button>\n",
              "\n",
              "<style>\n",
              "  .colab-df-quickchart {\n",
              "      --bg-color: #E8F0FE;\n",
              "      --fill-color: #1967D2;\n",
              "      --hover-bg-color: #E2EBFA;\n",
              "      --hover-fill-color: #174EA6;\n",
              "      --disabled-fill-color: #AAA;\n",
              "      --disabled-bg-color: #DDD;\n",
              "  }\n",
              "\n",
              "  [theme=dark] .colab-df-quickchart {\n",
              "      --bg-color: #3B4455;\n",
              "      --fill-color: #D2E3FC;\n",
              "      --hover-bg-color: #434B5C;\n",
              "      --hover-fill-color: #FFFFFF;\n",
              "      --disabled-bg-color: #3B4455;\n",
              "      --disabled-fill-color: #666;\n",
              "  }\n",
              "\n",
              "  .colab-df-quickchart {\n",
              "    background-color: var(--bg-color);\n",
              "    border: none;\n",
              "    border-radius: 50%;\n",
              "    cursor: pointer;\n",
              "    display: none;\n",
              "    fill: var(--fill-color);\n",
              "    height: 32px;\n",
              "    padding: 0;\n",
              "    width: 32px;\n",
              "  }\n",
              "\n",
              "  .colab-df-quickchart:hover {\n",
              "    background-color: var(--hover-bg-color);\n",
              "    box-shadow: 0 1px 2px rgba(60, 64, 67, 0.3), 0 1px 3px 1px rgba(60, 64, 67, 0.15);\n",
              "    fill: var(--button-hover-fill-color);\n",
              "  }\n",
              "\n",
              "  .colab-df-quickchart-complete:disabled,\n",
              "  .colab-df-quickchart-complete:disabled:hover {\n",
              "    background-color: var(--disabled-bg-color);\n",
              "    fill: var(--disabled-fill-color);\n",
              "    box-shadow: none;\n",
              "  }\n",
              "\n",
              "  .colab-df-spinner {\n",
              "    border: 2px solid var(--fill-color);\n",
              "    border-color: transparent;\n",
              "    border-bottom-color: var(--fill-color);\n",
              "    animation:\n",
              "      spin 1s steps(1) infinite;\n",
              "  }\n",
              "\n",
              "  @keyframes spin {\n",
              "    0% {\n",
              "      border-color: transparent;\n",
              "      border-bottom-color: var(--fill-color);\n",
              "      border-left-color: var(--fill-color);\n",
              "    }\n",
              "    20% {\n",
              "      border-color: transparent;\n",
              "      border-left-color: var(--fill-color);\n",
              "      border-top-color: var(--fill-color);\n",
              "    }\n",
              "    30% {\n",
              "      border-color: transparent;\n",
              "      border-left-color: var(--fill-color);\n",
              "      border-top-color: var(--fill-color);\n",
              "      border-right-color: var(--fill-color);\n",
              "    }\n",
              "    40% {\n",
              "      border-color: transparent;\n",
              "      border-right-color: var(--fill-color);\n",
              "      border-top-color: var(--fill-color);\n",
              "    }\n",
              "    60% {\n",
              "      border-color: transparent;\n",
              "      border-right-color: var(--fill-color);\n",
              "    }\n",
              "    80% {\n",
              "      border-color: transparent;\n",
              "      border-right-color: var(--fill-color);\n",
              "      border-bottom-color: var(--fill-color);\n",
              "    }\n",
              "    90% {\n",
              "      border-color: transparent;\n",
              "      border-bottom-color: var(--fill-color);\n",
              "    }\n",
              "  }\n",
              "</style>\n",
              "\n",
              "  <script>\n",
              "    async function quickchart(key) {\n",
              "      const quickchartButtonEl =\n",
              "        document.querySelector('#' + key + ' button');\n",
              "      quickchartButtonEl.disabled = true;  // To prevent multiple clicks.\n",
              "      quickchartButtonEl.classList.add('colab-df-spinner');\n",
              "      try {\n",
              "        const charts = await google.colab.kernel.invokeFunction(\n",
              "            'suggestCharts', [key], {});\n",
              "      } catch (error) {\n",
              "        console.error('Error during call to suggestCharts:', error);\n",
              "      }\n",
              "      quickchartButtonEl.classList.remove('colab-df-spinner');\n",
              "      quickchartButtonEl.classList.add('colab-df-quickchart-complete');\n",
              "    }\n",
              "    (() => {\n",
              "      let quickchartButtonEl =\n",
              "        document.querySelector('#df-63b75ee2-a53a-445b-b827-e96e19ed82cb button');\n",
              "      quickchartButtonEl.style.display =\n",
              "        google.colab.kernel.accessAllowed ? 'block' : 'none';\n",
              "    })();\n",
              "  </script>\n",
              "</div>\n",
              "\n",
              "  <div id=\"id_f42e676a-0687-4614-b32a-ad865c7b4e9d\">\n",
              "    <style>\n",
              "      .colab-df-generate {\n",
              "        background-color: #E8F0FE;\n",
              "        border: none;\n",
              "        border-radius: 50%;\n",
              "        cursor: pointer;\n",
              "        display: none;\n",
              "        fill: #1967D2;\n",
              "        height: 32px;\n",
              "        padding: 0 0 0 0;\n",
              "        width: 32px;\n",
              "      }\n",
              "\n",
              "      .colab-df-generate:hover {\n",
              "        background-color: #E2EBFA;\n",
              "        box-shadow: 0px 1px 2px rgba(60, 64, 67, 0.3), 0px 1px 3px 1px rgba(60, 64, 67, 0.15);\n",
              "        fill: #174EA6;\n",
              "      }\n",
              "\n",
              "      [theme=dark] .colab-df-generate {\n",
              "        background-color: #3B4455;\n",
              "        fill: #D2E3FC;\n",
              "      }\n",
              "\n",
              "      [theme=dark] .colab-df-generate:hover {\n",
              "        background-color: #434B5C;\n",
              "        box-shadow: 0px 1px 3px 1px rgba(0, 0, 0, 0.15);\n",
              "        filter: drop-shadow(0px 1px 2px rgba(0, 0, 0, 0.3));\n",
              "        fill: #FFFFFF;\n",
              "      }\n",
              "    </style>\n",
              "    <button class=\"colab-df-generate\" onclick=\"generateWithVariable('data')\"\n",
              "            title=\"Generate code using this dataframe.\"\n",
              "            style=\"display:none;\">\n",
              "\n",
              "  <svg xmlns=\"http://www.w3.org/2000/svg\" height=\"24px\"viewBox=\"0 0 24 24\"\n",
              "       width=\"24px\">\n",
              "    <path d=\"M7,19H8.4L18.45,9,17,7.55,7,17.6ZM5,21V16.75L18.45,3.32a2,2,0,0,1,2.83,0l1.4,1.43a1.91,1.91,0,0,1,.58,1.4,1.91,1.91,0,0,1-.58,1.4L9.25,21ZM18.45,9,17,7.55Zm-12,3A5.31,5.31,0,0,0,4.9,8.1,5.31,5.31,0,0,0,1,6.5,5.31,5.31,0,0,0,4.9,4.9,5.31,5.31,0,0,0,6.5,1,5.31,5.31,0,0,0,8.1,4.9,5.31,5.31,0,0,0,12,6.5,5.46,5.46,0,0,0,6.5,12Z\"/>\n",
              "  </svg>\n",
              "    </button>\n",
              "    <script>\n",
              "      (() => {\n",
              "      const buttonEl =\n",
              "        document.querySelector('#id_f42e676a-0687-4614-b32a-ad865c7b4e9d button.colab-df-generate');\n",
              "      buttonEl.style.display =\n",
              "        google.colab.kernel.accessAllowed ? 'block' : 'none';\n",
              "\n",
              "      buttonEl.onclick = () => {\n",
              "        google.colab.notebook.generateWithVariable('data');\n",
              "      }\n",
              "      })();\n",
              "    </script>\n",
              "  </div>\n",
              "\n",
              "    </div>\n",
              "  </div>\n"
            ]
          },
          "metadata": {},
          "execution_count": 235
        }
      ]
    },
    {
      "cell_type": "markdown",
      "source": [
        "> Data Splitting and Model Training"
      ],
      "metadata": {
        "id": "wjj-ltEdYvFk"
      }
    },
    {
      "cell_type": "code",
      "source": [
        "features = ['Open', 'High', 'Low', 'Volume', 'DailyReturn', 'MovingAverage', 'PriceToVolumeRatio']\n",
        "X = data[features]\n",
        "Y = data['Close']\n",
        "print(X.columns)\n",
        "print(Y.name)"
      ],
      "metadata": {
        "colab": {
          "base_uri": "https://localhost:8080/"
        },
        "id": "_bHGCAZ6Y1uS",
        "outputId": "73072088-8cc8-41b4-d48a-b809d8dc94b0"
      },
      "execution_count": 236,
      "outputs": [
        {
          "output_type": "stream",
          "name": "stdout",
          "text": [
            "Index(['Open', 'High', 'Low', 'Volume', 'DailyReturn', 'MovingAverage',\n",
            "       'PriceToVolumeRatio'],\n",
            "      dtype='object')\n",
            "Close\n"
          ]
        }
      ]
    },
    {
      "cell_type": "code",
      "source": [
        "imputer = SimpleImputer(strategy='mean')\n",
        "X = imputer.fit_transform(X)"
      ],
      "metadata": {
        "id": "8Vuk-PICZm74"
      },
      "execution_count": 237,
      "outputs": []
    },
    {
      "cell_type": "code",
      "source": [
        "X_train, X_test, y_train, y_test = train_test_split(X,Y, test_size=0.2, random_state=42)\n",
        "print(\"X_train shape:\", X_train.shape)\n",
        "print(\"X_test shape:\", X_test.shape)\n",
        "print(\"y_train shape:\", y_train.shape)\n",
        "print(\"y_test shape:\", y_test.shape)"
      ],
      "metadata": {
        "colab": {
          "base_uri": "https://localhost:8080/"
        },
        "id": "WcwGoMqWZ2oi",
        "outputId": "f4c102cb-f784-4c10-b7d7-882b6f581e11"
      },
      "execution_count": 238,
      "outputs": [
        {
          "output_type": "stream",
          "name": "stdout",
          "text": [
            "X_train shape: (199, 7)\n",
            "X_test shape: (50, 7)\n",
            "y_train shape: (199,)\n",
            "y_test shape: (50,)\n"
          ]
        }
      ]
    },
    {
      "cell_type": "code",
      "source": [
        "model = DecisionTreeRegressor()"
      ],
      "metadata": {
        "id": "eLvqzc96Z9pf"
      },
      "execution_count": 239,
      "outputs": []
    },
    {
      "cell_type": "markdown",
      "source": [
        "> Model Evaluation"
      ],
      "metadata": {
        "id": "H8s3lnGmaa0M"
      }
    },
    {
      "cell_type": "code",
      "source": [
        "model.fit(X_train, y_train)\n",
        "predictions = model.predict(X_test)\n",
        "predictions"
      ],
      "metadata": {
        "colab": {
          "base_uri": "https://localhost:8080/"
        },
        "id": "mXOhCbt0acR6",
        "outputId": "ba6429c8-f83f-4476-85cf-95135529a68c"
      },
      "execution_count": 240,
      "outputs": [
        {
          "output_type": "execute_result",
          "data": {
            "text/plain": [
              "array([355.983337, 272.773346, 262.369995, 352.26001 , 274.820007,\n",
              "       233.070007, 239.706665, 236.473328, 300.980011, 275.609985,\n",
              "       266.679993, 300.980011, 268.573334, 303.996674, 349.869995,\n",
              "       303.083344, 237.036667, 352.420013, 233.070007, 383.196655,\n",
              "       287.809998, 399.926666, 312.23999 , 352.420013, 233.070007,\n",
              "       352.26001 , 340.790009, 290.253326, 349.869995, 355.983337,\n",
              "       276.01001 , 364.66333 , 310.      , 216.759995, 342.320007,\n",
              "       264.536682, 366.523346, 239.706665, 224.473328, 234.516663,\n",
              "       334.763336, 268.193329, 276.01001 , 227.263336, 244.919998,\n",
              "       343.503326, 233.066666, 366.523346, 231.733337, 381.816681])"
            ]
          },
          "metadata": {},
          "execution_count": 240
        }
      ]
    },
    {
      "cell_type": "code",
      "source": [
        "y_test"
      ],
      "metadata": {
        "colab": {
          "base_uri": "https://localhost:8080/"
        },
        "id": "HmYJ-w4zII7o",
        "outputId": "ff2dcf00-88df-4592-967f-13de3bd966a7"
      },
      "execution_count": 241,
      "outputs": [
        {
          "output_type": "execute_result",
          "data": {
            "text/plain": [
              "141    336.260010\n",
              "10     270.359985\n",
              "101    254.679993\n",
              "64     356.779999\n",
              "116    280.076660\n",
              "184    235.070007\n",
              "200    240.546661\n",
              "187    232.663330\n",
              "13     290.036682\n",
              "108    279.429993\n",
              "203    271.706665\n",
              "219    300.029999\n",
              "205    268.433319\n",
              "243    303.350006\n",
              "71     352.706665\n",
              "227    297.096680\n",
              "197    237.039993\n",
              "19     339.476654\n",
              "166    235.910004\n",
              "28     387.646667\n",
              "250    282.940002\n",
              "23     402.863342\n",
              "118    301.796661\n",
              "72     354.799988\n",
              "179    233.000000\n",
              "49     356.320007\n",
              "59     336.290009\n",
              "14     288.089996\n",
              "34     351.576660\n",
              "124    363.946655\n",
              "204    272.243347\n",
              "37     379.019989\n",
              "144    292.140015\n",
              "163    224.966660\n",
              "29     341.166656\n",
              "115    267.296661\n",
              "22     371.333344\n",
              "199    240.066666\n",
              "177    215.736664\n",
              "162    221.300003\n",
              "122    337.973328\n",
              "100    273.843323\n",
              "112    279.433319\n",
              "188    228.490005\n",
              "194    250.763336\n",
              "20     345.953339\n",
              "198    238.313339\n",
              "73     368.739990\n",
              "176    232.229996\n",
              "42     378.996674\n",
              "Name: Close, dtype: float64"
            ]
          },
          "metadata": {},
          "execution_count": 241
        }
      ]
    },
    {
      "cell_type": "code",
      "source": [
        "mse = mean_squared_error(y_test, predictions)\n",
        "print(f'Mean Squared Error: {mse}')"
      ],
      "metadata": {
        "colab": {
          "base_uri": "https://localhost:8080/"
        },
        "id": "kwz8zF5XalCr",
        "outputId": "3d7ba1e5-3540-4f1a-bbc3-78235edb67e0"
      },
      "execution_count": 242,
      "outputs": [
        {
          "output_type": "stream",
          "name": "stdout",
          "text": [
            "Mean Squared Error: 44.04801666119099\n"
          ]
        }
      ]
    },
    {
      "cell_type": "code",
      "source": [
        "# Calculate Mean Absolute Error\n",
        "mae = mean_absolute_error(y_test, predictions)\n",
        "print(f'Mean Absolute Error: {mae:.2f}')"
      ],
      "metadata": {
        "colab": {
          "base_uri": "https://localhost:8080/"
        },
        "id": "vv3hVjPdJeyx",
        "outputId": "cb31f661-a637-4370-dbe8-bf774110117d"
      },
      "execution_count": 243,
      "outputs": [
        {
          "output_type": "stream",
          "name": "stdout",
          "text": [
            "Mean Absolute Error: 4.91\n"
          ]
        }
      ]
    },
    {
      "cell_type": "code",
      "source": [
        "# Calculate R-squared\n",
        "r2 = r2_score(y_test, predictions)\n",
        "print(f'R-squared: {r2:.2f}')"
      ],
      "metadata": {
        "colab": {
          "base_uri": "https://localhost:8080/"
        },
        "id": "yN0ili8-JieK",
        "outputId": "59574306-3853-406b-a27e-9864e960bd33"
      },
      "execution_count": 244,
      "outputs": [
        {
          "output_type": "stream",
          "name": "stdout",
          "text": [
            "R-squared: 0.98\n"
          ]
        }
      ]
    },
    {
      "cell_type": "code",
      "source": [
        "df_results = pd.DataFrame({'Date': pd.to_datetime(y_test.index, format='%Y-%m-%d'),\n",
        "                           'Actual_Close': y_test.values,\n",
        "                           'Predicted_Close': predictions})\n",
        "\n",
        "# Display the new DataFrame\n",
        "print(df_results)"
      ],
      "metadata": {
        "colab": {
          "base_uri": "https://localhost:8080/"
        },
        "id": "PBd_Pq2vgJ8O",
        "outputId": "c824aff0-7ae1-4406-ac03-0b62b4c91547"
      },
      "execution_count": 245,
      "outputs": [
        {
          "output_type": "stream",
          "name": "stdout",
          "text": [
            "                            Date  Actual_Close  Predicted_Close\n",
            "0  1970-01-01 00:00:00.000000141    336.260010       355.983337\n",
            "1  1970-01-01 00:00:00.000000010    270.359985       272.773346\n",
            "2  1970-01-01 00:00:00.000000101    254.679993       262.369995\n",
            "3  1970-01-01 00:00:00.000000064    356.779999       352.260010\n",
            "4  1970-01-01 00:00:00.000000116    280.076660       274.820007\n",
            "5  1970-01-01 00:00:00.000000184    235.070007       233.070007\n",
            "6  1970-01-01 00:00:00.000000200    240.546661       239.706665\n",
            "7  1970-01-01 00:00:00.000000187    232.663330       236.473328\n",
            "8  1970-01-01 00:00:00.000000013    290.036682       300.980011\n",
            "9  1970-01-01 00:00:00.000000108    279.429993       275.609985\n",
            "10 1970-01-01 00:00:00.000000203    271.706665       266.679993\n",
            "11 1970-01-01 00:00:00.000000219    300.029999       300.980011\n",
            "12 1970-01-01 00:00:00.000000205    268.433319       268.573334\n",
            "13 1970-01-01 00:00:00.000000243    303.350006       303.996674\n",
            "14 1970-01-01 00:00:00.000000071    352.706665       349.869995\n",
            "15 1970-01-01 00:00:00.000000227    297.096680       303.083344\n",
            "16 1970-01-01 00:00:00.000000197    237.039993       237.036667\n",
            "17 1970-01-01 00:00:00.000000019    339.476654       352.420013\n",
            "18 1970-01-01 00:00:00.000000166    235.910004       233.070007\n",
            "19 1970-01-01 00:00:00.000000028    387.646667       383.196655\n",
            "20 1970-01-01 00:00:00.000000250    282.940002       287.809998\n",
            "21 1970-01-01 00:00:00.000000023    402.863342       399.926666\n",
            "22 1970-01-01 00:00:00.000000118    301.796661       312.239990\n",
            "23 1970-01-01 00:00:00.000000072    354.799988       352.420013\n",
            "24 1970-01-01 00:00:00.000000179    233.000000       233.070007\n",
            "25 1970-01-01 00:00:00.000000049    356.320007       352.260010\n",
            "26 1970-01-01 00:00:00.000000059    336.290009       340.790009\n",
            "27 1970-01-01 00:00:00.000000014    288.089996       290.253326\n",
            "28 1970-01-01 00:00:00.000000034    351.576660       349.869995\n",
            "29 1970-01-01 00:00:00.000000124    363.946655       355.983337\n",
            "30 1970-01-01 00:00:00.000000204    272.243347       276.010010\n",
            "31 1970-01-01 00:00:00.000000037    379.019989       364.663330\n",
            "32 1970-01-01 00:00:00.000000144    292.140015       310.000000\n",
            "33 1970-01-01 00:00:00.000000163    224.966660       216.759995\n",
            "34 1970-01-01 00:00:00.000000029    341.166656       342.320007\n",
            "35 1970-01-01 00:00:00.000000115    267.296661       264.536682\n",
            "36 1970-01-01 00:00:00.000000022    371.333344       366.523346\n",
            "37 1970-01-01 00:00:00.000000199    240.066666       239.706665\n",
            "38 1970-01-01 00:00:00.000000177    215.736664       224.473328\n",
            "39 1970-01-01 00:00:00.000000162    221.300003       234.516663\n",
            "40 1970-01-01 00:00:00.000000122    337.973328       334.763336\n",
            "41 1970-01-01 00:00:00.000000100    273.843323       268.193329\n",
            "42 1970-01-01 00:00:00.000000112    279.433319       276.010010\n",
            "43 1970-01-01 00:00:00.000000188    228.490005       227.263336\n",
            "44 1970-01-01 00:00:00.000000194    250.763336       244.919998\n",
            "45 1970-01-01 00:00:00.000000020    345.953339       343.503326\n",
            "46 1970-01-01 00:00:00.000000198    238.313339       233.066666\n",
            "47 1970-01-01 00:00:00.000000073    368.739990       366.523346\n",
            "48 1970-01-01 00:00:00.000000176    232.229996       231.733337\n",
            "49 1970-01-01 00:00:00.000000042    378.996674       381.816681\n"
          ]
        }
      ]
    },
    {
      "cell_type": "code",
      "source": [
        "df_results[['Actual_Close', 'Predicted_Close']].plot()"
      ],
      "metadata": {
        "colab": {
          "base_uri": "https://localhost:8080/",
          "height": 447
        },
        "id": "n1vrLCwPaoJH",
        "outputId": "216482b6-4ad9-43ec-8048-8be1047fd73c"
      },
      "execution_count": 246,
      "outputs": [
        {
          "output_type": "execute_result",
          "data": {
            "text/plain": [
              "<Axes: >"
            ]
          },
          "metadata": {},
          "execution_count": 246
        },
        {
          "output_type": "display_data",
          "data": {
            "text/plain": [
              "<Figure size 640x480 with 1 Axes>"
            ],
            "image/png": "[encoded data removed]"
          },
          "metadata": {}
        }
      ]
    },
    {
      "cell_type": "code",
      "source": [
        "plt.figure(figsize=(8, 6))\n",
        "plt.scatter(y_test, predictions, color='blue', alpha=0.5)\n",
        "plt.plot([min(y_test), max(y_test)], [min(y_test), max(y_test)],linestyle='--', color='red', linewidth=2)\n",
        "plt.title('Actual vs. Predicted Values')\n",
        "plt.xlabel('Actual Values')\n",
        "plt.ylabel('Predicted Values')\n",
        "plt.show()"
      ],
      "metadata": {
        "colab": {
          "base_uri": "https://localhost:8080/",
          "height": 564
        },
        "id": "p_5Q-9imLce8",
        "outputId": "6c2d0974-04fc-4f0e-ab41-694e777f75d8"
      },
      "execution_count": 247,
      "outputs": [
        {
          "output_type": "display_data",
          "data": {
            "text/plain": [
              "<Figure size 800x600 with 1 Axes>"
            ],
            "image/png": "[encoded data removed]"
          },
          "metadata": {}
        }
      ]
    },
    {
      "cell_type": "markdown",
      "source": [
        "***Netflix Dataset***\n",
        "\n",
        "> In this project, I selected Netflix datasets which play a crucial role as they form the foundation for training and evaluating machine learning models i.e decision tree for stock market price prediction. Dataset represents historical stock market data for different assets, and understanding their characteristics is vital for building effective predictive models.\n",
        "\n",
        "\n",
        "> Features of dataset\n",
        "* Date: Essential for organizing data chronologically and identifying trends over time.\n",
        "* Open: The opening price of Datasets on a given day.\n",
        "* High: The highest price of Datasets on a given day.\n",
        "* Low: The lowest price of Datasets on a given day.\n",
        "* Close: The closing price of Datasets on a given day.\n",
        "* Adj Close: The adjusted closing price of Datasets on a given day, considering dividends, stock splits, etc.\n",
        "* Volume: The volume of Datasets traded on a given day.\n",
        "\n"
      ],
      "metadata": {
        "id": "PFX2A5VnpxBB"
      }
    },
    {
      "cell_type": "markdown",
      "source": [
        "*Load the dataset*"
      ],
      "metadata": {
        "id": "emee0n2LpxBP"
      }
    },
    {
      "cell_type": "code",
      "source": [
        "data = pd.read_csv('NFLX.csv')\n",
        "print(data)"
      ],
      "metadata": {
        "colab": {
          "base_uri": "https://localhost:8080/"
        },
        "outputId": "cfe445f5-d2fd-43e6-faaf-da0538d68042",
        "id": "EHq3Ck4_pxBP"
      },
      "execution_count": 248,
      "outputs": [
        {
          "output_type": "stream",
          "name": "stdout",
          "text": [
            "            Date        Open        High         Low       Close   Adj Close  \\\n",
            "0     2018-02-05  262.000000  267.899994  250.029999  254.259995  254.259995   \n",
            "1     2018-02-06  247.699997  266.700012  245.000000  265.720001  265.720001   \n",
            "2     2018-02-07  266.579987  272.450012  264.329987  264.559998  264.559998   \n",
            "3     2018-02-08  267.079987  267.619995  250.000000  250.100006  250.100006   \n",
            "4     2018-02-09  253.850006  255.800003  236.110001  249.470001  249.470001   \n",
            "...          ...         ...         ...         ...         ...         ...   \n",
            "1004  2022-01-31  401.970001  427.700012  398.200012  427.140015  427.140015   \n",
            "1005  2022-02-01  432.959991  458.480011  425.540009  457.130005  457.130005   \n",
            "1006  2022-02-02  448.250000  451.980011  426.480011  429.480011  429.480011   \n",
            "1007  2022-02-03  421.440002  429.260010  404.279999  405.600006  405.600006   \n",
            "1008  2022-02-04  407.309998  412.769989  396.640015  410.170013  410.170013   \n",
            "\n",
            "        Volume  \n",
            "0     11896100  \n",
            "1     12595800  \n",
            "2      8981500  \n",
            "3      9306700  \n",
            "4     16906900  \n",
            "...        ...  \n",
            "1004  20047500  \n",
            "1005  22542300  \n",
            "1006  14346000  \n",
            "1007   9905200  \n",
            "1008   7782400  \n",
            "\n",
            "[1009 rows x 7 columns]\n"
          ]
        }
      ]
    },
    {
      "cell_type": "markdown",
      "source": [
        "*Quick peek at functions:*"
      ],
      "metadata": {
        "id": "UTntdzcgpxBP"
      }
    },
    {
      "cell_type": "code",
      "source": [
        "data.shape"
      ],
      "metadata": {
        "colab": {
          "base_uri": "https://localhost:8080/"
        },
        "outputId": "7635bc15-3063-4b24-9aaa-ec6c484f9dc9",
        "id": "J8qdBwyNpxBP"
      },
      "execution_count": 249,
      "outputs": [
        {
          "output_type": "execute_result",
          "data": {
            "text/plain": [
              "(1009, 7)"
            ]
          },
          "metadata": {},
          "execution_count": 249
        }
      ]
    },
    {
      "cell_type": "code",
      "source": [
        "data.columns"
      ],
      "metadata": {
        "colab": {
          "base_uri": "https://localhost:8080/"
        },
        "outputId": "ef7be249-aee2-4408-b123-cc9c49b5dd0f",
        "id": "kqu7hLoUpxBQ"
      },
      "execution_count": 250,
      "outputs": [
        {
          "output_type": "execute_result",
          "data": {
            "text/plain": [
              "Index(['Date', 'Open', 'High', 'Low', 'Close', 'Adj Close', 'Volume'], dtype='object')"
            ]
          },
          "metadata": {},
          "execution_count": 250
        }
      ]
    },
    {
      "cell_type": "code",
      "source": [
        "print(data.describe())"
      ],
      "metadata": {
        "colab": {
          "base_uri": "https://localhost:8080/"
        },
        "outputId": "f76f3fa4-bd6d-4d40-9f50-7b0ca870a4b1",
        "id": "fSjE6FgbpxBQ"
      },
      "execution_count": 251,
      "outputs": [
        {
          "output_type": "stream",
          "name": "stdout",
          "text": [
            "              Open         High          Low        Close    Adj Close  \\\n",
            "count  1009.000000  1009.000000  1009.000000  1009.000000  1009.000000   \n",
            "mean    419.059673   425.320703   412.374044   419.000733   419.000733   \n",
            "std     108.537532   109.262960   107.555867   108.289999   108.289999   \n",
            "min     233.919998   250.649994   231.229996   233.880005   233.880005   \n",
            "25%     331.489990   336.299988   326.000000   331.619995   331.619995   \n",
            "50%     377.769989   383.010010   370.880005   378.670013   378.670013   \n",
            "75%     509.130005   515.630005   502.529999   509.079987   509.079987   \n",
            "max     692.349976   700.989990   686.090027   691.690002   691.690002   \n",
            "\n",
            "             Volume  \n",
            "count  1.009000e+03  \n",
            "mean   7.570685e+06  \n",
            "std    5.465535e+06  \n",
            "min    1.144000e+06  \n",
            "25%    4.091900e+06  \n",
            "50%    5.934500e+06  \n",
            "75%    9.322400e+06  \n",
            "max    5.890430e+07  \n"
          ]
        }
      ]
    },
    {
      "cell_type": "code",
      "source": [
        "print(data.info())"
      ],
      "metadata": {
        "colab": {
          "base_uri": "https://localhost:8080/"
        },
        "outputId": "3b8a2d91-34f7-480c-8ff6-805a954fc742",
        "id": "_JIt2n2tpxBQ"
      },
      "execution_count": 252,
      "outputs": [
        {
          "output_type": "stream",
          "name": "stdout",
          "text": [
            "<class 'pandas.core.frame.DataFrame'>\n",
            "RangeIndex: 1009 entries, 0 to 1008\n",
            "Data columns (total 7 columns):\n",
            " #   Column     Non-Null Count  Dtype  \n",
            "---  ------     --------------  -----  \n",
            " 0   Date       1009 non-null   object \n",
            " 1   Open       1009 non-null   float64\n",
            " 2   High       1009 non-null   float64\n",
            " 3   Low        1009 non-null   float64\n",
            " 4   Close      1009 non-null   float64\n",
            " 5   Adj Close  1009 non-null   float64\n",
            " 6   Volume     1009 non-null   int64  \n",
            "dtypes: float64(5), int64(1), object(1)\n",
            "memory usage: 55.3+ KB\n",
            "None\n"
          ]
        }
      ]
    },
    {
      "cell_type": "markdown",
      "source": [
        "*Data Preprocessing*\n",
        "\n",
        "> Handling Missing Values:\n",
        "\n"
      ],
      "metadata": {
        "id": "0X1oFCNwpxBQ"
      }
    },
    {
      "cell_type": "code",
      "source": [
        "missing_values = data.isnull().sum()\n",
        "print(\"Missing Values:\\n\", missing_values)\n",
        "data = data.dropna()\n",
        "print(\"Missing Values After Handling:\\n\", data.isnull().sum())"
      ],
      "metadata": {
        "colab": {
          "base_uri": "https://localhost:8080/"
        },
        "outputId": "7c5f7c29-7362-4acc-da89-f0ec28256e1a",
        "id": "muIEKvlnpxBQ"
      },
      "execution_count": 253,
      "outputs": [
        {
          "output_type": "stream",
          "name": "stdout",
          "text": [
            "Missing Values:\n",
            " Date         0\n",
            "Open         0\n",
            "High         0\n",
            "Low          0\n",
            "Close        0\n",
            "Adj Close    0\n",
            "Volume       0\n",
            "dtype: int64\n",
            "Missing Values After Handling:\n",
            " Date         0\n",
            "Open         0\n",
            "High         0\n",
            "Low          0\n",
            "Close        0\n",
            "Adj Close    0\n",
            "Volume       0\n",
            "dtype: int64\n"
          ]
        }
      ]
    },
    {
      "cell_type": "markdown",
      "source": [
        "\n",
        "\n",
        "> Feature Scaling\n",
        "\n"
      ],
      "metadata": {
        "id": "4sR7kZWtpxBQ"
      }
    },
    {
      "cell_type": "code",
      "source": [
        "from sklearn.preprocessing import MinMaxScaler\n",
        "scaler = MinMaxScaler()\n",
        "data[['High']] = scaler.fit_transform(data[['High']])\n",
        "data[['Low']] = scaler.fit_transform(data[['Low']])\n",
        "data"
      ],
      "metadata": {
        "colab": {
          "base_uri": "https://localhost:8080/",
          "height": 424
        },
        "outputId": "5f3681f8-ecc4-4c1f-89cb-40719354d6ba",
        "id": "9DpaLLFxpxBQ"
      },
      "execution_count": 254,
      "outputs": [
        {
          "output_type": "execute_result",
          "data": {
            "text/plain": [
              "            Date        Open      High       Low       Close   Adj Close  \\\n",
              "0     2018-02-05  262.000000  0.038304  0.041331  254.259995  254.259995   \n",
              "1     2018-02-06  247.699997  0.035640  0.030273  265.720001  265.720001   \n",
              "2     2018-02-07  266.579987  0.048408  0.072770  264.559998  264.559998   \n",
              "3     2018-02-08  267.079987  0.037683  0.041265  250.100006  250.100006   \n",
              "4     2018-02-09  253.850006  0.011436  0.010729  249.470001  249.470001   \n",
              "...          ...         ...       ...       ...         ...         ...   \n",
              "1004  2022-01-31  401.970001  0.393147  0.367080  427.140015  427.140015   \n",
              "1005  2022-02-01  432.959991  0.461496  0.427186  457.130005  457.130005   \n",
              "1006  2022-02-02  448.250000  0.447062  0.429253  429.480011  429.480011   \n",
              "1007  2022-02-03  421.440002  0.396611  0.380447  405.600006  405.600006   \n",
              "1008  2022-02-04  407.309998  0.359995  0.363650  410.170013  410.170013   \n",
              "\n",
              "        Volume  \n",
              "0     11896100  \n",
              "1     12595800  \n",
              "2      8981500  \n",
              "3      9306700  \n",
              "4     16906900  \n",
              "...        ...  \n",
              "1004  20047500  \n",
              "1005  22542300  \n",
              "1006  14346000  \n",
              "1007   9905200  \n",
              "1008   7782400  \n",
              "\n",
              "[1009 rows x 7 columns]"
            ],
            "text/html": [
              "\n",
              "  <div id=\"df-ba27e51f-39b7-4523-9a3b-81e8cf86ecf2\" class=\"colab-df-container\">\n",
              "    <div>\n",
              "<style scoped>\n",
              "    .dataframe tbody tr th:only-of-type {\n",
              "        vertical-align: middle;\n",
              "    }\n",
              "\n",
              "    .dataframe tbody tr th {\n",
              "        vertical-align: top;\n",
              "    }\n",
              "\n",
              "    .dataframe thead th {\n",
              "        text-align: right;\n",
              "    }\n",
              "</style>\n",
              "<table border=\"1\" class=\"dataframe\">\n",
              "  <thead>\n",
              "    <tr style=\"text-align: right;\">\n",
              "      <th></th>\n",
              "      <th>Date</th>\n",
              "      <th>Open</th>\n",
              "      <th>High</th>\n",
              "      <th>Low</th>\n",
              "      <th>Close</th>\n",
              "      <th>Adj Close</th>\n",
              "      <th>Volume</th>\n",
              "    </tr>\n",
              "  </thead>\n",
              "  <tbody>\n",
              "    <tr>\n",
              "      <th>0</th>\n",
              "      <td>2018-02-05</td>\n",
              "      <td>262.000000</td>\n",
              "      <td>0.038304</td>\n",
              "      <td>0.041331</td>\n",
              "      <td>254.259995</td>\n",
              "      <td>254.259995</td>\n",
              "      <td>11896100</td>\n",
              "    </tr>\n",
              "    <tr>\n",
              "      <th>1</th>\n",
              "      <td>2018-02-06</td>\n",
              "      <td>247.699997</td>\n",
              "      <td>0.035640</td>\n",
              "      <td>0.030273</td>\n",
              "      <td>265.720001</td>\n",
              "      <td>265.720001</td>\n",
              "      <td>12595800</td>\n",
              "    </tr>\n",
              "    <tr>\n",
              "      <th>2</th>\n",
              "      <td>2018-02-07</td>\n",
              "      <td>266.579987</td>\n",
              "      <td>0.048408</td>\n",
              "      <td>0.072770</td>\n",
              "      <td>264.559998</td>\n",
              "      <td>264.559998</td>\n",
              "      <td>8981500</td>\n",
              "    </tr>\n",
              "    <tr>\n",
              "      <th>3</th>\n",
              "      <td>2018-02-08</td>\n",
              "      <td>267.079987</td>\n",
              "      <td>0.037683</td>\n",
              "      <td>0.041265</td>\n",
              "      <td>250.100006</td>\n",
              "      <td>250.100006</td>\n",
              "      <td>9306700</td>\n",
              "    </tr>\n",
              "    <tr>\n",
              "      <th>4</th>\n",
              "      <td>2018-02-09</td>\n",
              "      <td>253.850006</td>\n",
              "      <td>0.011436</td>\n",
              "      <td>0.010729</td>\n",
              "      <td>249.470001</td>\n",
              "      <td>249.470001</td>\n",
              "      <td>16906900</td>\n",
              "    </tr>\n",
              "    <tr>\n",
              "      <th>...</th>\n",
              "      <td>...</td>\n",
              "      <td>...</td>\n",
              "      <td>...</td>\n",
              "      <td>...</td>\n",
              "      <td>...</td>\n",
              "      <td>...</td>\n",
              "      <td>...</td>\n",
              "    </tr>\n",
              "    <tr>\n",
              "      <th>1004</th>\n",
              "      <td>2022-01-31</td>\n",
              "      <td>401.970001</td>\n",
              "      <td>0.393147</td>\n",
              "      <td>0.367080</td>\n",
              "      <td>427.140015</td>\n",
              "      <td>427.140015</td>\n",
              "      <td>20047500</td>\n",
              "    </tr>\n",
              "    <tr>\n",
              "      <th>1005</th>\n",
              "      <td>2022-02-01</td>\n",
              "      <td>432.959991</td>\n",
              "      <td>0.461496</td>\n",
              "      <td>0.427186</td>\n",
              "      <td>457.130005</td>\n",
              "      <td>457.130005</td>\n",
              "      <td>22542300</td>\n",
              "    </tr>\n",
              "    <tr>\n",
              "      <th>1006</th>\n",
              "      <td>2022-02-02</td>\n",
              "      <td>448.250000</td>\n",
              "      <td>0.447062</td>\n",
              "      <td>0.429253</td>\n",
              "      <td>429.480011</td>\n",
              "      <td>429.480011</td>\n",
              "      <td>14346000</td>\n",
              "    </tr>\n",
              "    <tr>\n",
              "      <th>1007</th>\n",
              "      <td>2022-02-03</td>\n",
              "      <td>421.440002</td>\n",
              "      <td>0.396611</td>\n",
              "      <td>0.380447</td>\n",
              "      <td>405.600006</td>\n",
              "      <td>405.600006</td>\n",
              "      <td>9905200</td>\n",
              "    </tr>\n",
              "    <tr>\n",
              "      <th>1008</th>\n",
              "      <td>2022-02-04</td>\n",
              "      <td>407.309998</td>\n",
              "      <td>0.359995</td>\n",
              "      <td>0.363650</td>\n",
              "      <td>410.170013</td>\n",
              "      <td>410.170013</td>\n",
              "      <td>7782400</td>\n",
              "    </tr>\n",
              "  </tbody>\n",
              "</table>\n",
              "<p>1009 rows × 7 columns</p>\n",
              "</div>\n",
              "    <div class=\"colab-df-buttons\">\n",
              "\n",
              "  <div class=\"colab-df-container\">\n",
              "    <button class=\"colab-df-convert\" onclick=\"convertToInteractive('df-ba27e51f-39b7-4523-9a3b-81e8cf86ecf2')\"\n",
              "            title=\"Convert this dataframe to an interactive table.\"\n",
              "            style=\"display:none;\">\n",
              "\n",
              "  <svg xmlns=\"http://www.w3.org/2000/svg\" height=\"24px\" viewBox=\"0 -960 960 960\">\n",
              "    <path d=\"M120-120v-720h720v720H120Zm60-500h600v-160H180v160Zm220 220h160v-160H400v160Zm0 220h160v-160H400v160ZM180-400h160v-160H180v160Zm440 0h160v-160H620v160ZM180-180h160v-160H180v160Zm440 0h160v-160H620v160Z\"/>\n",
              "  </svg>\n",
              "    </button>\n",
              "\n",
              "  <style>\n",
              "    .colab-df-container {\n",
              "      display:flex;\n",
              "      gap: 12px;\n",
              "    }\n",
              "\n",
              "    .colab-df-convert {\n",
              "      background-color: #E8F0FE;\n",
              "      border: none;\n",
              "      border-radius: 50%;\n",
              "      cursor: pointer;\n",
              "      display: none;\n",
              "      fill: #1967D2;\n",
              "      height: 32px;\n",
              "      padding: 0 0 0 0;\n",
              "      width: 32px;\n",
              "    }\n",
              "\n",
              "    .colab-df-convert:hover {\n",
              "      background-color: #E2EBFA;\n",
              "      box-shadow: 0px 1px 2px rgba(60, 64, 67, 0.3), 0px 1px 3px 1px rgba(60, 64, 67, 0.15);\n",
              "      fill: #174EA6;\n",
              "    }\n",
              "\n",
              "    .colab-df-buttons div {\n",
              "      margin-bottom: 4px;\n",
              "    }\n",
              "\n",
              "    [theme=dark] .colab-df-convert {\n",
              "      background-color: #3B4455;\n",
              "      fill: #D2E3FC;\n",
              "    }\n",
              "\n",
              "    [theme=dark] .colab-df-convert:hover {\n",
              "      background-color: #434B5C;\n",
              "      box-shadow: 0px 1px 3px 1px rgba(0, 0, 0, 0.15);\n",
              "      filter: drop-shadow(0px 1px 2px rgba(0, 0, 0, 0.3));\n",
              "      fill: #FFFFFF;\n",
              "    }\n",
              "  </style>\n",
              "\n",
              "    <script>\n",
              "      const buttonEl =\n",
              "        document.querySelector('#df-ba27e51f-39b7-4523-9a3b-81e8cf86ecf2 button.colab-df-convert');\n",
              "      buttonEl.style.display =\n",
              "        google.colab.kernel.accessAllowed ? 'block' : 'none';\n",
              "\n",
              "      async function convertToInteractive(key) {\n",
              "        const element = document.querySelector('#df-ba27e51f-39b7-4523-9a3b-81e8cf86ecf2');\n",
              "        const dataTable =\n",
              "          await google.colab.kernel.invokeFunction('convertToInteractive',\n",
              "                                                    [key], {});\n",
              "        if (!dataTable) return;\n",
              "\n",
              "        const docLinkHtml = 'Like what you see? Visit the ' +\n",
              "          '<a target=\"_blank\" href=https://colab.research.google.com/notebooks/data_table.ipynb>data table notebook</a>'\n",
              "          + ' to learn more about interactive tables.';\n",
              "        element.innerHTML = '';\n",
              "        dataTable['output_type'] = 'display_data';\n",
              "        await google.colab.output.renderOutput(dataTable, element);\n",
              "        const docLink = document.createElement('div');\n",
              "        docLink.innerHTML = docLinkHtml;\n",
              "        element.appendChild(docLink);\n",
              "      }\n",
              "    </script>\n",
              "  </div>\n",
              "\n",
              "\n",
              "<div id=\"df-297bfa30-f73b-4594-b459-9ce6e90b0653\">\n",
              "  <button class=\"colab-df-quickchart\" onclick=\"quickchart('df-297bfa30-f73b-4594-b459-9ce6e90b0653')\"\n",
              "            title=\"Suggest charts\"\n",
              "            style=\"display:none;\">\n",
              "\n",
              "<svg xmlns=\"http://www.w3.org/2000/svg\" height=\"24px\"viewBox=\"0 0 24 24\"\n",
              "     width=\"24px\">\n",
              "    <g>\n",
              "        <path d=\"M19 3H5c-1.1 0-2 .9-2 2v14c0 1.1.9 2 2 2h14c1.1 0 2-.9 2-2V5c0-1.1-.9-2-2-2zM9 17H7v-7h2v7zm4 0h-2V7h2v10zm4 0h-2v-4h2v4z\"/>\n",
              "    </g>\n",
              "</svg>\n",
              "  </button>\n",
              "\n",
              "<style>\n",
              "  .colab-df-quickchart {\n",
              "      --bg-color: #E8F0FE;\n",
              "      --fill-color: #1967D2;\n",
              "      --hover-bg-color: #E2EBFA;\n",
              "      --hover-fill-color: #174EA6;\n",
              "      --disabled-fill-color: #AAA;\n",
              "      --disabled-bg-color: #DDD;\n",
              "  }\n",
              "\n",
              "  [theme=dark] .colab-df-quickchart {\n",
              "      --bg-color: #3B4455;\n",
              "      --fill-color: #D2E3FC;\n",
              "      --hover-bg-color: #434B5C;\n",
              "      --hover-fill-color: #FFFFFF;\n",
              "      --disabled-bg-color: #3B4455;\n",
              "      --disabled-fill-color: #666;\n",
              "  }\n",
              "\n",
              "  .colab-df-quickchart {\n",
              "    background-color: var(--bg-color);\n",
              "    border: none;\n",
              "    border-radius: 50%;\n",
              "    cursor: pointer;\n",
              "    display: none;\n",
              "    fill: var(--fill-color);\n",
              "    height: 32px;\n",
              "    padding: 0;\n",
              "    width: 32px;\n",
              "  }\n",
              "\n",
              "  .colab-df-quickchart:hover {\n",
              "    background-color: var(--hover-bg-color);\n",
              "    box-shadow: 0 1px 2px rgba(60, 64, 67, 0.3), 0 1px 3px 1px rgba(60, 64, 67, 0.15);\n",
              "    fill: var(--button-hover-fill-color);\n",
              "  }\n",
              "\n",
              "  .colab-df-quickchart-complete:disabled,\n",
              "  .colab-df-quickchart-complete:disabled:hover {\n",
              "    background-color: var(--disabled-bg-color);\n",
              "    fill: var(--disabled-fill-color);\n",
              "    box-shadow: none;\n",
              "  }\n",
              "\n",
              "  .colab-df-spinner {\n",
              "    border: 2px solid var(--fill-color);\n",
              "    border-color: transparent;\n",
              "    border-bottom-color: var(--fill-color);\n",
              "    animation:\n",
              "      spin 1s steps(1) infinite;\n",
              "  }\n",
              "\n",
              "  @keyframes spin {\n",
              "    0% {\n",
              "      border-color: transparent;\n",
              "      border-bottom-color: var(--fill-color);\n",
              "      border-left-color: var(--fill-color);\n",
              "    }\n",
              "    20% {\n",
              "      border-color: transparent;\n",
              "      border-left-color: var(--fill-color);\n",
              "      border-top-color: var(--fill-color);\n",
              "    }\n",
              "    30% {\n",
              "      border-color: transparent;\n",
              "      border-left-color: var(--fill-color);\n",
              "      border-top-color: var(--fill-color);\n",
              "      border-right-color: var(--fill-color);\n",
              "    }\n",
              "    40% {\n",
              "      border-color: transparent;\n",
              "      border-right-color: var(--fill-color);\n",
              "      border-top-color: var(--fill-color);\n",
              "    }\n",
              "    60% {\n",
              "      border-color: transparent;\n",
              "      border-right-color: var(--fill-color);\n",
              "    }\n",
              "    80% {\n",
              "      border-color: transparent;\n",
              "      border-right-color: var(--fill-color);\n",
              "      border-bottom-color: var(--fill-color);\n",
              "    }\n",
              "    90% {\n",
              "      border-color: transparent;\n",
              "      border-bottom-color: var(--fill-color);\n",
              "    }\n",
              "  }\n",
              "</style>\n",
              "\n",
              "  <script>\n",
              "    async function quickchart(key) {\n",
              "      const quickchartButtonEl =\n",
              "        document.querySelector('#' + key + ' button');\n",
              "      quickchartButtonEl.disabled = true;  // To prevent multiple clicks.\n",
              "      quickchartButtonEl.classList.add('colab-df-spinner');\n",
              "      try {\n",
              "        const charts = await google.colab.kernel.invokeFunction(\n",
              "            'suggestCharts', [key], {});\n",
              "      } catch (error) {\n",
              "        console.error('Error during call to suggestCharts:', error);\n",
              "      }\n",
              "      quickchartButtonEl.classList.remove('colab-df-spinner');\n",
              "      quickchartButtonEl.classList.add('colab-df-quickchart-complete');\n",
              "    }\n",
              "    (() => {\n",
              "      let quickchartButtonEl =\n",
              "        document.querySelector('#df-297bfa30-f73b-4594-b459-9ce6e90b0653 button');\n",
              "      quickchartButtonEl.style.display =\n",
              "        google.colab.kernel.accessAllowed ? 'block' : 'none';\n",
              "    })();\n",
              "  </script>\n",
              "</div>\n",
              "\n",
              "  <div id=\"id_ef126ed4-79a3-4b6f-8f21-3cbbf660137e\">\n",
              "    <style>\n",
              "      .colab-df-generate {\n",
              "        background-color: #E8F0FE;\n",
              "        border: none;\n",
              "        border-radius: 50%;\n",
              "        cursor: pointer;\n",
              "        display: none;\n",
              "        fill: #1967D2;\n",
              "        height: 32px;\n",
              "        padding: 0 0 0 0;\n",
              "        width: 32px;\n",
              "      }\n",
              "\n",
              "      .colab-df-generate:hover {\n",
              "        background-color: #E2EBFA;\n",
              "        box-shadow: 0px 1px 2px rgba(60, 64, 67, 0.3), 0px 1px 3px 1px rgba(60, 64, 67, 0.15);\n",
              "        fill: #174EA6;\n",
              "      }\n",
              "\n",
              "      [theme=dark] .colab-df-generate {\n",
              "        background-color: #3B4455;\n",
              "        fill: #D2E3FC;\n",
              "      }\n",
              "\n",
              "      [theme=dark] .colab-df-generate:hover {\n",
              "        background-color: #434B5C;\n",
              "        box-shadow: 0px 1px 3px 1px rgba(0, 0, 0, 0.15);\n",
              "        filter: drop-shadow(0px 1px 2px rgba(0, 0, 0, 0.3));\n",
              "        fill: #FFFFFF;\n",
              "      }\n",
              "    </style>\n",
              "    <button class=\"colab-df-generate\" onclick=\"generateWithVariable('data')\"\n",
              "            title=\"Generate code using this dataframe.\"\n",
              "            style=\"display:none;\">\n",
              "\n",
              "  <svg xmlns=\"http://www.w3.org/2000/svg\" height=\"24px\"viewBox=\"0 0 24 24\"\n",
              "       width=\"24px\">\n",
              "    <path d=\"M7,19H8.4L18.45,9,17,7.55,7,17.6ZM5,21V16.75L18.45,3.32a2,2,0,0,1,2.83,0l1.4,1.43a1.91,1.91,0,0,1,.58,1.4,1.91,1.91,0,0,1-.58,1.4L9.25,21ZM18.45,9,17,7.55Zm-12,3A5.31,5.31,0,0,0,4.9,8.1,5.31,5.31,0,0,0,1,6.5,5.31,5.31,0,0,0,4.9,4.9,5.31,5.31,0,0,0,6.5,1,5.31,5.31,0,0,0,8.1,4.9,5.31,5.31,0,0,0,12,6.5,5.46,5.46,0,0,0,6.5,12Z\"/>\n",
              "  </svg>\n",
              "    </button>\n",
              "    <script>\n",
              "      (() => {\n",
              "      const buttonEl =\n",
              "        document.querySelector('#id_ef126ed4-79a3-4b6f-8f21-3cbbf660137e button.colab-df-generate');\n",
              "      buttonEl.style.display =\n",
              "        google.colab.kernel.accessAllowed ? 'block' : 'none';\n",
              "\n",
              "      buttonEl.onclick = () => {\n",
              "        google.colab.notebook.generateWithVariable('data');\n",
              "      }\n",
              "      })();\n",
              "    </script>\n",
              "  </div>\n",
              "\n",
              "    </div>\n",
              "  </div>\n"
            ]
          },
          "metadata": {},
          "execution_count": 254
        }
      ]
    },
    {
      "cell_type": "markdown",
      "source": [
        "\n",
        "\n",
        "> Feature Engineering\n",
        "\n"
      ],
      "metadata": {
        "id": "g3syupmepxBQ"
      }
    },
    {
      "cell_type": "code",
      "source": [
        "data['DailyReturn'] = data['Adj Close'].pct_change() * 100\n",
        "data['MovingAverage'] = data['Adj Close'].rolling(window=5).mean()\n",
        "data['PriceToVolumeRatio'] = data['Adj Close']/data['Volume']\n",
        "data=data.dropna()\n",
        "data"
      ],
      "metadata": {
        "colab": {
          "base_uri": "https://localhost:8080/",
          "height": 617
        },
        "outputId": "ba405daa-d0f6-412b-b2d6-5bb1fb8d6f94",
        "id": "Xv0uLn5rpxBQ"
      },
      "execution_count": 255,
      "outputs": [
        {
          "output_type": "execute_result",
          "data": {
            "text/plain": [
              "            Date        Open      High       Low       Close   Adj Close  \\\n",
              "4     2018-02-09  253.850006  0.011436  0.010729  249.470001  249.470001   \n",
              "5     2018-02-12  252.139999  0.018875  0.039067  257.950012  257.950012   \n",
              "6     2018-02-13  257.290009  0.023893  0.051598  258.269989  258.269989   \n",
              "7     2018-02-14  260.470001  0.042701  0.063976  266.000000  266.000000   \n",
              "8     2018-02-15  270.029999  0.066283  0.080025  280.269989  280.269989   \n",
              "...          ...         ...       ...       ...         ...         ...   \n",
              "1004  2022-01-31  401.970001  0.393147  0.367080  427.140015  427.140015   \n",
              "1005  2022-02-01  432.959991  0.461496  0.427186  457.130005  457.130005   \n",
              "1006  2022-02-02  448.250000  0.447062  0.429253  429.480011  429.480011   \n",
              "1007  2022-02-03  421.440002  0.396611  0.380447  405.600006  405.600006   \n",
              "1008  2022-02-04  407.309998  0.359995  0.363650  410.170013  410.170013   \n",
              "\n",
              "        Volume  DailyReturn  MovingAverage  PriceToVolumeRatio  \n",
              "4     16906900    -0.251901     256.822000            0.000015  \n",
              "5      8534900     3.399211     257.560004            0.000030  \n",
              "6      6855200     0.124046     256.070001            0.000038  \n",
              "7     10972000     2.992996     256.358002            0.000024  \n",
              "8     10759700     5.364658     262.391998            0.000026  \n",
              "...        ...          ...            ...                 ...  \n",
              "1004  20047500    11.130199     384.864007            0.000021  \n",
              "1005  22542300     7.021115     403.006006            0.000020  \n",
              "1006  14346000    -6.048606     416.962006            0.000030  \n",
              "1007   9905200    -5.560213     420.742004            0.000041  \n",
              "1008   7782400     1.126728     425.904010            0.000053  \n",
              "\n",
              "[1005 rows x 10 columns]"
            ],
            "text/html": [
              "\n",
              "  <div id=\"df-bc5747a3-c147-4508-a3e2-b8d8221a526d\" class=\"colab-df-container\">\n",
              "    <div>\n",
              "<style scoped>\n",
              "    .dataframe tbody tr th:only-of-type {\n",
              "        vertical-align: middle;\n",
              "    }\n",
              "\n",
              "    .dataframe tbody tr th {\n",
              "        vertical-align: top;\n",
              "    }\n",
              "\n",
              "    .dataframe thead th {\n",
              "        text-align: right;\n",
              "    }\n",
              "</style>\n",
              "<table border=\"1\" class=\"dataframe\">\n",
              "  <thead>\n",
              "    <tr style=\"text-align: right;\">\n",
              "      <th></th>\n",
              "      <th>Date</th>\n",
              "      <th>Open</th>\n",
              "      <th>High</th>\n",
              "      <th>Low</th>\n",
              "      <th>Close</th>\n",
              "      <th>Adj Close</th>\n",
              "      <th>Volume</th>\n",
              "      <th>DailyReturn</th>\n",
              "      <th>MovingAverage</th>\n",
              "      <th>PriceToVolumeRatio</th>\n",
              "    </tr>\n",
              "  </thead>\n",
              "  <tbody>\n",
              "    <tr>\n",
              "      <th>4</th>\n",
              "      <td>2018-02-09</td>\n",
              "      <td>253.850006</td>\n",
              "      <td>0.011436</td>\n",
              "      <td>0.010729</td>\n",
              "      <td>249.470001</td>\n",
              "      <td>249.470001</td>\n",
              "      <td>16906900</td>\n",
              "      <td>-0.251901</td>\n",
              "      <td>256.822000</td>\n",
              "      <td>0.000015</td>\n",
              "    </tr>\n",
              "    <tr>\n",
              "      <th>5</th>\n",
              "      <td>2018-02-12</td>\n",
              "      <td>252.139999</td>\n",
              "      <td>0.018875</td>\n",
              "      <td>0.039067</td>\n",
              "      <td>257.950012</td>\n",
              "      <td>257.950012</td>\n",
              "      <td>8534900</td>\n",
              "      <td>3.399211</td>\n",
              "      <td>257.560004</td>\n",
              "      <td>0.000030</td>\n",
              "    </tr>\n",
              "    <tr>\n",
              "      <th>6</th>\n",
              "      <td>2018-02-13</td>\n",
              "      <td>257.290009</td>\n",
              "      <td>0.023893</td>\n",
              "      <td>0.051598</td>\n",
              "      <td>258.269989</td>\n",
              "      <td>258.269989</td>\n",
              "      <td>6855200</td>\n",
              "      <td>0.124046</td>\n",
              "      <td>256.070001</td>\n",
              "      <td>0.000038</td>\n",
              "    </tr>\n",
              "    <tr>\n",
              "      <th>7</th>\n",
              "      <td>2018-02-14</td>\n",
              "      <td>260.470001</td>\n",
              "      <td>0.042701</td>\n",
              "      <td>0.063976</td>\n",
              "      <td>266.000000</td>\n",
              "      <td>266.000000</td>\n",
              "      <td>10972000</td>\n",
              "      <td>2.992996</td>\n",
              "      <td>256.358002</td>\n",
              "      <td>0.000024</td>\n",
              "    </tr>\n",
              "    <tr>\n",
              "      <th>8</th>\n",
              "      <td>2018-02-15</td>\n",
              "      <td>270.029999</td>\n",
              "      <td>0.066283</td>\n",
              "      <td>0.080025</td>\n",
              "      <td>280.269989</td>\n",
              "      <td>280.269989</td>\n",
              "      <td>10759700</td>\n",
              "      <td>5.364658</td>\n",
              "      <td>262.391998</td>\n",
              "      <td>0.000026</td>\n",
              "    </tr>\n",
              "    <tr>\n",
              "      <th>...</th>\n",
              "      <td>...</td>\n",
              "      <td>...</td>\n",
              "      <td>...</td>\n",
              "      <td>...</td>\n",
              "      <td>...</td>\n",
              "      <td>...</td>\n",
              "      <td>...</td>\n",
              "      <td>...</td>\n",
              "      <td>...</td>\n",
              "      <td>...</td>\n",
              "    </tr>\n",
              "    <tr>\n",
              "      <th>1004</th>\n",
              "      <td>2022-01-31</td>\n",
              "      <td>401.970001</td>\n",
              "      <td>0.393147</td>\n",
              "      <td>0.367080</td>\n",
              "      <td>427.140015</td>\n",
              "      <td>427.140015</td>\n",
              "      <td>20047500</td>\n",
              "      <td>11.130199</td>\n",
              "      <td>384.864007</td>\n",
              "      <td>0.000021</td>\n",
              "    </tr>\n",
              "    <tr>\n",
              "      <th>1005</th>\n",
              "      <td>2022-02-01</td>\n",
              "      <td>432.959991</td>\n",
              "      <td>0.461496</td>\n",
              "      <td>0.427186</td>\n",
              "      <td>457.130005</td>\n",
              "      <td>457.130005</td>\n",
              "      <td>22542300</td>\n",
              "      <td>7.021115</td>\n",
              "      <td>403.006006</td>\n",
              "      <td>0.000020</td>\n",
              "    </tr>\n",
              "    <tr>\n",
              "      <th>1006</th>\n",
              "      <td>2022-02-02</td>\n",
              "      <td>448.250000</td>\n",
              "      <td>0.447062</td>\n",
              "      <td>0.429253</td>\n",
              "      <td>429.480011</td>\n",
              "      <td>429.480011</td>\n",
              "      <td>14346000</td>\n",
              "      <td>-6.048606</td>\n",
              "      <td>416.962006</td>\n",
              "      <td>0.000030</td>\n",
              "    </tr>\n",
              "    <tr>\n",
              "      <th>1007</th>\n",
              "      <td>2022-02-03</td>\n",
              "      <td>421.440002</td>\n",
              "      <td>0.396611</td>\n",
              "      <td>0.380447</td>\n",
              "      <td>405.600006</td>\n",
              "      <td>405.600006</td>\n",
              "      <td>9905200</td>\n",
              "      <td>-5.560213</td>\n",
              "      <td>420.742004</td>\n",
              "      <td>0.000041</td>\n",
              "    </tr>\n",
              "    <tr>\n",
              "      <th>1008</th>\n",
              "      <td>2022-02-04</td>\n",
              "      <td>407.309998</td>\n",
              "      <td>0.359995</td>\n",
              "      <td>0.363650</td>\n",
              "      <td>410.170013</td>\n",
              "      <td>410.170013</td>\n",
              "      <td>7782400</td>\n",
              "      <td>1.126728</td>\n",
              "      <td>425.904010</td>\n",
              "      <td>0.000053</td>\n",
              "    </tr>\n",
              "  </tbody>\n",
              "</table>\n",
              "<p>1005 rows × 10 columns</p>\n",
              "</div>\n",
              "    <div class=\"colab-df-buttons\">\n",
              "\n",
              "  <div class=\"colab-df-container\">\n",
              "    <button class=\"colab-df-convert\" onclick=\"convertToInteractive('df-bc5747a3-c147-4508-a3e2-b8d8221a526d')\"\n",
              "            title=\"Convert this dataframe to an interactive table.\"\n",
              "            style=\"display:none;\">\n",
              "\n",
              "  <svg xmlns=\"http://www.w3.org/2000/svg\" height=\"24px\" viewBox=\"0 -960 960 960\">\n",
              "    <path d=\"M120-120v-720h720v720H120Zm60-500h600v-160H180v160Zm220 220h160v-160H400v160Zm0 220h160v-160H400v160ZM180-400h160v-160H180v160Zm440 0h160v-160H620v160ZM180-180h160v-160H180v160Zm440 0h160v-160H620v160Z\"/>\n",
              "  </svg>\n",
              "    </button>\n",
              "\n",
              "  <style>\n",
              "    .colab-df-container {\n",
              "      display:flex;\n",
              "      gap: 12px;\n",
              "    }\n",
              "\n",
              "    .colab-df-convert {\n",
              "      background-color: #E8F0FE;\n",
              "      border: none;\n",
              "      border-radius: 50%;\n",
              "      cursor: pointer;\n",
              "      display: none;\n",
              "      fill: #1967D2;\n",
              "      height: 32px;\n",
              "      padding: 0 0 0 0;\n",
              "      width: 32px;\n",
              "    }\n",
              "\n",
              "    .colab-df-convert:hover {\n",
              "      background-color: #E2EBFA;\n",
              "      box-shadow: 0px 1px 2px rgba(60, 64, 67, 0.3), 0px 1px 3px 1px rgba(60, 64, 67, 0.15);\n",
              "      fill: #174EA6;\n",
              "    }\n",
              "\n",
              "    .colab-df-buttons div {\n",
              "      margin-bottom: 4px;\n",
              "    }\n",
              "\n",
              "    [theme=dark] .colab-df-convert {\n",
              "      background-color: #3B4455;\n",
              "      fill: #D2E3FC;\n",
              "    }\n",
              "\n",
              "    [theme=dark] .colab-df-convert:hover {\n",
              "      background-color: #434B5C;\n",
              "      box-shadow: 0px 1px 3px 1px rgba(0, 0, 0, 0.15);\n",
              "      filter: drop-shadow(0px 1px 2px rgba(0, 0, 0, 0.3));\n",
              "      fill: #FFFFFF;\n",
              "    }\n",
              "  </style>\n",
              "\n",
              "    <script>\n",
              "      const buttonEl =\n",
              "        document.querySelector('#df-bc5747a3-c147-4508-a3e2-b8d8221a526d button.colab-df-convert');\n",
              "      buttonEl.style.display =\n",
              "        google.colab.kernel.accessAllowed ? 'block' : 'none';\n",
              "\n",
              "      async function convertToInteractive(key) {\n",
              "        const element = document.querySelector('#df-bc5747a3-c147-4508-a3e2-b8d8221a526d');\n",
              "        const dataTable =\n",
              "          await google.colab.kernel.invokeFunction('convertToInteractive',\n",
              "                                                    [key], {});\n",
              "        if (!dataTable) return;\n",
              "\n",
              "        const docLinkHtml = 'Like what you see? Visit the ' +\n",
              "          '<a target=\"_blank\" href=https://colab.research.google.com/notebooks/data_table.ipynb>data table notebook</a>'\n",
              "          + ' to learn more about interactive tables.';\n",
              "        element.innerHTML = '';\n",
              "        dataTable['output_type'] = 'display_data';\n",
              "        await google.colab.output.renderOutput(dataTable, element);\n",
              "        const docLink = document.createElement('div');\n",
              "        docLink.innerHTML = docLinkHtml;\n",
              "        element.appendChild(docLink);\n",
              "      }\n",
              "    </script>\n",
              "  </div>\n",
              "\n",
              "\n",
              "<div id=\"df-3cc4da80-d1e9-4c75-a011-3f5a6317fc99\">\n",
              "  <button class=\"colab-df-quickchart\" onclick=\"quickchart('df-3cc4da80-d1e9-4c75-a011-3f5a6317fc99')\"\n",
              "            title=\"Suggest charts\"\n",
              "            style=\"display:none;\">\n",
              "\n",
              "<svg xmlns=\"http://www.w3.org/2000/svg\" height=\"24px\"viewBox=\"0 0 24 24\"\n",
              "     width=\"24px\">\n",
              "    <g>\n",
              "        <path d=\"M19 3H5c-1.1 0-2 .9-2 2v14c0 1.1.9 2 2 2h14c1.1 0 2-.9 2-2V5c0-1.1-.9-2-2-2zM9 17H7v-7h2v7zm4 0h-2V7h2v10zm4 0h-2v-4h2v4z\"/>\n",
              "    </g>\n",
              "</svg>\n",
              "  </button>\n",
              "\n",
              "<style>\n",
              "  .colab-df-quickchart {\n",
              "      --bg-color: #E8F0FE;\n",
              "      --fill-color: #1967D2;\n",
              "      --hover-bg-color: #E2EBFA;\n",
              "      --hover-fill-color: #174EA6;\n",
              "      --disabled-fill-color: #AAA;\n",
              "      --disabled-bg-color: #DDD;\n",
              "  }\n",
              "\n",
              "  [theme=dark] .colab-df-quickchart {\n",
              "      --bg-color: #3B4455;\n",
              "      --fill-color: #D2E3FC;\n",
              "      --hover-bg-color: #434B5C;\n",
              "      --hover-fill-color: #FFFFFF;\n",
              "      --disabled-bg-color: #3B4455;\n",
              "      --disabled-fill-color: #666;\n",
              "  }\n",
              "\n",
              "  .colab-df-quickchart {\n",
              "    background-color: var(--bg-color);\n",
              "    border: none;\n",
              "    border-radius: 50%;\n",
              "    cursor: pointer;\n",
              "    display: none;\n",
              "    fill: var(--fill-color);\n",
              "    height: 32px;\n",
              "    padding: 0;\n",
              "    width: 32px;\n",
              "  }\n",
              "\n",
              "  .colab-df-quickchart:hover {\n",
              "    background-color: var(--hover-bg-color);\n",
              "    box-shadow: 0 1px 2px rgba(60, 64, 67, 0.3), 0 1px 3px 1px rgba(60, 64, 67, 0.15);\n",
              "    fill: var(--button-hover-fill-color);\n",
              "  }\n",
              "\n",
              "  .colab-df-quickchart-complete:disabled,\n",
              "  .colab-df-quickchart-complete:disabled:hover {\n",
              "    background-color: var(--disabled-bg-color);\n",
              "    fill: var(--disabled-fill-color);\n",
              "    box-shadow: none;\n",
              "  }\n",
              "\n",
              "  .colab-df-spinner {\n",
              "    border: 2px solid var(--fill-color);\n",
              "    border-color: transparent;\n",
              "    border-bottom-color: var(--fill-color);\n",
              "    animation:\n",
              "      spin 1s steps(1) infinite;\n",
              "  }\n",
              "\n",
              "  @keyframes spin {\n",
              "    0% {\n",
              "      border-color: transparent;\n",
              "      border-bottom-color: var(--fill-color);\n",
              "      border-left-color: var(--fill-color);\n",
              "    }\n",
              "    20% {\n",
              "      border-color: transparent;\n",
              "      border-left-color: var(--fill-color);\n",
              "      border-top-color: var(--fill-color);\n",
              "    }\n",
              "    30% {\n",
              "      border-color: transparent;\n",
              "      border-left-color: var(--fill-color);\n",
              "      border-top-color: var(--fill-color);\n",
              "      border-right-color: var(--fill-color);\n",
              "    }\n",
              "    40% {\n",
              "      border-color: transparent;\n",
              "      border-right-color: var(--fill-color);\n",
              "      border-top-color: var(--fill-color);\n",
              "    }\n",
              "    60% {\n",
              "      border-color: transparent;\n",
              "      border-right-color: var(--fill-color);\n",
              "    }\n",
              "    80% {\n",
              "      border-color: transparent;\n",
              "      border-right-color: var(--fill-color);\n",
              "      border-bottom-color: var(--fill-color);\n",
              "    }\n",
              "    90% {\n",
              "      border-color: transparent;\n",
              "      border-bottom-color: var(--fill-color);\n",
              "    }\n",
              "  }\n",
              "</style>\n",
              "\n",
              "  <script>\n",
              "    async function quickchart(key) {\n",
              "      const quickchartButtonEl =\n",
              "        document.querySelector('#' + key + ' button');\n",
              "      quickchartButtonEl.disabled = true;  // To prevent multiple clicks.\n",
              "      quickchartButtonEl.classList.add('colab-df-spinner');\n",
              "      try {\n",
              "        const charts = await google.colab.kernel.invokeFunction(\n",
              "            'suggestCharts', [key], {});\n",
              "      } catch (error) {\n",
              "        console.error('Error during call to suggestCharts:', error);\n",
              "      }\n",
              "      quickchartButtonEl.classList.remove('colab-df-spinner');\n",
              "      quickchartButtonEl.classList.add('colab-df-quickchart-complete');\n",
              "    }\n",
              "    (() => {\n",
              "      let quickchartButtonEl =\n",
              "        document.querySelector('#df-3cc4da80-d1e9-4c75-a011-3f5a6317fc99 button');\n",
              "      quickchartButtonEl.style.display =\n",
              "        google.colab.kernel.accessAllowed ? 'block' : 'none';\n",
              "    })();\n",
              "  </script>\n",
              "</div>\n",
              "\n",
              "  <div id=\"id_13afbb78-a4a5-42ef-8ce7-087361899a73\">\n",
              "    <style>\n",
              "      .colab-df-generate {\n",
              "        background-color: #E8F0FE;\n",
              "        border: none;\n",
              "        border-radius: 50%;\n",
              "        cursor: pointer;\n",
              "        display: none;\n",
              "        fill: #1967D2;\n",
              "        height: 32px;\n",
              "        padding: 0 0 0 0;\n",
              "        width: 32px;\n",
              "      }\n",
              "\n",
              "      .colab-df-generate:hover {\n",
              "        background-color: #E2EBFA;\n",
              "        box-shadow: 0px 1px 2px rgba(60, 64, 67, 0.3), 0px 1px 3px 1px rgba(60, 64, 67, 0.15);\n",
              "        fill: #174EA6;\n",
              "      }\n",
              "\n",
              "      [theme=dark] .colab-df-generate {\n",
              "        background-color: #3B4455;\n",
              "        fill: #D2E3FC;\n",
              "      }\n",
              "\n",
              "      [theme=dark] .colab-df-generate:hover {\n",
              "        background-color: #434B5C;\n",
              "        box-shadow: 0px 1px 3px 1px rgba(0, 0, 0, 0.15);\n",
              "        filter: drop-shadow(0px 1px 2px rgba(0, 0, 0, 0.3));\n",
              "        fill: #FFFFFF;\n",
              "      }\n",
              "    </style>\n",
              "    <button class=\"colab-df-generate\" onclick=\"generateWithVariable('data')\"\n",
              "            title=\"Generate code using this dataframe.\"\n",
              "            style=\"display:none;\">\n",
              "\n",
              "  <svg xmlns=\"http://www.w3.org/2000/svg\" height=\"24px\"viewBox=\"0 0 24 24\"\n",
              "       width=\"24px\">\n",
              "    <path d=\"M7,19H8.4L18.45,9,17,7.55,7,17.6ZM5,21V16.75L18.45,3.32a2,2,0,0,1,2.83,0l1.4,1.43a1.91,1.91,0,0,1,.58,1.4,1.91,1.91,0,0,1-.58,1.4L9.25,21ZM18.45,9,17,7.55Zm-12,3A5.31,5.31,0,0,0,4.9,8.1,5.31,5.31,0,0,0,1,6.5,5.31,5.31,0,0,0,4.9,4.9,5.31,5.31,0,0,0,6.5,1,5.31,5.31,0,0,0,8.1,4.9,5.31,5.31,0,0,0,12,6.5,5.46,5.46,0,0,0,6.5,12Z\"/>\n",
              "  </svg>\n",
              "    </button>\n",
              "    <script>\n",
              "      (() => {\n",
              "      const buttonEl =\n",
              "        document.querySelector('#id_13afbb78-a4a5-42ef-8ce7-087361899a73 button.colab-df-generate');\n",
              "      buttonEl.style.display =\n",
              "        google.colab.kernel.accessAllowed ? 'block' : 'none';\n",
              "\n",
              "      buttonEl.onclick = () => {\n",
              "        google.colab.notebook.generateWithVariable('data');\n",
              "      }\n",
              "      })();\n",
              "    </script>\n",
              "  </div>\n",
              "\n",
              "    </div>\n",
              "  </div>\n"
            ]
          },
          "metadata": {},
          "execution_count": 255
        }
      ]
    },
    {
      "cell_type": "markdown",
      "source": [
        "> Data Splitting and Model Training"
      ],
      "metadata": {
        "id": "DPcPxOgepxBQ"
      }
    },
    {
      "cell_type": "code",
      "source": [
        "features = ['Open', 'High', 'Low', 'Volume', 'DailyReturn', 'MovingAverage', 'PriceToVolumeRatio']\n",
        "X = data[features]\n",
        "Y = data['Close']\n",
        "print(X.columns)\n",
        "print(Y.name)"
      ],
      "metadata": {
        "colab": {
          "base_uri": "https://localhost:8080/"
        },
        "outputId": "7230e595-e6f0-45a0-d7e8-b73fcb4031d2",
        "id": "WpuUKbznpxBR"
      },
      "execution_count": 256,
      "outputs": [
        {
          "output_type": "stream",
          "name": "stdout",
          "text": [
            "Index(['Open', 'High', 'Low', 'Volume', 'DailyReturn', 'MovingAverage',\n",
            "       'PriceToVolumeRatio'],\n",
            "      dtype='object')\n",
            "Close\n"
          ]
        }
      ]
    },
    {
      "cell_type": "code",
      "source": [
        "imputer = SimpleImputer(strategy='mean')\n",
        "X = imputer.fit_transform(X)"
      ],
      "metadata": {
        "id": "FDwTp5MkpxBR"
      },
      "execution_count": 257,
      "outputs": []
    },
    {
      "cell_type": "code",
      "source": [
        "X_train, X_test, y_train, y_test = train_test_split(X,Y, test_size=0.2, random_state=42)\n",
        "print(\"X_train shape:\", X_train.shape)\n",
        "print(\"X_test shape:\", X_test.shape)\n",
        "print(\"y_train shape:\", y_train.shape)\n",
        "print(\"y_test shape:\", y_test.shape)"
      ],
      "metadata": {
        "colab": {
          "base_uri": "https://localhost:8080/"
        },
        "outputId": "b7680845-a27d-4b2f-f87d-8fb190527454",
        "id": "twNyNm08pxBR"
      },
      "execution_count": 258,
      "outputs": [
        {
          "output_type": "stream",
          "name": "stdout",
          "text": [
            "X_train shape: (804, 7)\n",
            "X_test shape: (201, 7)\n",
            "y_train shape: (804,)\n",
            "y_test shape: (201,)\n"
          ]
        }
      ]
    },
    {
      "cell_type": "code",
      "source": [
        "model = DecisionTreeRegressor()"
      ],
      "metadata": {
        "id": "P_VnC2a0pxBR"
      },
      "execution_count": 259,
      "outputs": []
    },
    {
      "cell_type": "markdown",
      "source": [
        "> Model Evaluation"
      ],
      "metadata": {
        "id": "3c0VR0I4pxBR"
      }
    },
    {
      "cell_type": "code",
      "source": [
        "model.fit(X_train, y_train)\n",
        "predictions = model.predict(X_test)\n",
        "predictions"
      ],
      "metadata": {
        "colab": {
          "base_uri": "https://localhost:8080/"
        },
        "outputId": "9dd1ceea-1cb2-43e4-9967-10eec59e0ca8",
        "id": "ia0Jv2L0pxBR"
      },
      "execution_count": 260,
      "outputs": [
        {
          "output_type": "execute_result",
          "data": {
            "text/plain": [
              "array([629.76001 , 484.119995, 486.23999 , 368.769989, 320.799988,\n",
              "       466.929993, 466.929993, 339.559998, 369.950012, 332.630005,\n",
              "       553.330017, 316.480011, 547.580017, 307.350006, 358.      ,\n",
              "       534.659973, 493.369995, 610.340027, 359.070007, 398.390015,\n",
              "       611.659973, 496.950012, 274.459991, 329.540009, 449.869995,\n",
              "       361.399994, 307.350006, 363.920013, 292.01001 , 517.919983,\n",
              "       512.659973, 548.219971, 399.390015, 345.089996, 541.940002,\n",
              "       349.730011, 665.640015, 262.799988, 364.130005, 379.23999 ,\n",
              "       343.429993, 300.940002, 355.059998, 681.169983, 349.190002,\n",
              "       351.350006, 298.5     , 629.76001 , 500.859985, 641.900024,\n",
              "       480.23999 , 521.659973, 329.809998, 503.839996, 419.600006,\n",
              "       539.440002, 294.339996, 312.279999, 318.450012, 315.      ,\n",
              "       515.409973, 270.720001, 290.299988, 489.429993, 503.859985,\n",
              "       328.899994, 294.179993, 258.269989, 367.320007, 513.469971,\n",
              "       404.980011, 233.880005, 289.619995, 351.350006, 532.280029,\n",
              "       368.769989, 317.5     , 632.659973, 293.970001, 429.480011,\n",
              "       488.809998, 377.049988, 329.809998, 369.609985, 325.899994,\n",
              "       592.640015, 586.72998 , 657.580017, 364.130005, 495.98999 ,\n",
              "       466.26001 , 575.429993, 520.650024, 288.75    , 552.780029,\n",
              "       369.029999, 315.      , 363.519989, 386.190002, 325.899994,\n",
              "       503.839996, 410.170013, 269.579987, 491.899994, 447.769989,\n",
              "       362.869995, 515.409973, 547.530029, 629.76001 , 641.900024,\n",
              "       573.140015, 602.440002, 490.649994, 530.869995, 374.230011,\n",
              "       386.700012, 539.440002, 379.23999 , 371.119995, 365.799988,\n",
              "       358.      , 632.659973, 302.859985, 503.380005, 361.450012,\n",
              "       337.48999 , 339.100006, 503.839996, 302.859985, 364.559998,\n",
              "       504.579987, 499.890015, 530.869995, 294.179993, 410.170013,\n",
              "       363.519989, 311.690002, 339.850006, 305.76001 , 315.25    ,\n",
              "       343.089996, 310.839996, 343.160004, 291.450012, 592.640015,\n",
              "       593.73999 , 520.700012, 268.149994, 494.730011, 380.399994,\n",
              "       356.559998, 518.909973, 503.380005, 346.459991, 418.649994,\n",
              "       641.900024, 681.169983, 597.98999 , 369.609985, 325.899994,\n",
              "       345.609985, 298.070007, 441.950012, 363.440002, 505.869995,\n",
              "       528.909973, 466.26001 , 374.130005, 510.399994, 367.320007,\n",
              "       352.600006, 337.48999 , 349.359985, 352.600006, 367.679993,\n",
              "       335.779999, 504.579987, 317.940002, 364.130005, 369.429993,\n",
              "       365.98999 , 270.600006, 266.690002, 480.670013, 369.670013,\n",
              "       278.140015, 500.859985, 368.48999 , 368.329987, 624.940002,\n",
              "       256.079987, 547.820007, 466.26001 , 413.549988, 310.619995,\n",
              "       352.600006, 275.329987, 529.559998, 349.730011, 266.769989,\n",
              "       379.23999 ])"
            ]
          },
          "metadata": {},
          "execution_count": 260
        }
      ]
    },
    {
      "cell_type": "code",
      "source": [
        "mse = mean_squared_error(y_test, predictions)\n",
        "print(f'Mean Squared Error: {mse}')"
      ],
      "metadata": {
        "colab": {
          "base_uri": "https://localhost:8080/"
        },
        "outputId": "ab240cff-c692-4a03-e1f8-020c799110be",
        "id": "zEuYnP8HpxBR"
      },
      "execution_count": 261,
      "outputs": [
        {
          "output_type": "stream",
          "name": "stdout",
          "text": [
            "Mean Squared Error: 30.48792478286902\n"
          ]
        }
      ]
    },
    {
      "cell_type": "code",
      "source": [
        "# Calculate Mean Absolute Error\n",
        "mae = mean_absolute_error(y_test, predictions)\n",
        "print(f'Mean Absolute Error: {mae:.2f}')"
      ],
      "metadata": {
        "colab": {
          "base_uri": "https://localhost:8080/"
        },
        "id": "Rz15QmGEKA83",
        "outputId": "4abda50f-8dde-48f7-f318-8a8398c961aa"
      },
      "execution_count": 262,
      "outputs": [
        {
          "output_type": "stream",
          "name": "stdout",
          "text": [
            "Mean Absolute Error: 4.03\n"
          ]
        }
      ]
    },
    {
      "cell_type": "code",
      "source": [
        "# Calculate R-squared\n",
        "r2 = r2_score(y_test, predictions)\n",
        "print(f'R-squared: {r2:.2f}')"
      ],
      "metadata": {
        "colab": {
          "base_uri": "https://localhost:8080/"
        },
        "id": "SODhnRADKGhg",
        "outputId": "8effc8cb-b3be-4082-925c-ae6357daeb41"
      },
      "execution_count": 263,
      "outputs": [
        {
          "output_type": "stream",
          "name": "stdout",
          "text": [
            "R-squared: 1.00\n"
          ]
        }
      ]
    },
    {
      "cell_type": "code",
      "source": [
        "df_results = pd.DataFrame({'Date': pd.to_datetime(y_test.index, format='%Y-%m-%d'),\n",
        "                           'Actual_Close': y_test.values,\n",
        "                           'Predicted_Close': predictions})\n",
        "\n",
        "# Display the new DataFrame\n",
        "print(df_results)"
      ],
      "metadata": {
        "colab": {
          "base_uri": "https://localhost:8080/"
        },
        "outputId": "2fc0d8ce-3401-4bb3-d35c-d60ee1b35280",
        "id": "Z9UR8Y1-pxBR"
      },
      "execution_count": 264,
      "outputs": [
        {
          "output_type": "stream",
          "name": "stdout",
          "text": [
            "                             Date  Actual_Close  Predicted_Close\n",
            "0   1970-01-01 00:00:00.000000930    633.799988       629.760010\n",
            "1   1970-01-01 00:00:00.000000634    475.470001       484.119995\n",
            "2   1970-01-01 00:00:00.000000686    488.239990       486.239990\n",
            "3   1970-01-01 00:00:00.000000518    371.709991       368.769989\n",
            "4   1970-01-01 00:00:00.000000369    326.459991       320.799988\n",
            "..                            ...           ...              ...\n",
            "196 1970-01-01 00:00:00.000000212    265.140015       275.329987\n",
            "197 1970-01-01 00:00:00.000000782    524.030029       529.559998\n",
            "198 1970-01-01 00:00:00.000000338    351.269989       349.730011\n",
            "199 1970-01-01 00:00:00.000000214    265.320007       266.769989\n",
            "200 1970-01-01 00:00:00.000000354    381.720001       379.239990\n",
            "\n",
            "[201 rows x 3 columns]\n"
          ]
        }
      ]
    },
    {
      "cell_type": "code",
      "source": [
        "df_results[['Actual_Close', 'Predicted_Close']].plot()"
      ],
      "metadata": {
        "colab": {
          "base_uri": "https://localhost:8080/",
          "height": 450
        },
        "outputId": "6af87e44-7d63-4be9-b5fa-389111d61060",
        "id": "2Lbi_FfxpxBR"
      },
      "execution_count": 265,
      "outputs": [
        {
          "output_type": "execute_result",
          "data": {
            "text/plain": [
              "<Axes: >"
            ]
          },
          "metadata": {},
          "execution_count": 265
        },
        {
          "output_type": "display_data",
          "data": {
            "text/plain": [
              "<Figure size 640x480 with 1 Axes>"
            ],
            "image/png": "[encoded data removed]"
          },
          "metadata": {}
        }
      ]
    },
    {
      "cell_type": "code",
      "source": [
        "plt.figure(figsize=(8, 6))\n",
        "plt.scatter(y_test, predictions, color='blue', alpha=0.5)\n",
        "plt.plot([min(y_test), max(y_test)], [min(y_test), max(y_test)],linestyle='--', color='red', linewidth=2)\n",
        "plt.title('Actual vs. Predicted Values')\n",
        "plt.xlabel('Actual Values')\n",
        "plt.ylabel('Predicted Values')\n",
        "plt.show()"
      ],
      "metadata": {
        "colab": {
          "base_uri": "https://localhost:8080/",
          "height": 564
        },
        "id": "VNR-E6vQLo6B",
        "outputId": "16d38316-098a-4638-a3d2-3c5673b777c8"
      },
      "execution_count": 266,
      "outputs": [
        {
          "output_type": "display_data",
          "data": {
            "text/plain": [
              "<Figure size 800x600 with 1 Axes>"
            ],
            "image/png": "[encoded data removed]"
          },
          "metadata": {}
        }
      ]
    },
    {
      "cell_type": "markdown",
      "source": [
        "***Bitcoin Dataset***\n",
        "\n",
        "> In this project, I select Bitcoin datasets which play a crucial role as they form the foundation for training and evaluating machine learning models i.e decision tree for stock market price prediction. Dataset represents historical stock market data for different assets, and understanding their characteristics is vital for building effective predictive models.\n",
        "\n",
        "\n",
        "> Features of dataset\n",
        "* Date: Essential for organizing data chronologically and identifying trends over time.\n",
        "* Open: The opening price of Datasets on a given day.\n",
        "* High: The highest price of Datasets on a given day.\n",
        "* Low: The lowest price of Datasets on a given day.\n",
        "* Close: The closing price of Datasets on a given day.\n",
        "* Adj Close: The adjusted closing price of Datasets on a given day, considering dividends, stock splits, etc.\n",
        "* Volume: The volume of Datasets traded on a given day.\n",
        "\n",
        "\n",
        "\n",
        "\n",
        "\n"
      ],
      "metadata": {
        "id": "jidw8XsphuEs"
      }
    },
    {
      "cell_type": "markdown",
      "source": [
        "*Load the dataset*"
      ],
      "metadata": {
        "id": "tVpKl6scnU-7"
      }
    },
    {
      "cell_type": "code",
      "source": [
        "data = pd.read_csv('BTC-USD.csv')\n",
        "print(data)"
      ],
      "metadata": {
        "colab": {
          "base_uri": "https://localhost:8080/"
        },
        "outputId": "c95f50fc-4b6c-4147-93e1-9a4f33a20e8f",
        "id": "c-w1OCmknbjD"
      },
      "execution_count": 267,
      "outputs": [
        {
          "output_type": "stream",
          "name": "stdout",
          "text": [
            "           Date          Open          High           Low         Close  \\\n",
            "0    2022-12-19  16759.041016  16807.527344  16398.136719  16439.679688   \n",
            "1    2022-12-20  16441.787109  17012.984375  16427.867188  16906.304688   \n",
            "2    2022-12-21  16904.527344  16916.800781  16755.912109  16817.535156   \n",
            "3    2022-12-22  16818.380859  16866.673828  16592.408203  16830.341797   \n",
            "4    2022-12-23  16829.644531  16905.218750  16794.458984  16796.953125   \n",
            "..          ...           ...           ...           ...           ...   \n",
            "361  2023-12-15  43028.250000  43087.824219  41692.968750  41929.757813   \n",
            "362  2023-12-16  41937.742188  42664.945313  41723.113281  42240.117188   \n",
            "363  2023-12-17  42236.109375  42359.496094  41274.542969  41364.664063   \n",
            "364  2023-12-18  41348.203125  42720.296875  40530.257813  42623.539063   \n",
            "365  2023-12-19  42641.511719  43281.062500  41848.339844  42150.578125   \n",
            "\n",
            "        Adj Close       Volume  \n",
            "0    16439.679688  17221074814  \n",
            "1    16906.304688  22722096615  \n",
            "2    16817.535156  14882945045  \n",
            "3    16830.341797  16441573050  \n",
            "4    16796.953125  15329265213  \n",
            "..            ...          ...  \n",
            "361  41929.757813  19639442462  \n",
            "362  42240.117188  14386729590  \n",
            "363  41364.664063  16678702876  \n",
            "364  42623.539063  25224642008  \n",
            "365  42150.578125  25344405504  \n",
            "\n",
            "[366 rows x 7 columns]\n"
          ]
        }
      ]
    },
    {
      "cell_type": "markdown",
      "source": [
        "*Quick peek at functions:*"
      ],
      "metadata": {
        "id": "qbvKdVavn9Ea"
      }
    },
    {
      "cell_type": "code",
      "source": [
        "data.shape"
      ],
      "metadata": {
        "colab": {
          "base_uri": "https://localhost:8080/"
        },
        "outputId": "df147b51-785c-4d34-abd9-a6b6caa2ebb7",
        "id": "i2TjaQZen_HK"
      },
      "execution_count": 268,
      "outputs": [
        {
          "output_type": "execute_result",
          "data": {
            "text/plain": [
              "(366, 7)"
            ]
          },
          "metadata": {},
          "execution_count": 268
        }
      ]
    },
    {
      "cell_type": "code",
      "source": [
        "data.columns"
      ],
      "metadata": {
        "colab": {
          "base_uri": "https://localhost:8080/"
        },
        "outputId": "36b1132b-1c9e-4cf0-dcaf-b33c9e3519b0",
        "id": "CLM83TRaoA-q"
      },
      "execution_count": 269,
      "outputs": [
        {
          "output_type": "execute_result",
          "data": {
            "text/plain": [
              "Index(['Date', 'Open', 'High', 'Low', 'Close', 'Adj Close', 'Volume'], dtype='object')"
            ]
          },
          "metadata": {},
          "execution_count": 269
        }
      ]
    },
    {
      "cell_type": "code",
      "source": [
        "print(data.describe())"
      ],
      "metadata": {
        "colab": {
          "base_uri": "https://localhost:8080/"
        },
        "outputId": "1b6bde8b-13bf-4763-9fc6-65c5a9b7ba35",
        "id": "ze7pNxisoGU3"
      },
      "execution_count": 270,
      "outputs": [
        {
          "output_type": "stream",
          "name": "stdout",
          "text": [
            "               Open          High           Low         Close     Adj Close  \\\n",
            "count    366.000000    366.000000    366.000000    366.000000    366.000000   \n",
            "mean   27892.374450  28351.467635  27512.248116  27961.859242  27961.859242   \n",
            "std     5679.175786   5798.605380   5573.093646   5698.534708   5698.534708   \n",
            "min    16441.787109  16628.986328  16398.136719  16439.679688  16439.679688   \n",
            "25%    25614.489746  25957.333008  24999.646973  25754.951660  25754.951660   \n",
            "50%    27438.595703  27926.062500  26966.659179  27461.631836  27461.631836   \n",
            "75%    29913.611817  30364.928223  29675.398926  29975.025390  29975.025390   \n",
            "max    44180.019531  44705.515625  43627.597656  44166.601563  44166.601563   \n",
            "\n",
            "             Volume  \n",
            "count  3.660000e+02  \n",
            "mean   1.802335e+10  \n",
            "std    8.494735e+09  \n",
            "min    5.331173e+09  \n",
            "25%    1.200029e+10  \n",
            "50%    1.575343e+10  \n",
            "75%    2.262914e+10  \n",
            "max    5.462223e+10  \n"
          ]
        }
      ]
    },
    {
      "cell_type": "code",
      "source": [
        "print(data.info())"
      ],
      "metadata": {
        "colab": {
          "base_uri": "https://localhost:8080/"
        },
        "outputId": "b9e5bf34-3320-4f6d-948d-ae1f47b8d9f4",
        "id": "xQN1lHFgoIrN"
      },
      "execution_count": 271,
      "outputs": [
        {
          "output_type": "stream",
          "name": "stdout",
          "text": [
            "<class 'pandas.core.frame.DataFrame'>\n",
            "RangeIndex: 366 entries, 0 to 365\n",
            "Data columns (total 7 columns):\n",
            " #   Column     Non-Null Count  Dtype  \n",
            "---  ------     --------------  -----  \n",
            " 0   Date       366 non-null    object \n",
            " 1   Open       366 non-null    float64\n",
            " 2   High       366 non-null    float64\n",
            " 3   Low        366 non-null    float64\n",
            " 4   Close      366 non-null    float64\n",
            " 5   Adj Close  366 non-null    float64\n",
            " 6   Volume     366 non-null    int64  \n",
            "dtypes: float64(5), int64(1), object(1)\n",
            "memory usage: 20.1+ KB\n",
            "None\n"
          ]
        }
      ]
    },
    {
      "cell_type": "markdown",
      "source": [
        "*Data Preprocessing*\n",
        "\n",
        "> Handling Missing Values:\n",
        "\n"
      ],
      "metadata": {
        "id": "rbAEMwq-oL5Y"
      }
    },
    {
      "cell_type": "code",
      "source": [
        "missing_values = data.isnull().sum()\n",
        "print(\"Missing Values:\\n\", missing_values)\n",
        "data = data.dropna()\n",
        "print(\"Missing Values After Handling:\\n\", data.isnull().sum())"
      ],
      "metadata": {
        "colab": {
          "base_uri": "https://localhost:8080/"
        },
        "outputId": "6b3a6622-1d0b-4ee4-cb68-f1ce867c6e1d",
        "id": "PB14c8JGoVpx"
      },
      "execution_count": 272,
      "outputs": [
        {
          "output_type": "stream",
          "name": "stdout",
          "text": [
            "Missing Values:\n",
            " Date         0\n",
            "Open         0\n",
            "High         0\n",
            "Low          0\n",
            "Close        0\n",
            "Adj Close    0\n",
            "Volume       0\n",
            "dtype: int64\n",
            "Missing Values After Handling:\n",
            " Date         0\n",
            "Open         0\n",
            "High         0\n",
            "Low          0\n",
            "Close        0\n",
            "Adj Close    0\n",
            "Volume       0\n",
            "dtype: int64\n"
          ]
        }
      ]
    },
    {
      "cell_type": "markdown",
      "source": [
        "\n",
        "\n",
        "> Feature Scaling\n",
        "\n"
      ],
      "metadata": {
        "id": "VOFLm_CFoX07"
      }
    },
    {
      "cell_type": "code",
      "source": [
        "from sklearn.preprocessing import MinMaxScaler\n",
        "scaler = MinMaxScaler()\n",
        "data[['High']] = scaler.fit_transform(data[['High']])\n",
        "data[['Low']] = scaler.fit_transform(data[['Low']])\n",
        "data"
      ],
      "metadata": {
        "colab": {
          "base_uri": "https://localhost:8080/",
          "height": 424
        },
        "outputId": "ccdcc8d9-98bb-40a1-82eb-a8e761920a87",
        "id": "JTmJ2pyRoZNJ"
      },
      "execution_count": 273,
      "outputs": [
        {
          "output_type": "execute_result",
          "data": {
            "text/plain": [
              "           Date          Open      High       Low         Close     Adj Close  \\\n",
              "0    2022-12-19  16759.041016  0.006359  0.000000  16439.679688  16439.679688   \n",
              "1    2022-12-20  16441.787109  0.013677  0.001092  16906.304688  16906.304688   \n",
              "2    2022-12-21  16904.527344  0.010251  0.013139  16817.535156  16817.535156   \n",
              "3    2022-12-22  16818.380859  0.008466  0.007135  16830.341797  16830.341797   \n",
              "4    2022-12-23  16829.644531  0.009839  0.014555  16796.953125  16796.953125   \n",
              "..          ...           ...       ...       ...           ...           ...   \n",
              "361  2023-12-15  43028.250000  0.942383  0.928951  41929.757813  41929.757813   \n",
              "362  2023-12-16  41937.742188  0.927321  0.930058  42240.117188  42240.117188   \n",
              "363  2023-12-17  42236.109375  0.916442  0.913584  41364.664063  41364.664063   \n",
              "364  2023-12-18  41348.203125  0.929293  0.886250  42623.539063  42623.539063   \n",
              "365  2023-12-19  42641.511719  0.949265  0.934657  42150.578125  42150.578125   \n",
              "\n",
              "          Volume  \n",
              "0    17221074814  \n",
              "1    22722096615  \n",
              "2    14882945045  \n",
              "3    16441573050  \n",
              "4    15329265213  \n",
              "..           ...  \n",
              "361  19639442462  \n",
              "362  14386729590  \n",
              "363  16678702876  \n",
              "364  25224642008  \n",
              "365  25344405504  \n",
              "\n",
              "[366 rows x 7 columns]"
            ],
            "text/html": [
              "\n",
              "  <div id=\"df-6ae9e10b-1010-4ada-882c-6ccebf64df99\" class=\"colab-df-container\">\n",
              "    <div>\n",
              "<style scoped>\n",
              "    .dataframe tbody tr th:only-of-type {\n",
              "        vertical-align: middle;\n",
              "    }\n",
              "\n",
              "    .dataframe tbody tr th {\n",
              "        vertical-align: top;\n",
              "    }\n",
              "\n",
              "    .dataframe thead th {\n",
              "        text-align: right;\n",
              "    }\n",
              "</style>\n",
              "<table border=\"1\" class=\"dataframe\">\n",
              "  <thead>\n",
              "    <tr style=\"text-align: right;\">\n",
              "      <th></th>\n",
              "      <th>Date</th>\n",
              "      <th>Open</th>\n",
              "      <th>High</th>\n",
              "      <th>Low</th>\n",
              "      <th>Close</th>\n",
              "      <th>Adj Close</th>\n",
              "      <th>Volume</th>\n",
              "    </tr>\n",
              "  </thead>\n",
              "  <tbody>\n",
              "    <tr>\n",
              "      <th>0</th>\n",
              "      <td>2022-12-19</td>\n",
              "      <td>16759.041016</td>\n",
              "      <td>0.006359</td>\n",
              "      <td>0.000000</td>\n",
              "      <td>16439.679688</td>\n",
              "      <td>16439.679688</td>\n",
              "      <td>17221074814</td>\n",
              "    </tr>\n",
              "    <tr>\n",
              "      <th>1</th>\n",
              "      <td>2022-12-20</td>\n",
              "      <td>16441.787109</td>\n",
              "      <td>0.013677</td>\n",
              "      <td>0.001092</td>\n",
              "      <td>16906.304688</td>\n",
              "      <td>16906.304688</td>\n",
              "      <td>22722096615</td>\n",
              "    </tr>\n",
              "    <tr>\n",
              "      <th>2</th>\n",
              "      <td>2022-12-21</td>\n",
              "      <td>16904.527344</td>\n",
              "      <td>0.010251</td>\n",
              "      <td>0.013139</td>\n",
              "      <td>16817.535156</td>\n",
              "      <td>16817.535156</td>\n",
              "      <td>14882945045</td>\n",
              "    </tr>\n",
              "    <tr>\n",
              "      <th>3</th>\n",
              "      <td>2022-12-22</td>\n",
              "      <td>16818.380859</td>\n",
              "      <td>0.008466</td>\n",
              "      <td>0.007135</td>\n",
              "      <td>16830.341797</td>\n",
              "      <td>16830.341797</td>\n",
              "      <td>16441573050</td>\n",
              "    </tr>\n",
              "    <tr>\n",
              "      <th>4</th>\n",
              "      <td>2022-12-23</td>\n",
              "      <td>16829.644531</td>\n",
              "      <td>0.009839</td>\n",
              "      <td>0.014555</td>\n",
              "      <td>16796.953125</td>\n",
              "      <td>16796.953125</td>\n",
              "      <td>15329265213</td>\n",
              "    </tr>\n",
              "    <tr>\n",
              "      <th>...</th>\n",
              "      <td>...</td>\n",
              "      <td>...</td>\n",
              "      <td>...</td>\n",
              "      <td>...</td>\n",
              "      <td>...</td>\n",
              "      <td>...</td>\n",
              "      <td>...</td>\n",
              "    </tr>\n",
              "    <tr>\n",
              "      <th>361</th>\n",
              "      <td>2023-12-15</td>\n",
              "      <td>43028.250000</td>\n",
              "      <td>0.942383</td>\n",
              "      <td>0.928951</td>\n",
              "      <td>41929.757813</td>\n",
              "      <td>41929.757813</td>\n",
              "      <td>19639442462</td>\n",
              "    </tr>\n",
              "    <tr>\n",
              "      <th>362</th>\n",
              "      <td>2023-12-16</td>\n",
              "      <td>41937.742188</td>\n",
              "      <td>0.927321</td>\n",
              "      <td>0.930058</td>\n",
              "      <td>42240.117188</td>\n",
              "      <td>42240.117188</td>\n",
              "      <td>14386729590</td>\n",
              "    </tr>\n",
              "    <tr>\n",
              "      <th>363</th>\n",
              "      <td>2023-12-17</td>\n",
              "      <td>42236.109375</td>\n",
              "      <td>0.916442</td>\n",
              "      <td>0.913584</td>\n",
              "      <td>41364.664063</td>\n",
              "      <td>41364.664063</td>\n",
              "      <td>16678702876</td>\n",
              "    </tr>\n",
              "    <tr>\n",
              "      <th>364</th>\n",
              "      <td>2023-12-18</td>\n",
              "      <td>41348.203125</td>\n",
              "      <td>0.929293</td>\n",
              "      <td>0.886250</td>\n",
              "      <td>42623.539063</td>\n",
              "      <td>42623.539063</td>\n",
              "      <td>25224642008</td>\n",
              "    </tr>\n",
              "    <tr>\n",
              "      <th>365</th>\n",
              "      <td>2023-12-19</td>\n",
              "      <td>42641.511719</td>\n",
              "      <td>0.949265</td>\n",
              "      <td>0.934657</td>\n",
              "      <td>42150.578125</td>\n",
              "      <td>42150.578125</td>\n",
              "      <td>25344405504</td>\n",
              "    </tr>\n",
              "  </tbody>\n",
              "</table>\n",
              "<p>366 rows × 7 columns</p>\n",
              "</div>\n",
              "    <div class=\"colab-df-buttons\">\n",
              "\n",
              "  <div class=\"colab-df-container\">\n",
              "    <button class=\"colab-df-convert\" onclick=\"convertToInteractive('df-6ae9e10b-1010-4ada-882c-6ccebf64df99')\"\n",
              "            title=\"Convert this dataframe to an interactive table.\"\n",
              "            style=\"display:none;\">\n",
              "\n",
              "  <svg xmlns=\"http://www.w3.org/2000/svg\" height=\"24px\" viewBox=\"0 -960 960 960\">\n",
              "    <path d=\"M120-120v-720h720v720H120Zm60-500h600v-160H180v160Zm220 220h160v-160H400v160Zm0 220h160v-160H400v160ZM180-400h160v-160H180v160Zm440 0h160v-160H620v160ZM180-180h160v-160H180v160Zm440 0h160v-160H620v160Z\"/>\n",
              "  </svg>\n",
              "    </button>\n",
              "\n",
              "  <style>\n",
              "    .colab-df-container {\n",
              "      display:flex;\n",
              "      gap: 12px;\n",
              "    }\n",
              "\n",
              "    .colab-df-convert {\n",
              "      background-color: #E8F0FE;\n",
              "      border: none;\n",
              "      border-radius: 50%;\n",
              "      cursor: pointer;\n",
              "      display: none;\n",
              "      fill: #1967D2;\n",
              "      height: 32px;\n",
              "      padding: 0 0 0 0;\n",
              "      width: 32px;\n",
              "    }\n",
              "\n",
              "    .colab-df-convert:hover {\n",
              "      background-color: #E2EBFA;\n",
              "      box-shadow: 0px 1px 2px rgba(60, 64, 67, 0.3), 0px 1px 3px 1px rgba(60, 64, 67, 0.15);\n",
              "      fill: #174EA6;\n",
              "    }\n",
              "\n",
              "    .colab-df-buttons div {\n",
              "      margin-bottom: 4px;\n",
              "    }\n",
              "\n",
              "    [theme=dark] .colab-df-convert {\n",
              "      background-color: #3B4455;\n",
              "      fill: #D2E3FC;\n",
              "    }\n",
              "\n",
              "    [theme=dark] .colab-df-convert:hover {\n",
              "      background-color: #434B5C;\n",
              "      box-shadow: 0px 1px 3px 1px rgba(0, 0, 0, 0.15);\n",
              "      filter: drop-shadow(0px 1px 2px rgba(0, 0, 0, 0.3));\n",
              "      fill: #FFFFFF;\n",
              "    }\n",
              "  </style>\n",
              "\n",
              "    <script>\n",
              "      const buttonEl =\n",
              "        document.querySelector('#df-6ae9e10b-1010-4ada-882c-6ccebf64df99 button.colab-df-convert');\n",
              "      buttonEl.style.display =\n",
              "        google.colab.kernel.accessAllowed ? 'block' : 'none';\n",
              "\n",
              "      async function convertToInteractive(key) {\n",
              "        const element = document.querySelector('#df-6ae9e10b-1010-4ada-882c-6ccebf64df99');\n",
              "        const dataTable =\n",
              "          await google.colab.kernel.invokeFunction('convertToInteractive',\n",
              "                                                    [key], {});\n",
              "        if (!dataTable) return;\n",
              "\n",
              "        const docLinkHtml = 'Like what you see? Visit the ' +\n",
              "          '<a target=\"_blank\" href=https://colab.research.google.com/notebooks/data_table.ipynb>data table notebook</a>'\n",
              "          + ' to learn more about interactive tables.';\n",
              "        element.innerHTML = '';\n",
              "        dataTable['output_type'] = 'display_data';\n",
              "        await google.colab.output.renderOutput(dataTable, element);\n",
              "        const docLink = document.createElement('div');\n",
              "        docLink.innerHTML = docLinkHtml;\n",
              "        element.appendChild(docLink);\n",
              "      }\n",
              "    </script>\n",
              "  </div>\n",
              "\n",
              "\n",
              "<div id=\"df-185f8e46-b7b9-4ce9-b4dc-dd2b59c921a9\">\n",
              "  <button class=\"colab-df-quickchart\" onclick=\"quickchart('df-185f8e46-b7b9-4ce9-b4dc-dd2b59c921a9')\"\n",
              "            title=\"Suggest charts\"\n",
              "            style=\"display:none;\">\n",
              "\n",
              "<svg xmlns=\"http://www.w3.org/2000/svg\" height=\"24px\"viewBox=\"0 0 24 24\"\n",
              "     width=\"24px\">\n",
              "    <g>\n",
              "        <path d=\"M19 3H5c-1.1 0-2 .9-2 2v14c0 1.1.9 2 2 2h14c1.1 0 2-.9 2-2V5c0-1.1-.9-2-2-2zM9 17H7v-7h2v7zm4 0h-2V7h2v10zm4 0h-2v-4h2v4z\"/>\n",
              "    </g>\n",
              "</svg>\n",
              "  </button>\n",
              "\n",
              "<style>\n",
              "  .colab-df-quickchart {\n",
              "      --bg-color: #E8F0FE;\n",
              "      --fill-color: #1967D2;\n",
              "      --hover-bg-color: #E2EBFA;\n",
              "      --hover-fill-color: #174EA6;\n",
              "      --disabled-fill-color: #AAA;\n",
              "      --disabled-bg-color: #DDD;\n",
              "  }\n",
              "\n",
              "  [theme=dark] .colab-df-quickchart {\n",
              "      --bg-color: #3B4455;\n",
              "      --fill-color: #D2E3FC;\n",
              "      --hover-bg-color: #434B5C;\n",
              "      --hover-fill-color: #FFFFFF;\n",
              "      --disabled-bg-color: #3B4455;\n",
              "      --disabled-fill-color: #666;\n",
              "  }\n",
              "\n",
              "  .colab-df-quickchart {\n",
              "    background-color: var(--bg-color);\n",
              "    border: none;\n",
              "    border-radius: 50%;\n",
              "    cursor: pointer;\n",
              "    display: none;\n",
              "    fill: var(--fill-color);\n",
              "    height: 32px;\n",
              "    padding: 0;\n",
              "    width: 32px;\n",
              "  }\n",
              "\n",
              "  .colab-df-quickchart:hover {\n",
              "    background-color: var(--hover-bg-color);\n",
              "    box-shadow: 0 1px 2px rgba(60, 64, 67, 0.3), 0 1px 3px 1px rgba(60, 64, 67, 0.15);\n",
              "    fill: var(--button-hover-fill-color);\n",
              "  }\n",
              "\n",
              "  .colab-df-quickchart-complete:disabled,\n",
              "  .colab-df-quickchart-complete:disabled:hover {\n",
              "    background-color: var(--disabled-bg-color);\n",
              "    fill: var(--disabled-fill-color);\n",
              "    box-shadow: none;\n",
              "  }\n",
              "\n",
              "  .colab-df-spinner {\n",
              "    border: 2px solid var(--fill-color);\n",
              "    border-color: transparent;\n",
              "    border-bottom-color: var(--fill-color);\n",
              "    animation:\n",
              "      spin 1s steps(1) infinite;\n",
              "  }\n",
              "\n",
              "  @keyframes spin {\n",
              "    0% {\n",
              "      border-color: transparent;\n",
              "      border-bottom-color: var(--fill-color);\n",
              "      border-left-color: var(--fill-color);\n",
              "    }\n",
              "    20% {\n",
              "      border-color: transparent;\n",
              "      border-left-color: var(--fill-color);\n",
              "      border-top-color: var(--fill-color);\n",
              "    }\n",
              "    30% {\n",
              "      border-color: transparent;\n",
              "      border-left-color: var(--fill-color);\n",
              "      border-top-color: var(--fill-color);\n",
              "      border-right-color: var(--fill-color);\n",
              "    }\n",
              "    40% {\n",
              "      border-color: transparent;\n",
              "      border-right-color: var(--fill-color);\n",
              "      border-top-color: var(--fill-color);\n",
              "    }\n",
              "    60% {\n",
              "      border-color: transparent;\n",
              "      border-right-color: var(--fill-color);\n",
              "    }\n",
              "    80% {\n",
              "      border-color: transparent;\n",
              "      border-right-color: var(--fill-color);\n",
              "      border-bottom-color: var(--fill-color);\n",
              "    }\n",
              "    90% {\n",
              "      border-color: transparent;\n",
              "      border-bottom-color: var(--fill-color);\n",
              "    }\n",
              "  }\n",
              "</style>\n",
              "\n",
              "  <script>\n",
              "    async function quickchart(key) {\n",
              "      const quickchartButtonEl =\n",
              "        document.querySelector('#' + key + ' button');\n",
              "      quickchartButtonEl.disabled = true;  // To prevent multiple clicks.\n",
              "      quickchartButtonEl.classList.add('colab-df-spinner');\n",
              "      try {\n",
              "        const charts = await google.colab.kernel.invokeFunction(\n",
              "            'suggestCharts', [key], {});\n",
              "      } catch (error) {\n",
              "        console.error('Error during call to suggestCharts:', error);\n",
              "      }\n",
              "      quickchartButtonEl.classList.remove('colab-df-spinner');\n",
              "      quickchartButtonEl.classList.add('colab-df-quickchart-complete');\n",
              "    }\n",
              "    (() => {\n",
              "      let quickchartButtonEl =\n",
              "        document.querySelector('#df-185f8e46-b7b9-4ce9-b4dc-dd2b59c921a9 button');\n",
              "      quickchartButtonEl.style.display =\n",
              "        google.colab.kernel.accessAllowed ? 'block' : 'none';\n",
              "    })();\n",
              "  </script>\n",
              "</div>\n",
              "\n",
              "  <div id=\"id_ac447fad-4857-411b-b6b9-baa36c7c5435\">\n",
              "    <style>\n",
              "      .colab-df-generate {\n",
              "        background-color: #E8F0FE;\n",
              "        border: none;\n",
              "        border-radius: 50%;\n",
              "        cursor: pointer;\n",
              "        display: none;\n",
              "        fill: #1967D2;\n",
              "        height: 32px;\n",
              "        padding: 0 0 0 0;\n",
              "        width: 32px;\n",
              "      }\n",
              "\n",
              "      .colab-df-generate:hover {\n",
              "        background-color: #E2EBFA;\n",
              "        box-shadow: 0px 1px 2px rgba(60, 64, 67, 0.3), 0px 1px 3px 1px rgba(60, 64, 67, 0.15);\n",
              "        fill: #174EA6;\n",
              "      }\n",
              "\n",
              "      [theme=dark] .colab-df-generate {\n",
              "        background-color: #3B4455;\n",
              "        fill: #D2E3FC;\n",
              "      }\n",
              "\n",
              "      [theme=dark] .colab-df-generate:hover {\n",
              "        background-color: #434B5C;\n",
              "        box-shadow: 0px 1px 3px 1px rgba(0, 0, 0, 0.15);\n",
              "        filter: drop-shadow(0px 1px 2px rgba(0, 0, 0, 0.3));\n",
              "        fill: #FFFFFF;\n",
              "      }\n",
              "    </style>\n",
              "    <button class=\"colab-df-generate\" onclick=\"generateWithVariable('data')\"\n",
              "            title=\"Generate code using this dataframe.\"\n",
              "            style=\"display:none;\">\n",
              "\n",
              "  <svg xmlns=\"http://www.w3.org/2000/svg\" height=\"24px\"viewBox=\"0 0 24 24\"\n",
              "       width=\"24px\">\n",
              "    <path d=\"M7,19H8.4L18.45,9,17,7.55,7,17.6ZM5,21V16.75L18.45,3.32a2,2,0,0,1,2.83,0l1.4,1.43a1.91,1.91,0,0,1,.58,1.4,1.91,1.91,0,0,1-.58,1.4L9.25,21ZM18.45,9,17,7.55Zm-12,3A5.31,5.31,0,0,0,4.9,8.1,5.31,5.31,0,0,0,1,6.5,5.31,5.31,0,0,0,4.9,4.9,5.31,5.31,0,0,0,6.5,1,5.31,5.31,0,0,0,8.1,4.9,5.31,5.31,0,0,0,12,6.5,5.46,5.46,0,0,0,6.5,12Z\"/>\n",
              "  </svg>\n",
              "    </button>\n",
              "    <script>\n",
              "      (() => {\n",
              "      const buttonEl =\n",
              "        document.querySelector('#id_ac447fad-4857-411b-b6b9-baa36c7c5435 button.colab-df-generate');\n",
              "      buttonEl.style.display =\n",
              "        google.colab.kernel.accessAllowed ? 'block' : 'none';\n",
              "\n",
              "      buttonEl.onclick = () => {\n",
              "        google.colab.notebook.generateWithVariable('data');\n",
              "      }\n",
              "      })();\n",
              "    </script>\n",
              "  </div>\n",
              "\n",
              "    </div>\n",
              "  </div>\n"
            ]
          },
          "metadata": {},
          "execution_count": 273
        }
      ]
    },
    {
      "cell_type": "markdown",
      "source": [
        "\n",
        "\n",
        "> Feature Engineering\n",
        "\n"
      ],
      "metadata": {
        "id": "iuIkLJR2obSL"
      }
    },
    {
      "cell_type": "code",
      "source": [
        "data['DailyReturn'] = data['Adj Close'].pct_change() * 100\n",
        "data['MovingAverage'] = data['Adj Close'].rolling(window=5).mean()\n",
        "data['PriceToVolumeRatio'] = data['Adj Close']/data['Volume']\n",
        "data=data.dropna()\n",
        "data"
      ],
      "metadata": {
        "colab": {
          "base_uri": "https://localhost:8080/",
          "height": 617
        },
        "outputId": "3713e382-170e-4ac4-c3b7-e9a7f4074874",
        "id": "NPWn6jf_och2"
      },
      "execution_count": 274,
      "outputs": [
        {
          "output_type": "execute_result",
          "data": {
            "text/plain": [
              "           Date          Open      High       Low         Close     Adj Close  \\\n",
              "4    2022-12-23  16829.644531  0.009839  0.014555  16796.953125  16796.953125   \n",
              "5    2022-12-24  16796.976563  0.008396  0.014521  16847.755859  16847.755859   \n",
              "6    2022-12-25  16847.505859  0.008248  0.013115  16841.986328  16841.986328   \n",
              "7    2022-12-26  16842.250000  0.010369  0.015213  16919.804688  16919.804688   \n",
              "8    2022-12-27  16919.291016  0.011784  0.008959  16717.173828  16717.173828   \n",
              "..          ...           ...       ...       ...           ...           ...   \n",
              "361  2023-12-15  43028.250000  0.942383  0.928951  41929.757813  41929.757813   \n",
              "362  2023-12-16  41937.742188  0.927321  0.930058  42240.117188  42240.117188   \n",
              "363  2023-12-17  42236.109375  0.916442  0.913584  41364.664063  41364.664063   \n",
              "364  2023-12-18  41348.203125  0.929293  0.886250  42623.539063  42623.539063   \n",
              "365  2023-12-19  42641.511719  0.949265  0.934657  42150.578125  42150.578125   \n",
              "\n",
              "          Volume  DailyReturn  MovingAverage  PriceToVolumeRatio  \n",
              "4    15329265213    -0.198384   16758.162891            0.000001  \n",
              "5     9744636213     0.302452   16839.778125            0.000002  \n",
              "6    11656379938    -0.034245   16826.914453            0.000001  \n",
              "7    11886957804     0.462050   16847.368359            0.000001  \n",
              "8    15748580239    -1.197596   16824.734766            0.000001  \n",
              "..           ...          ...            ...                 ...  \n",
              "361  19639442462    -2.543268   42107.705469            0.000002  \n",
              "362  14386729590     0.740189   42306.962500            0.000003  \n",
              "363  16678702876    -2.072563   42289.850782            0.000002  \n",
              "364  25224642008     3.043358   42236.410157            0.000002  \n",
              "365  25344405504    -1.109624   42061.731250            0.000002  \n",
              "\n",
              "[362 rows x 10 columns]"
            ],
            "text/html": [
              "\n",
              "  <div id=\"df-351595f6-d79b-4b2c-a448-7d57550ba929\" class=\"colab-df-container\">\n",
              "    <div>\n",
              "<style scoped>\n",
              "    .dataframe tbody tr th:only-of-type {\n",
              "        vertical-align: middle;\n",
              "    }\n",
              "\n",
              "    .dataframe tbody tr th {\n",
              "        vertical-align: top;\n",
              "    }\n",
              "\n",
              "    .dataframe thead th {\n",
              "        text-align: right;\n",
              "    }\n",
              "</style>\n",
              "<table border=\"1\" class=\"dataframe\">\n",
              "  <thead>\n",
              "    <tr style=\"text-align: right;\">\n",
              "      <th></th>\n",
              "      <th>Date</th>\n",
              "      <th>Open</th>\n",
              "      <th>High</th>\n",
              "      <th>Low</th>\n",
              "      <th>Close</th>\n",
              "      <th>Adj Close</th>\n",
              "      <th>Volume</th>\n",
              "      <th>DailyReturn</th>\n",
              "      <th>MovingAverage</th>\n",
              "      <th>PriceToVolumeRatio</th>\n",
              "    </tr>\n",
              "  </thead>\n",
              "  <tbody>\n",
              "    <tr>\n",
              "      <th>4</th>\n",
              "      <td>2022-12-23</td>\n",
              "      <td>16829.644531</td>\n",
              "      <td>0.009839</td>\n",
              "      <td>0.014555</td>\n",
              "      <td>16796.953125</td>\n",
              "      <td>16796.953125</td>\n",
              "      <td>15329265213</td>\n",
              "      <td>-0.198384</td>\n",
              "      <td>16758.162891</td>\n",
              "      <td>0.000001</td>\n",
              "    </tr>\n",
              "    <tr>\n",
              "      <th>5</th>\n",
              "      <td>2022-12-24</td>\n",
              "      <td>16796.976563</td>\n",
              "      <td>0.008396</td>\n",
              "      <td>0.014521</td>\n",
              "      <td>16847.755859</td>\n",
              "      <td>16847.755859</td>\n",
              "      <td>9744636213</td>\n",
              "      <td>0.302452</td>\n",
              "      <td>16839.778125</td>\n",
              "      <td>0.000002</td>\n",
              "    </tr>\n",
              "    <tr>\n",
              "      <th>6</th>\n",
              "      <td>2022-12-25</td>\n",
              "      <td>16847.505859</td>\n",
              "      <td>0.008248</td>\n",
              "      <td>0.013115</td>\n",
              "      <td>16841.986328</td>\n",
              "      <td>16841.986328</td>\n",
              "      <td>11656379938</td>\n",
              "      <td>-0.034245</td>\n",
              "      <td>16826.914453</td>\n",
              "      <td>0.000001</td>\n",
              "    </tr>\n",
              "    <tr>\n",
              "      <th>7</th>\n",
              "      <td>2022-12-26</td>\n",
              "      <td>16842.250000</td>\n",
              "      <td>0.010369</td>\n",
              "      <td>0.015213</td>\n",
              "      <td>16919.804688</td>\n",
              "      <td>16919.804688</td>\n",
              "      <td>11886957804</td>\n",
              "      <td>0.462050</td>\n",
              "      <td>16847.368359</td>\n",
              "      <td>0.000001</td>\n",
              "    </tr>\n",
              "    <tr>\n",
              "      <th>8</th>\n",
              "      <td>2022-12-27</td>\n",
              "      <td>16919.291016</td>\n",
              "      <td>0.011784</td>\n",
              "      <td>0.008959</td>\n",
              "      <td>16717.173828</td>\n",
              "      <td>16717.173828</td>\n",
              "      <td>15748580239</td>\n",
              "      <td>-1.197596</td>\n",
              "      <td>16824.734766</td>\n",
              "      <td>0.000001</td>\n",
              "    </tr>\n",
              "    <tr>\n",
              "      <th>...</th>\n",
              "      <td>...</td>\n",
              "      <td>...</td>\n",
              "      <td>...</td>\n",
              "      <td>...</td>\n",
              "      <td>...</td>\n",
              "      <td>...</td>\n",
              "      <td>...</td>\n",
              "      <td>...</td>\n",
              "      <td>...</td>\n",
              "      <td>...</td>\n",
              "    </tr>\n",
              "    <tr>\n",
              "      <th>361</th>\n",
              "      <td>2023-12-15</td>\n",
              "      <td>43028.250000</td>\n",
              "      <td>0.942383</td>\n",
              "      <td>0.928951</td>\n",
              "      <td>41929.757813</td>\n",
              "      <td>41929.757813</td>\n",
              "      <td>19639442462</td>\n",
              "      <td>-2.543268</td>\n",
              "      <td>42107.705469</td>\n",
              "      <td>0.000002</td>\n",
              "    </tr>\n",
              "    <tr>\n",
              "      <th>362</th>\n",
              "      <td>2023-12-16</td>\n",
              "      <td>41937.742188</td>\n",
              "      <td>0.927321</td>\n",
              "      <td>0.930058</td>\n",
              "      <td>42240.117188</td>\n",
              "      <td>42240.117188</td>\n",
              "      <td>14386729590</td>\n",
              "      <td>0.740189</td>\n",
              "      <td>42306.962500</td>\n",
              "      <td>0.000003</td>\n",
              "    </tr>\n",
              "    <tr>\n",
              "      <th>363</th>\n",
              "      <td>2023-12-17</td>\n",
              "      <td>42236.109375</td>\n",
              "      <td>0.916442</td>\n",
              "      <td>0.913584</td>\n",
              "      <td>41364.664063</td>\n",
              "      <td>41364.664063</td>\n",
              "      <td>16678702876</td>\n",
              "      <td>-2.072563</td>\n",
              "      <td>42289.850782</td>\n",
              "      <td>0.000002</td>\n",
              "    </tr>\n",
              "    <tr>\n",
              "      <th>364</th>\n",
              "      <td>2023-12-18</td>\n",
              "      <td>41348.203125</td>\n",
              "      <td>0.929293</td>\n",
              "      <td>0.886250</td>\n",
              "      <td>42623.539063</td>\n",
              "      <td>42623.539063</td>\n",
              "      <td>25224642008</td>\n",
              "      <td>3.043358</td>\n",
              "      <td>42236.410157</td>\n",
              "      <td>0.000002</td>\n",
              "    </tr>\n",
              "    <tr>\n",
              "      <th>365</th>\n",
              "      <td>2023-12-19</td>\n",
              "      <td>42641.511719</td>\n",
              "      <td>0.949265</td>\n",
              "      <td>0.934657</td>\n",
              "      <td>42150.578125</td>\n",
              "      <td>42150.578125</td>\n",
              "      <td>25344405504</td>\n",
              "      <td>-1.109624</td>\n",
              "      <td>42061.731250</td>\n",
              "      <td>0.000002</td>\n",
              "    </tr>\n",
              "  </tbody>\n",
              "</table>\n",
              "<p>362 rows × 10 columns</p>\n",
              "</div>\n",
              "    <div class=\"colab-df-buttons\">\n",
              "\n",
              "  <div class=\"colab-df-container\">\n",
              "    <button class=\"colab-df-convert\" onclick=\"convertToInteractive('df-351595f6-d79b-4b2c-a448-7d57550ba929')\"\n",
              "            title=\"Convert this dataframe to an interactive table.\"\n",
              "            style=\"display:none;\">\n",
              "\n",
              "  <svg xmlns=\"http://www.w3.org/2000/svg\" height=\"24px\" viewBox=\"0 -960 960 960\">\n",
              "    <path d=\"M120-120v-720h720v720H120Zm60-500h600v-160H180v160Zm220 220h160v-160H400v160Zm0 220h160v-160H400v160ZM180-400h160v-160H180v160Zm440 0h160v-160H620v160ZM180-180h160v-160H180v160Zm440 0h160v-160H620v160Z\"/>\n",
              "  </svg>\n",
              "    </button>\n",
              "\n",
              "  <style>\n",
              "    .colab-df-container {\n",
              "      display:flex;\n",
              "      gap: 12px;\n",
              "    }\n",
              "\n",
              "    .colab-df-convert {\n",
              "      background-color: #E8F0FE;\n",
              "      border: none;\n",
              "      border-radius: 50%;\n",
              "      cursor: pointer;\n",
              "      display: none;\n",
              "      fill: #1967D2;\n",
              "      height: 32px;\n",
              "      padding: 0 0 0 0;\n",
              "      width: 32px;\n",
              "    }\n",
              "\n",
              "    .colab-df-convert:hover {\n",
              "      background-color: #E2EBFA;\n",
              "      box-shadow: 0px 1px 2px rgba(60, 64, 67, 0.3), 0px 1px 3px 1px rgba(60, 64, 67, 0.15);\n",
              "      fill: #174EA6;\n",
              "    }\n",
              "\n",
              "    .colab-df-buttons div {\n",
              "      margin-bottom: 4px;\n",
              "    }\n",
              "\n",
              "    [theme=dark] .colab-df-convert {\n",
              "      background-color: #3B4455;\n",
              "      fill: #D2E3FC;\n",
              "    }\n",
              "\n",
              "    [theme=dark] .colab-df-convert:hover {\n",
              "      background-color: #434B5C;\n",
              "      box-shadow: 0px 1px 3px 1px rgba(0, 0, 0, 0.15);\n",
              "      filter: drop-shadow(0px 1px 2px rgba(0, 0, 0, 0.3));\n",
              "      fill: #FFFFFF;\n",
              "    }\n",
              "  </style>\n",
              "\n",
              "    <script>\n",
              "      const buttonEl =\n",
              "        document.querySelector('#df-351595f6-d79b-4b2c-a448-7d57550ba929 button.colab-df-convert');\n",
              "      buttonEl.style.display =\n",
              "        google.colab.kernel.accessAllowed ? 'block' : 'none';\n",
              "\n",
              "      async function convertToInteractive(key) {\n",
              "        const element = document.querySelector('#df-351595f6-d79b-4b2c-a448-7d57550ba929');\n",
              "        const dataTable =\n",
              "          await google.colab.kernel.invokeFunction('convertToInteractive',\n",
              "                                                    [key], {});\n",
              "        if (!dataTable) return;\n",
              "\n",
              "        const docLinkHtml = 'Like what you see? Visit the ' +\n",
              "          '<a target=\"_blank\" href=https://colab.research.google.com/notebooks/data_table.ipynb>data table notebook</a>'\n",
              "          + ' to learn more about interactive tables.';\n",
              "        element.innerHTML = '';\n",
              "        dataTable['output_type'] = 'display_data';\n",
              "        await google.colab.output.renderOutput(dataTable, element);\n",
              "        const docLink = document.createElement('div');\n",
              "        docLink.innerHTML = docLinkHtml;\n",
              "        element.appendChild(docLink);\n",
              "      }\n",
              "    </script>\n",
              "  </div>\n",
              "\n",
              "\n",
              "<div id=\"df-b6223e34-ba6d-424a-8bde-432f2d203a03\">\n",
              "  <button class=\"colab-df-quickchart\" onclick=\"quickchart('df-b6223e34-ba6d-424a-8bde-432f2d203a03')\"\n",
              "            title=\"Suggest charts\"\n",
              "            style=\"display:none;\">\n",
              "\n",
              "<svg xmlns=\"http://www.w3.org/2000/svg\" height=\"24px\"viewBox=\"0 0 24 24\"\n",
              "     width=\"24px\">\n",
              "    <g>\n",
              "        <path d=\"M19 3H5c-1.1 0-2 .9-2 2v14c0 1.1.9 2 2 2h14c1.1 0 2-.9 2-2V5c0-1.1-.9-2-2-2zM9 17H7v-7h2v7zm4 0h-2V7h2v10zm4 0h-2v-4h2v4z\"/>\n",
              "    </g>\n",
              "</svg>\n",
              "  </button>\n",
              "\n",
              "<style>\n",
              "  .colab-df-quickchart {\n",
              "      --bg-color: #E8F0FE;\n",
              "      --fill-color: #1967D2;\n",
              "      --hover-bg-color: #E2EBFA;\n",
              "      --hover-fill-color: #174EA6;\n",
              "      --disabled-fill-color: #AAA;\n",
              "      --disabled-bg-color: #DDD;\n",
              "  }\n",
              "\n",
              "  [theme=dark] .colab-df-quickchart {\n",
              "      --bg-color: #3B4455;\n",
              "      --fill-color: #D2E3FC;\n",
              "      --hover-bg-color: #434B5C;\n",
              "      --hover-fill-color: #FFFFFF;\n",
              "      --disabled-bg-color: #3B4455;\n",
              "      --disabled-fill-color: #666;\n",
              "  }\n",
              "\n",
              "  .colab-df-quickchart {\n",
              "    background-color: var(--bg-color);\n",
              "    border: none;\n",
              "    border-radius: 50%;\n",
              "    cursor: pointer;\n",
              "    display: none;\n",
              "    fill: var(--fill-color);\n",
              "    height: 32px;\n",
              "    padding: 0;\n",
              "    width: 32px;\n",
              "  }\n",
              "\n",
              "  .colab-df-quickchart:hover {\n",
              "    background-color: var(--hover-bg-color);\n",
              "    box-shadow: 0 1px 2px rgba(60, 64, 67, 0.3), 0 1px 3px 1px rgba(60, 64, 67, 0.15);\n",
              "    fill: var(--button-hover-fill-color);\n",
              "  }\n",
              "\n",
              "  .colab-df-quickchart-complete:disabled,\n",
              "  .colab-df-quickchart-complete:disabled:hover {\n",
              "    background-color: var(--disabled-bg-color);\n",
              "    fill: var(--disabled-fill-color);\n",
              "    box-shadow: none;\n",
              "  }\n",
              "\n",
              "  .colab-df-spinner {\n",
              "    border: 2px solid var(--fill-color);\n",
              "    border-color: transparent;\n",
              "    border-bottom-color: var(--fill-color);\n",
              "    animation:\n",
              "      spin 1s steps(1) infinite;\n",
              "  }\n",
              "\n",
              "  @keyframes spin {\n",
              "    0% {\n",
              "      border-color: transparent;\n",
              "      border-bottom-color: var(--fill-color);\n",
              "      border-left-color: var(--fill-color);\n",
              "    }\n",
              "    20% {\n",
              "      border-color: transparent;\n",
              "      border-left-color: var(--fill-color);\n",
              "      border-top-color: var(--fill-color);\n",
              "    }\n",
              "    30% {\n",
              "      border-color: transparent;\n",
              "      border-left-color: var(--fill-color);\n",
              "      border-top-color: var(--fill-color);\n",
              "      border-right-color: var(--fill-color);\n",
              "    }\n",
              "    40% {\n",
              "      border-color: transparent;\n",
              "      border-right-color: var(--fill-color);\n",
              "      border-top-color: var(--fill-color);\n",
              "    }\n",
              "    60% {\n",
              "      border-color: transparent;\n",
              "      border-right-color: var(--fill-color);\n",
              "    }\n",
              "    80% {\n",
              "      border-color: transparent;\n",
              "      border-right-color: var(--fill-color);\n",
              "      border-bottom-color: var(--fill-color);\n",
              "    }\n",
              "    90% {\n",
              "      border-color: transparent;\n",
              "      border-bottom-color: var(--fill-color);\n",
              "    }\n",
              "  }\n",
              "</style>\n",
              "\n",
              "  <script>\n",
              "    async function quickchart(key) {\n",
              "      const quickchartButtonEl =\n",
              "        document.querySelector('#' + key + ' button');\n",
              "      quickchartButtonEl.disabled = true;  // To prevent multiple clicks.\n",
              "      quickchartButtonEl.classList.add('colab-df-spinner');\n",
              "      try {\n",
              "        const charts = await google.colab.kernel.invokeFunction(\n",
              "            'suggestCharts', [key], {});\n",
              "      } catch (error) {\n",
              "        console.error('Error during call to suggestCharts:', error);\n",
              "      }\n",
              "      quickchartButtonEl.classList.remove('colab-df-spinner');\n",
              "      quickchartButtonEl.classList.add('colab-df-quickchart-complete');\n",
              "    }\n",
              "    (() => {\n",
              "      let quickchartButtonEl =\n",
              "        document.querySelector('#df-b6223e34-ba6d-424a-8bde-432f2d203a03 button');\n",
              "      quickchartButtonEl.style.display =\n",
              "        google.colab.kernel.accessAllowed ? 'block' : 'none';\n",
              "    })();\n",
              "  </script>\n",
              "</div>\n",
              "\n",
              "  <div id=\"id_3fa01e48-edf1-4e7a-b8d7-d02d0edbfe88\">\n",
              "    <style>\n",
              "      .colab-df-generate {\n",
              "        background-color: #E8F0FE;\n",
              "        border: none;\n",
              "        border-radius: 50%;\n",
              "        cursor: pointer;\n",
              "        display: none;\n",
              "        fill: #1967D2;\n",
              "        height: 32px;\n",
              "        padding: 0 0 0 0;\n",
              "        width: 32px;\n",
              "      }\n",
              "\n",
              "      .colab-df-generate:hover {\n",
              "        background-color: #E2EBFA;\n",
              "        box-shadow: 0px 1px 2px rgba(60, 64, 67, 0.3), 0px 1px 3px 1px rgba(60, 64, 67, 0.15);\n",
              "        fill: #174EA6;\n",
              "      }\n",
              "\n",
              "      [theme=dark] .colab-df-generate {\n",
              "        background-color: #3B4455;\n",
              "        fill: #D2E3FC;\n",
              "      }\n",
              "\n",
              "      [theme=dark] .colab-df-generate:hover {\n",
              "        background-color: #434B5C;\n",
              "        box-shadow: 0px 1px 3px 1px rgba(0, 0, 0, 0.15);\n",
              "        filter: drop-shadow(0px 1px 2px rgba(0, 0, 0, 0.3));\n",
              "        fill: #FFFFFF;\n",
              "      }\n",
              "    </style>\n",
              "    <button class=\"colab-df-generate\" onclick=\"generateWithVariable('data')\"\n",
              "            title=\"Generate code using this dataframe.\"\n",
              "            style=\"display:none;\">\n",
              "\n",
              "  <svg xmlns=\"http://www.w3.org/2000/svg\" height=\"24px\"viewBox=\"0 0 24 24\"\n",
              "       width=\"24px\">\n",
              "    <path d=\"M7,19H8.4L18.45,9,17,7.55,7,17.6ZM5,21V16.75L18.45,3.32a2,2,0,0,1,2.83,0l1.4,1.43a1.91,1.91,0,0,1,.58,1.4,1.91,1.91,0,0,1-.58,1.4L9.25,21ZM18.45,9,17,7.55Zm-12,3A5.31,5.31,0,0,0,4.9,8.1,5.31,5.31,0,0,0,1,6.5,5.31,5.31,0,0,0,4.9,4.9,5.31,5.31,0,0,0,6.5,1,5.31,5.31,0,0,0,8.1,4.9,5.31,5.31,0,0,0,12,6.5,5.46,5.46,0,0,0,6.5,12Z\"/>\n",
              "  </svg>\n",
              "    </button>\n",
              "    <script>\n",
              "      (() => {\n",
              "      const buttonEl =\n",
              "        document.querySelector('#id_3fa01e48-edf1-4e7a-b8d7-d02d0edbfe88 button.colab-df-generate');\n",
              "      buttonEl.style.display =\n",
              "        google.colab.kernel.accessAllowed ? 'block' : 'none';\n",
              "\n",
              "      buttonEl.onclick = () => {\n",
              "        google.colab.notebook.generateWithVariable('data');\n",
              "      }\n",
              "      })();\n",
              "    </script>\n",
              "  </div>\n",
              "\n",
              "    </div>\n",
              "  </div>\n"
            ]
          },
          "metadata": {},
          "execution_count": 274
        }
      ]
    },
    {
      "cell_type": "markdown",
      "source": [
        "> Data Splitting and Model Training"
      ],
      "metadata": {
        "id": "TD0RbvMvofJ6"
      }
    },
    {
      "cell_type": "code",
      "source": [
        "features = ['Open', 'High', 'Low', 'Volume', 'DailyReturn', 'MovingAverage', 'PriceToVolumeRatio']\n",
        "X = data[features]\n",
        "Y = data['Close']\n",
        "print(X.columns)\n",
        "print(Y.name)"
      ],
      "metadata": {
        "colab": {
          "base_uri": "https://localhost:8080/"
        },
        "outputId": "50e786de-3d3f-4967-dce7-a90173d9fd88",
        "id": "iDZYRDtCogr4"
      },
      "execution_count": 275,
      "outputs": [
        {
          "output_type": "stream",
          "name": "stdout",
          "text": [
            "Index(['Open', 'High', 'Low', 'Volume', 'DailyReturn', 'MovingAverage',\n",
            "       'PriceToVolumeRatio'],\n",
            "      dtype='object')\n",
            "Close\n"
          ]
        }
      ]
    },
    {
      "cell_type": "code",
      "source": [
        "imputer = SimpleImputer(strategy='mean')\n",
        "X = imputer.fit_transform(X)"
      ],
      "metadata": {
        "id": "sL5B47kqoihl"
      },
      "execution_count": 276,
      "outputs": []
    },
    {
      "cell_type": "code",
      "source": [
        "X_train, X_test, y_train, y_test = train_test_split(X,Y, test_size=0.2, random_state=42)\n",
        "print(\"X_train shape:\", X_train.shape)\n",
        "print(\"X_test shape:\", X_test.shape)\n",
        "print(\"y_train shape:\", y_train.shape)\n",
        "print(\"y_test shape:\", y_test.shape)"
      ],
      "metadata": {
        "colab": {
          "base_uri": "https://localhost:8080/"
        },
        "outputId": "e0ac14b3-d83d-4345-81d7-9807b3c3c028",
        "id": "N7BlEJWiopKs"
      },
      "execution_count": 277,
      "outputs": [
        {
          "output_type": "stream",
          "name": "stdout",
          "text": [
            "X_train shape: (289, 7)\n",
            "X_test shape: (73, 7)\n",
            "y_train shape: (289,)\n",
            "y_test shape: (73,)\n"
          ]
        }
      ]
    },
    {
      "cell_type": "code",
      "source": [
        "model = DecisionTreeRegressor()"
      ],
      "metadata": {
        "id": "xnnXtXMhorU9"
      },
      "execution_count": 278,
      "outputs": []
    },
    {
      "cell_type": "markdown",
      "source": [
        "> Model Evaluation"
      ],
      "metadata": {
        "id": "qep42NotowgA"
      }
    },
    {
      "cell_type": "code",
      "source": [
        "model.fit(X_train, y_train)\n",
        "predictions = model.predict(X_test)\n",
        "predictions"
      ],
      "metadata": {
        "colab": {
          "base_uri": "https://localhost:8080/"
        },
        "outputId": "a31671b3-f6d7-4bbb-cbfb-287847b96f48",
        "id": "sPpStAhHoyUR"
      },
      "execution_count": 279,
      "outputs": [
        {
          "output_type": "execute_result",
          "data": {
            "text/plain": [
              "array([27132.007813, 22777.625   , 17091.144531, 36693.125   ,\n",
              "       24327.642578, 30485.699219, 21651.183594, 27493.285156,\n",
              "       26579.390625, 29178.679688, 25940.167969, 22934.431641,\n",
              "       29397.714844, 23947.492188, 27591.384766, 30485.699219,\n",
              "       25800.724609, 29170.347656, 34938.242188, 27530.785156,\n",
              "       16547.496094, 30688.164063, 22353.349609, 27494.707031,\n",
              "       37831.085938, 30391.646484, 29397.714844, 26608.693359,\n",
              "       26930.638672, 42623.539063, 20688.78125 , 29473.787109,\n",
              "       23475.466797, 43746.445313, 26539.673828, 30342.265625,\n",
              "       23522.871094, 21086.792969, 28328.341797, 25576.394531,\n",
              "       26106.150391, 39476.332031, 21819.039063, 27297.265625,\n",
              "       30399.066406, 42623.539063, 28038.675781, 23947.492188,\n",
              "       16717.173828, 22934.431641, 29429.591797, 27968.839844,\n",
              "       27021.546875, 29792.015625, 25833.34375 , 37880.582031,\n",
              "       28044.140625, 16836.736328, 27297.265625, 19909.574219,\n",
              "       37476.957031, 26008.462891, 21086.792969, 22840.138672,\n",
              "       26334.818359, 22219.769531, 29178.679688, 28033.5625  ,\n",
              "       28033.5625  , 24436.353516, 27583.677734, 37796.792969,\n",
              "       29792.015625])"
            ]
          },
          "metadata": {},
          "execution_count": 279
        }
      ]
    },
    {
      "cell_type": "code",
      "source": [
        "mse = mean_squared_error(y_test, predictions)\n",
        "print(f'Mean Squared Error: {mse}')"
      ],
      "metadata": {
        "colab": {
          "base_uri": "https://localhost:8080/"
        },
        "outputId": "1f9bb704-e3f8-4d19-c94e-77fde823cbba",
        "id": "xf3YDu0po8ek"
      },
      "execution_count": 280,
      "outputs": [
        {
          "output_type": "stream",
          "name": "stdout",
          "text": [
            "Mean Squared Error: 113528.4115859737\n"
          ]
        }
      ]
    },
    {
      "cell_type": "code",
      "source": [
        " # Calculate Mean Absolute Error\n",
        "mae = mean_absolute_error(y_test, predictions)\n",
        "print(f'Mean Absolute Error: {mae:.2f}')"
      ],
      "metadata": {
        "colab": {
          "base_uri": "https://localhost:8080/"
        },
        "id": "_PyIJvp5KRkz",
        "outputId": "d67f8506-3ef9-4d30-d1cd-3150734ba589"
      },
      "execution_count": 281,
      "outputs": [
        {
          "output_type": "stream",
          "name": "stdout",
          "text": [
            "Mean Absolute Error: 250.19\n"
          ]
        }
      ]
    },
    {
      "cell_type": "code",
      "source": [
        "# Calculate R-squared\n",
        "r2 = r2_score(y_test, predictions)\n",
        "print(f'R-squared: {r2:.2f}')"
      ],
      "metadata": {
        "colab": {
          "base_uri": "https://localhost:8080/"
        },
        "id": "igL0pErzKYXM",
        "outputId": "966f8dc4-2da7-4ab7-8478-e9026fbd1568"
      },
      "execution_count": 282,
      "outputs": [
        {
          "output_type": "stream",
          "name": "stdout",
          "text": [
            "R-squared: 1.00\n"
          ]
        }
      ]
    },
    {
      "cell_type": "code",
      "source": [
        "df_results = pd.DataFrame({'Date': pd.to_datetime(y_test.index, format='%Y-%m-%d'),\n",
        "                           'Actual_Close': y_test.values,\n",
        "                           'Predicted_Close': predictions})\n",
        "\n",
        "# Display the new DataFrame\n",
        "print(df_results)"
      ],
      "metadata": {
        "colab": {
          "base_uri": "https://localhost:8080/"
        },
        "outputId": "a9d356e3-c5e6-4e52-fca5-ccf02f70d099",
        "id": "EpWAKn1Oo-VS"
      },
      "execution_count": 283,
      "outputs": [
        {
          "output_type": "stream",
          "name": "stdout",
          "text": [
            "                            Date  Actual_Close  Predicted_Close\n",
            "0  1970-01-01 00:00:00.000000167  27119.066406     27132.007813\n",
            "1  1970-01-01 00:00:00.000000037  23117.859375     22777.625000\n",
            "2  1970-01-01 00:00:00.000000019  16955.078125     17091.144531\n",
            "3  1970-01-01 00:00:00.000000326  37313.968750     36693.125000\n",
            "4  1970-01-01 00:00:00.000000061  24641.277344     24327.642578\n",
            "..                           ...           ...              ...\n",
            "68 1970-01-01 00:00:00.000000301  28519.466797     28033.562500\n",
            "69 1970-01-01 00:00:00.000000086  24375.960938     24436.353516\n",
            "70 1970-01-01 00:00:00.000000098  27139.888672     27583.677734\n",
            "71 1970-01-01 00:00:00.000000345  37858.492188     37796.792969\n",
            "72 1970-01-01 00:00:00.000000307  29993.896484     29792.015625\n",
            "\n",
            "[73 rows x 3 columns]\n"
          ]
        }
      ]
    },
    {
      "cell_type": "code",
      "source": [
        "df_results[['Actual_Close', 'Predicted_Close']].plot()"
      ],
      "metadata": {
        "colab": {
          "base_uri": "https://localhost:8080/",
          "height": 451
        },
        "outputId": "c1db1314-6b39-4c78-a083-f6ec88676a7e",
        "id": "xT-XIW_spA2M"
      },
      "execution_count": 284,
      "outputs": [
        {
          "output_type": "execute_result",
          "data": {
            "text/plain": [
              "<Axes: >"
            ]
          },
          "metadata": {},
          "execution_count": 284
        },
        {
          "output_type": "display_data",
          "data": {
            "text/plain": [
              "<Figure size 640x480 with 1 Axes>"
            ],
            "image/png": "[encoded data removed]"
          },
          "metadata": {}
        }
      ]
    },
    {
      "cell_type": "code",
      "source": [
        "plt.figure(figsize=(8, 6))\n",
        "plt.scatter(y_test, predictions, color='blue', alpha=0.5)\n",
        "plt.plot([min(y_test), max(y_test)], [min(y_test), max(y_test)],linestyle='--', color='red', linewidth=2)\n",
        "plt.title('Actual vs. Predicted Values')\n",
        "plt.xlabel('Actual Values')\n",
        "plt.ylabel('Predicted Values')\n",
        "plt.show()"
      ],
      "metadata": {
        "colab": {
          "base_uri": "https://localhost:8080/",
          "height": 564
        },
        "id": "pnk3IMqaLtaj",
        "outputId": "fe8357f5-f836-4b3b-d2b7-9687caffb300"
      },
      "execution_count": 285,
      "outputs": [
        {
          "output_type": "display_data",
          "data": {
            "text/plain": [
              "<Figure size 800x600 with 1 Axes>"
            ],
            "image/png": "[encoded data removed]"
          },
          "metadata": {}
        }
      ]
    },
    {
      "cell_type": "markdown",
      "source": [
        "***Binance Dataset***\n",
        "\n",
        "> In this project, I select Binance datasets which play a crucial role as they form the foundation for training and evaluating machine learning models i.e decision tree for stock market price prediction. Dataset represents historical stock market data for different assets, and understanding their characteristics is vital for building effective predictive models.\n",
        "\n",
        "\n",
        "> Features of dataset\n",
        "* Date: Essential for organizing data chronologically and identifying trends over time.\n",
        "* Open: The opening price of Datasets on a given day.\n",
        "* High: The highest price of Datasets on a given day.\n",
        "* Low: The lowest price of Datasets on a given day.\n",
        "* Close: The closing price of Datasets on a given day.\n",
        "* Adj Close: The adjusted closing price of Datasets on a given day, considering dividends, stock splits, etc.\n",
        "* Volume: The volume of Datasets traded on a given day.\n",
        "\n",
        "\n",
        "\n",
        "\n",
        "\n"
      ],
      "metadata": {
        "id": "roxrB--frBm4"
      }
    },
    {
      "cell_type": "markdown",
      "source": [
        "*Load the dataset*"
      ],
      "metadata": {
        "id": "BzZgEJslrBnC"
      }
    },
    {
      "cell_type": "code",
      "source": [
        "data = pd.read_csv('BNB-USD.csv')\n",
        "print(data)"
      ],
      "metadata": {
        "colab": {
          "base_uri": "https://localhost:8080/"
        },
        "outputId": "24e93aa1-8011-4189-da9c-34470120788e",
        "id": "vbnVUnElrBnD"
      },
      "execution_count": 286,
      "outputs": [
        {
          "output_type": "stream",
          "name": "stdout",
          "text": [
            "           Date        Open        High         Low       Close   Adj Close  \\\n",
            "0    2022-12-19  251.242676  252.933014  238.650787  240.657806  240.657806   \n",
            "1    2022-12-20  240.668228  252.628662  239.801437  251.744537  251.744537   \n",
            "2    2022-12-21  251.694321  251.694321  245.757248  246.046982  246.046982   \n",
            "3    2022-12-22  246.068329  248.032028  240.483200  245.890625  245.890625   \n",
            "4    2022-12-23  245.894135  248.274719  244.452942  246.148178  246.148178   \n",
            "..          ...         ...         ...         ...         ...         ...   \n",
            "361  2023-12-15  253.517441  253.549713  243.867371  244.898438  244.898438   \n",
            "362  2023-12-16  244.896423  248.086380  243.450653  244.350967  244.350967   \n",
            "363  2023-12-17  244.350708  244.432175  239.230637  239.308289  239.308289   \n",
            "364  2023-12-18  239.247147  241.348434  232.752808  241.348434  241.348434   \n",
            "365  2023-12-19  241.347687  253.778625  241.347687  253.105240  253.105240   \n",
            "\n",
            "         Volume  \n",
            "0     751196285  \n",
            "1     667866377  \n",
            "2     479296549  \n",
            "3     543367184  \n",
            "4     388929772  \n",
            "..          ...  \n",
            "361   769388533  \n",
            "362   651447427  \n",
            "363   650163942  \n",
            "364   871708609  \n",
            "365  1226686976  \n",
            "\n",
            "[366 rows x 7 columns]\n"
          ]
        }
      ]
    },
    {
      "cell_type": "markdown",
      "source": [
        "*Quick peek at functions:*"
      ],
      "metadata": {
        "id": "rAVeBIULrBnD"
      }
    },
    {
      "cell_type": "code",
      "source": [
        "data.shape"
      ],
      "metadata": {
        "colab": {
          "base_uri": "https://localhost:8080/"
        },
        "outputId": "0b9d7c06-afa0-496d-cd90-fa334e5a3a54",
        "id": "PcX7dByQrBnD"
      },
      "execution_count": 287,
      "outputs": [
        {
          "output_type": "execute_result",
          "data": {
            "text/plain": [
              "(366, 7)"
            ]
          },
          "metadata": {},
          "execution_count": 287
        }
      ]
    },
    {
      "cell_type": "code",
      "source": [
        "data.columns"
      ],
      "metadata": {
        "colab": {
          "base_uri": "https://localhost:8080/"
        },
        "outputId": "309716a8-9ac4-40ee-9d22-842c2535aaa8",
        "id": "hPAjeXOnrBnD"
      },
      "execution_count": 288,
      "outputs": [
        {
          "output_type": "execute_result",
          "data": {
            "text/plain": [
              "Index(['Date', 'Open', 'High', 'Low', 'Close', 'Adj Close', 'Volume'], dtype='object')"
            ]
          },
          "metadata": {},
          "execution_count": 288
        }
      ]
    },
    {
      "cell_type": "code",
      "source": [
        "print(data.describe())"
      ],
      "metadata": {
        "colab": {
          "base_uri": "https://localhost:8080/"
        },
        "outputId": "dcf1e115-1730-4dd5-e543-4e5755ddb490",
        "id": "J3ejA8RkrBnE"
      },
      "execution_count": 289,
      "outputs": [
        {
          "output_type": "stream",
          "name": "stdout",
          "text": [
            "             Open        High         Low       Close   Adj Close  \\\n",
            "count  366.000000  366.000000  366.000000  366.000000  366.000000   \n",
            "mean   265.041061  269.089091  261.058403  265.037719  265.037719   \n",
            "std     41.667309   42.656486   40.717153   41.663551   41.663551   \n",
            "min    205.225800  206.659103  203.655441  205.229416  205.229416   \n",
            "25%    231.900402  236.389728  228.605893  231.913357  231.913357   \n",
            "50%    246.355537  251.505004  242.926544  246.388756  246.388756   \n",
            "75%    308.557312  313.169899  304.356903  308.555268  308.555268   \n",
            "max    348.175751  350.072296  338.260620  348.220917  348.220917   \n",
            "\n",
            "             Volume  \n",
            "count  3.660000e+02  \n",
            "mean   5.566887e+08  \n",
            "std    2.657211e+08  \n",
            "min    2.038465e+08  \n",
            "25%    3.765235e+08  \n",
            "50%    4.849198e+08  \n",
            "75%    6.678265e+08  \n",
            "max    2.480554e+09  \n"
          ]
        }
      ]
    },
    {
      "cell_type": "code",
      "source": [
        "print(data.info())"
      ],
      "metadata": {
        "colab": {
          "base_uri": "https://localhost:8080/"
        },
        "outputId": "cd2047d1-f9f1-44e7-cd0b-74fb6025073c",
        "id": "poP71Y8NrBnE"
      },
      "execution_count": 290,
      "outputs": [
        {
          "output_type": "stream",
          "name": "stdout",
          "text": [
            "<class 'pandas.core.frame.DataFrame'>\n",
            "RangeIndex: 366 entries, 0 to 365\n",
            "Data columns (total 7 columns):\n",
            " #   Column     Non-Null Count  Dtype  \n",
            "---  ------     --------------  -----  \n",
            " 0   Date       366 non-null    object \n",
            " 1   Open       366 non-null    float64\n",
            " 2   High       366 non-null    float64\n",
            " 3   Low        366 non-null    float64\n",
            " 4   Close      366 non-null    float64\n",
            " 5   Adj Close  366 non-null    float64\n",
            " 6   Volume     366 non-null    int64  \n",
            "dtypes: float64(5), int64(1), object(1)\n",
            "memory usage: 20.1+ KB\n",
            "None\n"
          ]
        }
      ]
    },
    {
      "cell_type": "markdown",
      "source": [
        "*Data Preprocessing*\n",
        "\n",
        "> Handling Missing Values:\n",
        "\n"
      ],
      "metadata": {
        "id": "W6kZTdXzrBnE"
      }
    },
    {
      "cell_type": "code",
      "source": [
        "missing_values = data.isnull().sum()\n",
        "print(\"Missing Values:\\n\", missing_values)\n",
        "data = data.dropna()\n",
        "print(\"Missing Values After Handling:\\n\", data.isnull().sum())"
      ],
      "metadata": {
        "colab": {
          "base_uri": "https://localhost:8080/"
        },
        "outputId": "73f148f9-7590-4209-d218-3795d56f2358",
        "id": "QW31W7SirBnE"
      },
      "execution_count": 291,
      "outputs": [
        {
          "output_type": "stream",
          "name": "stdout",
          "text": [
            "Missing Values:\n",
            " Date         0\n",
            "Open         0\n",
            "High         0\n",
            "Low          0\n",
            "Close        0\n",
            "Adj Close    0\n",
            "Volume       0\n",
            "dtype: int64\n",
            "Missing Values After Handling:\n",
            " Date         0\n",
            "Open         0\n",
            "High         0\n",
            "Low          0\n",
            "Close        0\n",
            "Adj Close    0\n",
            "Volume       0\n",
            "dtype: int64\n"
          ]
        }
      ]
    },
    {
      "cell_type": "markdown",
      "source": [
        "\n",
        "\n",
        "> Feature Scaling\n",
        "\n"
      ],
      "metadata": {
        "id": "qEde2ztTrBnE"
      }
    },
    {
      "cell_type": "code",
      "source": [
        "from sklearn.preprocessing import MinMaxScaler\n",
        "scaler = MinMaxScaler()\n",
        "data[['High']] = scaler.fit_transform(data[['High']])\n",
        "data[['Low']] = scaler.fit_transform(data[['Low']])\n",
        "data"
      ],
      "metadata": {
        "colab": {
          "base_uri": "https://localhost:8080/",
          "height": 424
        },
        "outputId": "e5e267cb-b738-4eca-96c1-a644c8250f35",
        "id": "0It3XFMarBnF"
      },
      "execution_count": 292,
      "outputs": [
        {
          "output_type": "execute_result",
          "data": {
            "text/plain": [
              "           Date        Open      High       Low       Close   Adj Close  \\\n",
              "0    2022-12-19  251.242676  0.322661  0.259985  240.657806  240.657806   \n",
              "1    2022-12-20  240.668228  0.320539  0.268533  251.744537  251.744537   \n",
              "2    2022-12-21  251.694321  0.314024  0.312780  246.046982  246.046982   \n",
              "3    2022-12-22  246.068329  0.288488  0.273598  245.890625  245.890625   \n",
              "4    2022-12-23  245.894135  0.290180  0.303090  246.148178  246.148178   \n",
              "..          ...         ...       ...       ...         ...         ...   \n",
              "361  2023-12-15  253.517441  0.326962  0.298740  244.898438  244.898438   \n",
              "362  2023-12-16  244.896423  0.288867  0.295644  244.350967  244.350967   \n",
              "363  2023-12-17  244.350708  0.263386  0.264293  239.308289  239.308289   \n",
              "364  2023-12-18  239.247147  0.241884  0.216168  241.348434  241.348434   \n",
              "365  2023-12-19  241.347687  0.328558  0.280021  253.105240  253.105240   \n",
              "\n",
              "         Volume  \n",
              "0     751196285  \n",
              "1     667866377  \n",
              "2     479296549  \n",
              "3     543367184  \n",
              "4     388929772  \n",
              "..          ...  \n",
              "361   769388533  \n",
              "362   651447427  \n",
              "363   650163942  \n",
              "364   871708609  \n",
              "365  1226686976  \n",
              "\n",
              "[366 rows x 7 columns]"
            ],
            "text/html": [
              "\n",
              "  <div id=\"df-719d3476-f0db-4dbf-9ed7-db7cd43bd2b4\" class=\"colab-df-container\">\n",
              "    <div>\n",
              "<style scoped>\n",
              "    .dataframe tbody tr th:only-of-type {\n",
              "        vertical-align: middle;\n",
              "    }\n",
              "\n",
              "    .dataframe tbody tr th {\n",
              "        vertical-align: top;\n",
              "    }\n",
              "\n",
              "    .dataframe thead th {\n",
              "        text-align: right;\n",
              "    }\n",
              "</style>\n",
              "<table border=\"1\" class=\"dataframe\">\n",
              "  <thead>\n",
              "    <tr style=\"text-align: right;\">\n",
              "      <th></th>\n",
              "      <th>Date</th>\n",
              "      <th>Open</th>\n",
              "      <th>High</th>\n",
              "      <th>Low</th>\n",
              "      <th>Close</th>\n",
              "      <th>Adj Close</th>\n",
              "      <th>Volume</th>\n",
              "    </tr>\n",
              "  </thead>\n",
              "  <tbody>\n",
              "    <tr>\n",
              "      <th>0</th>\n",
              "      <td>2022-12-19</td>\n",
              "      <td>251.242676</td>\n",
              "      <td>0.322661</td>\n",
              "      <td>0.259985</td>\n",
              "      <td>240.657806</td>\n",
              "      <td>240.657806</td>\n",
              "      <td>751196285</td>\n",
              "    </tr>\n",
              "    <tr>\n",
              "      <th>1</th>\n",
              "      <td>2022-12-20</td>\n",
              "      <td>240.668228</td>\n",
              "      <td>0.320539</td>\n",
              "      <td>0.268533</td>\n",
              "      <td>251.744537</td>\n",
              "      <td>251.744537</td>\n",
              "      <td>667866377</td>\n",
              "    </tr>\n",
              "    <tr>\n",
              "      <th>2</th>\n",
              "      <td>2022-12-21</td>\n",
              "      <td>251.694321</td>\n",
              "      <td>0.314024</td>\n",
              "      <td>0.312780</td>\n",
              "      <td>246.046982</td>\n",
              "      <td>246.046982</td>\n",
              "      <td>479296549</td>\n",
              "    </tr>\n",
              "    <tr>\n",
              "      <th>3</th>\n",
              "      <td>2022-12-22</td>\n",
              "      <td>246.068329</td>\n",
              "      <td>0.288488</td>\n",
              "      <td>0.273598</td>\n",
              "      <td>245.890625</td>\n",
              "      <td>245.890625</td>\n",
              "      <td>543367184</td>\n",
              "    </tr>\n",
              "    <tr>\n",
              "      <th>4</th>\n",
              "      <td>2022-12-23</td>\n",
              "      <td>245.894135</td>\n",
              "      <td>0.290180</td>\n",
              "      <td>0.303090</td>\n",
              "      <td>246.148178</td>\n",
              "      <td>246.148178</td>\n",
              "      <td>388929772</td>\n",
              "    </tr>\n",
              "    <tr>\n",
              "      <th>...</th>\n",
              "      <td>...</td>\n",
              "      <td>...</td>\n",
              "      <td>...</td>\n",
              "      <td>...</td>\n",
              "      <td>...</td>\n",
              "      <td>...</td>\n",
              "      <td>...</td>\n",
              "    </tr>\n",
              "    <tr>\n",
              "      <th>361</th>\n",
              "      <td>2023-12-15</td>\n",
              "      <td>253.517441</td>\n",
              "      <td>0.326962</td>\n",
              "      <td>0.298740</td>\n",
              "      <td>244.898438</td>\n",
              "      <td>244.898438</td>\n",
              "      <td>769388533</td>\n",
              "    </tr>\n",
              "    <tr>\n",
              "      <th>362</th>\n",
              "      <td>2023-12-16</td>\n",
              "      <td>244.896423</td>\n",
              "      <td>0.288867</td>\n",
              "      <td>0.295644</td>\n",
              "      <td>244.350967</td>\n",
              "      <td>244.350967</td>\n",
              "      <td>651447427</td>\n",
              "    </tr>\n",
              "    <tr>\n",
              "      <th>363</th>\n",
              "      <td>2023-12-17</td>\n",
              "      <td>244.350708</td>\n",
              "      <td>0.263386</td>\n",
              "      <td>0.264293</td>\n",
              "      <td>239.308289</td>\n",
              "      <td>239.308289</td>\n",
              "      <td>650163942</td>\n",
              "    </tr>\n",
              "    <tr>\n",
              "      <th>364</th>\n",
              "      <td>2023-12-18</td>\n",
              "      <td>239.247147</td>\n",
              "      <td>0.241884</td>\n",
              "      <td>0.216168</td>\n",
              "      <td>241.348434</td>\n",
              "      <td>241.348434</td>\n",
              "      <td>871708609</td>\n",
              "    </tr>\n",
              "    <tr>\n",
              "      <th>365</th>\n",
              "      <td>2023-12-19</td>\n",
              "      <td>241.347687</td>\n",
              "      <td>0.328558</td>\n",
              "      <td>0.280021</td>\n",
              "      <td>253.105240</td>\n",
              "      <td>253.105240</td>\n",
              "      <td>1226686976</td>\n",
              "    </tr>\n",
              "  </tbody>\n",
              "</table>\n",
              "<p>366 rows × 7 columns</p>\n",
              "</div>\n",
              "    <div class=\"colab-df-buttons\">\n",
              "\n",
              "  <div class=\"colab-df-container\">\n",
              "    <button class=\"colab-df-convert\" onclick=\"convertToInteractive('df-719d3476-f0db-4dbf-9ed7-db7cd43bd2b4')\"\n",
              "            title=\"Convert this dataframe to an interactive table.\"\n",
              "            style=\"display:none;\">\n",
              "\n",
              "  <svg xmlns=\"http://www.w3.org/2000/svg\" height=\"24px\" viewBox=\"0 -960 960 960\">\n",
              "    <path d=\"M120-120v-720h720v720H120Zm60-500h600v-160H180v160Zm220 220h160v-160H400v160Zm0 220h160v-160H400v160ZM180-400h160v-160H180v160Zm440 0h160v-160H620v160ZM180-180h160v-160H180v160Zm440 0h160v-160H620v160Z\"/>\n",
              "  </svg>\n",
              "    </button>\n",
              "\n",
              "  <style>\n",
              "    .colab-df-container {\n",
              "      display:flex;\n",
              "      gap: 12px;\n",
              "    }\n",
              "\n",
              "    .colab-df-convert {\n",
              "      background-color: #E8F0FE;\n",
              "      border: none;\n",
              "      border-radius: 50%;\n",
              "      cursor: pointer;\n",
              "      display: none;\n",
              "      fill: #1967D2;\n",
              "      height: 32px;\n",
              "      padding: 0 0 0 0;\n",
              "      width: 32px;\n",
              "    }\n",
              "\n",
              "    .colab-df-convert:hover {\n",
              "      background-color: #E2EBFA;\n",
              "      box-shadow: 0px 1px 2px rgba(60, 64, 67, 0.3), 0px 1px 3px 1px rgba(60, 64, 67, 0.15);\n",
              "      fill: #174EA6;\n",
              "    }\n",
              "\n",
              "    .colab-df-buttons div {\n",
              "      margin-bottom: 4px;\n",
              "    }\n",
              "\n",
              "    [theme=dark] .colab-df-convert {\n",
              "      background-color: #3B4455;\n",
              "      fill: #D2E3FC;\n",
              "    }\n",
              "\n",
              "    [theme=dark] .colab-df-convert:hover {\n",
              "      background-color: #434B5C;\n",
              "      box-shadow: 0px 1px 3px 1px rgba(0, 0, 0, 0.15);\n",
              "      filter: drop-shadow(0px 1px 2px rgba(0, 0, 0, 0.3));\n",
              "      fill: #FFFFFF;\n",
              "    }\n",
              "  </style>\n",
              "\n",
              "    <script>\n",
              "      const buttonEl =\n",
              "        document.querySelector('#df-719d3476-f0db-4dbf-9ed7-db7cd43bd2b4 button.colab-df-convert');\n",
              "      buttonEl.style.display =\n",
              "        google.colab.kernel.accessAllowed ? 'block' : 'none';\n",
              "\n",
              "      async function convertToInteractive(key) {\n",
              "        const element = document.querySelector('#df-719d3476-f0db-4dbf-9ed7-db7cd43bd2b4');\n",
              "        const dataTable =\n",
              "          await google.colab.kernel.invokeFunction('convertToInteractive',\n",
              "                                                    [key], {});\n",
              "        if (!dataTable) return;\n",
              "\n",
              "        const docLinkHtml = 'Like what you see? Visit the ' +\n",
              "          '<a target=\"_blank\" href=https://colab.research.google.com/notebooks/data_table.ipynb>data table notebook</a>'\n",
              "          + ' to learn more about interactive tables.';\n",
              "        element.innerHTML = '';\n",
              "        dataTable['output_type'] = 'display_data';\n",
              "        await google.colab.output.renderOutput(dataTable, element);\n",
              "        const docLink = document.createElement('div');\n",
              "        docLink.innerHTML = docLinkHtml;\n",
              "        element.appendChild(docLink);\n",
              "      }\n",
              "    </script>\n",
              "  </div>\n",
              "\n",
              "\n",
              "<div id=\"df-6607d65b-4416-4b6b-86c2-6f3bf5e3d2f8\">\n",
              "  <button class=\"colab-df-quickchart\" onclick=\"quickchart('df-6607d65b-4416-4b6b-86c2-6f3bf5e3d2f8')\"\n",
              "            title=\"Suggest charts\"\n",
              "            style=\"display:none;\">\n",
              "\n",
              "<svg xmlns=\"http://www.w3.org/2000/svg\" height=\"24px\"viewBox=\"0 0 24 24\"\n",
              "     width=\"24px\">\n",
              "    <g>\n",
              "        <path d=\"M19 3H5c-1.1 0-2 .9-2 2v14c0 1.1.9 2 2 2h14c1.1 0 2-.9 2-2V5c0-1.1-.9-2-2-2zM9 17H7v-7h2v7zm4 0h-2V7h2v10zm4 0h-2v-4h2v4z\"/>\n",
              "    </g>\n",
              "</svg>\n",
              "  </button>\n",
              "\n",
              "<style>\n",
              "  .colab-df-quickchart {\n",
              "      --bg-color: #E8F0FE;\n",
              "      --fill-color: #1967D2;\n",
              "      --hover-bg-color: #E2EBFA;\n",
              "      --hover-fill-color: #174EA6;\n",
              "      --disabled-fill-color: #AAA;\n",
              "      --disabled-bg-color: #DDD;\n",
              "  }\n",
              "\n",
              "  [theme=dark] .colab-df-quickchart {\n",
              "      --bg-color: #3B4455;\n",
              "      --fill-color: #D2E3FC;\n",
              "      --hover-bg-color: #434B5C;\n",
              "      --hover-fill-color: #FFFFFF;\n",
              "      --disabled-bg-color: #3B4455;\n",
              "      --disabled-fill-color: #666;\n",
              "  }\n",
              "\n",
              "  .colab-df-quickchart {\n",
              "    background-color: var(--bg-color);\n",
              "    border: none;\n",
              "    border-radius: 50%;\n",
              "    cursor: pointer;\n",
              "    display: none;\n",
              "    fill: var(--fill-color);\n",
              "    height: 32px;\n",
              "    padding: 0;\n",
              "    width: 32px;\n",
              "  }\n",
              "\n",
              "  .colab-df-quickchart:hover {\n",
              "    background-color: var(--hover-bg-color);\n",
              "    box-shadow: 0 1px 2px rgba(60, 64, 67, 0.3), 0 1px 3px 1px rgba(60, 64, 67, 0.15);\n",
              "    fill: var(--button-hover-fill-color);\n",
              "  }\n",
              "\n",
              "  .colab-df-quickchart-complete:disabled,\n",
              "  .colab-df-quickchart-complete:disabled:hover {\n",
              "    background-color: var(--disabled-bg-color);\n",
              "    fill: var(--disabled-fill-color);\n",
              "    box-shadow: none;\n",
              "  }\n",
              "\n",
              "  .colab-df-spinner {\n",
              "    border: 2px solid var(--fill-color);\n",
              "    border-color: transparent;\n",
              "    border-bottom-color: var(--fill-color);\n",
              "    animation:\n",
              "      spin 1s steps(1) infinite;\n",
              "  }\n",
              "\n",
              "  @keyframes spin {\n",
              "    0% {\n",
              "      border-color: transparent;\n",
              "      border-bottom-color: var(--fill-color);\n",
              "      border-left-color: var(--fill-color);\n",
              "    }\n",
              "    20% {\n",
              "      border-color: transparent;\n",
              "      border-left-color: var(--fill-color);\n",
              "      border-top-color: var(--fill-color);\n",
              "    }\n",
              "    30% {\n",
              "      border-color: transparent;\n",
              "      border-left-color: var(--fill-color);\n",
              "      border-top-color: var(--fill-color);\n",
              "      border-right-color: var(--fill-color);\n",
              "    }\n",
              "    40% {\n",
              "      border-color: transparent;\n",
              "      border-right-color: var(--fill-color);\n",
              "      border-top-color: var(--fill-color);\n",
              "    }\n",
              "    60% {\n",
              "      border-color: transparent;\n",
              "      border-right-color: var(--fill-color);\n",
              "    }\n",
              "    80% {\n",
              "      border-color: transparent;\n",
              "      border-right-color: var(--fill-color);\n",
              "      border-bottom-color: var(--fill-color);\n",
              "    }\n",
              "    90% {\n",
              "      border-color: transparent;\n",
              "      border-bottom-color: var(--fill-color);\n",
              "    }\n",
              "  }\n",
              "</style>\n",
              "\n",
              "  <script>\n",
              "    async function quickchart(key) {\n",
              "      const quickchartButtonEl =\n",
              "        document.querySelector('#' + key + ' button');\n",
              "      quickchartButtonEl.disabled = true;  // To prevent multiple clicks.\n",
              "      quickchartButtonEl.classList.add('colab-df-spinner');\n",
              "      try {\n",
              "        const charts = await google.colab.kernel.invokeFunction(\n",
              "            'suggestCharts', [key], {});\n",
              "      } catch (error) {\n",
              "        console.error('Error during call to suggestCharts:', error);\n",
              "      }\n",
              "      quickchartButtonEl.classList.remove('colab-df-spinner');\n",
              "      quickchartButtonEl.classList.add('colab-df-quickchart-complete');\n",
              "    }\n",
              "    (() => {\n",
              "      let quickchartButtonEl =\n",
              "        document.querySelector('#df-6607d65b-4416-4b6b-86c2-6f3bf5e3d2f8 button');\n",
              "      quickchartButtonEl.style.display =\n",
              "        google.colab.kernel.accessAllowed ? 'block' : 'none';\n",
              "    })();\n",
              "  </script>\n",
              "</div>\n",
              "\n",
              "  <div id=\"id_da88517d-5977-40ae-ba69-25375b1f9b69\">\n",
              "    <style>\n",
              "      .colab-df-generate {\n",
              "        background-color: #E8F0FE;\n",
              "        border: none;\n",
              "        border-radius: 50%;\n",
              "        cursor: pointer;\n",
              "        display: none;\n",
              "        fill: #1967D2;\n",
              "        height: 32px;\n",
              "        padding: 0 0 0 0;\n",
              "        width: 32px;\n",
              "      }\n",
              "\n",
              "      .colab-df-generate:hover {\n",
              "        background-color: #E2EBFA;\n",
              "        box-shadow: 0px 1px 2px rgba(60, 64, 67, 0.3), 0px 1px 3px 1px rgba(60, 64, 67, 0.15);\n",
              "        fill: #174EA6;\n",
              "      }\n",
              "\n",
              "      [theme=dark] .colab-df-generate {\n",
              "        background-color: #3B4455;\n",
              "        fill: #D2E3FC;\n",
              "      }\n",
              "\n",
              "      [theme=dark] .colab-df-generate:hover {\n",
              "        background-color: #434B5C;\n",
              "        box-shadow: 0px 1px 3px 1px rgba(0, 0, 0, 0.15);\n",
              "        filter: drop-shadow(0px 1px 2px rgba(0, 0, 0, 0.3));\n",
              "        fill: #FFFFFF;\n",
              "      }\n",
              "    </style>\n",
              "    <button class=\"colab-df-generate\" onclick=\"generateWithVariable('data')\"\n",
              "            title=\"Generate code using this dataframe.\"\n",
              "            style=\"display:none;\">\n",
              "\n",
              "  <svg xmlns=\"http://www.w3.org/2000/svg\" height=\"24px\"viewBox=\"0 0 24 24\"\n",
              "       width=\"24px\">\n",
              "    <path d=\"M7,19H8.4L18.45,9,17,7.55,7,17.6ZM5,21V16.75L18.45,3.32a2,2,0,0,1,2.83,0l1.4,1.43a1.91,1.91,0,0,1,.58,1.4,1.91,1.91,0,0,1-.58,1.4L9.25,21ZM18.45,9,17,7.55Zm-12,3A5.31,5.31,0,0,0,4.9,8.1,5.31,5.31,0,0,0,1,6.5,5.31,5.31,0,0,0,4.9,4.9,5.31,5.31,0,0,0,6.5,1,5.31,5.31,0,0,0,8.1,4.9,5.31,5.31,0,0,0,12,6.5,5.46,5.46,0,0,0,6.5,12Z\"/>\n",
              "  </svg>\n",
              "    </button>\n",
              "    <script>\n",
              "      (() => {\n",
              "      const buttonEl =\n",
              "        document.querySelector('#id_da88517d-5977-40ae-ba69-25375b1f9b69 button.colab-df-generate');\n",
              "      buttonEl.style.display =\n",
              "        google.colab.kernel.accessAllowed ? 'block' : 'none';\n",
              "\n",
              "      buttonEl.onclick = () => {\n",
              "        google.colab.notebook.generateWithVariable('data');\n",
              "      }\n",
              "      })();\n",
              "    </script>\n",
              "  </div>\n",
              "\n",
              "    </div>\n",
              "  </div>\n"
            ]
          },
          "metadata": {},
          "execution_count": 292
        }
      ]
    },
    {
      "cell_type": "markdown",
      "source": [
        "\n",
        "\n",
        "> Feature Engineering\n",
        "\n"
      ],
      "metadata": {
        "id": "Vv2PUADWrBnF"
      }
    },
    {
      "cell_type": "code",
      "source": [
        "data['DailyReturn'] = data['Adj Close'].pct_change() * 100\n",
        "data['MovingAverage'] = data['Adj Close'].rolling(window=5).mean()\n",
        "data['PriceToVolumeRatio'] = data['Adj Close']/data['Volume']\n",
        "data=data.dropna()\n",
        "data"
      ],
      "metadata": {
        "colab": {
          "base_uri": "https://localhost:8080/",
          "height": 617
        },
        "outputId": "bcea39d3-ef3b-4958-8449-ae1e9143b548",
        "id": "NegMySVZrBnF"
      },
      "execution_count": 293,
      "outputs": [
        {
          "output_type": "execute_result",
          "data": {
            "text/plain": [
              "           Date        Open      High       Low       Close   Adj Close  \\\n",
              "4    2022-12-23  245.894135  0.290180  0.303090  246.148178  246.148178   \n",
              "5    2022-12-24  246.151642  0.275586  0.299376  244.635529  244.635529   \n",
              "6    2022-12-25  244.636398  0.272443  0.282642  243.141495  243.141495   \n",
              "7    2022-12-26  243.147934  0.264528  0.286534  244.198288  244.198288   \n",
              "8    2022-12-27  244.202652  0.286031  0.289043  246.596680  246.596680   \n",
              "..          ...         ...       ...       ...         ...         ...   \n",
              "361  2023-12-15  253.517441  0.326962  0.298740  244.898438  244.898438   \n",
              "362  2023-12-16  244.896423  0.288867  0.295644  244.350967  244.350967   \n",
              "363  2023-12-17  244.350708  0.263386  0.264293  239.308289  239.308289   \n",
              "364  2023-12-18  239.247147  0.241884  0.216168  241.348434  241.348434   \n",
              "365  2023-12-19  241.347687  0.328558  0.280021  253.105240  253.105240   \n",
              "\n",
              "         Volume  DailyReturn  MovingAverage  PriceToVolumeRatio  \n",
              "4     388929772     0.104743     246.097626        6.328859e-07  \n",
              "5     280627376    -0.614528     246.893170        8.717451e-07  \n",
              "6     298063868    -0.610718     245.172562        8.157362e-07  \n",
              "7     276115280     0.434641     244.802823        8.844070e-07  \n",
              "8     391342277     0.982149     244.944034        6.301304e-07  \n",
              "..          ...          ...            ...                 ...  \n",
              "361   769388533    -3.408825     250.355765        3.183027e-07  \n",
              "362   651447427    -0.223550     249.941785        3.750893e-07  \n",
              "363   650163942    -2.063703     246.904447        3.680738e-07  \n",
              "364   871708609     0.852517     244.689468        2.768682e-07  \n",
              "365  1226686976     4.871300     244.602274        2.063324e-07  \n",
              "\n",
              "[362 rows x 10 columns]"
            ],
            "text/html": [
              "\n",
              "  <div id=\"df-26bdf5b2-c100-438f-92cd-9392138cbe2d\" class=\"colab-df-container\">\n",
              "    <div>\n",
              "<style scoped>\n",
              "    .dataframe tbody tr th:only-of-type {\n",
              "        vertical-align: middle;\n",
              "    }\n",
              "\n",
              "    .dataframe tbody tr th {\n",
              "        vertical-align: top;\n",
              "    }\n",
              "\n",
              "    .dataframe thead th {\n",
              "        text-align: right;\n",
              "    }\n",
              "</style>\n",
              "<table border=\"1\" class=\"dataframe\">\n",
              "  <thead>\n",
              "    <tr style=\"text-align: right;\">\n",
              "      <th></th>\n",
              "      <th>Date</th>\n",
              "      <th>Open</th>\n",
              "      <th>High</th>\n",
              "      <th>Low</th>\n",
              "      <th>Close</th>\n",
              "      <th>Adj Close</th>\n",
              "      <th>Volume</th>\n",
              "      <th>DailyReturn</th>\n",
              "      <th>MovingAverage</th>\n",
              "      <th>PriceToVolumeRatio</th>\n",
              "    </tr>\n",
              "  </thead>\n",
              "  <tbody>\n",
              "    <tr>\n",
              "      <th>4</th>\n",
              "      <td>2022-12-23</td>\n",
              "      <td>245.894135</td>\n",
              "      <td>0.290180</td>\n",
              "      <td>0.303090</td>\n",
              "      <td>246.148178</td>\n",
              "      <td>246.148178</td>\n",
              "      <td>388929772</td>\n",
              "      <td>0.104743</td>\n",
              "      <td>246.097626</td>\n",
              "      <td>6.328859e-07</td>\n",
              "    </tr>\n",
              "    <tr>\n",
              "      <th>5</th>\n",
              "      <td>2022-12-24</td>\n",
              "      <td>246.151642</td>\n",
              "      <td>0.275586</td>\n",
              "      <td>0.299376</td>\n",
              "      <td>244.635529</td>\n",
              "      <td>244.635529</td>\n",
              "      <td>280627376</td>\n",
              "      <td>-0.614528</td>\n",
              "      <td>246.893170</td>\n",
              "      <td>8.717451e-07</td>\n",
              "    </tr>\n",
              "    <tr>\n",
              "      <th>6</th>\n",
              "      <td>2022-12-25</td>\n",
              "      <td>244.636398</td>\n",
              "      <td>0.272443</td>\n",
              "      <td>0.282642</td>\n",
              "      <td>243.141495</td>\n",
              "      <td>243.141495</td>\n",
              "      <td>298063868</td>\n",
              "      <td>-0.610718</td>\n",
              "      <td>245.172562</td>\n",
              "      <td>8.157362e-07</td>\n",
              "    </tr>\n",
              "    <tr>\n",
              "      <th>7</th>\n",
              "      <td>2022-12-26</td>\n",
              "      <td>243.147934</td>\n",
              "      <td>0.264528</td>\n",
              "      <td>0.286534</td>\n",
              "      <td>244.198288</td>\n",
              "      <td>244.198288</td>\n",
              "      <td>276115280</td>\n",
              "      <td>0.434641</td>\n",
              "      <td>244.802823</td>\n",
              "      <td>8.844070e-07</td>\n",
              "    </tr>\n",
              "    <tr>\n",
              "      <th>8</th>\n",
              "      <td>2022-12-27</td>\n",
              "      <td>244.202652</td>\n",
              "      <td>0.286031</td>\n",
              "      <td>0.289043</td>\n",
              "      <td>246.596680</td>\n",
              "      <td>246.596680</td>\n",
              "      <td>391342277</td>\n",
              "      <td>0.982149</td>\n",
              "      <td>244.944034</td>\n",
              "      <td>6.301304e-07</td>\n",
              "    </tr>\n",
              "    <tr>\n",
              "      <th>...</th>\n",
              "      <td>...</td>\n",
              "      <td>...</td>\n",
              "      <td>...</td>\n",
              "      <td>...</td>\n",
              "      <td>...</td>\n",
              "      <td>...</td>\n",
              "      <td>...</td>\n",
              "      <td>...</td>\n",
              "      <td>...</td>\n",
              "      <td>...</td>\n",
              "    </tr>\n",
              "    <tr>\n",
              "      <th>361</th>\n",
              "      <td>2023-12-15</td>\n",
              "      <td>253.517441</td>\n",
              "      <td>0.326962</td>\n",
              "      <td>0.298740</td>\n",
              "      <td>244.898438</td>\n",
              "      <td>244.898438</td>\n",
              "      <td>769388533</td>\n",
              "      <td>-3.408825</td>\n",
              "      <td>250.355765</td>\n",
              "      <td>3.183027e-07</td>\n",
              "    </tr>\n",
              "    <tr>\n",
              "      <th>362</th>\n",
              "      <td>2023-12-16</td>\n",
              "      <td>244.896423</td>\n",
              "      <td>0.288867</td>\n",
              "      <td>0.295644</td>\n",
              "      <td>244.350967</td>\n",
              "      <td>244.350967</td>\n",
              "      <td>651447427</td>\n",
              "      <td>-0.223550</td>\n",
              "      <td>249.941785</td>\n",
              "      <td>3.750893e-07</td>\n",
              "    </tr>\n",
              "    <tr>\n",
              "      <th>363</th>\n",
              "      <td>2023-12-17</td>\n",
              "      <td>244.350708</td>\n",
              "      <td>0.263386</td>\n",
              "      <td>0.264293</td>\n",
              "      <td>239.308289</td>\n",
              "      <td>239.308289</td>\n",
              "      <td>650163942</td>\n",
              "      <td>-2.063703</td>\n",
              "      <td>246.904447</td>\n",
              "      <td>3.680738e-07</td>\n",
              "    </tr>\n",
              "    <tr>\n",
              "      <th>364</th>\n",
              "      <td>2023-12-18</td>\n",
              "      <td>239.247147</td>\n",
              "      <td>0.241884</td>\n",
              "      <td>0.216168</td>\n",
              "      <td>241.348434</td>\n",
              "      <td>241.348434</td>\n",
              "      <td>871708609</td>\n",
              "      <td>0.852517</td>\n",
              "      <td>244.689468</td>\n",
              "      <td>2.768682e-07</td>\n",
              "    </tr>\n",
              "    <tr>\n",
              "      <th>365</th>\n",
              "      <td>2023-12-19</td>\n",
              "      <td>241.347687</td>\n",
              "      <td>0.328558</td>\n",
              "      <td>0.280021</td>\n",
              "      <td>253.105240</td>\n",
              "      <td>253.105240</td>\n",
              "      <td>1226686976</td>\n",
              "      <td>4.871300</td>\n",
              "      <td>244.602274</td>\n",
              "      <td>2.063324e-07</td>\n",
              "    </tr>\n",
              "  </tbody>\n",
              "</table>\n",
              "<p>362 rows × 10 columns</p>\n",
              "</div>\n",
              "    <div class=\"colab-df-buttons\">\n",
              "\n",
              "  <div class=\"colab-df-container\">\n",
              "    <button class=\"colab-df-convert\" onclick=\"convertToInteractive('df-26bdf5b2-c100-438f-92cd-9392138cbe2d')\"\n",
              "            title=\"Convert this dataframe to an interactive table.\"\n",
              "            style=\"display:none;\">\n",
              "\n",
              "  <svg xmlns=\"http://www.w3.org/2000/svg\" height=\"24px\" viewBox=\"0 -960 960 960\">\n",
              "    <path d=\"M120-120v-720h720v720H120Zm60-500h600v-160H180v160Zm220 220h160v-160H400v160Zm0 220h160v-160H400v160ZM180-400h160v-160H180v160Zm440 0h160v-160H620v160ZM180-180h160v-160H180v160Zm440 0h160v-160H620v160Z\"/>\n",
              "  </svg>\n",
              "    </button>\n",
              "\n",
              "  <style>\n",
              "    .colab-df-container {\n",
              "      display:flex;\n",
              "      gap: 12px;\n",
              "    }\n",
              "\n",
              "    .colab-df-convert {\n",
              "      background-color: #E8F0FE;\n",
              "      border: none;\n",
              "      border-radius: 50%;\n",
              "      cursor: pointer;\n",
              "      display: none;\n",
              "      fill: #1967D2;\n",
              "      height: 32px;\n",
              "      padding: 0 0 0 0;\n",
              "      width: 32px;\n",
              "    }\n",
              "\n",
              "    .colab-df-convert:hover {\n",
              "      background-color: #E2EBFA;\n",
              "      box-shadow: 0px 1px 2px rgba(60, 64, 67, 0.3), 0px 1px 3px 1px rgba(60, 64, 67, 0.15);\n",
              "      fill: #174EA6;\n",
              "    }\n",
              "\n",
              "    .colab-df-buttons div {\n",
              "      margin-bottom: 4px;\n",
              "    }\n",
              "\n",
              "    [theme=dark] .colab-df-convert {\n",
              "      background-color: #3B4455;\n",
              "      fill: #D2E3FC;\n",
              "    }\n",
              "\n",
              "    [theme=dark] .colab-df-convert:hover {\n",
              "      background-color: #434B5C;\n",
              "      box-shadow: 0px 1px 3px 1px rgba(0, 0, 0, 0.15);\n",
              "      filter: drop-shadow(0px 1px 2px rgba(0, 0, 0, 0.3));\n",
              "      fill: #FFFFFF;\n",
              "    }\n",
              "  </style>\n",
              "\n",
              "    <script>\n",
              "      const buttonEl =\n",
              "        document.querySelector('#df-26bdf5b2-c100-438f-92cd-9392138cbe2d button.colab-df-convert');\n",
              "      buttonEl.style.display =\n",
              "        google.colab.kernel.accessAllowed ? 'block' : 'none';\n",
              "\n",
              "      async function convertToInteractive(key) {\n",
              "        const element = document.querySelector('#df-26bdf5b2-c100-438f-92cd-9392138cbe2d');\n",
              "        const dataTable =\n",
              "          await google.colab.kernel.invokeFunction('convertToInteractive',\n",
              "                                                    [key], {});\n",
              "        if (!dataTable) return;\n",
              "\n",
              "        const docLinkHtml = 'Like what you see? Visit the ' +\n",
              "          '<a target=\"_blank\" href=https://colab.research.google.com/notebooks/data_table.ipynb>data table notebook</a>'\n",
              "          + ' to learn more about interactive tables.';\n",
              "        element.innerHTML = '';\n",
              "        dataTable['output_type'] = 'display_data';\n",
              "        await google.colab.output.renderOutput(dataTable, element);\n",
              "        const docLink = document.createElement('div');\n",
              "        docLink.innerHTML = docLinkHtml;\n",
              "        element.appendChild(docLink);\n",
              "      }\n",
              "    </script>\n",
              "  </div>\n",
              "\n",
              "\n",
              "<div id=\"df-923efaaa-e60e-4bdb-9cbc-6004ad5ecd1b\">\n",
              "  <button class=\"colab-df-quickchart\" onclick=\"quickchart('df-923efaaa-e60e-4bdb-9cbc-6004ad5ecd1b')\"\n",
              "            title=\"Suggest charts\"\n",
              "            style=\"display:none;\">\n",
              "\n",
              "<svg xmlns=\"http://www.w3.org/2000/svg\" height=\"24px\"viewBox=\"0 0 24 24\"\n",
              "     width=\"24px\">\n",
              "    <g>\n",
              "        <path d=\"M19 3H5c-1.1 0-2 .9-2 2v14c0 1.1.9 2 2 2h14c1.1 0 2-.9 2-2V5c0-1.1-.9-2-2-2zM9 17H7v-7h2v7zm4 0h-2V7h2v10zm4 0h-2v-4h2v4z\"/>\n",
              "    </g>\n",
              "</svg>\n",
              "  </button>\n",
              "\n",
              "<style>\n",
              "  .colab-df-quickchart {\n",
              "      --bg-color: #E8F0FE;\n",
              "      --fill-color: #1967D2;\n",
              "      --hover-bg-color: #E2EBFA;\n",
              "      --hover-fill-color: #174EA6;\n",
              "      --disabled-fill-color: #AAA;\n",
              "      --disabled-bg-color: #DDD;\n",
              "  }\n",
              "\n",
              "  [theme=dark] .colab-df-quickchart {\n",
              "      --bg-color: #3B4455;\n",
              "      --fill-color: #D2E3FC;\n",
              "      --hover-bg-color: #434B5C;\n",
              "      --hover-fill-color: #FFFFFF;\n",
              "      --disabled-bg-color: #3B4455;\n",
              "      --disabled-fill-color: #666;\n",
              "  }\n",
              "\n",
              "  .colab-df-quickchart {\n",
              "    background-color: var(--bg-color);\n",
              "    border: none;\n",
              "    border-radius: 50%;\n",
              "    cursor: pointer;\n",
              "    display: none;\n",
              "    fill: var(--fill-color);\n",
              "    height: 32px;\n",
              "    padding: 0;\n",
              "    width: 32px;\n",
              "  }\n",
              "\n",
              "  .colab-df-quickchart:hover {\n",
              "    background-color: var(--hover-bg-color);\n",
              "    box-shadow: 0 1px 2px rgba(60, 64, 67, 0.3), 0 1px 3px 1px rgba(60, 64, 67, 0.15);\n",
              "    fill: var(--button-hover-fill-color);\n",
              "  }\n",
              "\n",
              "  .colab-df-quickchart-complete:disabled,\n",
              "  .colab-df-quickchart-complete:disabled:hover {\n",
              "    background-color: var(--disabled-bg-color);\n",
              "    fill: var(--disabled-fill-color);\n",
              "    box-shadow: none;\n",
              "  }\n",
              "\n",
              "  .colab-df-spinner {\n",
              "    border: 2px solid var(--fill-color);\n",
              "    border-color: transparent;\n",
              "    border-bottom-color: var(--fill-color);\n",
              "    animation:\n",
              "      spin 1s steps(1) infinite;\n",
              "  }\n",
              "\n",
              "  @keyframes spin {\n",
              "    0% {\n",
              "      border-color: transparent;\n",
              "      border-bottom-color: var(--fill-color);\n",
              "      border-left-color: var(--fill-color);\n",
              "    }\n",
              "    20% {\n",
              "      border-color: transparent;\n",
              "      border-left-color: var(--fill-color);\n",
              "      border-top-color: var(--fill-color);\n",
              "    }\n",
              "    30% {\n",
              "      border-color: transparent;\n",
              "      border-left-color: var(--fill-color);\n",
              "      border-top-color: var(--fill-color);\n",
              "      border-right-color: var(--fill-color);\n",
              "    }\n",
              "    40% {\n",
              "      border-color: transparent;\n",
              "      border-right-color: var(--fill-color);\n",
              "      border-top-color: var(--fill-color);\n",
              "    }\n",
              "    60% {\n",
              "      border-color: transparent;\n",
              "      border-right-color: var(--fill-color);\n",
              "    }\n",
              "    80% {\n",
              "      border-color: transparent;\n",
              "      border-right-color: var(--fill-color);\n",
              "      border-bottom-color: var(--fill-color);\n",
              "    }\n",
              "    90% {\n",
              "      border-color: transparent;\n",
              "      border-bottom-color: var(--fill-color);\n",
              "    }\n",
              "  }\n",
              "</style>\n",
              "\n",
              "  <script>\n",
              "    async function quickchart(key) {\n",
              "      const quickchartButtonEl =\n",
              "        document.querySelector('#' + key + ' button');\n",
              "      quickchartButtonEl.disabled = true;  // To prevent multiple clicks.\n",
              "      quickchartButtonEl.classList.add('colab-df-spinner');\n",
              "      try {\n",
              "        const charts = await google.colab.kernel.invokeFunction(\n",
              "            'suggestCharts', [key], {});\n",
              "      } catch (error) {\n",
              "        console.error('Error during call to suggestCharts:', error);\n",
              "      }\n",
              "      quickchartButtonEl.classList.remove('colab-df-spinner');\n",
              "      quickchartButtonEl.classList.add('colab-df-quickchart-complete');\n",
              "    }\n",
              "    (() => {\n",
              "      let quickchartButtonEl =\n",
              "        document.querySelector('#df-923efaaa-e60e-4bdb-9cbc-6004ad5ecd1b button');\n",
              "      quickchartButtonEl.style.display =\n",
              "        google.colab.kernel.accessAllowed ? 'block' : 'none';\n",
              "    })();\n",
              "  </script>\n",
              "</div>\n",
              "\n",
              "  <div id=\"id_8d938554-f05a-43f1-8e87-47f830db6d3f\">\n",
              "    <style>\n",
              "      .colab-df-generate {\n",
              "        background-color: #E8F0FE;\n",
              "        border: none;\n",
              "        border-radius: 50%;\n",
              "        cursor: pointer;\n",
              "        display: none;\n",
              "        fill: #1967D2;\n",
              "        height: 32px;\n",
              "        padding: 0 0 0 0;\n",
              "        width: 32px;\n",
              "      }\n",
              "\n",
              "      .colab-df-generate:hover {\n",
              "        background-color: #E2EBFA;\n",
              "        box-shadow: 0px 1px 2px rgba(60, 64, 67, 0.3), 0px 1px 3px 1px rgba(60, 64, 67, 0.15);\n",
              "        fill: #174EA6;\n",
              "      }\n",
              "\n",
              "      [theme=dark] .colab-df-generate {\n",
              "        background-color: #3B4455;\n",
              "        fill: #D2E3FC;\n",
              "      }\n",
              "\n",
              "      [theme=dark] .colab-df-generate:hover {\n",
              "        background-color: #434B5C;\n",
              "        box-shadow: 0px 1px 3px 1px rgba(0, 0, 0, 0.15);\n",
              "        filter: drop-shadow(0px 1px 2px rgba(0, 0, 0, 0.3));\n",
              "        fill: #FFFFFF;\n",
              "      }\n",
              "    </style>\n",
              "    <button class=\"colab-df-generate\" onclick=\"generateWithVariable('data')\"\n",
              "            title=\"Generate code using this dataframe.\"\n",
              "            style=\"display:none;\">\n",
              "\n",
              "  <svg xmlns=\"http://www.w3.org/2000/svg\" height=\"24px\"viewBox=\"0 0 24 24\"\n",
              "       width=\"24px\">\n",
              "    <path d=\"M7,19H8.4L18.45,9,17,7.55,7,17.6ZM5,21V16.75L18.45,3.32a2,2,0,0,1,2.83,0l1.4,1.43a1.91,1.91,0,0,1,.58,1.4,1.91,1.91,0,0,1-.58,1.4L9.25,21ZM18.45,9,17,7.55Zm-12,3A5.31,5.31,0,0,0,4.9,8.1,5.31,5.31,0,0,0,1,6.5,5.31,5.31,0,0,0,4.9,4.9,5.31,5.31,0,0,0,6.5,1,5.31,5.31,0,0,0,8.1,4.9,5.31,5.31,0,0,0,12,6.5,5.46,5.46,0,0,0,6.5,12Z\"/>\n",
              "  </svg>\n",
              "    </button>\n",
              "    <script>\n",
              "      (() => {\n",
              "      const buttonEl =\n",
              "        document.querySelector('#id_8d938554-f05a-43f1-8e87-47f830db6d3f button.colab-df-generate');\n",
              "      buttonEl.style.display =\n",
              "        google.colab.kernel.accessAllowed ? 'block' : 'none';\n",
              "\n",
              "      buttonEl.onclick = () => {\n",
              "        google.colab.notebook.generateWithVariable('data');\n",
              "      }\n",
              "      })();\n",
              "    </script>\n",
              "  </div>\n",
              "\n",
              "    </div>\n",
              "  </div>\n"
            ]
          },
          "metadata": {},
          "execution_count": 293
        }
      ]
    },
    {
      "cell_type": "markdown",
      "source": [
        "> Data Splitting and Model Training"
      ],
      "metadata": {
        "id": "F7uIT3M_rBnG"
      }
    },
    {
      "cell_type": "code",
      "source": [
        "features = ['Open', 'High', 'Low', 'Volume', 'DailyReturn', 'MovingAverage', 'PriceToVolumeRatio']\n",
        "X = data[features]\n",
        "Y = data['Close']\n",
        "print(X.columns)\n",
        "print(Y.name)"
      ],
      "metadata": {
        "colab": {
          "base_uri": "https://localhost:8080/"
        },
        "outputId": "537dd986-9639-4f67-d5a2-d2635e4d91fc",
        "id": "LdYA3h9erBnG"
      },
      "execution_count": 294,
      "outputs": [
        {
          "output_type": "stream",
          "name": "stdout",
          "text": [
            "Index(['Open', 'High', 'Low', 'Volume', 'DailyReturn', 'MovingAverage',\n",
            "       'PriceToVolumeRatio'],\n",
            "      dtype='object')\n",
            "Close\n"
          ]
        }
      ]
    },
    {
      "cell_type": "code",
      "source": [
        "imputer = SimpleImputer(strategy='mean')\n",
        "X = imputer.fit_transform(X)"
      ],
      "metadata": {
        "id": "47U8NypJrBnG"
      },
      "execution_count": 295,
      "outputs": []
    },
    {
      "cell_type": "code",
      "source": [
        "X_train, X_test, y_train, y_test = train_test_split(X,Y, test_size=0.2, random_state=42)\n",
        "print(\"X_train shape:\", X_train.shape)\n",
        "print(\"X_test shape:\", X_test.shape)\n",
        "print(\"y_train shape:\", y_train.shape)\n",
        "print(\"y_test shape:\", y_test.shape)"
      ],
      "metadata": {
        "colab": {
          "base_uri": "https://localhost:8080/"
        },
        "outputId": "7a4455f2-0509-4c83-e316-2ef42960660c",
        "id": "qekXAmZ9rBnG"
      },
      "execution_count": 296,
      "outputs": [
        {
          "output_type": "stream",
          "name": "stdout",
          "text": [
            "X_train shape: (289, 7)\n",
            "X_test shape: (73, 7)\n",
            "y_train shape: (289,)\n",
            "y_test shape: (73,)\n"
          ]
        }
      ]
    },
    {
      "cell_type": "code",
      "source": [
        "model = DecisionTreeRegressor()"
      ],
      "metadata": {
        "id": "kLUPiUCFrBnG"
      },
      "execution_count": 297,
      "outputs": []
    },
    {
      "cell_type": "markdown",
      "source": [
        "> Model Evaluation"
      ],
      "metadata": {
        "id": "bRNMMoasrBnH"
      }
    },
    {
      "cell_type": "code",
      "source": [
        "model.fit(X_train, y_train)\n",
        "predictions = model.predict(X_test)\n",
        "predictions"
      ],
      "metadata": {
        "colab": {
          "base_uri": "https://localhost:8080/"
        },
        "outputId": "6be7f0aa-e2bb-4d72-8a39-77cb5d310117",
        "id": "QPeC434DrBnH"
      },
      "execution_count": 298,
      "outputs": [
        {
          "output_type": "execute_result",
          "data": {
            "text/plain": [
              "array([304.953278, 308.912201, 272.701538, 251.421616, 317.040009,\n",
              "       247.75943 , 277.289642, 323.349792, 216.465775, 321.887726,\n",
              "       216.465775, 309.245636, 237.808563, 323.349792, 313.928619,\n",
              "       243.890533, 215.134659, 242.733139, 239.089081, 307.695831,\n",
              "       244.898438, 246.349197, 290.282837, 212.282837, 234.439941,\n",
              "       239.706894, 242.798599, 259.867157, 308.964294, 246.148178,\n",
              "       304.973175, 314.063171, 331.995087, 229.424408, 305.954132,\n",
              "       336.978241, 306.866699, 308.912201, 210.679672, 238.946213,\n",
              "       214.363327, 229.300842, 309.245636, 210.99437 , 323.349792,\n",
              "       229.300842, 326.212891, 315.377441, 242.65683 , 321.952698,\n",
              "       241.977036, 314.083527, 215.075989, 241.797501, 241.348434,\n",
              "       229.692963, 321.611053, 243.141495, 214.448547, 277.289642,\n",
              "       236.280685, 214.305664, 277.289642, 337.645538, 210.638947,\n",
              "       289.343689, 238.946213, 328.724213, 212.378448, 307.068878,\n",
              "       318.953766, 229.300842, 214.821304])"
            ]
          },
          "metadata": {},
          "execution_count": 298
        }
      ]
    },
    {
      "cell_type": "code",
      "source": [
        "mse = mean_squared_error(y_test, predictions)\n",
        "print(f'Mean Squared Error: {mse}')"
      ],
      "metadata": {
        "colab": {
          "base_uri": "https://localhost:8080/"
        },
        "outputId": "2f41457d-c089-49b9-eba0-7b42ca007a0b",
        "id": "9jw-zO7urBnH"
      },
      "execution_count": 299,
      "outputs": [
        {
          "output_type": "stream",
          "name": "stdout",
          "text": [
            "Mean Squared Error: 15.029912793055043\n"
          ]
        }
      ]
    },
    {
      "cell_type": "code",
      "source": [
        "# Calculate Mean Absolute Error\n",
        "mae = mean_absolute_error(y_test, predictions)\n",
        "print(f'Mean Absolute Error: {mae:.2f}')"
      ],
      "metadata": {
        "colab": {
          "base_uri": "https://localhost:8080/"
        },
        "id": "b7hrUp-3KfdX",
        "outputId": "e2e9e91b-fd1d-4c99-f356-9c2c5432249c"
      },
      "execution_count": 300,
      "outputs": [
        {
          "output_type": "stream",
          "name": "stdout",
          "text": [
            "Mean Absolute Error: 2.48\n"
          ]
        }
      ]
    },
    {
      "cell_type": "code",
      "source": [
        "# Calculate R-squared\n",
        "r2 = r2_score(y_test, predictions)\n",
        "print(f'R-squared: {r2:.2f}')"
      ],
      "metadata": {
        "colab": {
          "base_uri": "https://localhost:8080/"
        },
        "id": "vfNTPlpPKmgM",
        "outputId": "9710741c-7401-4d36-856a-8d2f0c261495"
      },
      "execution_count": 301,
      "outputs": [
        {
          "output_type": "stream",
          "name": "stdout",
          "text": [
            "R-squared: 0.99\n"
          ]
        }
      ]
    },
    {
      "cell_type": "code",
      "source": [
        "df_results = pd.DataFrame({'Date': pd.to_datetime(y_test.index, format='%Y-%m-%d'),\n",
        "                           'Actual_Close': y_test.values,\n",
        "                           'Predicted_Close': predictions})\n",
        "\n",
        "# Display the new DataFrame\n",
        "print(df_results)"
      ],
      "metadata": {
        "colab": {
          "base_uri": "https://localhost:8080/"
        },
        "outputId": "503f795f-cd1d-4d3d-a1ed-1b969bee7a3b",
        "id": "CyEs8bQgrBnH"
      },
      "execution_count": 302,
      "outputs": [
        {
          "output_type": "stream",
          "name": "stdout",
          "text": [
            "                            Date  Actual_Close  Predicted_Close\n",
            "0  1970-01-01 00:00:00.000000167    305.156799       304.953278\n",
            "1  1970-01-01 00:00:00.000000037    307.307648       308.912201\n",
            "2  1970-01-01 00:00:00.000000019    261.282837       272.701538\n",
            "3  1970-01-01 00:00:00.000000326    251.082367       251.421616\n",
            "4  1970-01-01 00:00:00.000000061    316.682709       317.040009\n",
            "..                           ...           ...              ...\n",
            "68 1970-01-01 00:00:00.000000301    214.823959       212.378448\n",
            "69 1970-01-01 00:00:00.000000086    307.124939       307.068878\n",
            "70 1970-01-01 00:00:00.000000098    310.949127       318.953766\n",
            "71 1970-01-01 00:00:00.000000345    227.342758       229.300842\n",
            "72 1970-01-01 00:00:00.000000307    217.747375       214.821304\n",
            "\n",
            "[73 rows x 3 columns]\n"
          ]
        }
      ]
    },
    {
      "cell_type": "code",
      "source": [
        "df_results[['Actual_Close', 'Predicted_Close']].plot()"
      ],
      "metadata": {
        "colab": {
          "base_uri": "https://localhost:8080/",
          "height": 447
        },
        "outputId": "c4f75152-d50b-49bb-ecb5-caa49ac02f2e",
        "id": "AA3ZhkAvrBnH"
      },
      "execution_count": 303,
      "outputs": [
        {
          "output_type": "execute_result",
          "data": {
            "text/plain": [
              "<Axes: >"
            ]
          },
          "metadata": {},
          "execution_count": 303
        },
        {
          "output_type": "display_data",
          "data": {
            "text/plain": [
              "<Figure size 640x480 with 1 Axes>"
            ],
            "image/png": "[encoded data removed]"
          },
          "metadata": {}
        }
      ]
    },
    {
      "cell_type": "code",
      "source": [
        "plt.figure(figsize=(8, 6))\n",
        "plt.scatter(y_test, predictions, color='blue', alpha=0.5)\n",
        "plt.plot([min(y_test), max(y_test)], [min(y_test), max(y_test)],linestyle='--', color='red', linewidth=2)\n",
        "plt.title('Actual vs. Predicted Values')\n",
        "plt.xlabel('Actual Values')\n",
        "plt.ylabel('Predicted Values')\n",
        "plt.show()"
      ],
      "metadata": {
        "colab": {
          "base_uri": "https://localhost:8080/",
          "height": 564
        },
        "id": "ztkgeQaULxbo",
        "outputId": "0d3a1ad4-297d-457d-f61e-afe857bc9ece"
      },
      "execution_count": 304,
      "outputs": [
        {
          "output_type": "display_data",
          "data": {
            "text/plain": [
              "<Figure size 800x600 with 1 Axes>"
            ],
            "image/png": "[encoded data removed]"
          },
          "metadata": {}
        }
      ]
    }
  ]
}