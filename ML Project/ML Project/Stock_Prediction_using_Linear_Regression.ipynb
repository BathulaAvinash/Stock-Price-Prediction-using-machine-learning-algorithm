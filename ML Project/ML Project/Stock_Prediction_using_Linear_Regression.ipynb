{
  "nbformat": 4,
  "nbformat_minor": 0,
  "metadata": {
    "colab": {
      "provenance": []
    },
    "kernelspec": {
      "name": "python3",
      "display_name": "Python 3"
    },
    "language_info": {
      "name": "python"
    }
  },
  "cells": [
    {
      "cell_type": "markdown",
      "source": [
        "**Stock Market Price Prediction using Linear Regression**"
      ],
      "metadata": {
        "id": "sGIi5TVTPpjC"
      }
    },
    {
      "cell_type": "markdown",
      "source": [
        "***Importing important libraries***"
      ],
      "metadata": {
        "id": "8iegve4ERG4c"
      }
    },
    {
      "cell_type": "code",
      "execution_count": 198,
      "metadata": {
        "id": "H73G29WpPla7"
      },
      "outputs": [],
      "source": [
        "import pandas as pd\n",
        "from sklearn.model_selection import train_test_split\n",
        "from sklearn.metrics import accuracy_score, recall_score, precision_score, f1_score, roc_auc_score\n",
        "from sklearn.linear_model import LinearRegression\n",
        "from sklearn.neighbors import KNeighborsRegressor\n",
        "from sklearn.svm import SVR\n",
        "from sklearn.tree import DecisionTreeRegressor\n",
        "from sklearn.impute import SimpleImputer\n",
        "from sklearn.metrics import mean_squared_error, mean_absolute_error, r2_score\n",
        "from sklearn.metrics import roc_curve, auc\n",
        "import matplotlib.pyplot as plt"
      ]
    },
    {
      "cell_type": "markdown",
      "source": [
        "***Tesla Dataset***\n",
        "\n",
        "> In this project, I selected tesla datasets which play a crucial role as they form the foundation for training and evaluating machine learning models i.e Linear Regression for stock market price prediction. Dataset represents historical stock market data for different assets, and understanding their characteristics is vital for building effective predictive models.\n",
        "\n",
        "\n",
        "> Features of dataset\n",
        "* Date: Essential for organizing data chronologically and identifying trends over time.\n",
        "* Open: The opening price of Datasets on a given day.\n",
        "* High: The highest price of Datasets on a given day.\n",
        "* Low: The lowest price of Datasets on a given day.\n",
        "* Close: The closing price of Datasets on a given day.\n",
        "* Adj Close: The adjusted closing price of Datasets on a given day, considering dividends, stock splits, etc.\n",
        "* Volume: The volume of Datasets traded on a given day.\n",
        "\n",
        "\n",
        "\n",
        "\n",
        "\n"
      ],
      "metadata": {
        "id": "eDYfot84P1uP"
      }
    },
    {
      "cell_type": "markdown",
      "source": [
        "*Load the dataset*"
      ],
      "metadata": {
        "id": "RDQJ2pLYRi3m"
      }
    },
    {
      "cell_type": "code",
      "source": [
        "data = pd.read_csv('TESLA.csv')\n",
        "print(data)"
      ],
      "metadata": {
        "colab": {
          "base_uri": "https://localhost:8080/"
        },
        "id": "AvETHCwXRrge",
        "outputId": "acc68acc-16c8-4243-c694-0eb184c61be6"
      },
      "execution_count": 199,
      "outputs": [
        {
          "output_type": "stream",
          "name": "stdout",
          "text": [
            "           Date        Open        High         Low       Close   Adj Close  \\\n",
            "0    2021-09-29  259.933319  264.500000  256.893341  260.436676  260.436676   \n",
            "1    2021-09-30  260.333344  263.043335  258.333344  258.493347  258.493347   \n",
            "2    2021-10-01  259.466675  260.260010  254.529999  258.406677  258.406677   \n",
            "3    2021-10-04  265.500000  268.989990  258.706665  260.510010  260.510010   \n",
            "4    2021-10-05  261.600006  265.769989  258.066681  260.196655  260.196655   \n",
            "..          ...         ...         ...         ...         ...         ...   \n",
            "248  2022-09-23  283.089996  284.500000  272.820007  275.329987  275.329987   \n",
            "249  2022-09-26  271.829987  284.089996  270.309998  276.010010  276.010010   \n",
            "250  2022-09-27  283.839996  288.670013  277.510010  282.940002  282.940002   \n",
            "251  2022-09-28  283.079987  289.000000  277.570007  287.809998  287.809998   \n",
            "252  2022-09-29  282.760010  283.649994  265.779999  268.209991  268.209991   \n",
            "\n",
            "       Volume  \n",
            "0    62828700  \n",
            "1    53868000  \n",
            "2    51094200  \n",
            "3    91449900  \n",
            "4    55297800  \n",
            "..        ...  \n",
            "248  63615400  \n",
            "249  58076900  \n",
            "250  61925200  \n",
            "251  54664800  \n",
            "252  77393100  \n",
            "\n",
            "[253 rows x 7 columns]\n"
          ]
        }
      ]
    },
    {
      "cell_type": "markdown",
      "source": [
        "*Quick peek at functions:*"
      ],
      "metadata": {
        "id": "qfrN5JQ0R08l"
      }
    },
    {
      "cell_type": "code",
      "source": [
        "data.shape"
      ],
      "metadata": {
        "colab": {
          "base_uri": "https://localhost:8080/"
        },
        "id": "q-KIFBbcR1UQ",
        "outputId": "a0ce1538-40bf-481e-c3cf-595bedfa27a5"
      },
      "execution_count": 200,
      "outputs": [
        {
          "output_type": "execute_result",
          "data": {
            "text/plain": [
              "(253, 7)"
            ]
          },
          "metadata": {},
          "execution_count": 200
        }
      ]
    },
    {
      "cell_type": "code",
      "source": [
        "data.columns"
      ],
      "metadata": {
        "colab": {
          "base_uri": "https://localhost:8080/"
        },
        "id": "rhTHKggCSmDn",
        "outputId": "63fe53be-ddc0-44a3-be9c-dcb0cc2a10f8"
      },
      "execution_count": 201,
      "outputs": [
        {
          "output_type": "execute_result",
          "data": {
            "text/plain": [
              "Index(['Date', 'Open', 'High', 'Low', 'Close', 'Adj Close', 'Volume'], dtype='object')"
            ]
          },
          "metadata": {},
          "execution_count": 201
        }
      ]
    },
    {
      "cell_type": "code",
      "source": [
        "print(data.describe())"
      ],
      "metadata": {
        "colab": {
          "base_uri": "https://localhost:8080/"
        },
        "id": "ZlsrQh9pSp4c",
        "outputId": "20dcf3d1-bd89-4488-c09f-dcf45a89614f"
      },
      "execution_count": 202,
      "outputs": [
        {
          "output_type": "stream",
          "name": "stdout",
          "text": [
            "             Open        High         Low       Close   Adj Close  \\\n",
            "count  253.000000  253.000000  253.000000  253.000000  253.000000   \n",
            "mean   300.136008  307.486021  292.114058  299.709104  299.709104   \n",
            "std     46.139272   46.789896   44.685331   45.788283   45.788283   \n",
            "min    207.949997  217.973328  206.856674  209.386673  209.386673   \n",
            "25%    266.513336  273.166656  260.723328  266.923340  266.923340   \n",
            "50%    298.500000  303.709991  289.130005  296.666656  296.666656   \n",
            "75%    335.600006  344.950012  327.510010  336.336670  336.336670   \n",
            "max    411.470001  414.496674  405.666656  409.970001  409.970001   \n",
            "\n",
            "             Volume  \n",
            "count  2.530000e+02  \n",
            "mean   8.050938e+07  \n",
            "std    2.546595e+07  \n",
            "min    3.504270e+07  \n",
            "25%    6.255570e+07  \n",
            "50%    7.695630e+07  \n",
            "75%    9.347310e+07  \n",
            "max    1.885563e+08  \n"
          ]
        }
      ]
    },
    {
      "cell_type": "code",
      "source": [
        "print(data.info())"
      ],
      "metadata": {
        "colab": {
          "base_uri": "https://localhost:8080/"
        },
        "id": "O0LPK8e8Svqs",
        "outputId": "90b7daf8-d092-471f-9e79-87af1c17ffbd"
      },
      "execution_count": 203,
      "outputs": [
        {
          "output_type": "stream",
          "name": "stdout",
          "text": [
            "<class 'pandas.core.frame.DataFrame'>\n",
            "RangeIndex: 253 entries, 0 to 252\n",
            "Data columns (total 7 columns):\n",
            " #   Column     Non-Null Count  Dtype  \n",
            "---  ------     --------------  -----  \n",
            " 0   Date       253 non-null    object \n",
            " 1   Open       253 non-null    float64\n",
            " 2   High       253 non-null    float64\n",
            " 3   Low        253 non-null    float64\n",
            " 4   Close      253 non-null    float64\n",
            " 5   Adj Close  253 non-null    float64\n",
            " 6   Volume     253 non-null    int64  \n",
            "dtypes: float64(5), int64(1), object(1)\n",
            "memory usage: 14.0+ KB\n",
            "None\n"
          ]
        }
      ]
    },
    {
      "cell_type": "markdown",
      "source": [
        "*Data Preprocessing*\n",
        "\n",
        "> Handling Missing Values:\n",
        "\n"
      ],
      "metadata": {
        "id": "IX0vxBMPVZ4U"
      }
    },
    {
      "cell_type": "code",
      "source": [
        "missing_values = data.isnull().sum()\n",
        "print(\"Missing Values:\\n\", missing_values)\n",
        "data = data.dropna()\n",
        "print(\"Missing Values After Handling:\\n\", data.isnull().sum())"
      ],
      "metadata": {
        "colab": {
          "base_uri": "https://localhost:8080/"
        },
        "id": "aYbkcmJRTQH7",
        "outputId": "09304652-c48d-48e9-bc43-9477f5ce7d1b"
      },
      "execution_count": 204,
      "outputs": [
        {
          "output_type": "stream",
          "name": "stdout",
          "text": [
            "Missing Values:\n",
            " Date         0\n",
            "Open         0\n",
            "High         0\n",
            "Low          0\n",
            "Close        0\n",
            "Adj Close    0\n",
            "Volume       0\n",
            "dtype: int64\n",
            "Missing Values After Handling:\n",
            " Date         0\n",
            "Open         0\n",
            "High         0\n",
            "Low          0\n",
            "Close        0\n",
            "Adj Close    0\n",
            "Volume       0\n",
            "dtype: int64\n"
          ]
        }
      ]
    },
    {
      "cell_type": "markdown",
      "source": [
        "\n",
        "\n",
        "> Feature Scaling\n",
        "\n"
      ],
      "metadata": {
        "id": "isndxjVCWRNl"
      }
    },
    {
      "cell_type": "code",
      "source": [
        "from sklearn.preprocessing import MinMaxScaler\n",
        "scaler = MinMaxScaler()\n",
        "data[['High']] = scaler.fit_transform(data[['High']])\n",
        "data[['Low']] = scaler.fit_transform(data[['Low']])\n",
        "data"
      ],
      "metadata": {
        "colab": {
          "base_uri": "https://localhost:8080/",
          "height": 424
        },
        "id": "cBNPMtemWUKf",
        "outputId": "da206f38-7d5d-4e19-c2f5-ff28dcd0f9db"
      },
      "execution_count": 205,
      "outputs": [
        {
          "output_type": "execute_result",
          "data": {
            "text/plain": [
              "           Date        Open      High       Low       Close   Adj Close  \\\n",
              "0    2021-09-29  259.933319  0.236749  0.251681  260.436676  260.436676   \n",
              "1    2021-09-30  260.333344  0.229337  0.258924  258.493347  258.493347   \n",
              "2    2021-10-01  259.466675  0.215174  0.239793  258.406677  258.406677   \n",
              "3    2021-10-04  265.500000  0.259596  0.260802  260.510010  260.510010   \n",
              "4    2021-10-05  261.600006  0.243211  0.257583  260.196655  260.196655   \n",
              "..          ...         ...       ...       ...         ...         ...   \n",
              "248  2022-09-23  283.089996  0.338518  0.331791  275.329987  275.329987   \n",
              "249  2022-09-26  271.829987  0.336432  0.319166  276.010010  276.010010   \n",
              "250  2022-09-27  283.839996  0.359737  0.355381  282.940002  282.940002   \n",
              "251  2022-09-28  283.079987  0.361416  0.355683  287.809998  287.809998   \n",
              "252  2022-09-29  282.760010  0.334193  0.296380  268.209991  268.209991   \n",
              "\n",
              "       Volume  \n",
              "0    62828700  \n",
              "1    53868000  \n",
              "2    51094200  \n",
              "3    91449900  \n",
              "4    55297800  \n",
              "..        ...  \n",
              "248  63615400  \n",
              "249  58076900  \n",
              "250  61925200  \n",
              "251  54664800  \n",
              "252  77393100  \n",
              "\n",
              "[253 rows x 7 columns]"
            ],
            "text/html": [
              "\n",
              "  <div id=\"df-e2001bc6-be30-4815-bdcc-e8b5557faf20\" class=\"colab-df-container\">\n",
              "    <div>\n",
              "<style scoped>\n",
              "    .dataframe tbody tr th:only-of-type {\n",
              "        vertical-align: middle;\n",
              "    }\n",
              "\n",
              "    .dataframe tbody tr th {\n",
              "        vertical-align: top;\n",
              "    }\n",
              "\n",
              "    .dataframe thead th {\n",
              "        text-align: right;\n",
              "    }\n",
              "</style>\n",
              "<table border=\"1\" class=\"dataframe\">\n",
              "  <thead>\n",
              "    <tr style=\"text-align: right;\">\n",
              "      <th></th>\n",
              "      <th>Date</th>\n",
              "      <th>Open</th>\n",
              "      <th>High</th>\n",
              "      <th>Low</th>\n",
              "      <th>Close</th>\n",
              "      <th>Adj Close</th>\n",
              "      <th>Volume</th>\n",
              "    </tr>\n",
              "  </thead>\n",
              "  <tbody>\n",
              "    <tr>\n",
              "      <th>0</th>\n",
              "      <td>2021-09-29</td>\n",
              "      <td>259.933319</td>\n",
              "      <td>0.236749</td>\n",
              "      <td>0.251681</td>\n",
              "      <td>260.436676</td>\n",
              "      <td>260.436676</td>\n",
              "      <td>62828700</td>\n",
              "    </tr>\n",
              "    <tr>\n",
              "      <th>1</th>\n",
              "      <td>2021-09-30</td>\n",
              "      <td>260.333344</td>\n",
              "      <td>0.229337</td>\n",
              "      <td>0.258924</td>\n",
              "      <td>258.493347</td>\n",
              "      <td>258.493347</td>\n",
              "      <td>53868000</td>\n",
              "    </tr>\n",
              "    <tr>\n",
              "      <th>2</th>\n",
              "      <td>2021-10-01</td>\n",
              "      <td>259.466675</td>\n",
              "      <td>0.215174</td>\n",
              "      <td>0.239793</td>\n",
              "      <td>258.406677</td>\n",
              "      <td>258.406677</td>\n",
              "      <td>51094200</td>\n",
              "    </tr>\n",
              "    <tr>\n",
              "      <th>3</th>\n",
              "      <td>2021-10-04</td>\n",
              "      <td>265.500000</td>\n",
              "      <td>0.259596</td>\n",
              "      <td>0.260802</td>\n",
              "      <td>260.510010</td>\n",
              "      <td>260.510010</td>\n",
              "      <td>91449900</td>\n",
              "    </tr>\n",
              "    <tr>\n",
              "      <th>4</th>\n",
              "      <td>2021-10-05</td>\n",
              "      <td>261.600006</td>\n",
              "      <td>0.243211</td>\n",
              "      <td>0.257583</td>\n",
              "      <td>260.196655</td>\n",
              "      <td>260.196655</td>\n",
              "      <td>55297800</td>\n",
              "    </tr>\n",
              "    <tr>\n",
              "      <th>...</th>\n",
              "      <td>...</td>\n",
              "      <td>...</td>\n",
              "      <td>...</td>\n",
              "      <td>...</td>\n",
              "      <td>...</td>\n",
              "      <td>...</td>\n",
              "      <td>...</td>\n",
              "    </tr>\n",
              "    <tr>\n",
              "      <th>248</th>\n",
              "      <td>2022-09-23</td>\n",
              "      <td>283.089996</td>\n",
              "      <td>0.338518</td>\n",
              "      <td>0.331791</td>\n",
              "      <td>275.329987</td>\n",
              "      <td>275.329987</td>\n",
              "      <td>63615400</td>\n",
              "    </tr>\n",
              "    <tr>\n",
              "      <th>249</th>\n",
              "      <td>2022-09-26</td>\n",
              "      <td>271.829987</td>\n",
              "      <td>0.336432</td>\n",
              "      <td>0.319166</td>\n",
              "      <td>276.010010</td>\n",
              "      <td>276.010010</td>\n",
              "      <td>58076900</td>\n",
              "    </tr>\n",
              "    <tr>\n",
              "      <th>250</th>\n",
              "      <td>2022-09-27</td>\n",
              "      <td>283.839996</td>\n",
              "      <td>0.359737</td>\n",
              "      <td>0.355381</td>\n",
              "      <td>282.940002</td>\n",
              "      <td>282.940002</td>\n",
              "      <td>61925200</td>\n",
              "    </tr>\n",
              "    <tr>\n",
              "      <th>251</th>\n",
              "      <td>2022-09-28</td>\n",
              "      <td>283.079987</td>\n",
              "      <td>0.361416</td>\n",
              "      <td>0.355683</td>\n",
              "      <td>287.809998</td>\n",
              "      <td>287.809998</td>\n",
              "      <td>54664800</td>\n",
              "    </tr>\n",
              "    <tr>\n",
              "      <th>252</th>\n",
              "      <td>2022-09-29</td>\n",
              "      <td>282.760010</td>\n",
              "      <td>0.334193</td>\n",
              "      <td>0.296380</td>\n",
              "      <td>268.209991</td>\n",
              "      <td>268.209991</td>\n",
              "      <td>77393100</td>\n",
              "    </tr>\n",
              "  </tbody>\n",
              "</table>\n",
              "<p>253 rows × 7 columns</p>\n",
              "</div>\n",
              "    <div class=\"colab-df-buttons\">\n",
              "\n",
              "  <div class=\"colab-df-container\">\n",
              "    <button class=\"colab-df-convert\" onclick=\"convertToInteractive('df-e2001bc6-be30-4815-bdcc-e8b5557faf20')\"\n",
              "            title=\"Convert this dataframe to an interactive table.\"\n",
              "            style=\"display:none;\">\n",
              "\n",
              "  <svg xmlns=\"http://www.w3.org/2000/svg\" height=\"24px\" viewBox=\"0 -960 960 960\">\n",
              "    <path d=\"M120-120v-720h720v720H120Zm60-500h600v-160H180v160Zm220 220h160v-160H400v160Zm0 220h160v-160H400v160ZM180-400h160v-160H180v160Zm440 0h160v-160H620v160ZM180-180h160v-160H180v160Zm440 0h160v-160H620v160Z\"/>\n",
              "  </svg>\n",
              "    </button>\n",
              "\n",
              "  <style>\n",
              "    .colab-df-container {\n",
              "      display:flex;\n",
              "      gap: 12px;\n",
              "    }\n",
              "\n",
              "    .colab-df-convert {\n",
              "      background-color: #E8F0FE;\n",
              "      border: none;\n",
              "      border-radius: 50%;\n",
              "      cursor: pointer;\n",
              "      display: none;\n",
              "      fill: #1967D2;\n",
              "      height: 32px;\n",
              "      padding: 0 0 0 0;\n",
              "      width: 32px;\n",
              "    }\n",
              "\n",
              "    .colab-df-convert:hover {\n",
              "      background-color: #E2EBFA;\n",
              "      box-shadow: 0px 1px 2px rgba(60, 64, 67, 0.3), 0px 1px 3px 1px rgba(60, 64, 67, 0.15);\n",
              "      fill: #174EA6;\n",
              "    }\n",
              "\n",
              "    .colab-df-buttons div {\n",
              "      margin-bottom: 4px;\n",
              "    }\n",
              "\n",
              "    [theme=dark] .colab-df-convert {\n",
              "      background-color: #3B4455;\n",
              "      fill: #D2E3FC;\n",
              "    }\n",
              "\n",
              "    [theme=dark] .colab-df-convert:hover {\n",
              "      background-color: #434B5C;\n",
              "      box-shadow: 0px 1px 3px 1px rgba(0, 0, 0, 0.15);\n",
              "      filter: drop-shadow(0px 1px 2px rgba(0, 0, 0, 0.3));\n",
              "      fill: #FFFFFF;\n",
              "    }\n",
              "  </style>\n",
              "\n",
              "    <script>\n",
              "      const buttonEl =\n",
              "        document.querySelector('#df-e2001bc6-be30-4815-bdcc-e8b5557faf20 button.colab-df-convert');\n",
              "      buttonEl.style.display =\n",
              "        google.colab.kernel.accessAllowed ? 'block' : 'none';\n",
              "\n",
              "      async function convertToInteractive(key) {\n",
              "        const element = document.querySelector('#df-e2001bc6-be30-4815-bdcc-e8b5557faf20');\n",
              "        const dataTable =\n",
              "          await google.colab.kernel.invokeFunction('convertToInteractive',\n",
              "                                                    [key], {});\n",
              "        if (!dataTable) return;\n",
              "\n",
              "        const docLinkHtml = 'Like what you see? Visit the ' +\n",
              "          '<a target=\"_blank\" href=https://colab.research.google.com/notebooks/data_table.ipynb>data table notebook</a>'\n",
              "          + ' to learn more about interactive tables.';\n",
              "        element.innerHTML = '';\n",
              "        dataTable['output_type'] = 'display_data';\n",
              "        await google.colab.output.renderOutput(dataTable, element);\n",
              "        const docLink = document.createElement('div');\n",
              "        docLink.innerHTML = docLinkHtml;\n",
              "        element.appendChild(docLink);\n",
              "      }\n",
              "    </script>\n",
              "  </div>\n",
              "\n",
              "\n",
              "<div id=\"df-2e85cb71-cd29-4fff-a659-615a68dfd545\">\n",
              "  <button class=\"colab-df-quickchart\" onclick=\"quickchart('df-2e85cb71-cd29-4fff-a659-615a68dfd545')\"\n",
              "            title=\"Suggest charts\"\n",
              "            style=\"display:none;\">\n",
              "\n",
              "<svg xmlns=\"http://www.w3.org/2000/svg\" height=\"24px\"viewBox=\"0 0 24 24\"\n",
              "     width=\"24px\">\n",
              "    <g>\n",
              "        <path d=\"M19 3H5c-1.1 0-2 .9-2 2v14c0 1.1.9 2 2 2h14c1.1 0 2-.9 2-2V5c0-1.1-.9-2-2-2zM9 17H7v-7h2v7zm4 0h-2V7h2v10zm4 0h-2v-4h2v4z\"/>\n",
              "    </g>\n",
              "</svg>\n",
              "  </button>\n",
              "\n",
              "<style>\n",
              "  .colab-df-quickchart {\n",
              "      --bg-color: #E8F0FE;\n",
              "      --fill-color: #1967D2;\n",
              "      --hover-bg-color: #E2EBFA;\n",
              "      --hover-fill-color: #174EA6;\n",
              "      --disabled-fill-color: #AAA;\n",
              "      --disabled-bg-color: #DDD;\n",
              "  }\n",
              "\n",
              "  [theme=dark] .colab-df-quickchart {\n",
              "      --bg-color: #3B4455;\n",
              "      --fill-color: #D2E3FC;\n",
              "      --hover-bg-color: #434B5C;\n",
              "      --hover-fill-color: #FFFFFF;\n",
              "      --disabled-bg-color: #3B4455;\n",
              "      --disabled-fill-color: #666;\n",
              "  }\n",
              "\n",
              "  .colab-df-quickchart {\n",
              "    background-color: var(--bg-color);\n",
              "    border: none;\n",
              "    border-radius: 50%;\n",
              "    cursor: pointer;\n",
              "    display: none;\n",
              "    fill: var(--fill-color);\n",
              "    height: 32px;\n",
              "    padding: 0;\n",
              "    width: 32px;\n",
              "  }\n",
              "\n",
              "  .colab-df-quickchart:hover {\n",
              "    background-color: var(--hover-bg-color);\n",
              "    box-shadow: 0 1px 2px rgba(60, 64, 67, 0.3), 0 1px 3px 1px rgba(60, 64, 67, 0.15);\n",
              "    fill: var(--button-hover-fill-color);\n",
              "  }\n",
              "\n",
              "  .colab-df-quickchart-complete:disabled,\n",
              "  .colab-df-quickchart-complete:disabled:hover {\n",
              "    background-color: var(--disabled-bg-color);\n",
              "    fill: var(--disabled-fill-color);\n",
              "    box-shadow: none;\n",
              "  }\n",
              "\n",
              "  .colab-df-spinner {\n",
              "    border: 2px solid var(--fill-color);\n",
              "    border-color: transparent;\n",
              "    border-bottom-color: var(--fill-color);\n",
              "    animation:\n",
              "      spin 1s steps(1) infinite;\n",
              "  }\n",
              "\n",
              "  @keyframes spin {\n",
              "    0% {\n",
              "      border-color: transparent;\n",
              "      border-bottom-color: var(--fill-color);\n",
              "      border-left-color: var(--fill-color);\n",
              "    }\n",
              "    20% {\n",
              "      border-color: transparent;\n",
              "      border-left-color: var(--fill-color);\n",
              "      border-top-color: var(--fill-color);\n",
              "    }\n",
              "    30% {\n",
              "      border-color: transparent;\n",
              "      border-left-color: var(--fill-color);\n",
              "      border-top-color: var(--fill-color);\n",
              "      border-right-color: var(--fill-color);\n",
              "    }\n",
              "    40% {\n",
              "      border-color: transparent;\n",
              "      border-right-color: var(--fill-color);\n",
              "      border-top-color: var(--fill-color);\n",
              "    }\n",
              "    60% {\n",
              "      border-color: transparent;\n",
              "      border-right-color: var(--fill-color);\n",
              "    }\n",
              "    80% {\n",
              "      border-color: transparent;\n",
              "      border-right-color: var(--fill-color);\n",
              "      border-bottom-color: var(--fill-color);\n",
              "    }\n",
              "    90% {\n",
              "      border-color: transparent;\n",
              "      border-bottom-color: var(--fill-color);\n",
              "    }\n",
              "  }\n",
              "</style>\n",
              "\n",
              "  <script>\n",
              "    async function quickchart(key) {\n",
              "      const quickchartButtonEl =\n",
              "        document.querySelector('#' + key + ' button');\n",
              "      quickchartButtonEl.disabled = true;  // To prevent multiple clicks.\n",
              "      quickchartButtonEl.classList.add('colab-df-spinner');\n",
              "      try {\n",
              "        const charts = await google.colab.kernel.invokeFunction(\n",
              "            'suggestCharts', [key], {});\n",
              "      } catch (error) {\n",
              "        console.error('Error during call to suggestCharts:', error);\n",
              "      }\n",
              "      quickchartButtonEl.classList.remove('colab-df-spinner');\n",
              "      quickchartButtonEl.classList.add('colab-df-quickchart-complete');\n",
              "    }\n",
              "    (() => {\n",
              "      let quickchartButtonEl =\n",
              "        document.querySelector('#df-2e85cb71-cd29-4fff-a659-615a68dfd545 button');\n",
              "      quickchartButtonEl.style.display =\n",
              "        google.colab.kernel.accessAllowed ? 'block' : 'none';\n",
              "    })();\n",
              "  </script>\n",
              "</div>\n",
              "\n",
              "  <div id=\"id_293934d3-c1ae-4c0c-bc55-1ce137b7f848\">\n",
              "    <style>\n",
              "      .colab-df-generate {\n",
              "        background-color: #E8F0FE;\n",
              "        border: none;\n",
              "        border-radius: 50%;\n",
              "        cursor: pointer;\n",
              "        display: none;\n",
              "        fill: #1967D2;\n",
              "        height: 32px;\n",
              "        padding: 0 0 0 0;\n",
              "        width: 32px;\n",
              "      }\n",
              "\n",
              "      .colab-df-generate:hover {\n",
              "        background-color: #E2EBFA;\n",
              "        box-shadow: 0px 1px 2px rgba(60, 64, 67, 0.3), 0px 1px 3px 1px rgba(60, 64, 67, 0.15);\n",
              "        fill: #174EA6;\n",
              "      }\n",
              "\n",
              "      [theme=dark] .colab-df-generate {\n",
              "        background-color: #3B4455;\n",
              "        fill: #D2E3FC;\n",
              "      }\n",
              "\n",
              "      [theme=dark] .colab-df-generate:hover {\n",
              "        background-color: #434B5C;\n",
              "        box-shadow: 0px 1px 3px 1px rgba(0, 0, 0, 0.15);\n",
              "        filter: drop-shadow(0px 1px 2px rgba(0, 0, 0, 0.3));\n",
              "        fill: #FFFFFF;\n",
              "      }\n",
              "    </style>\n",
              "    <button class=\"colab-df-generate\" onclick=\"generateWithVariable('data')\"\n",
              "            title=\"Generate code using this dataframe.\"\n",
              "            style=\"display:none;\">\n",
              "\n",
              "  <svg xmlns=\"http://www.w3.org/2000/svg\" height=\"24px\"viewBox=\"0 0 24 24\"\n",
              "       width=\"24px\">\n",
              "    <path d=\"M7,19H8.4L18.45,9,17,7.55,7,17.6ZM5,21V16.75L18.45,3.32a2,2,0,0,1,2.83,0l1.4,1.43a1.91,1.91,0,0,1,.58,1.4,1.91,1.91,0,0,1-.58,1.4L9.25,21ZM18.45,9,17,7.55Zm-12,3A5.31,5.31,0,0,0,4.9,8.1,5.31,5.31,0,0,0,1,6.5,5.31,5.31,0,0,0,4.9,4.9,5.31,5.31,0,0,0,6.5,1,5.31,5.31,0,0,0,8.1,4.9,5.31,5.31,0,0,0,12,6.5,5.46,5.46,0,0,0,6.5,12Z\"/>\n",
              "  </svg>\n",
              "    </button>\n",
              "    <script>\n",
              "      (() => {\n",
              "      const buttonEl =\n",
              "        document.querySelector('#id_293934d3-c1ae-4c0c-bc55-1ce137b7f848 button.colab-df-generate');\n",
              "      buttonEl.style.display =\n",
              "        google.colab.kernel.accessAllowed ? 'block' : 'none';\n",
              "\n",
              "      buttonEl.onclick = () => {\n",
              "        google.colab.notebook.generateWithVariable('data');\n",
              "      }\n",
              "      })();\n",
              "    </script>\n",
              "  </div>\n",
              "\n",
              "    </div>\n",
              "  </div>\n"
            ]
          },
          "metadata": {},
          "execution_count": 205
        }
      ]
    },
    {
      "cell_type": "markdown",
      "source": [
        "\n",
        "\n",
        "> Feature Engineering\n",
        "\n"
      ],
      "metadata": {
        "id": "tKbew_lvX4w0"
      }
    },
    {
      "cell_type": "code",
      "source": [
        "data['DailyReturn'] = data['Adj Close'].pct_change() * 100\n",
        "data['MovingAverage'] = data['Adj Close'].rolling(window=5).mean()\n",
        "data['PriceToVolumeRatio'] = data['Adj Close']/data['Volume']\n",
        "data=data.dropna()\n",
        "data"
      ],
      "metadata": {
        "colab": {
          "base_uri": "https://localhost:8080/",
          "height": 617
        },
        "id": "REjgCMQQX-u6",
        "outputId": "f49a9a00-4a52-49bc-94a6-50bd28c07ae2"
      },
      "execution_count": 206,
      "outputs": [
        {
          "output_type": "execute_result",
          "data": {
            "text/plain": [
              "           Date        Open      High       Low       Close   Adj Close  \\\n",
              "4    2021-10-05  261.600006  0.243211  0.257583  260.196655  260.196655   \n",
              "5    2021-10-06  258.733337  0.225147  0.255939  260.916656  260.916656   \n",
              "6    2021-10-07  261.820007  0.256255  0.272974  264.536682  264.536682   \n",
              "7    2021-10-08  265.403320  0.241634  0.268833  261.829987  261.829987   \n",
              "8    2021-10-11  262.549988  0.249877  0.276529  263.980011  263.980011   \n",
              "..          ...         ...       ...       ...         ...         ...   \n",
              "248  2022-09-23  283.089996  0.338518  0.331791  275.329987  275.329987   \n",
              "249  2022-09-26  271.829987  0.336432  0.319166  276.010010  276.010010   \n",
              "250  2022-09-27  283.839996  0.359737  0.355381  282.940002  282.940002   \n",
              "251  2022-09-28  283.079987  0.361416  0.355683  287.809998  287.809998   \n",
              "252  2022-09-29  282.760010  0.334193  0.296380  268.209991  268.209991   \n",
              "\n",
              "       Volume  DailyReturn  MovingAverage  PriceToVolumeRatio  \n",
              "4    55297800    -0.120285     259.608673            0.000005  \n",
              "5    43898400     0.276714     259.704669            0.000006  \n",
              "6    57587400     1.387426     260.913336            0.000005  \n",
              "7    50215800    -1.023183     261.597998            0.000005  \n",
              "8    42600900     0.821153     262.291998            0.000006  \n",
              "..        ...          ...            ...                 ...  \n",
              "248  63615400    -4.594757     296.503998            0.000004  \n",
              "249  58076900     0.246985     289.891998            0.000005  \n",
              "250  61925200     2.510776     284.733997            0.000005  \n",
              "251  54664800     1.721212     282.135999            0.000005  \n",
              "252  77393100    -6.810051     278.059998            0.000003  \n",
              "\n",
              "[249 rows x 10 columns]"
            ],
            "text/html": [
              "\n",
              "  <div id=\"df-f295dbb0-8d43-4805-8246-a93b40afa91a\" class=\"colab-df-container\">\n",
              "    <div>\n",
              "<style scoped>\n",
              "    .dataframe tbody tr th:only-of-type {\n",
              "        vertical-align: middle;\n",
              "    }\n",
              "\n",
              "    .dataframe tbody tr th {\n",
              "        vertical-align: top;\n",
              "    }\n",
              "\n",
              "    .dataframe thead th {\n",
              "        text-align: right;\n",
              "    }\n",
              "</style>\n",
              "<table border=\"1\" class=\"dataframe\">\n",
              "  <thead>\n",
              "    <tr style=\"text-align: right;\">\n",
              "      <th></th>\n",
              "      <th>Date</th>\n",
              "      <th>Open</th>\n",
              "      <th>High</th>\n",
              "      <th>Low</th>\n",
              "      <th>Close</th>\n",
              "      <th>Adj Close</th>\n",
              "      <th>Volume</th>\n",
              "      <th>DailyReturn</th>\n",
              "      <th>MovingAverage</th>\n",
              "      <th>PriceToVolumeRatio</th>\n",
              "    </tr>\n",
              "  </thead>\n",
              "  <tbody>\n",
              "    <tr>\n",
              "      <th>4</th>\n",
              "      <td>2021-10-05</td>\n",
              "      <td>261.600006</td>\n",
              "      <td>0.243211</td>\n",
              "      <td>0.257583</td>\n",
              "      <td>260.196655</td>\n",
              "      <td>260.196655</td>\n",
              "      <td>55297800</td>\n",
              "      <td>-0.120285</td>\n",
              "      <td>259.608673</td>\n",
              "      <td>0.000005</td>\n",
              "    </tr>\n",
              "    <tr>\n",
              "      <th>5</th>\n",
              "      <td>2021-10-06</td>\n",
              "      <td>258.733337</td>\n",
              "      <td>0.225147</td>\n",
              "      <td>0.255939</td>\n",
              "      <td>260.916656</td>\n",
              "      <td>260.916656</td>\n",
              "      <td>43898400</td>\n",
              "      <td>0.276714</td>\n",
              "      <td>259.704669</td>\n",
              "      <td>0.000006</td>\n",
              "    </tr>\n",
              "    <tr>\n",
              "      <th>6</th>\n",
              "      <td>2021-10-07</td>\n",
              "      <td>261.820007</td>\n",
              "      <td>0.256255</td>\n",
              "      <td>0.272974</td>\n",
              "      <td>264.536682</td>\n",
              "      <td>264.536682</td>\n",
              "      <td>57587400</td>\n",
              "      <td>1.387426</td>\n",
              "      <td>260.913336</td>\n",
              "      <td>0.000005</td>\n",
              "    </tr>\n",
              "    <tr>\n",
              "      <th>7</th>\n",
              "      <td>2021-10-08</td>\n",
              "      <td>265.403320</td>\n",
              "      <td>0.241634</td>\n",
              "      <td>0.268833</td>\n",
              "      <td>261.829987</td>\n",
              "      <td>261.829987</td>\n",
              "      <td>50215800</td>\n",
              "      <td>-1.023183</td>\n",
              "      <td>261.597998</td>\n",
              "      <td>0.000005</td>\n",
              "    </tr>\n",
              "    <tr>\n",
              "      <th>8</th>\n",
              "      <td>2021-10-11</td>\n",
              "      <td>262.549988</td>\n",
              "      <td>0.249877</td>\n",
              "      <td>0.276529</td>\n",
              "      <td>263.980011</td>\n",
              "      <td>263.980011</td>\n",
              "      <td>42600900</td>\n",
              "      <td>0.821153</td>\n",
              "      <td>262.291998</td>\n",
              "      <td>0.000006</td>\n",
              "    </tr>\n",
              "    <tr>\n",
              "      <th>...</th>\n",
              "      <td>...</td>\n",
              "      <td>...</td>\n",
              "      <td>...</td>\n",
              "      <td>...</td>\n",
              "      <td>...</td>\n",
              "      <td>...</td>\n",
              "      <td>...</td>\n",
              "      <td>...</td>\n",
              "      <td>...</td>\n",
              "      <td>...</td>\n",
              "    </tr>\n",
              "    <tr>\n",
              "      <th>248</th>\n",
              "      <td>2022-09-23</td>\n",
              "      <td>283.089996</td>\n",
              "      <td>0.338518</td>\n",
              "      <td>0.331791</td>\n",
              "      <td>275.329987</td>\n",
              "      <td>275.329987</td>\n",
              "      <td>63615400</td>\n",
              "      <td>-4.594757</td>\n",
              "      <td>296.503998</td>\n",
              "      <td>0.000004</td>\n",
              "    </tr>\n",
              "    <tr>\n",
              "      <th>249</th>\n",
              "      <td>2022-09-26</td>\n",
              "      <td>271.829987</td>\n",
              "      <td>0.336432</td>\n",
              "      <td>0.319166</td>\n",
              "      <td>276.010010</td>\n",
              "      <td>276.010010</td>\n",
              "      <td>58076900</td>\n",
              "      <td>0.246985</td>\n",
              "      <td>289.891998</td>\n",
              "      <td>0.000005</td>\n",
              "    </tr>\n",
              "    <tr>\n",
              "      <th>250</th>\n",
              "      <td>2022-09-27</td>\n",
              "      <td>283.839996</td>\n",
              "      <td>0.359737</td>\n",
              "      <td>0.355381</td>\n",
              "      <td>282.940002</td>\n",
              "      <td>282.940002</td>\n",
              "      <td>61925200</td>\n",
              "      <td>2.510776</td>\n",
              "      <td>284.733997</td>\n",
              "      <td>0.000005</td>\n",
              "    </tr>\n",
              "    <tr>\n",
              "      <th>251</th>\n",
              "      <td>2022-09-28</td>\n",
              "      <td>283.079987</td>\n",
              "      <td>0.361416</td>\n",
              "      <td>0.355683</td>\n",
              "      <td>287.809998</td>\n",
              "      <td>287.809998</td>\n",
              "      <td>54664800</td>\n",
              "      <td>1.721212</td>\n",
              "      <td>282.135999</td>\n",
              "      <td>0.000005</td>\n",
              "    </tr>\n",
              "    <tr>\n",
              "      <th>252</th>\n",
              "      <td>2022-09-29</td>\n",
              "      <td>282.760010</td>\n",
              "      <td>0.334193</td>\n",
              "      <td>0.296380</td>\n",
              "      <td>268.209991</td>\n",
              "      <td>268.209991</td>\n",
              "      <td>77393100</td>\n",
              "      <td>-6.810051</td>\n",
              "      <td>278.059998</td>\n",
              "      <td>0.000003</td>\n",
              "    </tr>\n",
              "  </tbody>\n",
              "</table>\n",
              "<p>249 rows × 10 columns</p>\n",
              "</div>\n",
              "    <div class=\"colab-df-buttons\">\n",
              "\n",
              "  <div class=\"colab-df-container\">\n",
              "    <button class=\"colab-df-convert\" onclick=\"convertToInteractive('df-f295dbb0-8d43-4805-8246-a93b40afa91a')\"\n",
              "            title=\"Convert this dataframe to an interactive table.\"\n",
              "            style=\"display:none;\">\n",
              "\n",
              "  <svg xmlns=\"http://www.w3.org/2000/svg\" height=\"24px\" viewBox=\"0 -960 960 960\">\n",
              "    <path d=\"M120-120v-720h720v720H120Zm60-500h600v-160H180v160Zm220 220h160v-160H400v160Zm0 220h160v-160H400v160ZM180-400h160v-160H180v160Zm440 0h160v-160H620v160ZM180-180h160v-160H180v160Zm440 0h160v-160H620v160Z\"/>\n",
              "  </svg>\n",
              "    </button>\n",
              "\n",
              "  <style>\n",
              "    .colab-df-container {\n",
              "      display:flex;\n",
              "      gap: 12px;\n",
              "    }\n",
              "\n",
              "    .colab-df-convert {\n",
              "      background-color: #E8F0FE;\n",
              "      border: none;\n",
              "      border-radius: 50%;\n",
              "      cursor: pointer;\n",
              "      display: none;\n",
              "      fill: #1967D2;\n",
              "      height: 32px;\n",
              "      padding: 0 0 0 0;\n",
              "      width: 32px;\n",
              "    }\n",
              "\n",
              "    .colab-df-convert:hover {\n",
              "      background-color: #E2EBFA;\n",
              "      box-shadow: 0px 1px 2px rgba(60, 64, 67, 0.3), 0px 1px 3px 1px rgba(60, 64, 67, 0.15);\n",
              "      fill: #174EA6;\n",
              "    }\n",
              "\n",
              "    .colab-df-buttons div {\n",
              "      margin-bottom: 4px;\n",
              "    }\n",
              "\n",
              "    [theme=dark] .colab-df-convert {\n",
              "      background-color: #3B4455;\n",
              "      fill: #D2E3FC;\n",
              "    }\n",
              "\n",
              "    [theme=dark] .colab-df-convert:hover {\n",
              "      background-color: #434B5C;\n",
              "      box-shadow: 0px 1px 3px 1px rgba(0, 0, 0, 0.15);\n",
              "      filter: drop-shadow(0px 1px 2px rgba(0, 0, 0, 0.3));\n",
              "      fill: #FFFFFF;\n",
              "    }\n",
              "  </style>\n",
              "\n",
              "    <script>\n",
              "      const buttonEl =\n",
              "        document.querySelector('#df-f295dbb0-8d43-4805-8246-a93b40afa91a button.colab-df-convert');\n",
              "      buttonEl.style.display =\n",
              "        google.colab.kernel.accessAllowed ? 'block' : 'none';\n",
              "\n",
              "      async function convertToInteractive(key) {\n",
              "        const element = document.querySelector('#df-f295dbb0-8d43-4805-8246-a93b40afa91a');\n",
              "        const dataTable =\n",
              "          await google.colab.kernel.invokeFunction('convertToInteractive',\n",
              "                                                    [key], {});\n",
              "        if (!dataTable) return;\n",
              "\n",
              "        const docLinkHtml = 'Like what you see? Visit the ' +\n",
              "          '<a target=\"_blank\" href=https://colab.research.google.com/notebooks/data_table.ipynb>data table notebook</a>'\n",
              "          + ' to learn more about interactive tables.';\n",
              "        element.innerHTML = '';\n",
              "        dataTable['output_type'] = 'display_data';\n",
              "        await google.colab.output.renderOutput(dataTable, element);\n",
              "        const docLink = document.createElement('div');\n",
              "        docLink.innerHTML = docLinkHtml;\n",
              "        element.appendChild(docLink);\n",
              "      }\n",
              "    </script>\n",
              "  </div>\n",
              "\n",
              "\n",
              "<div id=\"df-4106617e-9ab0-4fac-979c-5a196543555b\">\n",
              "  <button class=\"colab-df-quickchart\" onclick=\"quickchart('df-4106617e-9ab0-4fac-979c-5a196543555b')\"\n",
              "            title=\"Suggest charts\"\n",
              "            style=\"display:none;\">\n",
              "\n",
              "<svg xmlns=\"http://www.w3.org/2000/svg\" height=\"24px\"viewBox=\"0 0 24 24\"\n",
              "     width=\"24px\">\n",
              "    <g>\n",
              "        <path d=\"M19 3H5c-1.1 0-2 .9-2 2v14c0 1.1.9 2 2 2h14c1.1 0 2-.9 2-2V5c0-1.1-.9-2-2-2zM9 17H7v-7h2v7zm4 0h-2V7h2v10zm4 0h-2v-4h2v4z\"/>\n",
              "    </g>\n",
              "</svg>\n",
              "  </button>\n",
              "\n",
              "<style>\n",
              "  .colab-df-quickchart {\n",
              "      --bg-color: #E8F0FE;\n",
              "      --fill-color: #1967D2;\n",
              "      --hover-bg-color: #E2EBFA;\n",
              "      --hover-fill-color: #174EA6;\n",
              "      --disabled-fill-color: #AAA;\n",
              "      --disabled-bg-color: #DDD;\n",
              "  }\n",
              "\n",
              "  [theme=dark] .colab-df-quickchart {\n",
              "      --bg-color: #3B4455;\n",
              "      --fill-color: #D2E3FC;\n",
              "      --hover-bg-color: #434B5C;\n",
              "      --hover-fill-color: #FFFFFF;\n",
              "      --disabled-bg-color: #3B4455;\n",
              "      --disabled-fill-color: #666;\n",
              "  }\n",
              "\n",
              "  .colab-df-quickchart {\n",
              "    background-color: var(--bg-color);\n",
              "    border: none;\n",
              "    border-radius: 50%;\n",
              "    cursor: pointer;\n",
              "    display: none;\n",
              "    fill: var(--fill-color);\n",
              "    height: 32px;\n",
              "    padding: 0;\n",
              "    width: 32px;\n",
              "  }\n",
              "\n",
              "  .colab-df-quickchart:hover {\n",
              "    background-color: var(--hover-bg-color);\n",
              "    box-shadow: 0 1px 2px rgba(60, 64, 67, 0.3), 0 1px 3px 1px rgba(60, 64, 67, 0.15);\n",
              "    fill: var(--button-hover-fill-color);\n",
              "  }\n",
              "\n",
              "  .colab-df-quickchart-complete:disabled,\n",
              "  .colab-df-quickchart-complete:disabled:hover {\n",
              "    background-color: var(--disabled-bg-color);\n",
              "    fill: var(--disabled-fill-color);\n",
              "    box-shadow: none;\n",
              "  }\n",
              "\n",
              "  .colab-df-spinner {\n",
              "    border: 2px solid var(--fill-color);\n",
              "    border-color: transparent;\n",
              "    border-bottom-color: var(--fill-color);\n",
              "    animation:\n",
              "      spin 1s steps(1) infinite;\n",
              "  }\n",
              "\n",
              "  @keyframes spin {\n",
              "    0% {\n",
              "      border-color: transparent;\n",
              "      border-bottom-color: var(--fill-color);\n",
              "      border-left-color: var(--fill-color);\n",
              "    }\n",
              "    20% {\n",
              "      border-color: transparent;\n",
              "      border-left-color: var(--fill-color);\n",
              "      border-top-color: var(--fill-color);\n",
              "    }\n",
              "    30% {\n",
              "      border-color: transparent;\n",
              "      border-left-color: var(--fill-color);\n",
              "      border-top-color: var(--fill-color);\n",
              "      border-right-color: var(--fill-color);\n",
              "    }\n",
              "    40% {\n",
              "      border-color: transparent;\n",
              "      border-right-color: var(--fill-color);\n",
              "      border-top-color: var(--fill-color);\n",
              "    }\n",
              "    60% {\n",
              "      border-color: transparent;\n",
              "      border-right-color: var(--fill-color);\n",
              "    }\n",
              "    80% {\n",
              "      border-color: transparent;\n",
              "      border-right-color: var(--fill-color);\n",
              "      border-bottom-color: var(--fill-color);\n",
              "    }\n",
              "    90% {\n",
              "      border-color: transparent;\n",
              "      border-bottom-color: var(--fill-color);\n",
              "    }\n",
              "  }\n",
              "</style>\n",
              "\n",
              "  <script>\n",
              "    async function quickchart(key) {\n",
              "      const quickchartButtonEl =\n",
              "        document.querySelector('#' + key + ' button');\n",
              "      quickchartButtonEl.disabled = true;  // To prevent multiple clicks.\n",
              "      quickchartButtonEl.classList.add('colab-df-spinner');\n",
              "      try {\n",
              "        const charts = await google.colab.kernel.invokeFunction(\n",
              "            'suggestCharts', [key], {});\n",
              "      } catch (error) {\n",
              "        console.error('Error during call to suggestCharts:', error);\n",
              "      }\n",
              "      quickchartButtonEl.classList.remove('colab-df-spinner');\n",
              "      quickchartButtonEl.classList.add('colab-df-quickchart-complete');\n",
              "    }\n",
              "    (() => {\n",
              "      let quickchartButtonEl =\n",
              "        document.querySelector('#df-4106617e-9ab0-4fac-979c-5a196543555b button');\n",
              "      quickchartButtonEl.style.display =\n",
              "        google.colab.kernel.accessAllowed ? 'block' : 'none';\n",
              "    })();\n",
              "  </script>\n",
              "</div>\n",
              "\n",
              "  <div id=\"id_07145577-e69b-4d9f-9e8e-6bfdee67e7e9\">\n",
              "    <style>\n",
              "      .colab-df-generate {\n",
              "        background-color: #E8F0FE;\n",
              "        border: none;\n",
              "        border-radius: 50%;\n",
              "        cursor: pointer;\n",
              "        display: none;\n",
              "        fill: #1967D2;\n",
              "        height: 32px;\n",
              "        padding: 0 0 0 0;\n",
              "        width: 32px;\n",
              "      }\n",
              "\n",
              "      .colab-df-generate:hover {\n",
              "        background-color: #E2EBFA;\n",
              "        box-shadow: 0px 1px 2px rgba(60, 64, 67, 0.3), 0px 1px 3px 1px rgba(60, 64, 67, 0.15);\n",
              "        fill: #174EA6;\n",
              "      }\n",
              "\n",
              "      [theme=dark] .colab-df-generate {\n",
              "        background-color: #3B4455;\n",
              "        fill: #D2E3FC;\n",
              "      }\n",
              "\n",
              "      [theme=dark] .colab-df-generate:hover {\n",
              "        background-color: #434B5C;\n",
              "        box-shadow: 0px 1px 3px 1px rgba(0, 0, 0, 0.15);\n",
              "        filter: drop-shadow(0px 1px 2px rgba(0, 0, 0, 0.3));\n",
              "        fill: #FFFFFF;\n",
              "      }\n",
              "    </style>\n",
              "    <button class=\"colab-df-generate\" onclick=\"generateWithVariable('data')\"\n",
              "            title=\"Generate code using this dataframe.\"\n",
              "            style=\"display:none;\">\n",
              "\n",
              "  <svg xmlns=\"http://www.w3.org/2000/svg\" height=\"24px\"viewBox=\"0 0 24 24\"\n",
              "       width=\"24px\">\n",
              "    <path d=\"M7,19H8.4L18.45,9,17,7.55,7,17.6ZM5,21V16.75L18.45,3.32a2,2,0,0,1,2.83,0l1.4,1.43a1.91,1.91,0,0,1,.58,1.4,1.91,1.91,0,0,1-.58,1.4L9.25,21ZM18.45,9,17,7.55Zm-12,3A5.31,5.31,0,0,0,4.9,8.1,5.31,5.31,0,0,0,1,6.5,5.31,5.31,0,0,0,4.9,4.9,5.31,5.31,0,0,0,6.5,1,5.31,5.31,0,0,0,8.1,4.9,5.31,5.31,0,0,0,12,6.5,5.46,5.46,0,0,0,6.5,12Z\"/>\n",
              "  </svg>\n",
              "    </button>\n",
              "    <script>\n",
              "      (() => {\n",
              "      const buttonEl =\n",
              "        document.querySelector('#id_07145577-e69b-4d9f-9e8e-6bfdee67e7e9 button.colab-df-generate');\n",
              "      buttonEl.style.display =\n",
              "        google.colab.kernel.accessAllowed ? 'block' : 'none';\n",
              "\n",
              "      buttonEl.onclick = () => {\n",
              "        google.colab.notebook.generateWithVariable('data');\n",
              "      }\n",
              "      })();\n",
              "    </script>\n",
              "  </div>\n",
              "\n",
              "    </div>\n",
              "  </div>\n"
            ]
          },
          "metadata": {},
          "execution_count": 206
        }
      ]
    },
    {
      "cell_type": "markdown",
      "source": [
        "> Data Splitting and Model Training"
      ],
      "metadata": {
        "id": "wjj-ltEdYvFk"
      }
    },
    {
      "cell_type": "code",
      "source": [
        "features = ['Open', 'High', 'Low', 'Volume', 'DailyReturn', 'MovingAverage', 'PriceToVolumeRatio']\n",
        "X = data[features]\n",
        "Y = data['Close']\n",
        "print(X.columns)\n",
        "print(Y.name)"
      ],
      "metadata": {
        "colab": {
          "base_uri": "https://localhost:8080/"
        },
        "id": "_bHGCAZ6Y1uS",
        "outputId": "156b10ac-7aca-4fa8-9234-8199bbc427cc"
      },
      "execution_count": 207,
      "outputs": [
        {
          "output_type": "stream",
          "name": "stdout",
          "text": [
            "Index(['Open', 'High', 'Low', 'Volume', 'DailyReturn', 'MovingAverage',\n",
            "       'PriceToVolumeRatio'],\n",
            "      dtype='object')\n",
            "Close\n"
          ]
        }
      ]
    },
    {
      "cell_type": "code",
      "source": [
        "imputer = SimpleImputer(strategy='mean')\n",
        "X = imputer.fit_transform(X)"
      ],
      "metadata": {
        "id": "8Vuk-PICZm74"
      },
      "execution_count": 208,
      "outputs": []
    },
    {
      "cell_type": "code",
      "source": [
        "X_train, X_test, y_train, y_test = train_test_split(X, Y, test_size=0.2, random_state=42)\n",
        "print(\"X_train shape:\", X_train.shape)\n",
        "print(\"X_test shape:\", X_test.shape)\n",
        "print(\"y_train shape:\", y_train.shape)\n",
        "print(\"y_test shape:\", y_test.shape)"
      ],
      "metadata": {
        "colab": {
          "base_uri": "https://localhost:8080/"
        },
        "id": "WcwGoMqWZ2oi",
        "outputId": "630bb980-52fe-43fb-9ef6-5453f865381d"
      },
      "execution_count": 209,
      "outputs": [
        {
          "output_type": "stream",
          "name": "stdout",
          "text": [
            "X_train shape: (199, 7)\n",
            "X_test shape: (50, 7)\n",
            "y_train shape: (199,)\n",
            "y_test shape: (50,)\n"
          ]
        }
      ]
    },
    {
      "cell_type": "code",
      "source": [
        "model = LinearRegression()"
      ],
      "metadata": {
        "id": "eLvqzc96Z9pf"
      },
      "execution_count": 210,
      "outputs": []
    },
    {
      "cell_type": "markdown",
      "source": [
        "> Model Evaluation"
      ],
      "metadata": {
        "id": "H8s3lnGmaa0M"
      }
    },
    {
      "cell_type": "code",
      "source": [
        "model.fit(X_train, y_train)\n",
        "predictions = model.predict(X_test)\n",
        "predictions"
      ],
      "metadata": {
        "colab": {
          "base_uri": "https://localhost:8080/"
        },
        "id": "mXOhCbt0acR6",
        "outputId": "54d4625d-460f-4738-97cc-ef6574b99551"
      },
      "execution_count": 211,
      "outputs": [
        {
          "output_type": "execute_result",
          "data": {
            "text/plain": [
              "array([348.1907123 , 270.78589377, 258.2871296 , 357.59659895,\n",
              "       279.27878679, 232.44825668, 243.89604557, 233.94078808,\n",
              "       290.25163363, 280.28747999, 275.72083563, 297.92993748,\n",
              "       267.29696863, 299.93555655, 346.43900509, 300.04113158,\n",
              "       237.05777353, 346.45178154, 237.21013379, 384.71536719,\n",
              "       285.90976854, 396.92573935, 298.65227684, 353.44704664,\n",
              "       234.70683464, 353.46778476, 336.01322822, 287.73846273,\n",
              "       349.5052757 , 366.24638617, 273.32053511, 375.05202409,\n",
              "       297.49041901, 223.6441999 , 351.79650452, 266.92148547,\n",
              "       367.43888429, 240.28344645, 213.94777134, 219.42979926,\n",
              "       335.18694721, 273.10481998, 273.43962405, 225.56079037,\n",
              "       250.1817186 , 349.97138204, 234.94368095, 368.3420379 ,\n",
              "       230.51596643, 380.71677181])"
            ]
          },
          "metadata": {},
          "execution_count": 211
        }
      ]
    },
    {
      "cell_type": "code",
      "source": [
        "print('Model Coefficients: \\n', model.coef_)\n",
        "print('Model Intercept: \\n', model.intercept_)"
      ],
      "metadata": {
        "colab": {
          "base_uri": "https://localhost:8080/"
        },
        "id": "qcgdcTyNbnvO",
        "outputId": "13545db8-b070-4194-c088-0c7cf39bd2f6"
      },
      "execution_count": 212,
      "outputs": [
        {
          "output_type": "stream",
          "name": "stdout",
          "text": [
            "Model Coefficients: \n",
            " [-9.38906926e-02  8.13059532e+01  1.04863781e+02  4.73729074e-08\n",
            "  1.20016289e+00  1.48664618e-01  6.73318266e+05]\n",
            "Model Intercept: \n",
            " 194.69111786880944\n"
          ]
        }
      ]
    },
    {
      "cell_type": "code",
      "source": [
        "print(\"Performance (R^2): \", model.score(X_train, y_train))"
      ],
      "metadata": {
        "colab": {
          "base_uri": "https://localhost:8080/"
        },
        "id": "5xwRVXJQb3SD",
        "outputId": "c7ac366a-5d26-40cb-9ced-efb70d483fe5"
      },
      "execution_count": 213,
      "outputs": [
        {
          "output_type": "stream",
          "name": "stdout",
          "text": [
            "Performance (R^2):  0.995311871841997\n"
          ]
        }
      ]
    },
    {
      "cell_type": "code",
      "source": [
        "mse = mean_squared_error(y_test, predictions)\n",
        "print(f'Mean Squared Error: {mse}')"
      ],
      "metadata": {
        "colab": {
          "base_uri": "https://localhost:8080/"
        },
        "id": "kwz8zF5XalCr",
        "outputId": "dbc2b424-8d3f-4957-e398-c155c0b0c91b"
      },
      "execution_count": 214,
      "outputs": [
        {
          "output_type": "stream",
          "name": "stdout",
          "text": [
            "Mean Squared Error: 13.267188620192698\n"
          ]
        }
      ]
    },
    {
      "cell_type": "code",
      "source": [
        "# Calculate Mean Absolute Error\n",
        "mae = mean_absolute_error(y_test, predictions)\n",
        "print(f'Mean Absolute Error: {mae:.2f}')"
      ],
      "metadata": {
        "colab": {
          "base_uri": "https://localhost:8080/"
        },
        "outputId": "2e4aa650-76bf-40e6-9a37-e4cb289de1c3",
        "id": "vm4vOWnhDPdf"
      },
      "execution_count": 215,
      "outputs": [
        {
          "output_type": "stream",
          "name": "stdout",
          "text": [
            "Mean Absolute Error: 2.69\n"
          ]
        }
      ]
    },
    {
      "cell_type": "code",
      "source": [
        "# Calculate R-squared\n",
        "r2 = r2_score(y_test, predictions)\n",
        "print(f'R-squared: {r2:.2f}')"
      ],
      "metadata": {
        "colab": {
          "base_uri": "https://localhost:8080/"
        },
        "outputId": "49b5a5d8-395a-42d3-a36d-ba92c7a2f9c2",
        "id": "cxCP_i8VDPdf"
      },
      "execution_count": 216,
      "outputs": [
        {
          "output_type": "stream",
          "name": "stdout",
          "text": [
            "R-squared: 1.00\n"
          ]
        }
      ]
    },
    {
      "cell_type": "code",
      "source": [
        "df_results = pd.DataFrame({'Date': pd.to_datetime(y_test.index, format='%Y-%m-%d'),\n",
        "                           'Actual_Close': y_test.values,\n",
        "                           'Predicted_Close': predictions})\n",
        "\n",
        "# Display the new DataFrame\n",
        "print(df_results)"
      ],
      "metadata": {
        "colab": {
          "base_uri": "https://localhost:8080/"
        },
        "id": "PBd_Pq2vgJ8O",
        "outputId": "e1f589f9-f727-4ead-a8cd-c205b59cc634"
      },
      "execution_count": 217,
      "outputs": [
        {
          "output_type": "stream",
          "name": "stdout",
          "text": [
            "                            Date  Actual_Close  Predicted_Close\n",
            "0  1970-01-01 00:00:00.000000141    336.260010       348.190712\n",
            "1  1970-01-01 00:00:00.000000010    270.359985       270.785894\n",
            "2  1970-01-01 00:00:00.000000101    254.679993       258.287130\n",
            "3  1970-01-01 00:00:00.000000064    356.779999       357.596599\n",
            "4  1970-01-01 00:00:00.000000116    280.076660       279.278787\n",
            "5  1970-01-01 00:00:00.000000184    235.070007       232.448257\n",
            "6  1970-01-01 00:00:00.000000200    240.546661       243.896046\n",
            "7  1970-01-01 00:00:00.000000187    232.663330       233.940788\n",
            "8  1970-01-01 00:00:00.000000013    290.036682       290.251634\n",
            "9  1970-01-01 00:00:00.000000108    279.429993       280.287480\n",
            "10 1970-01-01 00:00:00.000000203    271.706665       275.720836\n",
            "11 1970-01-01 00:00:00.000000219    300.029999       297.929937\n",
            "12 1970-01-01 00:00:00.000000205    268.433319       267.296969\n",
            "13 1970-01-01 00:00:00.000000243    303.350006       299.935557\n",
            "14 1970-01-01 00:00:00.000000071    352.706665       346.439005\n",
            "15 1970-01-01 00:00:00.000000227    297.096680       300.041132\n",
            "16 1970-01-01 00:00:00.000000197    237.039993       237.057774\n",
            "17 1970-01-01 00:00:00.000000019    339.476654       346.451782\n",
            "18 1970-01-01 00:00:00.000000166    235.910004       237.210134\n",
            "19 1970-01-01 00:00:00.000000028    387.646667       384.715367\n",
            "20 1970-01-01 00:00:00.000000250    282.940002       285.909769\n",
            "21 1970-01-01 00:00:00.000000023    402.863342       396.925739\n",
            "22 1970-01-01 00:00:00.000000118    301.796661       298.652277\n",
            "23 1970-01-01 00:00:00.000000072    354.799988       353.447047\n",
            "24 1970-01-01 00:00:00.000000179    233.000000       234.706835\n",
            "25 1970-01-01 00:00:00.000000049    356.320007       353.467785\n",
            "26 1970-01-01 00:00:00.000000059    336.290009       336.013228\n",
            "27 1970-01-01 00:00:00.000000014    288.089996       287.738463\n",
            "28 1970-01-01 00:00:00.000000034    351.576660       349.505276\n",
            "29 1970-01-01 00:00:00.000000124    363.946655       366.246386\n",
            "30 1970-01-01 00:00:00.000000204    272.243347       273.320535\n",
            "31 1970-01-01 00:00:00.000000037    379.019989       375.052024\n",
            "32 1970-01-01 00:00:00.000000144    292.140015       297.490419\n",
            "33 1970-01-01 00:00:00.000000163    224.966660       223.644200\n",
            "34 1970-01-01 00:00:00.000000029    341.166656       351.796505\n",
            "35 1970-01-01 00:00:00.000000115    267.296661       266.921485\n",
            "36 1970-01-01 00:00:00.000000022    371.333344       367.438884\n",
            "37 1970-01-01 00:00:00.000000199    240.066666       240.283446\n",
            "38 1970-01-01 00:00:00.000000177    215.736664       213.947771\n",
            "39 1970-01-01 00:00:00.000000162    221.300003       219.429799\n",
            "40 1970-01-01 00:00:00.000000122    337.973328       335.186947\n",
            "41 1970-01-01 00:00:00.000000100    273.843323       273.104820\n",
            "42 1970-01-01 00:00:00.000000112    279.433319       273.439624\n",
            "43 1970-01-01 00:00:00.000000188    228.490005       225.560790\n",
            "44 1970-01-01 00:00:00.000000194    250.763336       250.181719\n",
            "45 1970-01-01 00:00:00.000000020    345.953339       349.971382\n",
            "46 1970-01-01 00:00:00.000000198    238.313339       234.943681\n",
            "47 1970-01-01 00:00:00.000000073    368.739990       368.342038\n",
            "48 1970-01-01 00:00:00.000000176    232.229996       230.515966\n",
            "49 1970-01-01 00:00:00.000000042    378.996674       380.716772\n"
          ]
        }
      ]
    },
    {
      "cell_type": "code",
      "source": [
        "df_results[['Actual_Close', 'Predicted_Close']].plot()"
      ],
      "metadata": {
        "colab": {
          "base_uri": "https://localhost:8080/",
          "height": 447
        },
        "id": "n1vrLCwPaoJH",
        "outputId": "988474c9-3cf2-4bf6-a63f-d894e3c446ee"
      },
      "execution_count": 218,
      "outputs": [
        {
          "output_type": "execute_result",
          "data": {
            "text/plain": [
              "<Axes: >"
            ]
          },
          "metadata": {},
          "execution_count": 218
        },
        {
          "output_type": "display_data",
          "data": {
            "text/plain": [
              "<Figure size 640x480 with 1 Axes>"
            ],
            "image/png": "[encoded data removed]"
          },
          "metadata": {}
        }
      ]
    },
    {
      "cell_type": "code",
      "source": [
        "plt.figure(figsize=(8, 6))\n",
        "plt.scatter(y_test, predictions, color='blue', alpha=0.5)\n",
        "plt.plot([min(y_test), max(y_test)], [min(y_test), max(y_test)], linestyle='--', color='red', linewidth=2)\n",
        "plt.title('Actual vs. Predicted Values')\n",
        "plt.xlabel('Actual Values')\n",
        "plt.ylabel('Predicted Values')\n",
        "plt.show()"
      ],
      "metadata": {
        "colab": {
          "base_uri": "https://localhost:8080/",
          "height": 564
        },
        "id": "gHpxVOvTFLBF",
        "outputId": "e477d969-f647-4826-a237-b018ee53c13b"
      },
      "execution_count": 219,
      "outputs": [
        {
          "output_type": "display_data",
          "data": {
            "text/plain": [
              "<Figure size 800x600 with 1 Axes>"
            ],
            "image/png": "[encoded data removed]"
          },
          "metadata": {}
        }
      ]
    },
    {
      "cell_type": "markdown",
      "source": [
        "***NetFlix Dataset***\n",
        "\n",
        "> In this project, I selected NetFlix datasets which play a crucial role as they form the foundation for training and evaluating machine learning models i.e Linear Regression for stock market price prediction. Dataset represents historical stock market data for different assets, and understanding their characteristics is vital for building effective predictive models.\n",
        "\n",
        "\n",
        "> Features of dataset\n",
        "* Date: Essential for organizing data chronologically and identifying trends over time.\n",
        "* Open: The opening price of Datasets on a given day.\n",
        "* High: The highest price of Datasets on a given day.\n",
        "* Low: The lowest price of Datasets on a given day.\n",
        "* Close: The closing price of Datasets on a given day.\n",
        "* Adj Close: The adjusted closing price of Datasets on a given day, considering dividends, stock splits, etc.\n",
        "* Volume: The volume of Datasets traded on a given day.\n",
        "\n",
        "\n",
        "\n",
        "\n",
        "\n"
      ],
      "metadata": {
        "id": "S4qQHErLqllt"
      }
    },
    {
      "cell_type": "markdown",
      "source": [
        "*Load the dataset*"
      ],
      "metadata": {
        "id": "CCMgZlPcqllt"
      }
    },
    {
      "cell_type": "code",
      "source": [
        "data = pd.read_csv('NFLX.csv')\n",
        "print(data)"
      ],
      "metadata": {
        "colab": {
          "base_uri": "https://localhost:8080/"
        },
        "outputId": "7bc56f17-589b-4ff6-82d9-503537f85176",
        "id": "MxohPu7lqllu"
      },
      "execution_count": 220,
      "outputs": [
        {
          "output_type": "stream",
          "name": "stdout",
          "text": [
            "            Date        Open        High         Low       Close   Adj Close  \\\n",
            "0     2018-02-05  262.000000  267.899994  250.029999  254.259995  254.259995   \n",
            "1     2018-02-06  247.699997  266.700012  245.000000  265.720001  265.720001   \n",
            "2     2018-02-07  266.579987  272.450012  264.329987  264.559998  264.559998   \n",
            "3     2018-02-08  267.079987  267.619995  250.000000  250.100006  250.100006   \n",
            "4     2018-02-09  253.850006  255.800003  236.110001  249.470001  249.470001   \n",
            "...          ...         ...         ...         ...         ...         ...   \n",
            "1004  2022-01-31  401.970001  427.700012  398.200012  427.140015  427.140015   \n",
            "1005  2022-02-01  432.959991  458.480011  425.540009  457.130005  457.130005   \n",
            "1006  2022-02-02  448.250000  451.980011  426.480011  429.480011  429.480011   \n",
            "1007  2022-02-03  421.440002  429.260010  404.279999  405.600006  405.600006   \n",
            "1008  2022-02-04  407.309998  412.769989  396.640015  410.170013  410.170013   \n",
            "\n",
            "        Volume  \n",
            "0     11896100  \n",
            "1     12595800  \n",
            "2      8981500  \n",
            "3      9306700  \n",
            "4     16906900  \n",
            "...        ...  \n",
            "1004  20047500  \n",
            "1005  22542300  \n",
            "1006  14346000  \n",
            "1007   9905200  \n",
            "1008   7782400  \n",
            "\n",
            "[1009 rows x 7 columns]\n"
          ]
        }
      ]
    },
    {
      "cell_type": "markdown",
      "source": [
        "*Quick peek at functions:*"
      ],
      "metadata": {
        "id": "20CV-J-mqllu"
      }
    },
    {
      "cell_type": "code",
      "source": [
        "data.shape"
      ],
      "metadata": {
        "colab": {
          "base_uri": "https://localhost:8080/"
        },
        "outputId": "57bbf1b1-de08-4882-ea6d-74ee07427e4c",
        "id": "Tf4ijsxbqllv"
      },
      "execution_count": 221,
      "outputs": [
        {
          "output_type": "execute_result",
          "data": {
            "text/plain": [
              "(1009, 7)"
            ]
          },
          "metadata": {},
          "execution_count": 221
        }
      ]
    },
    {
      "cell_type": "code",
      "source": [
        "data.columns"
      ],
      "metadata": {
        "colab": {
          "base_uri": "https://localhost:8080/"
        },
        "outputId": "60dfe1a4-6a48-49a8-85d2-6624a49de368",
        "id": "0CYtlwgIqllv"
      },
      "execution_count": 222,
      "outputs": [
        {
          "output_type": "execute_result",
          "data": {
            "text/plain": [
              "Index(['Date', 'Open', 'High', 'Low', 'Close', 'Adj Close', 'Volume'], dtype='object')"
            ]
          },
          "metadata": {},
          "execution_count": 222
        }
      ]
    },
    {
      "cell_type": "code",
      "source": [
        "print(data.describe())"
      ],
      "metadata": {
        "colab": {
          "base_uri": "https://localhost:8080/"
        },
        "outputId": "a810082a-0b6b-4d76-effc-03e25aca6f29",
        "id": "yqYJyD0Xqllv"
      },
      "execution_count": 223,
      "outputs": [
        {
          "output_type": "stream",
          "name": "stdout",
          "text": [
            "              Open         High          Low        Close    Adj Close  \\\n",
            "count  1009.000000  1009.000000  1009.000000  1009.000000  1009.000000   \n",
            "mean    419.059673   425.320703   412.374044   419.000733   419.000733   \n",
            "std     108.537532   109.262960   107.555867   108.289999   108.289999   \n",
            "min     233.919998   250.649994   231.229996   233.880005   233.880005   \n",
            "25%     331.489990   336.299988   326.000000   331.619995   331.619995   \n",
            "50%     377.769989   383.010010   370.880005   378.670013   378.670013   \n",
            "75%     509.130005   515.630005   502.529999   509.079987   509.079987   \n",
            "max     692.349976   700.989990   686.090027   691.690002   691.690002   \n",
            "\n",
            "             Volume  \n",
            "count  1.009000e+03  \n",
            "mean   7.570685e+06  \n",
            "std    5.465535e+06  \n",
            "min    1.144000e+06  \n",
            "25%    4.091900e+06  \n",
            "50%    5.934500e+06  \n",
            "75%    9.322400e+06  \n",
            "max    5.890430e+07  \n"
          ]
        }
      ]
    },
    {
      "cell_type": "code",
      "source": [
        "print(data.info())"
      ],
      "metadata": {
        "colab": {
          "base_uri": "https://localhost:8080/"
        },
        "outputId": "131cd6e1-f1de-4f1b-b612-f61ca6b827b2",
        "id": "ata_4FEQqllw"
      },
      "execution_count": 224,
      "outputs": [
        {
          "output_type": "stream",
          "name": "stdout",
          "text": [
            "<class 'pandas.core.frame.DataFrame'>\n",
            "RangeIndex: 1009 entries, 0 to 1008\n",
            "Data columns (total 7 columns):\n",
            " #   Column     Non-Null Count  Dtype  \n",
            "---  ------     --------------  -----  \n",
            " 0   Date       1009 non-null   object \n",
            " 1   Open       1009 non-null   float64\n",
            " 2   High       1009 non-null   float64\n",
            " 3   Low        1009 non-null   float64\n",
            " 4   Close      1009 non-null   float64\n",
            " 5   Adj Close  1009 non-null   float64\n",
            " 6   Volume     1009 non-null   int64  \n",
            "dtypes: float64(5), int64(1), object(1)\n",
            "memory usage: 55.3+ KB\n",
            "None\n"
          ]
        }
      ]
    },
    {
      "cell_type": "markdown",
      "source": [
        "*Data Preprocessing*\n",
        "\n",
        "> Handling Missing Values:\n",
        "\n"
      ],
      "metadata": {
        "id": "A8UvEqowqllw"
      }
    },
    {
      "cell_type": "code",
      "source": [
        "missing_values = data.isnull().sum()\n",
        "print(\"Missing Values:\\n\", missing_values)\n",
        "data = data.dropna()\n",
        "print(\"Missing Values After Handling:\\n\", data.isnull().sum())"
      ],
      "metadata": {
        "colab": {
          "base_uri": "https://localhost:8080/"
        },
        "outputId": "c0ad1578-ded7-4379-e27e-9c942c901a12",
        "id": "tBKB3Z_bqllx"
      },
      "execution_count": 225,
      "outputs": [
        {
          "output_type": "stream",
          "name": "stdout",
          "text": [
            "Missing Values:\n",
            " Date         0\n",
            "Open         0\n",
            "High         0\n",
            "Low          0\n",
            "Close        0\n",
            "Adj Close    0\n",
            "Volume       0\n",
            "dtype: int64\n",
            "Missing Values After Handling:\n",
            " Date         0\n",
            "Open         0\n",
            "High         0\n",
            "Low          0\n",
            "Close        0\n",
            "Adj Close    0\n",
            "Volume       0\n",
            "dtype: int64\n"
          ]
        }
      ]
    },
    {
      "cell_type": "markdown",
      "source": [
        "\n",
        "\n",
        "> Feature Scaling\n",
        "\n"
      ],
      "metadata": {
        "id": "s_uVhS5_qllx"
      }
    },
    {
      "cell_type": "code",
      "source": [
        "from sklearn.preprocessing import MinMaxScaler\n",
        "scaler = MinMaxScaler()\n",
        "data[['High']] = scaler.fit_transform(data[['High']])\n",
        "data[['Low']] = scaler.fit_transform(data[['Low']])\n",
        "data"
      ],
      "metadata": {
        "colab": {
          "base_uri": "https://localhost:8080/",
          "height": 424
        },
        "outputId": "c964844c-deb7-4016-d338-5d88852091d3",
        "id": "T8YAllMPqllx"
      },
      "execution_count": 226,
      "outputs": [
        {
          "output_type": "execute_result",
          "data": {
            "text/plain": [
              "            Date        Open      High       Low       Close   Adj Close  \\\n",
              "0     2018-02-05  262.000000  0.038304  0.041331  254.259995  254.259995   \n",
              "1     2018-02-06  247.699997  0.035640  0.030273  265.720001  265.720001   \n",
              "2     2018-02-07  266.579987  0.048408  0.072770  264.559998  264.559998   \n",
              "3     2018-02-08  267.079987  0.037683  0.041265  250.100006  250.100006   \n",
              "4     2018-02-09  253.850006  0.011436  0.010729  249.470001  249.470001   \n",
              "...          ...         ...       ...       ...         ...         ...   \n",
              "1004  2022-01-31  401.970001  0.393147  0.367080  427.140015  427.140015   \n",
              "1005  2022-02-01  432.959991  0.461496  0.427186  457.130005  457.130005   \n",
              "1006  2022-02-02  448.250000  0.447062  0.429253  429.480011  429.480011   \n",
              "1007  2022-02-03  421.440002  0.396611  0.380447  405.600006  405.600006   \n",
              "1008  2022-02-04  407.309998  0.359995  0.363650  410.170013  410.170013   \n",
              "\n",
              "        Volume  \n",
              "0     11896100  \n",
              "1     12595800  \n",
              "2      8981500  \n",
              "3      9306700  \n",
              "4     16906900  \n",
              "...        ...  \n",
              "1004  20047500  \n",
              "1005  22542300  \n",
              "1006  14346000  \n",
              "1007   9905200  \n",
              "1008   7782400  \n",
              "\n",
              "[1009 rows x 7 columns]"
            ],
            "text/html": [
              "\n",
              "  <div id=\"df-c4493e4a-2500-4ad0-adb9-20bb4d69c724\" class=\"colab-df-container\">\n",
              "    <div>\n",
              "<style scoped>\n",
              "    .dataframe tbody tr th:only-of-type {\n",
              "        vertical-align: middle;\n",
              "    }\n",
              "\n",
              "    .dataframe tbody tr th {\n",
              "        vertical-align: top;\n",
              "    }\n",
              "\n",
              "    .dataframe thead th {\n",
              "        text-align: right;\n",
              "    }\n",
              "</style>\n",
              "<table border=\"1\" class=\"dataframe\">\n",
              "  <thead>\n",
              "    <tr style=\"text-align: right;\">\n",
              "      <th></th>\n",
              "      <th>Date</th>\n",
              "      <th>Open</th>\n",
              "      <th>High</th>\n",
              "      <th>Low</th>\n",
              "      <th>Close</th>\n",
              "      <th>Adj Close</th>\n",
              "      <th>Volume</th>\n",
              "    </tr>\n",
              "  </thead>\n",
              "  <tbody>\n",
              "    <tr>\n",
              "      <th>0</th>\n",
              "      <td>2018-02-05</td>\n",
              "      <td>262.000000</td>\n",
              "      <td>0.038304</td>\n",
              "      <td>0.041331</td>\n",
              "      <td>254.259995</td>\n",
              "      <td>254.259995</td>\n",
              "      <td>11896100</td>\n",
              "    </tr>\n",
              "    <tr>\n",
              "      <th>1</th>\n",
              "      <td>2018-02-06</td>\n",
              "      <td>247.699997</td>\n",
              "      <td>0.035640</td>\n",
              "      <td>0.030273</td>\n",
              "      <td>265.720001</td>\n",
              "      <td>265.720001</td>\n",
              "      <td>12595800</td>\n",
              "    </tr>\n",
              "    <tr>\n",
              "      <th>2</th>\n",
              "      <td>2018-02-07</td>\n",
              "      <td>266.579987</td>\n",
              "      <td>0.048408</td>\n",
              "      <td>0.072770</td>\n",
              "      <td>264.559998</td>\n",
              "      <td>264.559998</td>\n",
              "      <td>8981500</td>\n",
              "    </tr>\n",
              "    <tr>\n",
              "      <th>3</th>\n",
              "      <td>2018-02-08</td>\n",
              "      <td>267.079987</td>\n",
              "      <td>0.037683</td>\n",
              "      <td>0.041265</td>\n",
              "      <td>250.100006</td>\n",
              "      <td>250.100006</td>\n",
              "      <td>9306700</td>\n",
              "    </tr>\n",
              "    <tr>\n",
              "      <th>4</th>\n",
              "      <td>2018-02-09</td>\n",
              "      <td>253.850006</td>\n",
              "      <td>0.011436</td>\n",
              "      <td>0.010729</td>\n",
              "      <td>249.470001</td>\n",
              "      <td>249.470001</td>\n",
              "      <td>16906900</td>\n",
              "    </tr>\n",
              "    <tr>\n",
              "      <th>...</th>\n",
              "      <td>...</td>\n",
              "      <td>...</td>\n",
              "      <td>...</td>\n",
              "      <td>...</td>\n",
              "      <td>...</td>\n",
              "      <td>...</td>\n",
              "      <td>...</td>\n",
              "    </tr>\n",
              "    <tr>\n",
              "      <th>1004</th>\n",
              "      <td>2022-01-31</td>\n",
              "      <td>401.970001</td>\n",
              "      <td>0.393147</td>\n",
              "      <td>0.367080</td>\n",
              "      <td>427.140015</td>\n",
              "      <td>427.140015</td>\n",
              "      <td>20047500</td>\n",
              "    </tr>\n",
              "    <tr>\n",
              "      <th>1005</th>\n",
              "      <td>2022-02-01</td>\n",
              "      <td>432.959991</td>\n",
              "      <td>0.461496</td>\n",
              "      <td>0.427186</td>\n",
              "      <td>457.130005</td>\n",
              "      <td>457.130005</td>\n",
              "      <td>22542300</td>\n",
              "    </tr>\n",
              "    <tr>\n",
              "      <th>1006</th>\n",
              "      <td>2022-02-02</td>\n",
              "      <td>448.250000</td>\n",
              "      <td>0.447062</td>\n",
              "      <td>0.429253</td>\n",
              "      <td>429.480011</td>\n",
              "      <td>429.480011</td>\n",
              "      <td>14346000</td>\n",
              "    </tr>\n",
              "    <tr>\n",
              "      <th>1007</th>\n",
              "      <td>2022-02-03</td>\n",
              "      <td>421.440002</td>\n",
              "      <td>0.396611</td>\n",
              "      <td>0.380447</td>\n",
              "      <td>405.600006</td>\n",
              "      <td>405.600006</td>\n",
              "      <td>9905200</td>\n",
              "    </tr>\n",
              "    <tr>\n",
              "      <th>1008</th>\n",
              "      <td>2022-02-04</td>\n",
              "      <td>407.309998</td>\n",
              "      <td>0.359995</td>\n",
              "      <td>0.363650</td>\n",
              "      <td>410.170013</td>\n",
              "      <td>410.170013</td>\n",
              "      <td>7782400</td>\n",
              "    </tr>\n",
              "  </tbody>\n",
              "</table>\n",
              "<p>1009 rows × 7 columns</p>\n",
              "</div>\n",
              "    <div class=\"colab-df-buttons\">\n",
              "\n",
              "  <div class=\"colab-df-container\">\n",
              "    <button class=\"colab-df-convert\" onclick=\"convertToInteractive('df-c4493e4a-2500-4ad0-adb9-20bb4d69c724')\"\n",
              "            title=\"Convert this dataframe to an interactive table.\"\n",
              "            style=\"display:none;\">\n",
              "\n",
              "  <svg xmlns=\"http://www.w3.org/2000/svg\" height=\"24px\" viewBox=\"0 -960 960 960\">\n",
              "    <path d=\"M120-120v-720h720v720H120Zm60-500h600v-160H180v160Zm220 220h160v-160H400v160Zm0 220h160v-160H400v160ZM180-400h160v-160H180v160Zm440 0h160v-160H620v160ZM180-180h160v-160H180v160Zm440 0h160v-160H620v160Z\"/>\n",
              "  </svg>\n",
              "    </button>\n",
              "\n",
              "  <style>\n",
              "    .colab-df-container {\n",
              "      display:flex;\n",
              "      gap: 12px;\n",
              "    }\n",
              "\n",
              "    .colab-df-convert {\n",
              "      background-color: #E8F0FE;\n",
              "      border: none;\n",
              "      border-radius: 50%;\n",
              "      cursor: pointer;\n",
              "      display: none;\n",
              "      fill: #1967D2;\n",
              "      height: 32px;\n",
              "      padding: 0 0 0 0;\n",
              "      width: 32px;\n",
              "    }\n",
              "\n",
              "    .colab-df-convert:hover {\n",
              "      background-color: #E2EBFA;\n",
              "      box-shadow: 0px 1px 2px rgba(60, 64, 67, 0.3), 0px 1px 3px 1px rgba(60, 64, 67, 0.15);\n",
              "      fill: #174EA6;\n",
              "    }\n",
              "\n",
              "    .colab-df-buttons div {\n",
              "      margin-bottom: 4px;\n",
              "    }\n",
              "\n",
              "    [theme=dark] .colab-df-convert {\n",
              "      background-color: #3B4455;\n",
              "      fill: #D2E3FC;\n",
              "    }\n",
              "\n",
              "    [theme=dark] .colab-df-convert:hover {\n",
              "      background-color: #434B5C;\n",
              "      box-shadow: 0px 1px 3px 1px rgba(0, 0, 0, 0.15);\n",
              "      filter: drop-shadow(0px 1px 2px rgba(0, 0, 0, 0.3));\n",
              "      fill: #FFFFFF;\n",
              "    }\n",
              "  </style>\n",
              "\n",
              "    <script>\n",
              "      const buttonEl =\n",
              "        document.querySelector('#df-c4493e4a-2500-4ad0-adb9-20bb4d69c724 button.colab-df-convert');\n",
              "      buttonEl.style.display =\n",
              "        google.colab.kernel.accessAllowed ? 'block' : 'none';\n",
              "\n",
              "      async function convertToInteractive(key) {\n",
              "        const element = document.querySelector('#df-c4493e4a-2500-4ad0-adb9-20bb4d69c724');\n",
              "        const dataTable =\n",
              "          await google.colab.kernel.invokeFunction('convertToInteractive',\n",
              "                                                    [key], {});\n",
              "        if (!dataTable) return;\n",
              "\n",
              "        const docLinkHtml = 'Like what you see? Visit the ' +\n",
              "          '<a target=\"_blank\" href=https://colab.research.google.com/notebooks/data_table.ipynb>data table notebook</a>'\n",
              "          + ' to learn more about interactive tables.';\n",
              "        element.innerHTML = '';\n",
              "        dataTable['output_type'] = 'display_data';\n",
              "        await google.colab.output.renderOutput(dataTable, element);\n",
              "        const docLink = document.createElement('div');\n",
              "        docLink.innerHTML = docLinkHtml;\n",
              "        element.appendChild(docLink);\n",
              "      }\n",
              "    </script>\n",
              "  </div>\n",
              "\n",
              "\n",
              "<div id=\"df-0067084a-23cd-4445-ad25-380bf022580f\">\n",
              "  <button class=\"colab-df-quickchart\" onclick=\"quickchart('df-0067084a-23cd-4445-ad25-380bf022580f')\"\n",
              "            title=\"Suggest charts\"\n",
              "            style=\"display:none;\">\n",
              "\n",
              "<svg xmlns=\"http://www.w3.org/2000/svg\" height=\"24px\"viewBox=\"0 0 24 24\"\n",
              "     width=\"24px\">\n",
              "    <g>\n",
              "        <path d=\"M19 3H5c-1.1 0-2 .9-2 2v14c0 1.1.9 2 2 2h14c1.1 0 2-.9 2-2V5c0-1.1-.9-2-2-2zM9 17H7v-7h2v7zm4 0h-2V7h2v10zm4 0h-2v-4h2v4z\"/>\n",
              "    </g>\n",
              "</svg>\n",
              "  </button>\n",
              "\n",
              "<style>\n",
              "  .colab-df-quickchart {\n",
              "      --bg-color: #E8F0FE;\n",
              "      --fill-color: #1967D2;\n",
              "      --hover-bg-color: #E2EBFA;\n",
              "      --hover-fill-color: #174EA6;\n",
              "      --disabled-fill-color: #AAA;\n",
              "      --disabled-bg-color: #DDD;\n",
              "  }\n",
              "\n",
              "  [theme=dark] .colab-df-quickchart {\n",
              "      --bg-color: #3B4455;\n",
              "      --fill-color: #D2E3FC;\n",
              "      --hover-bg-color: #434B5C;\n",
              "      --hover-fill-color: #FFFFFF;\n",
              "      --disabled-bg-color: #3B4455;\n",
              "      --disabled-fill-color: #666;\n",
              "  }\n",
              "\n",
              "  .colab-df-quickchart {\n",
              "    background-color: var(--bg-color);\n",
              "    border: none;\n",
              "    border-radius: 50%;\n",
              "    cursor: pointer;\n",
              "    display: none;\n",
              "    fill: var(--fill-color);\n",
              "    height: 32px;\n",
              "    padding: 0;\n",
              "    width: 32px;\n",
              "  }\n",
              "\n",
              "  .colab-df-quickchart:hover {\n",
              "    background-color: var(--hover-bg-color);\n",
              "    box-shadow: 0 1px 2px rgba(60, 64, 67, 0.3), 0 1px 3px 1px rgba(60, 64, 67, 0.15);\n",
              "    fill: var(--button-hover-fill-color);\n",
              "  }\n",
              "\n",
              "  .colab-df-quickchart-complete:disabled,\n",
              "  .colab-df-quickchart-complete:disabled:hover {\n",
              "    background-color: var(--disabled-bg-color);\n",
              "    fill: var(--disabled-fill-color);\n",
              "    box-shadow: none;\n",
              "  }\n",
              "\n",
              "  .colab-df-spinner {\n",
              "    border: 2px solid var(--fill-color);\n",
              "    border-color: transparent;\n",
              "    border-bottom-color: var(--fill-color);\n",
              "    animation:\n",
              "      spin 1s steps(1) infinite;\n",
              "  }\n",
              "\n",
              "  @keyframes spin {\n",
              "    0% {\n",
              "      border-color: transparent;\n",
              "      border-bottom-color: var(--fill-color);\n",
              "      border-left-color: var(--fill-color);\n",
              "    }\n",
              "    20% {\n",
              "      border-color: transparent;\n",
              "      border-left-color: var(--fill-color);\n",
              "      border-top-color: var(--fill-color);\n",
              "    }\n",
              "    30% {\n",
              "      border-color: transparent;\n",
              "      border-left-color: var(--fill-color);\n",
              "      border-top-color: var(--fill-color);\n",
              "      border-right-color: var(--fill-color);\n",
              "    }\n",
              "    40% {\n",
              "      border-color: transparent;\n",
              "      border-right-color: var(--fill-color);\n",
              "      border-top-color: var(--fill-color);\n",
              "    }\n",
              "    60% {\n",
              "      border-color: transparent;\n",
              "      border-right-color: var(--fill-color);\n",
              "    }\n",
              "    80% {\n",
              "      border-color: transparent;\n",
              "      border-right-color: var(--fill-color);\n",
              "      border-bottom-color: var(--fill-color);\n",
              "    }\n",
              "    90% {\n",
              "      border-color: transparent;\n",
              "      border-bottom-color: var(--fill-color);\n",
              "    }\n",
              "  }\n",
              "</style>\n",
              "\n",
              "  <script>\n",
              "    async function quickchart(key) {\n",
              "      const quickchartButtonEl =\n",
              "        document.querySelector('#' + key + ' button');\n",
              "      quickchartButtonEl.disabled = true;  // To prevent multiple clicks.\n",
              "      quickchartButtonEl.classList.add('colab-df-spinner');\n",
              "      try {\n",
              "        const charts = await google.colab.kernel.invokeFunction(\n",
              "            'suggestCharts', [key], {});\n",
              "      } catch (error) {\n",
              "        console.error('Error during call to suggestCharts:', error);\n",
              "      }\n",
              "      quickchartButtonEl.classList.remove('colab-df-spinner');\n",
              "      quickchartButtonEl.classList.add('colab-df-quickchart-complete');\n",
              "    }\n",
              "    (() => {\n",
              "      let quickchartButtonEl =\n",
              "        document.querySelector('#df-0067084a-23cd-4445-ad25-380bf022580f button');\n",
              "      quickchartButtonEl.style.display =\n",
              "        google.colab.kernel.accessAllowed ? 'block' : 'none';\n",
              "    })();\n",
              "  </script>\n",
              "</div>\n",
              "\n",
              "  <div id=\"id_35cf8f61-1d46-4556-818a-1e76b45ce3c6\">\n",
              "    <style>\n",
              "      .colab-df-generate {\n",
              "        background-color: #E8F0FE;\n",
              "        border: none;\n",
              "        border-radius: 50%;\n",
              "        cursor: pointer;\n",
              "        display: none;\n",
              "        fill: #1967D2;\n",
              "        height: 32px;\n",
              "        padding: 0 0 0 0;\n",
              "        width: 32px;\n",
              "      }\n",
              "\n",
              "      .colab-df-generate:hover {\n",
              "        background-color: #E2EBFA;\n",
              "        box-shadow: 0px 1px 2px rgba(60, 64, 67, 0.3), 0px 1px 3px 1px rgba(60, 64, 67, 0.15);\n",
              "        fill: #174EA6;\n",
              "      }\n",
              "\n",
              "      [theme=dark] .colab-df-generate {\n",
              "        background-color: #3B4455;\n",
              "        fill: #D2E3FC;\n",
              "      }\n",
              "\n",
              "      [theme=dark] .colab-df-generate:hover {\n",
              "        background-color: #434B5C;\n",
              "        box-shadow: 0px 1px 3px 1px rgba(0, 0, 0, 0.15);\n",
              "        filter: drop-shadow(0px 1px 2px rgba(0, 0, 0, 0.3));\n",
              "        fill: #FFFFFF;\n",
              "      }\n",
              "    </style>\n",
              "    <button class=\"colab-df-generate\" onclick=\"generateWithVariable('data')\"\n",
              "            title=\"Generate code using this dataframe.\"\n",
              "            style=\"display:none;\">\n",
              "\n",
              "  <svg xmlns=\"http://www.w3.org/2000/svg\" height=\"24px\"viewBox=\"0 0 24 24\"\n",
              "       width=\"24px\">\n",
              "    <path d=\"M7,19H8.4L18.45,9,17,7.55,7,17.6ZM5,21V16.75L18.45,3.32a2,2,0,0,1,2.83,0l1.4,1.43a1.91,1.91,0,0,1,.58,1.4,1.91,1.91,0,0,1-.58,1.4L9.25,21ZM18.45,9,17,7.55Zm-12,3A5.31,5.31,0,0,0,4.9,8.1,5.31,5.31,0,0,0,1,6.5,5.31,5.31,0,0,0,4.9,4.9,5.31,5.31,0,0,0,6.5,1,5.31,5.31,0,0,0,8.1,4.9,5.31,5.31,0,0,0,12,6.5,5.46,5.46,0,0,0,6.5,12Z\"/>\n",
              "  </svg>\n",
              "    </button>\n",
              "    <script>\n",
              "      (() => {\n",
              "      const buttonEl =\n",
              "        document.querySelector('#id_35cf8f61-1d46-4556-818a-1e76b45ce3c6 button.colab-df-generate');\n",
              "      buttonEl.style.display =\n",
              "        google.colab.kernel.accessAllowed ? 'block' : 'none';\n",
              "\n",
              "      buttonEl.onclick = () => {\n",
              "        google.colab.notebook.generateWithVariable('data');\n",
              "      }\n",
              "      })();\n",
              "    </script>\n",
              "  </div>\n",
              "\n",
              "    </div>\n",
              "  </div>\n"
            ]
          },
          "metadata": {},
          "execution_count": 226
        }
      ]
    },
    {
      "cell_type": "markdown",
      "source": [
        "\n",
        "\n",
        "> Feature Engineering\n",
        "\n"
      ],
      "metadata": {
        "id": "lHf0ch9fqlly"
      }
    },
    {
      "cell_type": "code",
      "source": [
        "data['DailyReturn'] = data['Adj Close'].pct_change() * 100\n",
        "data['MovingAverage'] = data['Adj Close'].rolling(window=5).mean()\n",
        "data['PriceToVolumeRatio'] = data['Adj Close']/data['Volume']\n",
        "data=data.dropna()\n",
        "data"
      ],
      "metadata": {
        "colab": {
          "base_uri": "https://localhost:8080/",
          "height": 617
        },
        "outputId": "661b8f7a-8fc5-4d1e-9373-ea7abca866c3",
        "id": "bx1pCkUHqlly"
      },
      "execution_count": 227,
      "outputs": [
        {
          "output_type": "execute_result",
          "data": {
            "text/plain": [
              "            Date        Open      High       Low       Close   Adj Close  \\\n",
              "4     2018-02-09  253.850006  0.011436  0.010729  249.470001  249.470001   \n",
              "5     2018-02-12  252.139999  0.018875  0.039067  257.950012  257.950012   \n",
              "6     2018-02-13  257.290009  0.023893  0.051598  258.269989  258.269989   \n",
              "7     2018-02-14  260.470001  0.042701  0.063976  266.000000  266.000000   \n",
              "8     2018-02-15  270.029999  0.066283  0.080025  280.269989  280.269989   \n",
              "...          ...         ...       ...       ...         ...         ...   \n",
              "1004  2022-01-31  401.970001  0.393147  0.367080  427.140015  427.140015   \n",
              "1005  2022-02-01  432.959991  0.461496  0.427186  457.130005  457.130005   \n",
              "1006  2022-02-02  448.250000  0.447062  0.429253  429.480011  429.480011   \n",
              "1007  2022-02-03  421.440002  0.396611  0.380447  405.600006  405.600006   \n",
              "1008  2022-02-04  407.309998  0.359995  0.363650  410.170013  410.170013   \n",
              "\n",
              "        Volume  DailyReturn  MovingAverage  PriceToVolumeRatio  \n",
              "4     16906900    -0.251901     256.822000            0.000015  \n",
              "5      8534900     3.399211     257.560004            0.000030  \n",
              "6      6855200     0.124046     256.070001            0.000038  \n",
              "7     10972000     2.992996     256.358002            0.000024  \n",
              "8     10759700     5.364658     262.391998            0.000026  \n",
              "...        ...          ...            ...                 ...  \n",
              "1004  20047500    11.130199     384.864007            0.000021  \n",
              "1005  22542300     7.021115     403.006006            0.000020  \n",
              "1006  14346000    -6.048606     416.962006            0.000030  \n",
              "1007   9905200    -5.560213     420.742004            0.000041  \n",
              "1008   7782400     1.126728     425.904010            0.000053  \n",
              "\n",
              "[1005 rows x 10 columns]"
            ],
            "text/html": [
              "\n",
              "  <div id=\"df-3f020b99-eb81-4566-aed4-26f4033048f5\" class=\"colab-df-container\">\n",
              "    <div>\n",
              "<style scoped>\n",
              "    .dataframe tbody tr th:only-of-type {\n",
              "        vertical-align: middle;\n",
              "    }\n",
              "\n",
              "    .dataframe tbody tr th {\n",
              "        vertical-align: top;\n",
              "    }\n",
              "\n",
              "    .dataframe thead th {\n",
              "        text-align: right;\n",
              "    }\n",
              "</style>\n",
              "<table border=\"1\" class=\"dataframe\">\n",
              "  <thead>\n",
              "    <tr style=\"text-align: right;\">\n",
              "      <th></th>\n",
              "      <th>Date</th>\n",
              "      <th>Open</th>\n",
              "      <th>High</th>\n",
              "      <th>Low</th>\n",
              "      <th>Close</th>\n",
              "      <th>Adj Close</th>\n",
              "      <th>Volume</th>\n",
              "      <th>DailyReturn</th>\n",
              "      <th>MovingAverage</th>\n",
              "      <th>PriceToVolumeRatio</th>\n",
              "    </tr>\n",
              "  </thead>\n",
              "  <tbody>\n",
              "    <tr>\n",
              "      <th>4</th>\n",
              "      <td>2018-02-09</td>\n",
              "      <td>253.850006</td>\n",
              "      <td>0.011436</td>\n",
              "      <td>0.010729</td>\n",
              "      <td>249.470001</td>\n",
              "      <td>249.470001</td>\n",
              "      <td>16906900</td>\n",
              "      <td>-0.251901</td>\n",
              "      <td>256.822000</td>\n",
              "      <td>0.000015</td>\n",
              "    </tr>\n",
              "    <tr>\n",
              "      <th>5</th>\n",
              "      <td>2018-02-12</td>\n",
              "      <td>252.139999</td>\n",
              "      <td>0.018875</td>\n",
              "      <td>0.039067</td>\n",
              "      <td>257.950012</td>\n",
              "      <td>257.950012</td>\n",
              "      <td>8534900</td>\n",
              "      <td>3.399211</td>\n",
              "      <td>257.560004</td>\n",
              "      <td>0.000030</td>\n",
              "    </tr>\n",
              "    <tr>\n",
              "      <th>6</th>\n",
              "      <td>2018-02-13</td>\n",
              "      <td>257.290009</td>\n",
              "      <td>0.023893</td>\n",
              "      <td>0.051598</td>\n",
              "      <td>258.269989</td>\n",
              "      <td>258.269989</td>\n",
              "      <td>6855200</td>\n",
              "      <td>0.124046</td>\n",
              "      <td>256.070001</td>\n",
              "      <td>0.000038</td>\n",
              "    </tr>\n",
              "    <tr>\n",
              "      <th>7</th>\n",
              "      <td>2018-02-14</td>\n",
              "      <td>260.470001</td>\n",
              "      <td>0.042701</td>\n",
              "      <td>0.063976</td>\n",
              "      <td>266.000000</td>\n",
              "      <td>266.000000</td>\n",
              "      <td>10972000</td>\n",
              "      <td>2.992996</td>\n",
              "      <td>256.358002</td>\n",
              "      <td>0.000024</td>\n",
              "    </tr>\n",
              "    <tr>\n",
              "      <th>8</th>\n",
              "      <td>2018-02-15</td>\n",
              "      <td>270.029999</td>\n",
              "      <td>0.066283</td>\n",
              "      <td>0.080025</td>\n",
              "      <td>280.269989</td>\n",
              "      <td>280.269989</td>\n",
              "      <td>10759700</td>\n",
              "      <td>5.364658</td>\n",
              "      <td>262.391998</td>\n",
              "      <td>0.000026</td>\n",
              "    </tr>\n",
              "    <tr>\n",
              "      <th>...</th>\n",
              "      <td>...</td>\n",
              "      <td>...</td>\n",
              "      <td>...</td>\n",
              "      <td>...</td>\n",
              "      <td>...</td>\n",
              "      <td>...</td>\n",
              "      <td>...</td>\n",
              "      <td>...</td>\n",
              "      <td>...</td>\n",
              "      <td>...</td>\n",
              "    </tr>\n",
              "    <tr>\n",
              "      <th>1004</th>\n",
              "      <td>2022-01-31</td>\n",
              "      <td>401.970001</td>\n",
              "      <td>0.393147</td>\n",
              "      <td>0.367080</td>\n",
              "      <td>427.140015</td>\n",
              "      <td>427.140015</td>\n",
              "      <td>20047500</td>\n",
              "      <td>11.130199</td>\n",
              "      <td>384.864007</td>\n",
              "      <td>0.000021</td>\n",
              "    </tr>\n",
              "    <tr>\n",
              "      <th>1005</th>\n",
              "      <td>2022-02-01</td>\n",
              "      <td>432.959991</td>\n",
              "      <td>0.461496</td>\n",
              "      <td>0.427186</td>\n",
              "      <td>457.130005</td>\n",
              "      <td>457.130005</td>\n",
              "      <td>22542300</td>\n",
              "      <td>7.021115</td>\n",
              "      <td>403.006006</td>\n",
              "      <td>0.000020</td>\n",
              "    </tr>\n",
              "    <tr>\n",
              "      <th>1006</th>\n",
              "      <td>2022-02-02</td>\n",
              "      <td>448.250000</td>\n",
              "      <td>0.447062</td>\n",
              "      <td>0.429253</td>\n",
              "      <td>429.480011</td>\n",
              "      <td>429.480011</td>\n",
              "      <td>14346000</td>\n",
              "      <td>-6.048606</td>\n",
              "      <td>416.962006</td>\n",
              "      <td>0.000030</td>\n",
              "    </tr>\n",
              "    <tr>\n",
              "      <th>1007</th>\n",
              "      <td>2022-02-03</td>\n",
              "      <td>421.440002</td>\n",
              "      <td>0.396611</td>\n",
              "      <td>0.380447</td>\n",
              "      <td>405.600006</td>\n",
              "      <td>405.600006</td>\n",
              "      <td>9905200</td>\n",
              "      <td>-5.560213</td>\n",
              "      <td>420.742004</td>\n",
              "      <td>0.000041</td>\n",
              "    </tr>\n",
              "    <tr>\n",
              "      <th>1008</th>\n",
              "      <td>2022-02-04</td>\n",
              "      <td>407.309998</td>\n",
              "      <td>0.359995</td>\n",
              "      <td>0.363650</td>\n",
              "      <td>410.170013</td>\n",
              "      <td>410.170013</td>\n",
              "      <td>7782400</td>\n",
              "      <td>1.126728</td>\n",
              "      <td>425.904010</td>\n",
              "      <td>0.000053</td>\n",
              "    </tr>\n",
              "  </tbody>\n",
              "</table>\n",
              "<p>1005 rows × 10 columns</p>\n",
              "</div>\n",
              "    <div class=\"colab-df-buttons\">\n",
              "\n",
              "  <div class=\"colab-df-container\">\n",
              "    <button class=\"colab-df-convert\" onclick=\"convertToInteractive('df-3f020b99-eb81-4566-aed4-26f4033048f5')\"\n",
              "            title=\"Convert this dataframe to an interactive table.\"\n",
              "            style=\"display:none;\">\n",
              "\n",
              "  <svg xmlns=\"http://www.w3.org/2000/svg\" height=\"24px\" viewBox=\"0 -960 960 960\">\n",
              "    <path d=\"M120-120v-720h720v720H120Zm60-500h600v-160H180v160Zm220 220h160v-160H400v160Zm0 220h160v-160H400v160ZM180-400h160v-160H180v160Zm440 0h160v-160H620v160ZM180-180h160v-160H180v160Zm440 0h160v-160H620v160Z\"/>\n",
              "  </svg>\n",
              "    </button>\n",
              "\n",
              "  <style>\n",
              "    .colab-df-container {\n",
              "      display:flex;\n",
              "      gap: 12px;\n",
              "    }\n",
              "\n",
              "    .colab-df-convert {\n",
              "      background-color: #E8F0FE;\n",
              "      border: none;\n",
              "      border-radius: 50%;\n",
              "      cursor: pointer;\n",
              "      display: none;\n",
              "      fill: #1967D2;\n",
              "      height: 32px;\n",
              "      padding: 0 0 0 0;\n",
              "      width: 32px;\n",
              "    }\n",
              "\n",
              "    .colab-df-convert:hover {\n",
              "      background-color: #E2EBFA;\n",
              "      box-shadow: 0px 1px 2px rgba(60, 64, 67, 0.3), 0px 1px 3px 1px rgba(60, 64, 67, 0.15);\n",
              "      fill: #174EA6;\n",
              "    }\n",
              "\n",
              "    .colab-df-buttons div {\n",
              "      margin-bottom: 4px;\n",
              "    }\n",
              "\n",
              "    [theme=dark] .colab-df-convert {\n",
              "      background-color: #3B4455;\n",
              "      fill: #D2E3FC;\n",
              "    }\n",
              "\n",
              "    [theme=dark] .colab-df-convert:hover {\n",
              "      background-color: #434B5C;\n",
              "      box-shadow: 0px 1px 3px 1px rgba(0, 0, 0, 0.15);\n",
              "      filter: drop-shadow(0px 1px 2px rgba(0, 0, 0, 0.3));\n",
              "      fill: #FFFFFF;\n",
              "    }\n",
              "  </style>\n",
              "\n",
              "    <script>\n",
              "      const buttonEl =\n",
              "        document.querySelector('#df-3f020b99-eb81-4566-aed4-26f4033048f5 button.colab-df-convert');\n",
              "      buttonEl.style.display =\n",
              "        google.colab.kernel.accessAllowed ? 'block' : 'none';\n",
              "\n",
              "      async function convertToInteractive(key) {\n",
              "        const element = document.querySelector('#df-3f020b99-eb81-4566-aed4-26f4033048f5');\n",
              "        const dataTable =\n",
              "          await google.colab.kernel.invokeFunction('convertToInteractive',\n",
              "                                                    [key], {});\n",
              "        if (!dataTable) return;\n",
              "\n",
              "        const docLinkHtml = 'Like what you see? Visit the ' +\n",
              "          '<a target=\"_blank\" href=https://colab.research.google.com/notebooks/data_table.ipynb>data table notebook</a>'\n",
              "          + ' to learn more about interactive tables.';\n",
              "        element.innerHTML = '';\n",
              "        dataTable['output_type'] = 'display_data';\n",
              "        await google.colab.output.renderOutput(dataTable, element);\n",
              "        const docLink = document.createElement('div');\n",
              "        docLink.innerHTML = docLinkHtml;\n",
              "        element.appendChild(docLink);\n",
              "      }\n",
              "    </script>\n",
              "  </div>\n",
              "\n",
              "\n",
              "<div id=\"df-43f7bf51-f923-40fb-9600-071196bebefc\">\n",
              "  <button class=\"colab-df-quickchart\" onclick=\"quickchart('df-43f7bf51-f923-40fb-9600-071196bebefc')\"\n",
              "            title=\"Suggest charts\"\n",
              "            style=\"display:none;\">\n",
              "\n",
              "<svg xmlns=\"http://www.w3.org/2000/svg\" height=\"24px\"viewBox=\"0 0 24 24\"\n",
              "     width=\"24px\">\n",
              "    <g>\n",
              "        <path d=\"M19 3H5c-1.1 0-2 .9-2 2v14c0 1.1.9 2 2 2h14c1.1 0 2-.9 2-2V5c0-1.1-.9-2-2-2zM9 17H7v-7h2v7zm4 0h-2V7h2v10zm4 0h-2v-4h2v4z\"/>\n",
              "    </g>\n",
              "</svg>\n",
              "  </button>\n",
              "\n",
              "<style>\n",
              "  .colab-df-quickchart {\n",
              "      --bg-color: #E8F0FE;\n",
              "      --fill-color: #1967D2;\n",
              "      --hover-bg-color: #E2EBFA;\n",
              "      --hover-fill-color: #174EA6;\n",
              "      --disabled-fill-color: #AAA;\n",
              "      --disabled-bg-color: #DDD;\n",
              "  }\n",
              "\n",
              "  [theme=dark] .colab-df-quickchart {\n",
              "      --bg-color: #3B4455;\n",
              "      --fill-color: #D2E3FC;\n",
              "      --hover-bg-color: #434B5C;\n",
              "      --hover-fill-color: #FFFFFF;\n",
              "      --disabled-bg-color: #3B4455;\n",
              "      --disabled-fill-color: #666;\n",
              "  }\n",
              "\n",
              "  .colab-df-quickchart {\n",
              "    background-color: var(--bg-color);\n",
              "    border: none;\n",
              "    border-radius: 50%;\n",
              "    cursor: pointer;\n",
              "    display: none;\n",
              "    fill: var(--fill-color);\n",
              "    height: 32px;\n",
              "    padding: 0;\n",
              "    width: 32px;\n",
              "  }\n",
              "\n",
              "  .colab-df-quickchart:hover {\n",
              "    background-color: var(--hover-bg-color);\n",
              "    box-shadow: 0 1px 2px rgba(60, 64, 67, 0.3), 0 1px 3px 1px rgba(60, 64, 67, 0.15);\n",
              "    fill: var(--button-hover-fill-color);\n",
              "  }\n",
              "\n",
              "  .colab-df-quickchart-complete:disabled,\n",
              "  .colab-df-quickchart-complete:disabled:hover {\n",
              "    background-color: var(--disabled-bg-color);\n",
              "    fill: var(--disabled-fill-color);\n",
              "    box-shadow: none;\n",
              "  }\n",
              "\n",
              "  .colab-df-spinner {\n",
              "    border: 2px solid var(--fill-color);\n",
              "    border-color: transparent;\n",
              "    border-bottom-color: var(--fill-color);\n",
              "    animation:\n",
              "      spin 1s steps(1) infinite;\n",
              "  }\n",
              "\n",
              "  @keyframes spin {\n",
              "    0% {\n",
              "      border-color: transparent;\n",
              "      border-bottom-color: var(--fill-color);\n",
              "      border-left-color: var(--fill-color);\n",
              "    }\n",
              "    20% {\n",
              "      border-color: transparent;\n",
              "      border-left-color: var(--fill-color);\n",
              "      border-top-color: var(--fill-color);\n",
              "    }\n",
              "    30% {\n",
              "      border-color: transparent;\n",
              "      border-left-color: var(--fill-color);\n",
              "      border-top-color: var(--fill-color);\n",
              "      border-right-color: var(--fill-color);\n",
              "    }\n",
              "    40% {\n",
              "      border-color: transparent;\n",
              "      border-right-color: var(--fill-color);\n",
              "      border-top-color: var(--fill-color);\n",
              "    }\n",
              "    60% {\n",
              "      border-color: transparent;\n",
              "      border-right-color: var(--fill-color);\n",
              "    }\n",
              "    80% {\n",
              "      border-color: transparent;\n",
              "      border-right-color: var(--fill-color);\n",
              "      border-bottom-color: var(--fill-color);\n",
              "    }\n",
              "    90% {\n",
              "      border-color: transparent;\n",
              "      border-bottom-color: var(--fill-color);\n",
              "    }\n",
              "  }\n",
              "</style>\n",
              "\n",
              "  <script>\n",
              "    async function quickchart(key) {\n",
              "      const quickchartButtonEl =\n",
              "        document.querySelector('#' + key + ' button');\n",
              "      quickchartButtonEl.disabled = true;  // To prevent multiple clicks.\n",
              "      quickchartButtonEl.classList.add('colab-df-spinner');\n",
              "      try {\n",
              "        const charts = await google.colab.kernel.invokeFunction(\n",
              "            'suggestCharts', [key], {});\n",
              "      } catch (error) {\n",
              "        console.error('Error during call to suggestCharts:', error);\n",
              "      }\n",
              "      quickchartButtonEl.classList.remove('colab-df-spinner');\n",
              "      quickchartButtonEl.classList.add('colab-df-quickchart-complete');\n",
              "    }\n",
              "    (() => {\n",
              "      let quickchartButtonEl =\n",
              "        document.querySelector('#df-43f7bf51-f923-40fb-9600-071196bebefc button');\n",
              "      quickchartButtonEl.style.display =\n",
              "        google.colab.kernel.accessAllowed ? 'block' : 'none';\n",
              "    })();\n",
              "  </script>\n",
              "</div>\n",
              "\n",
              "  <div id=\"id_ffed9ebf-dd9b-4ef8-bc85-0596ac6c243f\">\n",
              "    <style>\n",
              "      .colab-df-generate {\n",
              "        background-color: #E8F0FE;\n",
              "        border: none;\n",
              "        border-radius: 50%;\n",
              "        cursor: pointer;\n",
              "        display: none;\n",
              "        fill: #1967D2;\n",
              "        height: 32px;\n",
              "        padding: 0 0 0 0;\n",
              "        width: 32px;\n",
              "      }\n",
              "\n",
              "      .colab-df-generate:hover {\n",
              "        background-color: #E2EBFA;\n",
              "        box-shadow: 0px 1px 2px rgba(60, 64, 67, 0.3), 0px 1px 3px 1px rgba(60, 64, 67, 0.15);\n",
              "        fill: #174EA6;\n",
              "      }\n",
              "\n",
              "      [theme=dark] .colab-df-generate {\n",
              "        background-color: #3B4455;\n",
              "        fill: #D2E3FC;\n",
              "      }\n",
              "\n",
              "      [theme=dark] .colab-df-generate:hover {\n",
              "        background-color: #434B5C;\n",
              "        box-shadow: 0px 1px 3px 1px rgba(0, 0, 0, 0.15);\n",
              "        filter: drop-shadow(0px 1px 2px rgba(0, 0, 0, 0.3));\n",
              "        fill: #FFFFFF;\n",
              "      }\n",
              "    </style>\n",
              "    <button class=\"colab-df-generate\" onclick=\"generateWithVariable('data')\"\n",
              "            title=\"Generate code using this dataframe.\"\n",
              "            style=\"display:none;\">\n",
              "\n",
              "  <svg xmlns=\"http://www.w3.org/2000/svg\" height=\"24px\"viewBox=\"0 0 24 24\"\n",
              "       width=\"24px\">\n",
              "    <path d=\"M7,19H8.4L18.45,9,17,7.55,7,17.6ZM5,21V16.75L18.45,3.32a2,2,0,0,1,2.83,0l1.4,1.43a1.91,1.91,0,0,1,.58,1.4,1.91,1.91,0,0,1-.58,1.4L9.25,21ZM18.45,9,17,7.55Zm-12,3A5.31,5.31,0,0,0,4.9,8.1,5.31,5.31,0,0,0,1,6.5,5.31,5.31,0,0,0,4.9,4.9,5.31,5.31,0,0,0,6.5,1,5.31,5.31,0,0,0,8.1,4.9,5.31,5.31,0,0,0,12,6.5,5.46,5.46,0,0,0,6.5,12Z\"/>\n",
              "  </svg>\n",
              "    </button>\n",
              "    <script>\n",
              "      (() => {\n",
              "      const buttonEl =\n",
              "        document.querySelector('#id_ffed9ebf-dd9b-4ef8-bc85-0596ac6c243f button.colab-df-generate');\n",
              "      buttonEl.style.display =\n",
              "        google.colab.kernel.accessAllowed ? 'block' : 'none';\n",
              "\n",
              "      buttonEl.onclick = () => {\n",
              "        google.colab.notebook.generateWithVariable('data');\n",
              "      }\n",
              "      })();\n",
              "    </script>\n",
              "  </div>\n",
              "\n",
              "    </div>\n",
              "  </div>\n"
            ]
          },
          "metadata": {},
          "execution_count": 227
        }
      ]
    },
    {
      "cell_type": "markdown",
      "source": [
        "> Data Splitting and Model Training"
      ],
      "metadata": {
        "id": "HIlv_yGdqllz"
      }
    },
    {
      "cell_type": "code",
      "source": [
        "features = ['Open', 'High', 'Low', 'Volume', 'DailyReturn', 'MovingAverage', 'PriceToVolumeRatio']\n",
        "X = data[features]\n",
        "Y = data['Close']\n",
        "print(X.columns)\n",
        "print(Y.name)"
      ],
      "metadata": {
        "colab": {
          "base_uri": "https://localhost:8080/"
        },
        "outputId": "a22856c6-c629-4e29-cab4-aad6eb27ffcd",
        "id": "Ais--p5cqllz"
      },
      "execution_count": 228,
      "outputs": [
        {
          "output_type": "stream",
          "name": "stdout",
          "text": [
            "Index(['Open', 'High', 'Low', 'Volume', 'DailyReturn', 'MovingAverage',\n",
            "       'PriceToVolumeRatio'],\n",
            "      dtype='object')\n",
            "Close\n"
          ]
        }
      ]
    },
    {
      "cell_type": "code",
      "source": [
        "imputer = SimpleImputer(strategy='mean')\n",
        "X = imputer.fit_transform(X)"
      ],
      "metadata": {
        "id": "aElnrWClqllz"
      },
      "execution_count": 229,
      "outputs": []
    },
    {
      "cell_type": "code",
      "source": [
        "X_train, X_test, y_train, y_test = train_test_split(X, Y, test_size=0.2, random_state=42)\n",
        "print(\"X_train shape:\", X_train.shape)\n",
        "print(\"X_test shape:\", X_test.shape)\n",
        "print(\"y_train shape:\", y_train.shape)\n",
        "print(\"y_test shape:\", y_test.shape)"
      ],
      "metadata": {
        "colab": {
          "base_uri": "https://localhost:8080/"
        },
        "outputId": "b0d93dd3-97c5-4526-e966-17808e606448",
        "id": "eCoRF9Xhqll0"
      },
      "execution_count": 230,
      "outputs": [
        {
          "output_type": "stream",
          "name": "stdout",
          "text": [
            "X_train shape: (804, 7)\n",
            "X_test shape: (201, 7)\n",
            "y_train shape: (804,)\n",
            "y_test shape: (201,)\n"
          ]
        }
      ]
    },
    {
      "cell_type": "code",
      "source": [
        "model = LinearRegression()"
      ],
      "metadata": {
        "id": "IQbMn_1Aqll0"
      },
      "execution_count": 231,
      "outputs": []
    },
    {
      "cell_type": "markdown",
      "source": [
        "> Model Evaluation"
      ],
      "metadata": {
        "id": "azykrUcEqll0"
      }
    },
    {
      "cell_type": "code",
      "source": [
        "model.fit(X_train, y_train)\n",
        "predictions = model.predict(X_test)\n",
        "predictions"
      ],
      "metadata": {
        "colab": {
          "base_uri": "https://localhost:8080/"
        },
        "outputId": "ee2cb6d4-d5c4-4631-fbc8-b2d7212060eb",
        "id": "MSznMfVPqll0"
      },
      "execution_count": 232,
      "outputs": [
        {
          "output_type": "execute_result",
          "data": {
            "text/plain": [
              "array([632.61270693, 481.22701004, 488.96217951, 379.51519084,\n",
              "       325.43048915, 467.60677527, 469.4260359 , 339.58004573,\n",
              "       365.80901347, 332.8271788 , 551.86449529, 316.11884671,\n",
              "       550.43087097, 304.65217292, 357.26570826, 522.00343059,\n",
              "       489.22474189, 617.68249918, 358.17573946, 405.6530356 ,\n",
              "       622.8343465 , 500.62089829, 266.96400631, 325.45251539,\n",
              "       449.8116748 , 360.56319167, 309.73479084, 364.42007048,\n",
              "       289.9407526 , 519.00683043, 516.92836766, 546.16392241,\n",
              "       393.86635033, 341.37678002, 548.02245115, 351.63110003,\n",
              "       665.95930781, 270.38133503, 365.40245605, 379.31570665,\n",
              "       346.50421287, 304.83343514, 354.77018472, 682.32915681,\n",
              "       344.00749895, 350.06205724, 303.88920407, 633.02704431,\n",
              "       506.45281172, 657.91366516, 484.29907276, 523.08546024,\n",
              "       326.04245303, 501.55848007, 420.07251222, 538.03079431,\n",
              "       293.45085522, 314.3414298 , 320.16545822, 320.77352429,\n",
              "       516.89221532, 271.52433847, 294.70078812, 488.70022007,\n",
              "       504.2886236 , 329.34670224, 294.18841274, 260.90249707,\n",
              "       364.54061165, 512.37922972, 401.75248478, 245.69502106,\n",
              "       284.91210442, 345.73623861, 530.29279267, 375.1937541 ,\n",
              "       316.11608009, 636.14072487, 294.79207961, 433.63293478,\n",
              "       487.56391465, 377.69700363, 328.54164434, 373.88336055,\n",
              "       325.37596963, 584.64983007, 588.0353875 , 658.42451705,\n",
              "       364.24367625, 494.35558164, 446.64560716, 580.00504592,\n",
              "       517.44413147, 286.39982296, 556.28858562, 359.32330372,\n",
              "       313.99179367, 361.19773028, 388.82588707, 326.32659024,\n",
              "       506.99875969, 413.40006017, 275.37503295, 494.94420718,\n",
              "       440.85413602, 361.4152411 , 514.83509353, 541.47742751,\n",
              "       626.81375952, 651.15172148, 570.24873001, 611.43675046,\n",
              "       489.50123985, 529.43853957, 376.66032123, 392.50708266,\n",
              "       538.85064091, 376.85083914, 369.78571894, 374.27504525,\n",
              "       359.68119478, 634.07723103, 304.32167852, 494.77735607,\n",
              "       362.56843888, 338.0602494 , 328.1632136 , 502.79941379,\n",
              "       300.40769419, 365.03058654, 502.46859876, 498.16933608,\n",
              "       534.22348099, 291.94641753, 426.45023122, 362.47674289,\n",
              "       310.51987974, 343.13138546, 317.7055651 , 310.35436881,\n",
              "       348.84098966, 307.48706182, 340.91174292, 290.69714933,\n",
              "       587.28059855, 587.43476253, 526.51086332, 265.91861117,\n",
              "       497.58407729, 380.87102632, 357.20559207, 514.50741972,\n",
              "       498.59721758, 352.29950593, 418.1054378 , 649.85105906,\n",
              "       678.92120886, 588.22147946, 375.48160695, 324.34905024,\n",
              "       343.33447469, 318.38599193, 442.0654303 , 378.71667665,\n",
              "       503.24605054, 518.70145686, 458.6848658 , 370.59809049,\n",
              "       511.29183769, 371.45529121, 354.19830378, 335.93302863,\n",
              "       349.51269275, 352.24633931, 368.02486293, 332.02833573,\n",
              "       507.95578024, 331.56858944, 362.66040307, 367.07714543,\n",
              "       367.1093099 , 269.28179763, 274.08336857, 485.38008772,\n",
              "       367.91091982, 279.67665211, 502.09191049, 367.24825804,\n",
              "       365.69476993, 630.8837519 , 248.97250873, 547.26269295,\n",
              "       465.25896479, 410.55543452, 310.31873081, 348.43532991,\n",
              "       264.83108993, 528.65136688, 352.5373946 , 265.84747282,\n",
              "       380.78917196])"
            ]
          },
          "metadata": {},
          "execution_count": 232
        }
      ]
    },
    {
      "cell_type": "code",
      "source": [
        "print('Model Coefficients: \\n', model.coef_)\n",
        "print('Model Intercept: \\n', model.intercept_)"
      ],
      "metadata": {
        "colab": {
          "base_uri": "https://localhost:8080/"
        },
        "outputId": "ec2648c1-f271-42d9-e82a-d3c86df39632",
        "id": "-igXDSBRqll1"
      },
      "execution_count": 233,
      "outputs": [
        {
          "output_type": "stream",
          "name": "stdout",
          "text": [
            "Model Coefficients: \n",
            " [-2.43821406e-01  2.40274181e+02  2.51727632e+02  1.03764904e-07\n",
            "  1.29322827e+00  1.55308327e-01  7.15429432e+03]\n",
            "Model Intercept: \n",
            " 261.1926335446415\n"
          ]
        }
      ]
    },
    {
      "cell_type": "code",
      "source": [
        "print(\"Performance (R^2): \", model.score(X_train, y_train))"
      ],
      "metadata": {
        "colab": {
          "base_uri": "https://localhost:8080/"
        },
        "outputId": "3bbb658e-05d1-4141-8529-4e547c176d63",
        "id": "jkDAN7Voqll1"
      },
      "execution_count": 234,
      "outputs": [
        {
          "output_type": "stream",
          "name": "stdout",
          "text": [
            "Performance (R^2):  0.9992609726796228\n"
          ]
        }
      ]
    },
    {
      "cell_type": "code",
      "source": [
        "mse = mean_squared_error(y_test, predictions)\n",
        "print(f'Mean Squared Error: {mse}')"
      ],
      "metadata": {
        "colab": {
          "base_uri": "https://localhost:8080/"
        },
        "outputId": "06e372e4-85bf-44da-f6ef-18773e3caade",
        "id": "-K2T8QbRqll2"
      },
      "execution_count": 235,
      "outputs": [
        {
          "output_type": "stream",
          "name": "stdout",
          "text": [
            "Mean Squared Error: 8.393052932903913\n"
          ]
        }
      ]
    },
    {
      "cell_type": "code",
      "source": [
        "# Calculate Mean Absolute Error\n",
        "mae = mean_absolute_error(y_test, predictions)\n",
        "print(f'Mean Absolute Error: {mae:.2f}')"
      ],
      "metadata": {
        "colab": {
          "base_uri": "https://localhost:8080/"
        },
        "outputId": "003a3de4-42ee-4680-e78b-425fe94e066c",
        "id": "wEifOqaaDL7G"
      },
      "execution_count": 236,
      "outputs": [
        {
          "output_type": "stream",
          "name": "stdout",
          "text": [
            "Mean Absolute Error: 2.20\n"
          ]
        }
      ]
    },
    {
      "cell_type": "code",
      "source": [
        "# Calculate R-squared\n",
        "r2 = r2_score(y_test, predictions)\n",
        "print(f'R-squared: {r2:.2f}')"
      ],
      "metadata": {
        "colab": {
          "base_uri": "https://localhost:8080/"
        },
        "outputId": "e9ad5b63-3681-4d9d-82ae-4199c375553e",
        "id": "I5bDc-_IDL7G"
      },
      "execution_count": 237,
      "outputs": [
        {
          "output_type": "stream",
          "name": "stdout",
          "text": [
            "R-squared: 1.00\n"
          ]
        }
      ]
    },
    {
      "cell_type": "code",
      "source": [
        "df_results = pd.DataFrame({'Date': pd.to_datetime(y_test.index, format='%Y-%m-%d'),\n",
        "                           'Actual_Close': y_test.values,\n",
        "                           'Predicted_Close': predictions})\n",
        "\n",
        "# Display the new DataFrame\n",
        "print(df_results)"
      ],
      "metadata": {
        "colab": {
          "base_uri": "https://localhost:8080/"
        },
        "outputId": "3545a767-0dc3-4ffa-9e9a-9beb475caadb",
        "id": "ym8DssBHqll2"
      },
      "execution_count": 238,
      "outputs": [
        {
          "output_type": "stream",
          "name": "stdout",
          "text": [
            "                             Date  Actual_Close  Predicted_Close\n",
            "0   1970-01-01 00:00:00.000000930    633.799988       632.612707\n",
            "1   1970-01-01 00:00:00.000000634    475.470001       481.227010\n",
            "2   1970-01-01 00:00:00.000000686    488.239990       488.962180\n",
            "3   1970-01-01 00:00:00.000000518    371.709991       379.515191\n",
            "4   1970-01-01 00:00:00.000000369    326.459991       325.430489\n",
            "..                            ...           ...              ...\n",
            "196 1970-01-01 00:00:00.000000212    265.140015       264.831090\n",
            "197 1970-01-01 00:00:00.000000782    524.030029       528.651367\n",
            "198 1970-01-01 00:00:00.000000338    351.269989       352.537395\n",
            "199 1970-01-01 00:00:00.000000214    265.320007       265.847473\n",
            "200 1970-01-01 00:00:00.000000354    381.720001       380.789172\n",
            "\n",
            "[201 rows x 3 columns]\n"
          ]
        }
      ]
    },
    {
      "cell_type": "code",
      "source": [
        "df_results[['Actual_Close', 'Predicted_Close']].plot()"
      ],
      "metadata": {
        "colab": {
          "base_uri": "https://localhost:8080/",
          "height": 449
        },
        "outputId": "e38ffa54-a180-417d-c5a7-0cff46307de1",
        "id": "rx1Z8Pk4qll2"
      },
      "execution_count": 239,
      "outputs": [
        {
          "output_type": "execute_result",
          "data": {
            "text/plain": [
              "<Axes: >"
            ]
          },
          "metadata": {},
          "execution_count": 239
        },
        {
          "output_type": "display_data",
          "data": {
            "text/plain": [
              "<Figure size 640x480 with 1 Axes>"
            ],
            "image/png": "[encoded data removed]"
          },
          "metadata": {}
        }
      ]
    },
    {
      "cell_type": "code",
      "source": [
        "plt.figure(figsize=(8, 6))\n",
        "plt.scatter(y_test, predictions, color='blue', alpha=0.5)\n",
        "plt.plot([min(y_test), max(y_test)], [min(y_test), max(y_test)], linestyle='--', color='red', linewidth=2)\n",
        "plt.title('Actual vs. Predicted Values')\n",
        "plt.xlabel('Actual Values')\n",
        "plt.ylabel('Predicted Values')\n",
        "plt.show()"
      ],
      "metadata": {
        "colab": {
          "base_uri": "https://localhost:8080/",
          "height": 564
        },
        "id": "Gzc682AsFHUJ",
        "outputId": "ce44341e-8149-45d3-ea06-701b7905a6ad"
      },
      "execution_count": 240,
      "outputs": [
        {
          "output_type": "display_data",
          "data": {
            "text/plain": [
              "<Figure size 800x600 with 1 Axes>"
            ],
            "image/png": "[encoded data removed]"
          },
          "metadata": {}
        }
      ]
    },
    {
      "cell_type": "markdown",
      "source": [
        "***For Binance Dataset***\n",
        ">  In this project, I selected Binance dataset which play a crucial role as they form the foundation for training and evaluating machine learning models i.e Linear Regression for stock market price prediction. Dataset represents historical stock market data for different assets, and understanding their characteristics is vital for building effective predictive models.\n",
        "\n",
        "\n",
        "> Features of dataset\n",
        "* Date: Essential for organizing data chronologically and identifying trends over time.\n",
        "* Open: The opening price of Datasets on a given day.\n",
        "* High: The highest price of Datasets on a given day.\n",
        "* Low: The lowest price of Datasets on a given day.\n",
        "* Close: The closing price of Datasets on a given day.\n",
        "* Adj Close: The adjusted closing price of Datasets on a given day, considering dividends, stock splits, etc.\n",
        "* Volume: The volume of Datasets traded on a given day."
      ],
      "metadata": {
        "id": "B2_4mFDs_KTp"
      }
    },
    {
      "cell_type": "markdown",
      "source": [
        "*Load the dataset*"
      ],
      "metadata": {
        "id": "5T2lHfMKoaOn"
      }
    },
    {
      "cell_type": "code",
      "source": [
        "data = pd.read_csv('BNB-USD.csv')\n",
        "print(data)"
      ],
      "metadata": {
        "colab": {
          "base_uri": "https://localhost:8080/"
        },
        "id": "-lMK7ZFIobE9",
        "outputId": "cc679a21-30f4-457c-8b29-3c41e5d7609f"
      },
      "execution_count": 241,
      "outputs": [
        {
          "output_type": "stream",
          "name": "stdout",
          "text": [
            "           Date        Open        High         Low       Close   Adj Close  \\\n",
            "0    2022-12-19  251.242676  252.933014  238.650787  240.657806  240.657806   \n",
            "1    2022-12-20  240.668228  252.628662  239.801437  251.744537  251.744537   \n",
            "2    2022-12-21  251.694321  251.694321  245.757248  246.046982  246.046982   \n",
            "3    2022-12-22  246.068329  248.032028  240.483200  245.890625  245.890625   \n",
            "4    2022-12-23  245.894135  248.274719  244.452942  246.148178  246.148178   \n",
            "..          ...         ...         ...         ...         ...         ...   \n",
            "361  2023-12-15  253.517441  253.549713  243.867371  244.898438  244.898438   \n",
            "362  2023-12-16  244.896423  248.086380  243.450653  244.350967  244.350967   \n",
            "363  2023-12-17  244.350708  244.432175  239.230637  239.308289  239.308289   \n",
            "364  2023-12-18  239.247147  241.348434  232.752808  241.348434  241.348434   \n",
            "365  2023-12-19  241.347687  253.778625  241.347687  253.105240  253.105240   \n",
            "\n",
            "         Volume  \n",
            "0     751196285  \n",
            "1     667866377  \n",
            "2     479296549  \n",
            "3     543367184  \n",
            "4     388929772  \n",
            "..          ...  \n",
            "361   769388533  \n",
            "362   651447427  \n",
            "363   650163942  \n",
            "364   871708609  \n",
            "365  1226686976  \n",
            "\n",
            "[366 rows x 7 columns]\n"
          ]
        }
      ]
    },
    {
      "cell_type": "markdown",
      "source": [
        "*Quick peek at functions:*"
      ],
      "metadata": {
        "id": "fuKjJ9jVpHyV"
      }
    },
    {
      "cell_type": "code",
      "source": [
        "data.shape"
      ],
      "metadata": {
        "colab": {
          "base_uri": "https://localhost:8080/"
        },
        "outputId": "0bfdbe55-f45a-4440-8ebb-bec5273ac832",
        "id": "MGZnfQUApLTM"
      },
      "execution_count": 242,
      "outputs": [
        {
          "output_type": "execute_result",
          "data": {
            "text/plain": [
              "(366, 7)"
            ]
          },
          "metadata": {},
          "execution_count": 242
        }
      ]
    },
    {
      "cell_type": "code",
      "source": [
        "data.columns"
      ],
      "metadata": {
        "colab": {
          "base_uri": "https://localhost:8080/"
        },
        "outputId": "db2a96e6-9a6b-468a-bc53-517dc87363fb",
        "id": "Ye1WQ5dApkwY"
      },
      "execution_count": 243,
      "outputs": [
        {
          "output_type": "execute_result",
          "data": {
            "text/plain": [
              "Index(['Date', 'Open', 'High', 'Low', 'Close', 'Adj Close', 'Volume'], dtype='object')"
            ]
          },
          "metadata": {},
          "execution_count": 243
        }
      ]
    },
    {
      "cell_type": "code",
      "source": [
        "print(data.describe())"
      ],
      "metadata": {
        "colab": {
          "base_uri": "https://localhost:8080/"
        },
        "outputId": "4105ea8d-2dc9-400b-a462-655ea053ee6f",
        "id": "lcIt0H7ApkwY"
      },
      "execution_count": 244,
      "outputs": [
        {
          "output_type": "stream",
          "name": "stdout",
          "text": [
            "             Open        High         Low       Close   Adj Close  \\\n",
            "count  366.000000  366.000000  366.000000  366.000000  366.000000   \n",
            "mean   265.041061  269.089091  261.058403  265.037719  265.037719   \n",
            "std     41.667309   42.656486   40.717153   41.663551   41.663551   \n",
            "min    205.225800  206.659103  203.655441  205.229416  205.229416   \n",
            "25%    231.900402  236.389728  228.605893  231.913357  231.913357   \n",
            "50%    246.355537  251.505004  242.926544  246.388756  246.388756   \n",
            "75%    308.557312  313.169899  304.356903  308.555268  308.555268   \n",
            "max    348.175751  350.072296  338.260620  348.220917  348.220917   \n",
            "\n",
            "             Volume  \n",
            "count  3.660000e+02  \n",
            "mean   5.566887e+08  \n",
            "std    2.657211e+08  \n",
            "min    2.038465e+08  \n",
            "25%    3.765235e+08  \n",
            "50%    4.849198e+08  \n",
            "75%    6.678265e+08  \n",
            "max    2.480554e+09  \n"
          ]
        }
      ]
    },
    {
      "cell_type": "code",
      "source": [
        "print(data.info())"
      ],
      "metadata": {
        "colab": {
          "base_uri": "https://localhost:8080/"
        },
        "outputId": "e9baf70a-8de0-403b-bf85-3b4c4b13b19d",
        "id": "lgVN63KNpkwY"
      },
      "execution_count": 245,
      "outputs": [
        {
          "output_type": "stream",
          "name": "stdout",
          "text": [
            "<class 'pandas.core.frame.DataFrame'>\n",
            "RangeIndex: 366 entries, 0 to 365\n",
            "Data columns (total 7 columns):\n",
            " #   Column     Non-Null Count  Dtype  \n",
            "---  ------     --------------  -----  \n",
            " 0   Date       366 non-null    object \n",
            " 1   Open       366 non-null    float64\n",
            " 2   High       366 non-null    float64\n",
            " 3   Low        366 non-null    float64\n",
            " 4   Close      366 non-null    float64\n",
            " 5   Adj Close  366 non-null    float64\n",
            " 6   Volume     366 non-null    int64  \n",
            "dtypes: float64(5), int64(1), object(1)\n",
            "memory usage: 20.1+ KB\n",
            "None\n"
          ]
        }
      ]
    },
    {
      "cell_type": "markdown",
      "source": [
        "*Data Preprocessing*\n",
        "\n",
        "> Handling Missing Values:\n",
        "\n"
      ],
      "metadata": {
        "id": "7sPudIs4pkwZ"
      }
    },
    {
      "cell_type": "code",
      "source": [
        "missing_values = data.isnull().sum()\n",
        "print(\"Missing Values:\\n\", missing_values)\n",
        "data = data.dropna()\n",
        "print(\"Missing Values After Handling:\\n\", data.isnull().sum())"
      ],
      "metadata": {
        "colab": {
          "base_uri": "https://localhost:8080/"
        },
        "outputId": "936fb0e1-5f7c-45d5-cbd2-b1b6ea7f1acf",
        "id": "7pjaJIpzpkwb"
      },
      "execution_count": 246,
      "outputs": [
        {
          "output_type": "stream",
          "name": "stdout",
          "text": [
            "Missing Values:\n",
            " Date         0\n",
            "Open         0\n",
            "High         0\n",
            "Low          0\n",
            "Close        0\n",
            "Adj Close    0\n",
            "Volume       0\n",
            "dtype: int64\n",
            "Missing Values After Handling:\n",
            " Date         0\n",
            "Open         0\n",
            "High         0\n",
            "Low          0\n",
            "Close        0\n",
            "Adj Close    0\n",
            "Volume       0\n",
            "dtype: int64\n"
          ]
        }
      ]
    },
    {
      "cell_type": "markdown",
      "source": [
        "\n",
        "\n",
        "> Feature Scaling\n",
        "\n"
      ],
      "metadata": {
        "id": "80ClFEQapkwb"
      }
    },
    {
      "cell_type": "code",
      "source": [
        "from sklearn.preprocessing import MinMaxScaler\n",
        "scaler = MinMaxScaler()\n",
        "data[['High']] = scaler.fit_transform(data[['High']])\n",
        "data[['Low']] = scaler.fit_transform(data[['Low']])\n",
        "data"
      ],
      "metadata": {
        "colab": {
          "base_uri": "https://localhost:8080/",
          "height": 424
        },
        "outputId": "efb47dff-8900-4c12-fdcf-221955f9d6bc",
        "id": "-O73lhROpkwb"
      },
      "execution_count": 247,
      "outputs": [
        {
          "output_type": "execute_result",
          "data": {
            "text/plain": [
              "           Date        Open      High       Low       Close   Adj Close  \\\n",
              "0    2022-12-19  251.242676  0.322661  0.259985  240.657806  240.657806   \n",
              "1    2022-12-20  240.668228  0.320539  0.268533  251.744537  251.744537   \n",
              "2    2022-12-21  251.694321  0.314024  0.312780  246.046982  246.046982   \n",
              "3    2022-12-22  246.068329  0.288488  0.273598  245.890625  245.890625   \n",
              "4    2022-12-23  245.894135  0.290180  0.303090  246.148178  246.148178   \n",
              "..          ...         ...       ...       ...         ...         ...   \n",
              "361  2023-12-15  253.517441  0.326962  0.298740  244.898438  244.898438   \n",
              "362  2023-12-16  244.896423  0.288867  0.295644  244.350967  244.350967   \n",
              "363  2023-12-17  244.350708  0.263386  0.264293  239.308289  239.308289   \n",
              "364  2023-12-18  239.247147  0.241884  0.216168  241.348434  241.348434   \n",
              "365  2023-12-19  241.347687  0.328558  0.280021  253.105240  253.105240   \n",
              "\n",
              "         Volume  \n",
              "0     751196285  \n",
              "1     667866377  \n",
              "2     479296549  \n",
              "3     543367184  \n",
              "4     388929772  \n",
              "..          ...  \n",
              "361   769388533  \n",
              "362   651447427  \n",
              "363   650163942  \n",
              "364   871708609  \n",
              "365  1226686976  \n",
              "\n",
              "[366 rows x 7 columns]"
            ],
            "text/html": [
              "\n",
              "  <div id=\"df-b8db46ab-2681-47d5-9569-3aa1fe495c96\" class=\"colab-df-container\">\n",
              "    <div>\n",
              "<style scoped>\n",
              "    .dataframe tbody tr th:only-of-type {\n",
              "        vertical-align: middle;\n",
              "    }\n",
              "\n",
              "    .dataframe tbody tr th {\n",
              "        vertical-align: top;\n",
              "    }\n",
              "\n",
              "    .dataframe thead th {\n",
              "        text-align: right;\n",
              "    }\n",
              "</style>\n",
              "<table border=\"1\" class=\"dataframe\">\n",
              "  <thead>\n",
              "    <tr style=\"text-align: right;\">\n",
              "      <th></th>\n",
              "      <th>Date</th>\n",
              "      <th>Open</th>\n",
              "      <th>High</th>\n",
              "      <th>Low</th>\n",
              "      <th>Close</th>\n",
              "      <th>Adj Close</th>\n",
              "      <th>Volume</th>\n",
              "    </tr>\n",
              "  </thead>\n",
              "  <tbody>\n",
              "    <tr>\n",
              "      <th>0</th>\n",
              "      <td>2022-12-19</td>\n",
              "      <td>251.242676</td>\n",
              "      <td>0.322661</td>\n",
              "      <td>0.259985</td>\n",
              "      <td>240.657806</td>\n",
              "      <td>240.657806</td>\n",
              "      <td>751196285</td>\n",
              "    </tr>\n",
              "    <tr>\n",
              "      <th>1</th>\n",
              "      <td>2022-12-20</td>\n",
              "      <td>240.668228</td>\n",
              "      <td>0.320539</td>\n",
              "      <td>0.268533</td>\n",
              "      <td>251.744537</td>\n",
              "      <td>251.744537</td>\n",
              "      <td>667866377</td>\n",
              "    </tr>\n",
              "    <tr>\n",
              "      <th>2</th>\n",
              "      <td>2022-12-21</td>\n",
              "      <td>251.694321</td>\n",
              "      <td>0.314024</td>\n",
              "      <td>0.312780</td>\n",
              "      <td>246.046982</td>\n",
              "      <td>246.046982</td>\n",
              "      <td>479296549</td>\n",
              "    </tr>\n",
              "    <tr>\n",
              "      <th>3</th>\n",
              "      <td>2022-12-22</td>\n",
              "      <td>246.068329</td>\n",
              "      <td>0.288488</td>\n",
              "      <td>0.273598</td>\n",
              "      <td>245.890625</td>\n",
              "      <td>245.890625</td>\n",
              "      <td>543367184</td>\n",
              "    </tr>\n",
              "    <tr>\n",
              "      <th>4</th>\n",
              "      <td>2022-12-23</td>\n",
              "      <td>245.894135</td>\n",
              "      <td>0.290180</td>\n",
              "      <td>0.303090</td>\n",
              "      <td>246.148178</td>\n",
              "      <td>246.148178</td>\n",
              "      <td>388929772</td>\n",
              "    </tr>\n",
              "    <tr>\n",
              "      <th>...</th>\n",
              "      <td>...</td>\n",
              "      <td>...</td>\n",
              "      <td>...</td>\n",
              "      <td>...</td>\n",
              "      <td>...</td>\n",
              "      <td>...</td>\n",
              "      <td>...</td>\n",
              "    </tr>\n",
              "    <tr>\n",
              "      <th>361</th>\n",
              "      <td>2023-12-15</td>\n",
              "      <td>253.517441</td>\n",
              "      <td>0.326962</td>\n",
              "      <td>0.298740</td>\n",
              "      <td>244.898438</td>\n",
              "      <td>244.898438</td>\n",
              "      <td>769388533</td>\n",
              "    </tr>\n",
              "    <tr>\n",
              "      <th>362</th>\n",
              "      <td>2023-12-16</td>\n",
              "      <td>244.896423</td>\n",
              "      <td>0.288867</td>\n",
              "      <td>0.295644</td>\n",
              "      <td>244.350967</td>\n",
              "      <td>244.350967</td>\n",
              "      <td>651447427</td>\n",
              "    </tr>\n",
              "    <tr>\n",
              "      <th>363</th>\n",
              "      <td>2023-12-17</td>\n",
              "      <td>244.350708</td>\n",
              "      <td>0.263386</td>\n",
              "      <td>0.264293</td>\n",
              "      <td>239.308289</td>\n",
              "      <td>239.308289</td>\n",
              "      <td>650163942</td>\n",
              "    </tr>\n",
              "    <tr>\n",
              "      <th>364</th>\n",
              "      <td>2023-12-18</td>\n",
              "      <td>239.247147</td>\n",
              "      <td>0.241884</td>\n",
              "      <td>0.216168</td>\n",
              "      <td>241.348434</td>\n",
              "      <td>241.348434</td>\n",
              "      <td>871708609</td>\n",
              "    </tr>\n",
              "    <tr>\n",
              "      <th>365</th>\n",
              "      <td>2023-12-19</td>\n",
              "      <td>241.347687</td>\n",
              "      <td>0.328558</td>\n",
              "      <td>0.280021</td>\n",
              "      <td>253.105240</td>\n",
              "      <td>253.105240</td>\n",
              "      <td>1226686976</td>\n",
              "    </tr>\n",
              "  </tbody>\n",
              "</table>\n",
              "<p>366 rows × 7 columns</p>\n",
              "</div>\n",
              "    <div class=\"colab-df-buttons\">\n",
              "\n",
              "  <div class=\"colab-df-container\">\n",
              "    <button class=\"colab-df-convert\" onclick=\"convertToInteractive('df-b8db46ab-2681-47d5-9569-3aa1fe495c96')\"\n",
              "            title=\"Convert this dataframe to an interactive table.\"\n",
              "            style=\"display:none;\">\n",
              "\n",
              "  <svg xmlns=\"http://www.w3.org/2000/svg\" height=\"24px\" viewBox=\"0 -960 960 960\">\n",
              "    <path d=\"M120-120v-720h720v720H120Zm60-500h600v-160H180v160Zm220 220h160v-160H400v160Zm0 220h160v-160H400v160ZM180-400h160v-160H180v160Zm440 0h160v-160H620v160ZM180-180h160v-160H180v160Zm440 0h160v-160H620v160Z\"/>\n",
              "  </svg>\n",
              "    </button>\n",
              "\n",
              "  <style>\n",
              "    .colab-df-container {\n",
              "      display:flex;\n",
              "      gap: 12px;\n",
              "    }\n",
              "\n",
              "    .colab-df-convert {\n",
              "      background-color: #E8F0FE;\n",
              "      border: none;\n",
              "      border-radius: 50%;\n",
              "      cursor: pointer;\n",
              "      display: none;\n",
              "      fill: #1967D2;\n",
              "      height: 32px;\n",
              "      padding: 0 0 0 0;\n",
              "      width: 32px;\n",
              "    }\n",
              "\n",
              "    .colab-df-convert:hover {\n",
              "      background-color: #E2EBFA;\n",
              "      box-shadow: 0px 1px 2px rgba(60, 64, 67, 0.3), 0px 1px 3px 1px rgba(60, 64, 67, 0.15);\n",
              "      fill: #174EA6;\n",
              "    }\n",
              "\n",
              "    .colab-df-buttons div {\n",
              "      margin-bottom: 4px;\n",
              "    }\n",
              "\n",
              "    [theme=dark] .colab-df-convert {\n",
              "      background-color: #3B4455;\n",
              "      fill: #D2E3FC;\n",
              "    }\n",
              "\n",
              "    [theme=dark] .colab-df-convert:hover {\n",
              "      background-color: #434B5C;\n",
              "      box-shadow: 0px 1px 3px 1px rgba(0, 0, 0, 0.15);\n",
              "      filter: drop-shadow(0px 1px 2px rgba(0, 0, 0, 0.3));\n",
              "      fill: #FFFFFF;\n",
              "    }\n",
              "  </style>\n",
              "\n",
              "    <script>\n",
              "      const buttonEl =\n",
              "        document.querySelector('#df-b8db46ab-2681-47d5-9569-3aa1fe495c96 button.colab-df-convert');\n",
              "      buttonEl.style.display =\n",
              "        google.colab.kernel.accessAllowed ? 'block' : 'none';\n",
              "\n",
              "      async function convertToInteractive(key) {\n",
              "        const element = document.querySelector('#df-b8db46ab-2681-47d5-9569-3aa1fe495c96');\n",
              "        const dataTable =\n",
              "          await google.colab.kernel.invokeFunction('convertToInteractive',\n",
              "                                                    [key], {});\n",
              "        if (!dataTable) return;\n",
              "\n",
              "        const docLinkHtml = 'Like what you see? Visit the ' +\n",
              "          '<a target=\"_blank\" href=https://colab.research.google.com/notebooks/data_table.ipynb>data table notebook</a>'\n",
              "          + ' to learn more about interactive tables.';\n",
              "        element.innerHTML = '';\n",
              "        dataTable['output_type'] = 'display_data';\n",
              "        await google.colab.output.renderOutput(dataTable, element);\n",
              "        const docLink = document.createElement('div');\n",
              "        docLink.innerHTML = docLinkHtml;\n",
              "        element.appendChild(docLink);\n",
              "      }\n",
              "    </script>\n",
              "  </div>\n",
              "\n",
              "\n",
              "<div id=\"df-af352fa9-3ae7-4859-8c65-c4b140f17c83\">\n",
              "  <button class=\"colab-df-quickchart\" onclick=\"quickchart('df-af352fa9-3ae7-4859-8c65-c4b140f17c83')\"\n",
              "            title=\"Suggest charts\"\n",
              "            style=\"display:none;\">\n",
              "\n",
              "<svg xmlns=\"http://www.w3.org/2000/svg\" height=\"24px\"viewBox=\"0 0 24 24\"\n",
              "     width=\"24px\">\n",
              "    <g>\n",
              "        <path d=\"M19 3H5c-1.1 0-2 .9-2 2v14c0 1.1.9 2 2 2h14c1.1 0 2-.9 2-2V5c0-1.1-.9-2-2-2zM9 17H7v-7h2v7zm4 0h-2V7h2v10zm4 0h-2v-4h2v4z\"/>\n",
              "    </g>\n",
              "</svg>\n",
              "  </button>\n",
              "\n",
              "<style>\n",
              "  .colab-df-quickchart {\n",
              "      --bg-color: #E8F0FE;\n",
              "      --fill-color: #1967D2;\n",
              "      --hover-bg-color: #E2EBFA;\n",
              "      --hover-fill-color: #174EA6;\n",
              "      --disabled-fill-color: #AAA;\n",
              "      --disabled-bg-color: #DDD;\n",
              "  }\n",
              "\n",
              "  [theme=dark] .colab-df-quickchart {\n",
              "      --bg-color: #3B4455;\n",
              "      --fill-color: #D2E3FC;\n",
              "      --hover-bg-color: #434B5C;\n",
              "      --hover-fill-color: #FFFFFF;\n",
              "      --disabled-bg-color: #3B4455;\n",
              "      --disabled-fill-color: #666;\n",
              "  }\n",
              "\n",
              "  .colab-df-quickchart {\n",
              "    background-color: var(--bg-color);\n",
              "    border: none;\n",
              "    border-radius: 50%;\n",
              "    cursor: pointer;\n",
              "    display: none;\n",
              "    fill: var(--fill-color);\n",
              "    height: 32px;\n",
              "    padding: 0;\n",
              "    width: 32px;\n",
              "  }\n",
              "\n",
              "  .colab-df-quickchart:hover {\n",
              "    background-color: var(--hover-bg-color);\n",
              "    box-shadow: 0 1px 2px rgba(60, 64, 67, 0.3), 0 1px 3px 1px rgba(60, 64, 67, 0.15);\n",
              "    fill: var(--button-hover-fill-color);\n",
              "  }\n",
              "\n",
              "  .colab-df-quickchart-complete:disabled,\n",
              "  .colab-df-quickchart-complete:disabled:hover {\n",
              "    background-color: var(--disabled-bg-color);\n",
              "    fill: var(--disabled-fill-color);\n",
              "    box-shadow: none;\n",
              "  }\n",
              "\n",
              "  .colab-df-spinner {\n",
              "    border: 2px solid var(--fill-color);\n",
              "    border-color: transparent;\n",
              "    border-bottom-color: var(--fill-color);\n",
              "    animation:\n",
              "      spin 1s steps(1) infinite;\n",
              "  }\n",
              "\n",
              "  @keyframes spin {\n",
              "    0% {\n",
              "      border-color: transparent;\n",
              "      border-bottom-color: var(--fill-color);\n",
              "      border-left-color: var(--fill-color);\n",
              "    }\n",
              "    20% {\n",
              "      border-color: transparent;\n",
              "      border-left-color: var(--fill-color);\n",
              "      border-top-color: var(--fill-color);\n",
              "    }\n",
              "    30% {\n",
              "      border-color: transparent;\n",
              "      border-left-color: var(--fill-color);\n",
              "      border-top-color: var(--fill-color);\n",
              "      border-right-color: var(--fill-color);\n",
              "    }\n",
              "    40% {\n",
              "      border-color: transparent;\n",
              "      border-right-color: var(--fill-color);\n",
              "      border-top-color: var(--fill-color);\n",
              "    }\n",
              "    60% {\n",
              "      border-color: transparent;\n",
              "      border-right-color: var(--fill-color);\n",
              "    }\n",
              "    80% {\n",
              "      border-color: transparent;\n",
              "      border-right-color: var(--fill-color);\n",
              "      border-bottom-color: var(--fill-color);\n",
              "    }\n",
              "    90% {\n",
              "      border-color: transparent;\n",
              "      border-bottom-color: var(--fill-color);\n",
              "    }\n",
              "  }\n",
              "</style>\n",
              "\n",
              "  <script>\n",
              "    async function quickchart(key) {\n",
              "      const quickchartButtonEl =\n",
              "        document.querySelector('#' + key + ' button');\n",
              "      quickchartButtonEl.disabled = true;  // To prevent multiple clicks.\n",
              "      quickchartButtonEl.classList.add('colab-df-spinner');\n",
              "      try {\n",
              "        const charts = await google.colab.kernel.invokeFunction(\n",
              "            'suggestCharts', [key], {});\n",
              "      } catch (error) {\n",
              "        console.error('Error during call to suggestCharts:', error);\n",
              "      }\n",
              "      quickchartButtonEl.classList.remove('colab-df-spinner');\n",
              "      quickchartButtonEl.classList.add('colab-df-quickchart-complete');\n",
              "    }\n",
              "    (() => {\n",
              "      let quickchartButtonEl =\n",
              "        document.querySelector('#df-af352fa9-3ae7-4859-8c65-c4b140f17c83 button');\n",
              "      quickchartButtonEl.style.display =\n",
              "        google.colab.kernel.accessAllowed ? 'block' : 'none';\n",
              "    })();\n",
              "  </script>\n",
              "</div>\n",
              "\n",
              "  <div id=\"id_b9bfe9c0-19c9-42b5-b072-ea5586d7a582\">\n",
              "    <style>\n",
              "      .colab-df-generate {\n",
              "        background-color: #E8F0FE;\n",
              "        border: none;\n",
              "        border-radius: 50%;\n",
              "        cursor: pointer;\n",
              "        display: none;\n",
              "        fill: #1967D2;\n",
              "        height: 32px;\n",
              "        padding: 0 0 0 0;\n",
              "        width: 32px;\n",
              "      }\n",
              "\n",
              "      .colab-df-generate:hover {\n",
              "        background-color: #E2EBFA;\n",
              "        box-shadow: 0px 1px 2px rgba(60, 64, 67, 0.3), 0px 1px 3px 1px rgba(60, 64, 67, 0.15);\n",
              "        fill: #174EA6;\n",
              "      }\n",
              "\n",
              "      [theme=dark] .colab-df-generate {\n",
              "        background-color: #3B4455;\n",
              "        fill: #D2E3FC;\n",
              "      }\n",
              "\n",
              "      [theme=dark] .colab-df-generate:hover {\n",
              "        background-color: #434B5C;\n",
              "        box-shadow: 0px 1px 3px 1px rgba(0, 0, 0, 0.15);\n",
              "        filter: drop-shadow(0px 1px 2px rgba(0, 0, 0, 0.3));\n",
              "        fill: #FFFFFF;\n",
              "      }\n",
              "    </style>\n",
              "    <button class=\"colab-df-generate\" onclick=\"generateWithVariable('data')\"\n",
              "            title=\"Generate code using this dataframe.\"\n",
              "            style=\"display:none;\">\n",
              "\n",
              "  <svg xmlns=\"http://www.w3.org/2000/svg\" height=\"24px\"viewBox=\"0 0 24 24\"\n",
              "       width=\"24px\">\n",
              "    <path d=\"M7,19H8.4L18.45,9,17,7.55,7,17.6ZM5,21V16.75L18.45,3.32a2,2,0,0,1,2.83,0l1.4,1.43a1.91,1.91,0,0,1,.58,1.4,1.91,1.91,0,0,1-.58,1.4L9.25,21ZM18.45,9,17,7.55Zm-12,3A5.31,5.31,0,0,0,4.9,8.1,5.31,5.31,0,0,0,1,6.5,5.31,5.31,0,0,0,4.9,4.9,5.31,5.31,0,0,0,6.5,1,5.31,5.31,0,0,0,8.1,4.9,5.31,5.31,0,0,0,12,6.5,5.46,5.46,0,0,0,6.5,12Z\"/>\n",
              "  </svg>\n",
              "    </button>\n",
              "    <script>\n",
              "      (() => {\n",
              "      const buttonEl =\n",
              "        document.querySelector('#id_b9bfe9c0-19c9-42b5-b072-ea5586d7a582 button.colab-df-generate');\n",
              "      buttonEl.style.display =\n",
              "        google.colab.kernel.accessAllowed ? 'block' : 'none';\n",
              "\n",
              "      buttonEl.onclick = () => {\n",
              "        google.colab.notebook.generateWithVariable('data');\n",
              "      }\n",
              "      })();\n",
              "    </script>\n",
              "  </div>\n",
              "\n",
              "    </div>\n",
              "  </div>\n"
            ]
          },
          "metadata": {},
          "execution_count": 247
        }
      ]
    },
    {
      "cell_type": "markdown",
      "source": [
        "\n",
        "\n",
        "> Feature Engineering\n",
        "\n"
      ],
      "metadata": {
        "id": "bm5Gy19Mpkwc"
      }
    },
    {
      "cell_type": "code",
      "source": [
        "data['DailyReturn'] = data['Adj Close'].pct_change() * 100\n",
        "data['MovingAverage'] = data['Adj Close'].rolling(window=5).mean()\n",
        "data['PriceToVolumeRatio'] = data['Adj Close']/data['Volume']\n",
        "data=data.dropna()\n",
        "data"
      ],
      "metadata": {
        "colab": {
          "base_uri": "https://localhost:8080/",
          "height": 617
        },
        "outputId": "5f674089-9e1e-47a2-e92c-6f3c7f5dcf65",
        "id": "99xZSUI2pkwc"
      },
      "execution_count": 248,
      "outputs": [
        {
          "output_type": "execute_result",
          "data": {
            "text/plain": [
              "           Date        Open      High       Low       Close   Adj Close  \\\n",
              "4    2022-12-23  245.894135  0.290180  0.303090  246.148178  246.148178   \n",
              "5    2022-12-24  246.151642  0.275586  0.299376  244.635529  244.635529   \n",
              "6    2022-12-25  244.636398  0.272443  0.282642  243.141495  243.141495   \n",
              "7    2022-12-26  243.147934  0.264528  0.286534  244.198288  244.198288   \n",
              "8    2022-12-27  244.202652  0.286031  0.289043  246.596680  246.596680   \n",
              "..          ...         ...       ...       ...         ...         ...   \n",
              "361  2023-12-15  253.517441  0.326962  0.298740  244.898438  244.898438   \n",
              "362  2023-12-16  244.896423  0.288867  0.295644  244.350967  244.350967   \n",
              "363  2023-12-17  244.350708  0.263386  0.264293  239.308289  239.308289   \n",
              "364  2023-12-18  239.247147  0.241884  0.216168  241.348434  241.348434   \n",
              "365  2023-12-19  241.347687  0.328558  0.280021  253.105240  253.105240   \n",
              "\n",
              "         Volume  DailyReturn  MovingAverage  PriceToVolumeRatio  \n",
              "4     388929772     0.104743     246.097626        6.328859e-07  \n",
              "5     280627376    -0.614528     246.893170        8.717451e-07  \n",
              "6     298063868    -0.610718     245.172562        8.157362e-07  \n",
              "7     276115280     0.434641     244.802823        8.844070e-07  \n",
              "8     391342277     0.982149     244.944034        6.301304e-07  \n",
              "..          ...          ...            ...                 ...  \n",
              "361   769388533    -3.408825     250.355765        3.183027e-07  \n",
              "362   651447427    -0.223550     249.941785        3.750893e-07  \n",
              "363   650163942    -2.063703     246.904447        3.680738e-07  \n",
              "364   871708609     0.852517     244.689468        2.768682e-07  \n",
              "365  1226686976     4.871300     244.602274        2.063324e-07  \n",
              "\n",
              "[362 rows x 10 columns]"
            ],
            "text/html": [
              "\n",
              "  <div id=\"df-f71799ce-274a-47f0-9972-0f516e036ebe\" class=\"colab-df-container\">\n",
              "    <div>\n",
              "<style scoped>\n",
              "    .dataframe tbody tr th:only-of-type {\n",
              "        vertical-align: middle;\n",
              "    }\n",
              "\n",
              "    .dataframe tbody tr th {\n",
              "        vertical-align: top;\n",
              "    }\n",
              "\n",
              "    .dataframe thead th {\n",
              "        text-align: right;\n",
              "    }\n",
              "</style>\n",
              "<table border=\"1\" class=\"dataframe\">\n",
              "  <thead>\n",
              "    <tr style=\"text-align: right;\">\n",
              "      <th></th>\n",
              "      <th>Date</th>\n",
              "      <th>Open</th>\n",
              "      <th>High</th>\n",
              "      <th>Low</th>\n",
              "      <th>Close</th>\n",
              "      <th>Adj Close</th>\n",
              "      <th>Volume</th>\n",
              "      <th>DailyReturn</th>\n",
              "      <th>MovingAverage</th>\n",
              "      <th>PriceToVolumeRatio</th>\n",
              "    </tr>\n",
              "  </thead>\n",
              "  <tbody>\n",
              "    <tr>\n",
              "      <th>4</th>\n",
              "      <td>2022-12-23</td>\n",
              "      <td>245.894135</td>\n",
              "      <td>0.290180</td>\n",
              "      <td>0.303090</td>\n",
              "      <td>246.148178</td>\n",
              "      <td>246.148178</td>\n",
              "      <td>388929772</td>\n",
              "      <td>0.104743</td>\n",
              "      <td>246.097626</td>\n",
              "      <td>6.328859e-07</td>\n",
              "    </tr>\n",
              "    <tr>\n",
              "      <th>5</th>\n",
              "      <td>2022-12-24</td>\n",
              "      <td>246.151642</td>\n",
              "      <td>0.275586</td>\n",
              "      <td>0.299376</td>\n",
              "      <td>244.635529</td>\n",
              "      <td>244.635529</td>\n",
              "      <td>280627376</td>\n",
              "      <td>-0.614528</td>\n",
              "      <td>246.893170</td>\n",
              "      <td>8.717451e-07</td>\n",
              "    </tr>\n",
              "    <tr>\n",
              "      <th>6</th>\n",
              "      <td>2022-12-25</td>\n",
              "      <td>244.636398</td>\n",
              "      <td>0.272443</td>\n",
              "      <td>0.282642</td>\n",
              "      <td>243.141495</td>\n",
              "      <td>243.141495</td>\n",
              "      <td>298063868</td>\n",
              "      <td>-0.610718</td>\n",
              "      <td>245.172562</td>\n",
              "      <td>8.157362e-07</td>\n",
              "    </tr>\n",
              "    <tr>\n",
              "      <th>7</th>\n",
              "      <td>2022-12-26</td>\n",
              "      <td>243.147934</td>\n",
              "      <td>0.264528</td>\n",
              "      <td>0.286534</td>\n",
              "      <td>244.198288</td>\n",
              "      <td>244.198288</td>\n",
              "      <td>276115280</td>\n",
              "      <td>0.434641</td>\n",
              "      <td>244.802823</td>\n",
              "      <td>8.844070e-07</td>\n",
              "    </tr>\n",
              "    <tr>\n",
              "      <th>8</th>\n",
              "      <td>2022-12-27</td>\n",
              "      <td>244.202652</td>\n",
              "      <td>0.286031</td>\n",
              "      <td>0.289043</td>\n",
              "      <td>246.596680</td>\n",
              "      <td>246.596680</td>\n",
              "      <td>391342277</td>\n",
              "      <td>0.982149</td>\n",
              "      <td>244.944034</td>\n",
              "      <td>6.301304e-07</td>\n",
              "    </tr>\n",
              "    <tr>\n",
              "      <th>...</th>\n",
              "      <td>...</td>\n",
              "      <td>...</td>\n",
              "      <td>...</td>\n",
              "      <td>...</td>\n",
              "      <td>...</td>\n",
              "      <td>...</td>\n",
              "      <td>...</td>\n",
              "      <td>...</td>\n",
              "      <td>...</td>\n",
              "      <td>...</td>\n",
              "    </tr>\n",
              "    <tr>\n",
              "      <th>361</th>\n",
              "      <td>2023-12-15</td>\n",
              "      <td>253.517441</td>\n",
              "      <td>0.326962</td>\n",
              "      <td>0.298740</td>\n",
              "      <td>244.898438</td>\n",
              "      <td>244.898438</td>\n",
              "      <td>769388533</td>\n",
              "      <td>-3.408825</td>\n",
              "      <td>250.355765</td>\n",
              "      <td>3.183027e-07</td>\n",
              "    </tr>\n",
              "    <tr>\n",
              "      <th>362</th>\n",
              "      <td>2023-12-16</td>\n",
              "      <td>244.896423</td>\n",
              "      <td>0.288867</td>\n",
              "      <td>0.295644</td>\n",
              "      <td>244.350967</td>\n",
              "      <td>244.350967</td>\n",
              "      <td>651447427</td>\n",
              "      <td>-0.223550</td>\n",
              "      <td>249.941785</td>\n",
              "      <td>3.750893e-07</td>\n",
              "    </tr>\n",
              "    <tr>\n",
              "      <th>363</th>\n",
              "      <td>2023-12-17</td>\n",
              "      <td>244.350708</td>\n",
              "      <td>0.263386</td>\n",
              "      <td>0.264293</td>\n",
              "      <td>239.308289</td>\n",
              "      <td>239.308289</td>\n",
              "      <td>650163942</td>\n",
              "      <td>-2.063703</td>\n",
              "      <td>246.904447</td>\n",
              "      <td>3.680738e-07</td>\n",
              "    </tr>\n",
              "    <tr>\n",
              "      <th>364</th>\n",
              "      <td>2023-12-18</td>\n",
              "      <td>239.247147</td>\n",
              "      <td>0.241884</td>\n",
              "      <td>0.216168</td>\n",
              "      <td>241.348434</td>\n",
              "      <td>241.348434</td>\n",
              "      <td>871708609</td>\n",
              "      <td>0.852517</td>\n",
              "      <td>244.689468</td>\n",
              "      <td>2.768682e-07</td>\n",
              "    </tr>\n",
              "    <tr>\n",
              "      <th>365</th>\n",
              "      <td>2023-12-19</td>\n",
              "      <td>241.347687</td>\n",
              "      <td>0.328558</td>\n",
              "      <td>0.280021</td>\n",
              "      <td>253.105240</td>\n",
              "      <td>253.105240</td>\n",
              "      <td>1226686976</td>\n",
              "      <td>4.871300</td>\n",
              "      <td>244.602274</td>\n",
              "      <td>2.063324e-07</td>\n",
              "    </tr>\n",
              "  </tbody>\n",
              "</table>\n",
              "<p>362 rows × 10 columns</p>\n",
              "</div>\n",
              "    <div class=\"colab-df-buttons\">\n",
              "\n",
              "  <div class=\"colab-df-container\">\n",
              "    <button class=\"colab-df-convert\" onclick=\"convertToInteractive('df-f71799ce-274a-47f0-9972-0f516e036ebe')\"\n",
              "            title=\"Convert this dataframe to an interactive table.\"\n",
              "            style=\"display:none;\">\n",
              "\n",
              "  <svg xmlns=\"http://www.w3.org/2000/svg\" height=\"24px\" viewBox=\"0 -960 960 960\">\n",
              "    <path d=\"M120-120v-720h720v720H120Zm60-500h600v-160H180v160Zm220 220h160v-160H400v160Zm0 220h160v-160H400v160ZM180-400h160v-160H180v160Zm440 0h160v-160H620v160ZM180-180h160v-160H180v160Zm440 0h160v-160H620v160Z\"/>\n",
              "  </svg>\n",
              "    </button>\n",
              "\n",
              "  <style>\n",
              "    .colab-df-container {\n",
              "      display:flex;\n",
              "      gap: 12px;\n",
              "    }\n",
              "\n",
              "    .colab-df-convert {\n",
              "      background-color: #E8F0FE;\n",
              "      border: none;\n",
              "      border-radius: 50%;\n",
              "      cursor: pointer;\n",
              "      display: none;\n",
              "      fill: #1967D2;\n",
              "      height: 32px;\n",
              "      padding: 0 0 0 0;\n",
              "      width: 32px;\n",
              "    }\n",
              "\n",
              "    .colab-df-convert:hover {\n",
              "      background-color: #E2EBFA;\n",
              "      box-shadow: 0px 1px 2px rgba(60, 64, 67, 0.3), 0px 1px 3px 1px rgba(60, 64, 67, 0.15);\n",
              "      fill: #174EA6;\n",
              "    }\n",
              "\n",
              "    .colab-df-buttons div {\n",
              "      margin-bottom: 4px;\n",
              "    }\n",
              "\n",
              "    [theme=dark] .colab-df-convert {\n",
              "      background-color: #3B4455;\n",
              "      fill: #D2E3FC;\n",
              "    }\n",
              "\n",
              "    [theme=dark] .colab-df-convert:hover {\n",
              "      background-color: #434B5C;\n",
              "      box-shadow: 0px 1px 3px 1px rgba(0, 0, 0, 0.15);\n",
              "      filter: drop-shadow(0px 1px 2px rgba(0, 0, 0, 0.3));\n",
              "      fill: #FFFFFF;\n",
              "    }\n",
              "  </style>\n",
              "\n",
              "    <script>\n",
              "      const buttonEl =\n",
              "        document.querySelector('#df-f71799ce-274a-47f0-9972-0f516e036ebe button.colab-df-convert');\n",
              "      buttonEl.style.display =\n",
              "        google.colab.kernel.accessAllowed ? 'block' : 'none';\n",
              "\n",
              "      async function convertToInteractive(key) {\n",
              "        const element = document.querySelector('#df-f71799ce-274a-47f0-9972-0f516e036ebe');\n",
              "        const dataTable =\n",
              "          await google.colab.kernel.invokeFunction('convertToInteractive',\n",
              "                                                    [key], {});\n",
              "        if (!dataTable) return;\n",
              "\n",
              "        const docLinkHtml = 'Like what you see? Visit the ' +\n",
              "          '<a target=\"_blank\" href=https://colab.research.google.com/notebooks/data_table.ipynb>data table notebook</a>'\n",
              "          + ' to learn more about interactive tables.';\n",
              "        element.innerHTML = '';\n",
              "        dataTable['output_type'] = 'display_data';\n",
              "        await google.colab.output.renderOutput(dataTable, element);\n",
              "        const docLink = document.createElement('div');\n",
              "        docLink.innerHTML = docLinkHtml;\n",
              "        element.appendChild(docLink);\n",
              "      }\n",
              "    </script>\n",
              "  </div>\n",
              "\n",
              "\n",
              "<div id=\"df-6c8398e2-f880-46c8-b8e5-01e4105f4810\">\n",
              "  <button class=\"colab-df-quickchart\" onclick=\"quickchart('df-6c8398e2-f880-46c8-b8e5-01e4105f4810')\"\n",
              "            title=\"Suggest charts\"\n",
              "            style=\"display:none;\">\n",
              "\n",
              "<svg xmlns=\"http://www.w3.org/2000/svg\" height=\"24px\"viewBox=\"0 0 24 24\"\n",
              "     width=\"24px\">\n",
              "    <g>\n",
              "        <path d=\"M19 3H5c-1.1 0-2 .9-2 2v14c0 1.1.9 2 2 2h14c1.1 0 2-.9 2-2V5c0-1.1-.9-2-2-2zM9 17H7v-7h2v7zm4 0h-2V7h2v10zm4 0h-2v-4h2v4z\"/>\n",
              "    </g>\n",
              "</svg>\n",
              "  </button>\n",
              "\n",
              "<style>\n",
              "  .colab-df-quickchart {\n",
              "      --bg-color: #E8F0FE;\n",
              "      --fill-color: #1967D2;\n",
              "      --hover-bg-color: #E2EBFA;\n",
              "      --hover-fill-color: #174EA6;\n",
              "      --disabled-fill-color: #AAA;\n",
              "      --disabled-bg-color: #DDD;\n",
              "  }\n",
              "\n",
              "  [theme=dark] .colab-df-quickchart {\n",
              "      --bg-color: #3B4455;\n",
              "      --fill-color: #D2E3FC;\n",
              "      --hover-bg-color: #434B5C;\n",
              "      --hover-fill-color: #FFFFFF;\n",
              "      --disabled-bg-color: #3B4455;\n",
              "      --disabled-fill-color: #666;\n",
              "  }\n",
              "\n",
              "  .colab-df-quickchart {\n",
              "    background-color: var(--bg-color);\n",
              "    border: none;\n",
              "    border-radius: 50%;\n",
              "    cursor: pointer;\n",
              "    display: none;\n",
              "    fill: var(--fill-color);\n",
              "    height: 32px;\n",
              "    padding: 0;\n",
              "    width: 32px;\n",
              "  }\n",
              "\n",
              "  .colab-df-quickchart:hover {\n",
              "    background-color: var(--hover-bg-color);\n",
              "    box-shadow: 0 1px 2px rgba(60, 64, 67, 0.3), 0 1px 3px 1px rgba(60, 64, 67, 0.15);\n",
              "    fill: var(--button-hover-fill-color);\n",
              "  }\n",
              "\n",
              "  .colab-df-quickchart-complete:disabled,\n",
              "  .colab-df-quickchart-complete:disabled:hover {\n",
              "    background-color: var(--disabled-bg-color);\n",
              "    fill: var(--disabled-fill-color);\n",
              "    box-shadow: none;\n",
              "  }\n",
              "\n",
              "  .colab-df-spinner {\n",
              "    border: 2px solid var(--fill-color);\n",
              "    border-color: transparent;\n",
              "    border-bottom-color: var(--fill-color);\n",
              "    animation:\n",
              "      spin 1s steps(1) infinite;\n",
              "  }\n",
              "\n",
              "  @keyframes spin {\n",
              "    0% {\n",
              "      border-color: transparent;\n",
              "      border-bottom-color: var(--fill-color);\n",
              "      border-left-color: var(--fill-color);\n",
              "    }\n",
              "    20% {\n",
              "      border-color: transparent;\n",
              "      border-left-color: var(--fill-color);\n",
              "      border-top-color: var(--fill-color);\n",
              "    }\n",
              "    30% {\n",
              "      border-color: transparent;\n",
              "      border-left-color: var(--fill-color);\n",
              "      border-top-color: var(--fill-color);\n",
              "      border-right-color: var(--fill-color);\n",
              "    }\n",
              "    40% {\n",
              "      border-color: transparent;\n",
              "      border-right-color: var(--fill-color);\n",
              "      border-top-color: var(--fill-color);\n",
              "    }\n",
              "    60% {\n",
              "      border-color: transparent;\n",
              "      border-right-color: var(--fill-color);\n",
              "    }\n",
              "    80% {\n",
              "      border-color: transparent;\n",
              "      border-right-color: var(--fill-color);\n",
              "      border-bottom-color: var(--fill-color);\n",
              "    }\n",
              "    90% {\n",
              "      border-color: transparent;\n",
              "      border-bottom-color: var(--fill-color);\n",
              "    }\n",
              "  }\n",
              "</style>\n",
              "\n",
              "  <script>\n",
              "    async function quickchart(key) {\n",
              "      const quickchartButtonEl =\n",
              "        document.querySelector('#' + key + ' button');\n",
              "      quickchartButtonEl.disabled = true;  // To prevent multiple clicks.\n",
              "      quickchartButtonEl.classList.add('colab-df-spinner');\n",
              "      try {\n",
              "        const charts = await google.colab.kernel.invokeFunction(\n",
              "            'suggestCharts', [key], {});\n",
              "      } catch (error) {\n",
              "        console.error('Error during call to suggestCharts:', error);\n",
              "      }\n",
              "      quickchartButtonEl.classList.remove('colab-df-spinner');\n",
              "      quickchartButtonEl.classList.add('colab-df-quickchart-complete');\n",
              "    }\n",
              "    (() => {\n",
              "      let quickchartButtonEl =\n",
              "        document.querySelector('#df-6c8398e2-f880-46c8-b8e5-01e4105f4810 button');\n",
              "      quickchartButtonEl.style.display =\n",
              "        google.colab.kernel.accessAllowed ? 'block' : 'none';\n",
              "    })();\n",
              "  </script>\n",
              "</div>\n",
              "\n",
              "  <div id=\"id_992952a5-7088-4542-8fd4-5547cd6a88d1\">\n",
              "    <style>\n",
              "      .colab-df-generate {\n",
              "        background-color: #E8F0FE;\n",
              "        border: none;\n",
              "        border-radius: 50%;\n",
              "        cursor: pointer;\n",
              "        display: none;\n",
              "        fill: #1967D2;\n",
              "        height: 32px;\n",
              "        padding: 0 0 0 0;\n",
              "        width: 32px;\n",
              "      }\n",
              "\n",
              "      .colab-df-generate:hover {\n",
              "        background-color: #E2EBFA;\n",
              "        box-shadow: 0px 1px 2px rgba(60, 64, 67, 0.3), 0px 1px 3px 1px rgba(60, 64, 67, 0.15);\n",
              "        fill: #174EA6;\n",
              "      }\n",
              "\n",
              "      [theme=dark] .colab-df-generate {\n",
              "        background-color: #3B4455;\n",
              "        fill: #D2E3FC;\n",
              "      }\n",
              "\n",
              "      [theme=dark] .colab-df-generate:hover {\n",
              "        background-color: #434B5C;\n",
              "        box-shadow: 0px 1px 3px 1px rgba(0, 0, 0, 0.15);\n",
              "        filter: drop-shadow(0px 1px 2px rgba(0, 0, 0, 0.3));\n",
              "        fill: #FFFFFF;\n",
              "      }\n",
              "    </style>\n",
              "    <button class=\"colab-df-generate\" onclick=\"generateWithVariable('data')\"\n",
              "            title=\"Generate code using this dataframe.\"\n",
              "            style=\"display:none;\">\n",
              "\n",
              "  <svg xmlns=\"http://www.w3.org/2000/svg\" height=\"24px\"viewBox=\"0 0 24 24\"\n",
              "       width=\"24px\">\n",
              "    <path d=\"M7,19H8.4L18.45,9,17,7.55,7,17.6ZM5,21V16.75L18.45,3.32a2,2,0,0,1,2.83,0l1.4,1.43a1.91,1.91,0,0,1,.58,1.4,1.91,1.91,0,0,1-.58,1.4L9.25,21ZM18.45,9,17,7.55Zm-12,3A5.31,5.31,0,0,0,4.9,8.1,5.31,5.31,0,0,0,1,6.5,5.31,5.31,0,0,0,4.9,4.9,5.31,5.31,0,0,0,6.5,1,5.31,5.31,0,0,0,8.1,4.9,5.31,5.31,0,0,0,12,6.5,5.46,5.46,0,0,0,6.5,12Z\"/>\n",
              "  </svg>\n",
              "    </button>\n",
              "    <script>\n",
              "      (() => {\n",
              "      const buttonEl =\n",
              "        document.querySelector('#id_992952a5-7088-4542-8fd4-5547cd6a88d1 button.colab-df-generate');\n",
              "      buttonEl.style.display =\n",
              "        google.colab.kernel.accessAllowed ? 'block' : 'none';\n",
              "\n",
              "      buttonEl.onclick = () => {\n",
              "        google.colab.notebook.generateWithVariable('data');\n",
              "      }\n",
              "      })();\n",
              "    </script>\n",
              "  </div>\n",
              "\n",
              "    </div>\n",
              "  </div>\n"
            ]
          },
          "metadata": {},
          "execution_count": 248
        }
      ]
    },
    {
      "cell_type": "markdown",
      "source": [
        "> Data Splitting and Model Training"
      ],
      "metadata": {
        "id": "AEGqaKTqpkwc"
      }
    },
    {
      "cell_type": "code",
      "source": [
        "features = ['Open', 'High', 'Low', 'Volume', 'DailyReturn', 'MovingAverage', 'PriceToVolumeRatio']\n",
        "X = data[features]\n",
        "Y = data['Close']\n",
        "print(X.columns)\n",
        "print(Y.name)"
      ],
      "metadata": {
        "colab": {
          "base_uri": "https://localhost:8080/"
        },
        "outputId": "d49f618e-8893-472e-9828-d05fcc998da9",
        "id": "4nLGcEmWpkwc"
      },
      "execution_count": 249,
      "outputs": [
        {
          "output_type": "stream",
          "name": "stdout",
          "text": [
            "Index(['Open', 'High', 'Low', 'Volume', 'DailyReturn', 'MovingAverage',\n",
            "       'PriceToVolumeRatio'],\n",
            "      dtype='object')\n",
            "Close\n"
          ]
        }
      ]
    },
    {
      "cell_type": "code",
      "source": [
        "imputer = SimpleImputer(strategy='mean')\n",
        "X = imputer.fit_transform(X)"
      ],
      "metadata": {
        "id": "hjGC3KkKpkwd"
      },
      "execution_count": 250,
      "outputs": []
    },
    {
      "cell_type": "code",
      "source": [
        "X_train, X_test, y_train, y_test = train_test_split(X, Y, test_size=0.2, random_state=42)\n",
        "print(\"X_train shape:\", X_train.shape)\n",
        "print(\"X_test shape:\", X_test.shape)\n",
        "print(\"y_train shape:\", y_train.shape)\n",
        "print(\"y_test shape:\", y_test.shape)"
      ],
      "metadata": {
        "colab": {
          "base_uri": "https://localhost:8080/"
        },
        "outputId": "a1430804-8c88-4335-f563-b64eec34bb56",
        "id": "DpBxHC-apkwd"
      },
      "execution_count": 251,
      "outputs": [
        {
          "output_type": "stream",
          "name": "stdout",
          "text": [
            "X_train shape: (289, 7)\n",
            "X_test shape: (73, 7)\n",
            "y_train shape: (289,)\n",
            "y_test shape: (73,)\n"
          ]
        }
      ]
    },
    {
      "cell_type": "code",
      "source": [
        "model = LinearRegression()"
      ],
      "metadata": {
        "id": "KFsWZ4_rpkwd"
      },
      "execution_count": 252,
      "outputs": []
    },
    {
      "cell_type": "markdown",
      "source": [
        "> Model Evaluation"
      ],
      "metadata": {
        "id": "wm_rB1nkpkwd"
      }
    },
    {
      "cell_type": "code",
      "source": [
        "model.fit(X_train, y_train)\n",
        "predictions = model.predict(X_test)\n",
        "predictions"
      ],
      "metadata": {
        "colab": {
          "base_uri": "https://localhost:8080/"
        },
        "outputId": "0203e6a6-48ba-48a0-9ca6-f8f9a78b0767",
        "id": "b6yopBQHpkwd"
      },
      "execution_count": 253,
      "outputs": [
        {
          "output_type": "execute_result",
          "data": {
            "text/plain": [
              "array([305.45798154, 306.44999011, 261.38443134, 251.37371917,\n",
              "       316.29684068, 245.30138127, 277.52421086, 322.04574845,\n",
              "       215.15432438, 325.09661019, 217.20679535, 311.77399759,\n",
              "       240.5078801 , 306.66873487, 312.92366454, 247.20745748,\n",
              "       215.4010219 , 241.65905465, 242.55550747, 308.32330262,\n",
              "       243.91878578, 246.71134523, 289.1035218 , 213.27036997,\n",
              "       233.04487353, 238.66528041, 242.60737285, 260.52444922,\n",
              "       310.65527831, 244.64075152, 299.99363272, 317.51200554,\n",
              "       330.3236847 , 233.81694928, 304.80316657, 345.25594617,\n",
              "       302.70689307, 304.81599577, 210.6496197 , 236.93539452,\n",
              "       216.68900473, 227.94515144, 303.15804864, 209.64158587,\n",
              "       322.81037735, 234.78068791, 328.70708937, 312.44642267,\n",
              "       243.69627811, 325.04454434, 240.20043541, 311.87117871,\n",
              "       215.44082462, 240.78321639, 239.38896467, 238.31794006,\n",
              "       327.92837728, 244.36413165, 213.18134847, 276.40504854,\n",
              "       233.4347253 , 214.49228236, 277.8077716 , 331.82971277,\n",
              "       209.88546359, 287.83455155, 239.40419998, 331.86283221,\n",
              "       216.24987892, 306.89129082, 312.9506727 , 227.04232899,\n",
              "       218.5264309 ])"
            ]
          },
          "metadata": {},
          "execution_count": 253
        }
      ]
    },
    {
      "cell_type": "code",
      "source": [
        "print('Model Coefficients: \\n', model.coef_)\n",
        "print('Model Intercept: \\n', model.intercept_)"
      ],
      "metadata": {
        "colab": {
          "base_uri": "https://localhost:8080/"
        },
        "outputId": "6959f5d9-2e07-4a33-fcb3-78e85d082a1c",
        "id": "9LSwUYzUpkwe"
      },
      "execution_count": 254,
      "outputs": [
        {
          "output_type": "stream",
          "name": "stdout",
          "text": [
            "Model Coefficients: \n",
            " [7.87776562e-01 1.02282590e+01 1.53486627e+01 3.72532227e-10\n",
            " 2.44372733e+00 2.60647753e-02 3.04111720e+05]\n",
            "Model Intercept: \n",
            " 37.899612517170965\n"
          ]
        }
      ]
    },
    {
      "cell_type": "code",
      "source": [
        "print(\"Performance (R^2): \", model.score(X_train, y_train))"
      ],
      "metadata": {
        "colab": {
          "base_uri": "https://localhost:8080/"
        },
        "outputId": "6c1c3d7a-759c-443b-8a76-ce704c008d44",
        "id": "K5K0VcW3pkwe"
      },
      "execution_count": 255,
      "outputs": [
        {
          "output_type": "stream",
          "name": "stdout",
          "text": [
            "Performance (R^2):  0.9996484357297784\n"
          ]
        }
      ]
    },
    {
      "cell_type": "code",
      "source": [
        "mse = mean_squared_error(y_test, predictions)\n",
        "print(f'Mean Squared Error: {mse}')"
      ],
      "metadata": {
        "colab": {
          "base_uri": "https://localhost:8080/"
        },
        "outputId": "48a8d342-6130-4f66-89d3-fe9a258e97b5",
        "id": "lwbzrWqVpkwe"
      },
      "execution_count": 256,
      "outputs": [
        {
          "output_type": "stream",
          "name": "stdout",
          "text": [
            "Mean Squared Error: 0.6873156526879616\n"
          ]
        }
      ]
    },
    {
      "cell_type": "code",
      "source": [
        "# Calculate Mean Absolute Error\n",
        "mae = mean_absolute_error(y_test, predictions)\n",
        "print(f'Mean Absolute Error: {mae:.2f}')"
      ],
      "metadata": {
        "colab": {
          "base_uri": "https://localhost:8080/"
        },
        "outputId": "6d5a02b2-5593-47b7-d53e-d0245b07cf90",
        "id": "85r-7qK5DIF9"
      },
      "execution_count": 257,
      "outputs": [
        {
          "output_type": "stream",
          "name": "stdout",
          "text": [
            "Mean Absolute Error: 0.59\n"
          ]
        }
      ]
    },
    {
      "cell_type": "code",
      "source": [
        "# Calculate R-squared\n",
        "r2 = r2_score(y_test, predictions)\n",
        "print(f'R-squared: {r2:.2f}')"
      ],
      "metadata": {
        "colab": {
          "base_uri": "https://localhost:8080/"
        },
        "outputId": "97fa124c-e757-4eda-fa8b-7e3365fdeeef",
        "id": "1lTDObGcDIF9"
      },
      "execution_count": 258,
      "outputs": [
        {
          "output_type": "stream",
          "name": "stdout",
          "text": [
            "R-squared: 1.00\n"
          ]
        }
      ]
    },
    {
      "cell_type": "code",
      "source": [
        "df_results = pd.DataFrame({'Date': pd.to_datetime(y_test.index, format='%Y-%m-%d'),\n",
        "                           'Actual_Close': y_test.values,\n",
        "                           'Predicted_Close': predictions})\n",
        "\n",
        "# Display the new DataFrame\n",
        "print(df_results)"
      ],
      "metadata": {
        "colab": {
          "base_uri": "https://localhost:8080/"
        },
        "outputId": "b1130aa4-c2d9-47e6-d267-24ccc59f9e20",
        "id": "IU6plGHDpkwf"
      },
      "execution_count": 259,
      "outputs": [
        {
          "output_type": "stream",
          "name": "stdout",
          "text": [
            "                            Date  Actual_Close  Predicted_Close\n",
            "0  1970-01-01 00:00:00.000000167    305.156799       305.457982\n",
            "1  1970-01-01 00:00:00.000000037    307.307648       306.449990\n",
            "2  1970-01-01 00:00:00.000000019    261.282837       261.384431\n",
            "3  1970-01-01 00:00:00.000000326    251.082367       251.373719\n",
            "4  1970-01-01 00:00:00.000000061    316.682709       316.296841\n",
            "..                           ...           ...              ...\n",
            "68 1970-01-01 00:00:00.000000301    214.823959       216.249879\n",
            "69 1970-01-01 00:00:00.000000086    307.124939       306.891291\n",
            "70 1970-01-01 00:00:00.000000098    310.949127       312.950673\n",
            "71 1970-01-01 00:00:00.000000345    227.342758       227.042329\n",
            "72 1970-01-01 00:00:00.000000307    217.747375       218.526431\n",
            "\n",
            "[73 rows x 3 columns]\n"
          ]
        }
      ]
    },
    {
      "cell_type": "code",
      "source": [
        "df_results[['Actual_Close', 'Predicted_Close']].plot()"
      ],
      "metadata": {
        "colab": {
          "base_uri": "https://localhost:8080/",
          "height": 447
        },
        "outputId": "ed41ae9a-5a4b-4096-9a3d-3da7f361a186",
        "id": "SVA_vm8spkwf"
      },
      "execution_count": 260,
      "outputs": [
        {
          "output_type": "execute_result",
          "data": {
            "text/plain": [
              "<Axes: >"
            ]
          },
          "metadata": {},
          "execution_count": 260
        },
        {
          "output_type": "display_data",
          "data": {
            "text/plain": [
              "<Figure size 640x480 with 1 Axes>"
            ],
            "image/png": "[encoded data removed]"
          },
          "metadata": {}
        }
      ]
    },
    {
      "cell_type": "code",
      "source": [
        "plt.figure(figsize=(8, 6))\n",
        "plt.scatter(y_test, predictions, color='blue', alpha=0.5)\n",
        "plt.plot([min(y_test), max(y_test)], [min(y_test), max(y_test)], linestyle='--', color='red', linewidth=2)\n",
        "plt.title('Actual vs. Predicted Values')\n",
        "plt.xlabel('Actual Values')\n",
        "plt.ylabel('Predicted Values')\n",
        "plt.show()"
      ],
      "metadata": {
        "colab": {
          "base_uri": "https://localhost:8080/",
          "height": 564
        },
        "id": "CE-LFWJ5E_Dr",
        "outputId": "b1468154-8d0d-4ccf-9c0b-0d03e32eb7ce"
      },
      "execution_count": 261,
      "outputs": [
        {
          "output_type": "display_data",
          "data": {
            "text/plain": [
              "<Figure size 800x600 with 1 Axes>"
            ],
            "image/png": "[encoded data removed]"
          },
          "metadata": {}
        }
      ]
    },
    {
      "cell_type": "markdown",
      "source": [
        "***Bitcoin Dataset***\n",
        "\n",
        "> In this project, I selected Bitcoin datasets which play a crucial role as they form the foundation for training and evaluating machine learning models i.e Linear Regression for stock market price prediction. Dataset represents historical stock market data for different assets, and understanding their characteristics is vital for building effective predictive models.\n",
        "\n",
        "\n",
        "> Features of dataset\n",
        "* Date: Essential for organizing data chronologically and identifying trends over time.\n",
        "* Open: The opening price of Datasets on a given day.\n",
        "* High: The highest price of Datasets on a given day.\n",
        "* Low: The lowest price of Datasets on a given day.\n",
        "* Close: The closing price of Datasets on a given day.\n",
        "* Adj Close: The adjusted closing price of Datasets on a given day, considering dividends, stock splits, etc.\n",
        "* Volume: The volume of Datasets traded on a given day.\n",
        "\n",
        "\n",
        "\n",
        "\n",
        "\n"
      ],
      "metadata": {
        "id": "i6HqQIkBp8IP"
      }
    },
    {
      "cell_type": "markdown",
      "source": [
        "*Load the dataset*"
      ],
      "metadata": {
        "id": "DxIIbT5_p8IP"
      }
    },
    {
      "cell_type": "code",
      "source": [
        "data = pd.read_csv('BTC-USD.csv')\n",
        "print(data)"
      ],
      "metadata": {
        "colab": {
          "base_uri": "https://localhost:8080/"
        },
        "outputId": "cacaa1a3-6131-4199-f8b9-7ecd95c0250b",
        "id": "QGptRasCp8IQ"
      },
      "execution_count": 262,
      "outputs": [
        {
          "output_type": "stream",
          "name": "stdout",
          "text": [
            "           Date          Open          High           Low         Close  \\\n",
            "0    2022-12-19  16759.041016  16807.527344  16398.136719  16439.679688   \n",
            "1    2022-12-20  16441.787109  17012.984375  16427.867188  16906.304688   \n",
            "2    2022-12-21  16904.527344  16916.800781  16755.912109  16817.535156   \n",
            "3    2022-12-22  16818.380859  16866.673828  16592.408203  16830.341797   \n",
            "4    2022-12-23  16829.644531  16905.218750  16794.458984  16796.953125   \n",
            "..          ...           ...           ...           ...           ...   \n",
            "361  2023-12-15  43028.250000  43087.824219  41692.968750  41929.757813   \n",
            "362  2023-12-16  41937.742188  42664.945313  41723.113281  42240.117188   \n",
            "363  2023-12-17  42236.109375  42359.496094  41274.542969  41364.664063   \n",
            "364  2023-12-18  41348.203125  42720.296875  40530.257813  42623.539063   \n",
            "365  2023-12-19  42641.511719  43281.062500  41848.339844  42150.578125   \n",
            "\n",
            "        Adj Close       Volume  \n",
            "0    16439.679688  17221074814  \n",
            "1    16906.304688  22722096615  \n",
            "2    16817.535156  14882945045  \n",
            "3    16830.341797  16441573050  \n",
            "4    16796.953125  15329265213  \n",
            "..            ...          ...  \n",
            "361  41929.757813  19639442462  \n",
            "362  42240.117188  14386729590  \n",
            "363  41364.664063  16678702876  \n",
            "364  42623.539063  25224642008  \n",
            "365  42150.578125  25344405504  \n",
            "\n",
            "[366 rows x 7 columns]\n"
          ]
        }
      ]
    },
    {
      "cell_type": "markdown",
      "source": [
        "*Quick peek at functions:*"
      ],
      "metadata": {
        "id": "T-nFmSyXp8IQ"
      }
    },
    {
      "cell_type": "code",
      "source": [
        "data.shape"
      ],
      "metadata": {
        "colab": {
          "base_uri": "https://localhost:8080/"
        },
        "outputId": "9d48ea75-0ee2-4d4b-ede8-7480611ada83",
        "id": "R_g69-qlp8IQ"
      },
      "execution_count": 263,
      "outputs": [
        {
          "output_type": "execute_result",
          "data": {
            "text/plain": [
              "(366, 7)"
            ]
          },
          "metadata": {},
          "execution_count": 263
        }
      ]
    },
    {
      "cell_type": "code",
      "source": [
        "data.columns"
      ],
      "metadata": {
        "colab": {
          "base_uri": "https://localhost:8080/"
        },
        "outputId": "25b60575-697d-4ef1-b59b-6f0234d59515",
        "id": "Vla8p5Nzp8IQ"
      },
      "execution_count": 264,
      "outputs": [
        {
          "output_type": "execute_result",
          "data": {
            "text/plain": [
              "Index(['Date', 'Open', 'High', 'Low', 'Close', 'Adj Close', 'Volume'], dtype='object')"
            ]
          },
          "metadata": {},
          "execution_count": 264
        }
      ]
    },
    {
      "cell_type": "code",
      "source": [
        "print(data.describe())"
      ],
      "metadata": {
        "colab": {
          "base_uri": "https://localhost:8080/"
        },
        "outputId": "c57aef5f-d67f-43aa-9b8a-555665a1a5b2",
        "id": "o1Ec8D3Tp8IR"
      },
      "execution_count": 265,
      "outputs": [
        {
          "output_type": "stream",
          "name": "stdout",
          "text": [
            "               Open          High           Low         Close     Adj Close  \\\n",
            "count    366.000000    366.000000    366.000000    366.000000    366.000000   \n",
            "mean   27892.374450  28351.467635  27512.248116  27961.859242  27961.859242   \n",
            "std     5679.175786   5798.605380   5573.093646   5698.534708   5698.534708   \n",
            "min    16441.787109  16628.986328  16398.136719  16439.679688  16439.679688   \n",
            "25%    25614.489746  25957.333008  24999.646973  25754.951660  25754.951660   \n",
            "50%    27438.595703  27926.062500  26966.659179  27461.631836  27461.631836   \n",
            "75%    29913.611817  30364.928223  29675.398926  29975.025390  29975.025390   \n",
            "max    44180.019531  44705.515625  43627.597656  44166.601563  44166.601563   \n",
            "\n",
            "             Volume  \n",
            "count  3.660000e+02  \n",
            "mean   1.802335e+10  \n",
            "std    8.494735e+09  \n",
            "min    5.331173e+09  \n",
            "25%    1.200029e+10  \n",
            "50%    1.575343e+10  \n",
            "75%    2.262914e+10  \n",
            "max    5.462223e+10  \n"
          ]
        }
      ]
    },
    {
      "cell_type": "code",
      "source": [
        "print(data.info())"
      ],
      "metadata": {
        "colab": {
          "base_uri": "https://localhost:8080/"
        },
        "outputId": "58ee88f0-211e-44e9-fb4e-bb2e951a3f90",
        "id": "_vpnxUGpp8IR"
      },
      "execution_count": 266,
      "outputs": [
        {
          "output_type": "stream",
          "name": "stdout",
          "text": [
            "<class 'pandas.core.frame.DataFrame'>\n",
            "RangeIndex: 366 entries, 0 to 365\n",
            "Data columns (total 7 columns):\n",
            " #   Column     Non-Null Count  Dtype  \n",
            "---  ------     --------------  -----  \n",
            " 0   Date       366 non-null    object \n",
            " 1   Open       366 non-null    float64\n",
            " 2   High       366 non-null    float64\n",
            " 3   Low        366 non-null    float64\n",
            " 4   Close      366 non-null    float64\n",
            " 5   Adj Close  366 non-null    float64\n",
            " 6   Volume     366 non-null    int64  \n",
            "dtypes: float64(5), int64(1), object(1)\n",
            "memory usage: 20.1+ KB\n",
            "None\n"
          ]
        }
      ]
    },
    {
      "cell_type": "markdown",
      "source": [
        "*Data Preprocessing*\n",
        "\n",
        "> Handling Missing Values:\n",
        "\n"
      ],
      "metadata": {
        "id": "trtoIhasp8IR"
      }
    },
    {
      "cell_type": "code",
      "source": [
        "missing_values = data.isnull().sum()\n",
        "print(\"Missing Values:\\n\", missing_values)\n",
        "data = data.dropna()\n",
        "print(\"Missing Values After Handling:\\n\", data.isnull().sum())"
      ],
      "metadata": {
        "colab": {
          "base_uri": "https://localhost:8080/"
        },
        "outputId": "3cf3622d-2b20-4fb4-c3cd-dea306eda62a",
        "id": "FDM_ajTWp8IR"
      },
      "execution_count": 267,
      "outputs": [
        {
          "output_type": "stream",
          "name": "stdout",
          "text": [
            "Missing Values:\n",
            " Date         0\n",
            "Open         0\n",
            "High         0\n",
            "Low          0\n",
            "Close        0\n",
            "Adj Close    0\n",
            "Volume       0\n",
            "dtype: int64\n",
            "Missing Values After Handling:\n",
            " Date         0\n",
            "Open         0\n",
            "High         0\n",
            "Low          0\n",
            "Close        0\n",
            "Adj Close    0\n",
            "Volume       0\n",
            "dtype: int64\n"
          ]
        }
      ]
    },
    {
      "cell_type": "markdown",
      "source": [
        "\n",
        "\n",
        "> Feature Scaling\n",
        "\n"
      ],
      "metadata": {
        "id": "VYKErjNtp8IS"
      }
    },
    {
      "cell_type": "code",
      "source": [
        "from sklearn.preprocessing import MinMaxScaler\n",
        "scaler = MinMaxScaler()\n",
        "data[['High']] = scaler.fit_transform(data[['High']])\n",
        "data[['Low']] = scaler.fit_transform(data[['Low']])\n",
        "data"
      ],
      "metadata": {
        "colab": {
          "base_uri": "https://localhost:8080/",
          "height": 424
        },
        "outputId": "296baf51-fa79-49e4-d474-d400a49dbeb0",
        "id": "MdlaSsamp8IS"
      },
      "execution_count": 268,
      "outputs": [
        {
          "output_type": "execute_result",
          "data": {
            "text/plain": [
              "           Date          Open      High       Low         Close     Adj Close  \\\n",
              "0    2022-12-19  16759.041016  0.006359  0.000000  16439.679688  16439.679688   \n",
              "1    2022-12-20  16441.787109  0.013677  0.001092  16906.304688  16906.304688   \n",
              "2    2022-12-21  16904.527344  0.010251  0.013139  16817.535156  16817.535156   \n",
              "3    2022-12-22  16818.380859  0.008466  0.007135  16830.341797  16830.341797   \n",
              "4    2022-12-23  16829.644531  0.009839  0.014555  16796.953125  16796.953125   \n",
              "..          ...           ...       ...       ...           ...           ...   \n",
              "361  2023-12-15  43028.250000  0.942383  0.928951  41929.757813  41929.757813   \n",
              "362  2023-12-16  41937.742188  0.927321  0.930058  42240.117188  42240.117188   \n",
              "363  2023-12-17  42236.109375  0.916442  0.913584  41364.664063  41364.664063   \n",
              "364  2023-12-18  41348.203125  0.929293  0.886250  42623.539063  42623.539063   \n",
              "365  2023-12-19  42641.511719  0.949265  0.934657  42150.578125  42150.578125   \n",
              "\n",
              "          Volume  \n",
              "0    17221074814  \n",
              "1    22722096615  \n",
              "2    14882945045  \n",
              "3    16441573050  \n",
              "4    15329265213  \n",
              "..           ...  \n",
              "361  19639442462  \n",
              "362  14386729590  \n",
              "363  16678702876  \n",
              "364  25224642008  \n",
              "365  25344405504  \n",
              "\n",
              "[366 rows x 7 columns]"
            ],
            "text/html": [
              "\n",
              "  <div id=\"df-dffa8d17-7271-4f4a-928a-d6dcbbf596bb\" class=\"colab-df-container\">\n",
              "    <div>\n",
              "<style scoped>\n",
              "    .dataframe tbody tr th:only-of-type {\n",
              "        vertical-align: middle;\n",
              "    }\n",
              "\n",
              "    .dataframe tbody tr th {\n",
              "        vertical-align: top;\n",
              "    }\n",
              "\n",
              "    .dataframe thead th {\n",
              "        text-align: right;\n",
              "    }\n",
              "</style>\n",
              "<table border=\"1\" class=\"dataframe\">\n",
              "  <thead>\n",
              "    <tr style=\"text-align: right;\">\n",
              "      <th></th>\n",
              "      <th>Date</th>\n",
              "      <th>Open</th>\n",
              "      <th>High</th>\n",
              "      <th>Low</th>\n",
              "      <th>Close</th>\n",
              "      <th>Adj Close</th>\n",
              "      <th>Volume</th>\n",
              "    </tr>\n",
              "  </thead>\n",
              "  <tbody>\n",
              "    <tr>\n",
              "      <th>0</th>\n",
              "      <td>2022-12-19</td>\n",
              "      <td>16759.041016</td>\n",
              "      <td>0.006359</td>\n",
              "      <td>0.000000</td>\n",
              "      <td>16439.679688</td>\n",
              "      <td>16439.679688</td>\n",
              "      <td>17221074814</td>\n",
              "    </tr>\n",
              "    <tr>\n",
              "      <th>1</th>\n",
              "      <td>2022-12-20</td>\n",
              "      <td>16441.787109</td>\n",
              "      <td>0.013677</td>\n",
              "      <td>0.001092</td>\n",
              "      <td>16906.304688</td>\n",
              "      <td>16906.304688</td>\n",
              "      <td>22722096615</td>\n",
              "    </tr>\n",
              "    <tr>\n",
              "      <th>2</th>\n",
              "      <td>2022-12-21</td>\n",
              "      <td>16904.527344</td>\n",
              "      <td>0.010251</td>\n",
              "      <td>0.013139</td>\n",
              "      <td>16817.535156</td>\n",
              "      <td>16817.535156</td>\n",
              "      <td>14882945045</td>\n",
              "    </tr>\n",
              "    <tr>\n",
              "      <th>3</th>\n",
              "      <td>2022-12-22</td>\n",
              "      <td>16818.380859</td>\n",
              "      <td>0.008466</td>\n",
              "      <td>0.007135</td>\n",
              "      <td>16830.341797</td>\n",
              "      <td>16830.341797</td>\n",
              "      <td>16441573050</td>\n",
              "    </tr>\n",
              "    <tr>\n",
              "      <th>4</th>\n",
              "      <td>2022-12-23</td>\n",
              "      <td>16829.644531</td>\n",
              "      <td>0.009839</td>\n",
              "      <td>0.014555</td>\n",
              "      <td>16796.953125</td>\n",
              "      <td>16796.953125</td>\n",
              "      <td>15329265213</td>\n",
              "    </tr>\n",
              "    <tr>\n",
              "      <th>...</th>\n",
              "      <td>...</td>\n",
              "      <td>...</td>\n",
              "      <td>...</td>\n",
              "      <td>...</td>\n",
              "      <td>...</td>\n",
              "      <td>...</td>\n",
              "      <td>...</td>\n",
              "    </tr>\n",
              "    <tr>\n",
              "      <th>361</th>\n",
              "      <td>2023-12-15</td>\n",
              "      <td>43028.250000</td>\n",
              "      <td>0.942383</td>\n",
              "      <td>0.928951</td>\n",
              "      <td>41929.757813</td>\n",
              "      <td>41929.757813</td>\n",
              "      <td>19639442462</td>\n",
              "    </tr>\n",
              "    <tr>\n",
              "      <th>362</th>\n",
              "      <td>2023-12-16</td>\n",
              "      <td>41937.742188</td>\n",
              "      <td>0.927321</td>\n",
              "      <td>0.930058</td>\n",
              "      <td>42240.117188</td>\n",
              "      <td>42240.117188</td>\n",
              "      <td>14386729590</td>\n",
              "    </tr>\n",
              "    <tr>\n",
              "      <th>363</th>\n",
              "      <td>2023-12-17</td>\n",
              "      <td>42236.109375</td>\n",
              "      <td>0.916442</td>\n",
              "      <td>0.913584</td>\n",
              "      <td>41364.664063</td>\n",
              "      <td>41364.664063</td>\n",
              "      <td>16678702876</td>\n",
              "    </tr>\n",
              "    <tr>\n",
              "      <th>364</th>\n",
              "      <td>2023-12-18</td>\n",
              "      <td>41348.203125</td>\n",
              "      <td>0.929293</td>\n",
              "      <td>0.886250</td>\n",
              "      <td>42623.539063</td>\n",
              "      <td>42623.539063</td>\n",
              "      <td>25224642008</td>\n",
              "    </tr>\n",
              "    <tr>\n",
              "      <th>365</th>\n",
              "      <td>2023-12-19</td>\n",
              "      <td>42641.511719</td>\n",
              "      <td>0.949265</td>\n",
              "      <td>0.934657</td>\n",
              "      <td>42150.578125</td>\n",
              "      <td>42150.578125</td>\n",
              "      <td>25344405504</td>\n",
              "    </tr>\n",
              "  </tbody>\n",
              "</table>\n",
              "<p>366 rows × 7 columns</p>\n",
              "</div>\n",
              "    <div class=\"colab-df-buttons\">\n",
              "\n",
              "  <div class=\"colab-df-container\">\n",
              "    <button class=\"colab-df-convert\" onclick=\"convertToInteractive('df-dffa8d17-7271-4f4a-928a-d6dcbbf596bb')\"\n",
              "            title=\"Convert this dataframe to an interactive table.\"\n",
              "            style=\"display:none;\">\n",
              "\n",
              "  <svg xmlns=\"http://www.w3.org/2000/svg\" height=\"24px\" viewBox=\"0 -960 960 960\">\n",
              "    <path d=\"M120-120v-720h720v720H120Zm60-500h600v-160H180v160Zm220 220h160v-160H400v160Zm0 220h160v-160H400v160ZM180-400h160v-160H180v160Zm440 0h160v-160H620v160ZM180-180h160v-160H180v160Zm440 0h160v-160H620v160Z\"/>\n",
              "  </svg>\n",
              "    </button>\n",
              "\n",
              "  <style>\n",
              "    .colab-df-container {\n",
              "      display:flex;\n",
              "      gap: 12px;\n",
              "    }\n",
              "\n",
              "    .colab-df-convert {\n",
              "      background-color: #E8F0FE;\n",
              "      border: none;\n",
              "      border-radius: 50%;\n",
              "      cursor: pointer;\n",
              "      display: none;\n",
              "      fill: #1967D2;\n",
              "      height: 32px;\n",
              "      padding: 0 0 0 0;\n",
              "      width: 32px;\n",
              "    }\n",
              "\n",
              "    .colab-df-convert:hover {\n",
              "      background-color: #E2EBFA;\n",
              "      box-shadow: 0px 1px 2px rgba(60, 64, 67, 0.3), 0px 1px 3px 1px rgba(60, 64, 67, 0.15);\n",
              "      fill: #174EA6;\n",
              "    }\n",
              "\n",
              "    .colab-df-buttons div {\n",
              "      margin-bottom: 4px;\n",
              "    }\n",
              "\n",
              "    [theme=dark] .colab-df-convert {\n",
              "      background-color: #3B4455;\n",
              "      fill: #D2E3FC;\n",
              "    }\n",
              "\n",
              "    [theme=dark] .colab-df-convert:hover {\n",
              "      background-color: #434B5C;\n",
              "      box-shadow: 0px 1px 3px 1px rgba(0, 0, 0, 0.15);\n",
              "      filter: drop-shadow(0px 1px 2px rgba(0, 0, 0, 0.3));\n",
              "      fill: #FFFFFF;\n",
              "    }\n",
              "  </style>\n",
              "\n",
              "    <script>\n",
              "      const buttonEl =\n",
              "        document.querySelector('#df-dffa8d17-7271-4f4a-928a-d6dcbbf596bb button.colab-df-convert');\n",
              "      buttonEl.style.display =\n",
              "        google.colab.kernel.accessAllowed ? 'block' : 'none';\n",
              "\n",
              "      async function convertToInteractive(key) {\n",
              "        const element = document.querySelector('#df-dffa8d17-7271-4f4a-928a-d6dcbbf596bb');\n",
              "        const dataTable =\n",
              "          await google.colab.kernel.invokeFunction('convertToInteractive',\n",
              "                                                    [key], {});\n",
              "        if (!dataTable) return;\n",
              "\n",
              "        const docLinkHtml = 'Like what you see? Visit the ' +\n",
              "          '<a target=\"_blank\" href=https://colab.research.google.com/notebooks/data_table.ipynb>data table notebook</a>'\n",
              "          + ' to learn more about interactive tables.';\n",
              "        element.innerHTML = '';\n",
              "        dataTable['output_type'] = 'display_data';\n",
              "        await google.colab.output.renderOutput(dataTable, element);\n",
              "        const docLink = document.createElement('div');\n",
              "        docLink.innerHTML = docLinkHtml;\n",
              "        element.appendChild(docLink);\n",
              "      }\n",
              "    </script>\n",
              "  </div>\n",
              "\n",
              "\n",
              "<div id=\"df-bc7a1e9a-ddbb-4cd1-838e-f5f7b0545cc7\">\n",
              "  <button class=\"colab-df-quickchart\" onclick=\"quickchart('df-bc7a1e9a-ddbb-4cd1-838e-f5f7b0545cc7')\"\n",
              "            title=\"Suggest charts\"\n",
              "            style=\"display:none;\">\n",
              "\n",
              "<svg xmlns=\"http://www.w3.org/2000/svg\" height=\"24px\"viewBox=\"0 0 24 24\"\n",
              "     width=\"24px\">\n",
              "    <g>\n",
              "        <path d=\"M19 3H5c-1.1 0-2 .9-2 2v14c0 1.1.9 2 2 2h14c1.1 0 2-.9 2-2V5c0-1.1-.9-2-2-2zM9 17H7v-7h2v7zm4 0h-2V7h2v10zm4 0h-2v-4h2v4z\"/>\n",
              "    </g>\n",
              "</svg>\n",
              "  </button>\n",
              "\n",
              "<style>\n",
              "  .colab-df-quickchart {\n",
              "      --bg-color: #E8F0FE;\n",
              "      --fill-color: #1967D2;\n",
              "      --hover-bg-color: #E2EBFA;\n",
              "      --hover-fill-color: #174EA6;\n",
              "      --disabled-fill-color: #AAA;\n",
              "      --disabled-bg-color: #DDD;\n",
              "  }\n",
              "\n",
              "  [theme=dark] .colab-df-quickchart {\n",
              "      --bg-color: #3B4455;\n",
              "      --fill-color: #D2E3FC;\n",
              "      --hover-bg-color: #434B5C;\n",
              "      --hover-fill-color: #FFFFFF;\n",
              "      --disabled-bg-color: #3B4455;\n",
              "      --disabled-fill-color: #666;\n",
              "  }\n",
              "\n",
              "  .colab-df-quickchart {\n",
              "    background-color: var(--bg-color);\n",
              "    border: none;\n",
              "    border-radius: 50%;\n",
              "    cursor: pointer;\n",
              "    display: none;\n",
              "    fill: var(--fill-color);\n",
              "    height: 32px;\n",
              "    padding: 0;\n",
              "    width: 32px;\n",
              "  }\n",
              "\n",
              "  .colab-df-quickchart:hover {\n",
              "    background-color: var(--hover-bg-color);\n",
              "    box-shadow: 0 1px 2px rgba(60, 64, 67, 0.3), 0 1px 3px 1px rgba(60, 64, 67, 0.15);\n",
              "    fill: var(--button-hover-fill-color);\n",
              "  }\n",
              "\n",
              "  .colab-df-quickchart-complete:disabled,\n",
              "  .colab-df-quickchart-complete:disabled:hover {\n",
              "    background-color: var(--disabled-bg-color);\n",
              "    fill: var(--disabled-fill-color);\n",
              "    box-shadow: none;\n",
              "  }\n",
              "\n",
              "  .colab-df-spinner {\n",
              "    border: 2px solid var(--fill-color);\n",
              "    border-color: transparent;\n",
              "    border-bottom-color: var(--fill-color);\n",
              "    animation:\n",
              "      spin 1s steps(1) infinite;\n",
              "  }\n",
              "\n",
              "  @keyframes spin {\n",
              "    0% {\n",
              "      border-color: transparent;\n",
              "      border-bottom-color: var(--fill-color);\n",
              "      border-left-color: var(--fill-color);\n",
              "    }\n",
              "    20% {\n",
              "      border-color: transparent;\n",
              "      border-left-color: var(--fill-color);\n",
              "      border-top-color: var(--fill-color);\n",
              "    }\n",
              "    30% {\n",
              "      border-color: transparent;\n",
              "      border-left-color: var(--fill-color);\n",
              "      border-top-color: var(--fill-color);\n",
              "      border-right-color: var(--fill-color);\n",
              "    }\n",
              "    40% {\n",
              "      border-color: transparent;\n",
              "      border-right-color: var(--fill-color);\n",
              "      border-top-color: var(--fill-color);\n",
              "    }\n",
              "    60% {\n",
              "      border-color: transparent;\n",
              "      border-right-color: var(--fill-color);\n",
              "    }\n",
              "    80% {\n",
              "      border-color: transparent;\n",
              "      border-right-color: var(--fill-color);\n",
              "      border-bottom-color: var(--fill-color);\n",
              "    }\n",
              "    90% {\n",
              "      border-color: transparent;\n",
              "      border-bottom-color: var(--fill-color);\n",
              "    }\n",
              "  }\n",
              "</style>\n",
              "\n",
              "  <script>\n",
              "    async function quickchart(key) {\n",
              "      const quickchartButtonEl =\n",
              "        document.querySelector('#' + key + ' button');\n",
              "      quickchartButtonEl.disabled = true;  // To prevent multiple clicks.\n",
              "      quickchartButtonEl.classList.add('colab-df-spinner');\n",
              "      try {\n",
              "        const charts = await google.colab.kernel.invokeFunction(\n",
              "            'suggestCharts', [key], {});\n",
              "      } catch (error) {\n",
              "        console.error('Error during call to suggestCharts:', error);\n",
              "      }\n",
              "      quickchartButtonEl.classList.remove('colab-df-spinner');\n",
              "      quickchartButtonEl.classList.add('colab-df-quickchart-complete');\n",
              "    }\n",
              "    (() => {\n",
              "      let quickchartButtonEl =\n",
              "        document.querySelector('#df-bc7a1e9a-ddbb-4cd1-838e-f5f7b0545cc7 button');\n",
              "      quickchartButtonEl.style.display =\n",
              "        google.colab.kernel.accessAllowed ? 'block' : 'none';\n",
              "    })();\n",
              "  </script>\n",
              "</div>\n",
              "\n",
              "  <div id=\"id_f4473dbe-9cf3-4205-b4f3-b543ce73c6ab\">\n",
              "    <style>\n",
              "      .colab-df-generate {\n",
              "        background-color: #E8F0FE;\n",
              "        border: none;\n",
              "        border-radius: 50%;\n",
              "        cursor: pointer;\n",
              "        display: none;\n",
              "        fill: #1967D2;\n",
              "        height: 32px;\n",
              "        padding: 0 0 0 0;\n",
              "        width: 32px;\n",
              "      }\n",
              "\n",
              "      .colab-df-generate:hover {\n",
              "        background-color: #E2EBFA;\n",
              "        box-shadow: 0px 1px 2px rgba(60, 64, 67, 0.3), 0px 1px 3px 1px rgba(60, 64, 67, 0.15);\n",
              "        fill: #174EA6;\n",
              "      }\n",
              "\n",
              "      [theme=dark] .colab-df-generate {\n",
              "        background-color: #3B4455;\n",
              "        fill: #D2E3FC;\n",
              "      }\n",
              "\n",
              "      [theme=dark] .colab-df-generate:hover {\n",
              "        background-color: #434B5C;\n",
              "        box-shadow: 0px 1px 3px 1px rgba(0, 0, 0, 0.15);\n",
              "        filter: drop-shadow(0px 1px 2px rgba(0, 0, 0, 0.3));\n",
              "        fill: #FFFFFF;\n",
              "      }\n",
              "    </style>\n",
              "    <button class=\"colab-df-generate\" onclick=\"generateWithVariable('data')\"\n",
              "            title=\"Generate code using this dataframe.\"\n",
              "            style=\"display:none;\">\n",
              "\n",
              "  <svg xmlns=\"http://www.w3.org/2000/svg\" height=\"24px\"viewBox=\"0 0 24 24\"\n",
              "       width=\"24px\">\n",
              "    <path d=\"M7,19H8.4L18.45,9,17,7.55,7,17.6ZM5,21V16.75L18.45,3.32a2,2,0,0,1,2.83,0l1.4,1.43a1.91,1.91,0,0,1,.58,1.4,1.91,1.91,0,0,1-.58,1.4L9.25,21ZM18.45,9,17,7.55Zm-12,3A5.31,5.31,0,0,0,4.9,8.1,5.31,5.31,0,0,0,1,6.5,5.31,5.31,0,0,0,4.9,4.9,5.31,5.31,0,0,0,6.5,1,5.31,5.31,0,0,0,8.1,4.9,5.31,5.31,0,0,0,12,6.5,5.46,5.46,0,0,0,6.5,12Z\"/>\n",
              "  </svg>\n",
              "    </button>\n",
              "    <script>\n",
              "      (() => {\n",
              "      const buttonEl =\n",
              "        document.querySelector('#id_f4473dbe-9cf3-4205-b4f3-b543ce73c6ab button.colab-df-generate');\n",
              "      buttonEl.style.display =\n",
              "        google.colab.kernel.accessAllowed ? 'block' : 'none';\n",
              "\n",
              "      buttonEl.onclick = () => {\n",
              "        google.colab.notebook.generateWithVariable('data');\n",
              "      }\n",
              "      })();\n",
              "    </script>\n",
              "  </div>\n",
              "\n",
              "    </div>\n",
              "  </div>\n"
            ]
          },
          "metadata": {},
          "execution_count": 268
        }
      ]
    },
    {
      "cell_type": "markdown",
      "source": [
        "\n",
        "\n",
        "> Feature Engineering\n",
        "\n"
      ],
      "metadata": {
        "id": "kBoVCzUDp8IS"
      }
    },
    {
      "cell_type": "code",
      "source": [
        "data['DailyReturn'] = data['Adj Close'].pct_change() * 100\n",
        "data['MovingAverage'] = data['Adj Close'].rolling(window=5).mean()\n",
        "data['PriceToVolumeRatio'] = data['Adj Close']/data['Volume']\n",
        "data=data.dropna()\n",
        "data"
      ],
      "metadata": {
        "colab": {
          "base_uri": "https://localhost:8080/",
          "height": 617
        },
        "outputId": "20ec59f9-d7fb-4389-8f99-e891639db93a",
        "id": "p35FsPPmp8IS"
      },
      "execution_count": 269,
      "outputs": [
        {
          "output_type": "execute_result",
          "data": {
            "text/plain": [
              "           Date          Open      High       Low         Close     Adj Close  \\\n",
              "4    2022-12-23  16829.644531  0.009839  0.014555  16796.953125  16796.953125   \n",
              "5    2022-12-24  16796.976563  0.008396  0.014521  16847.755859  16847.755859   \n",
              "6    2022-12-25  16847.505859  0.008248  0.013115  16841.986328  16841.986328   \n",
              "7    2022-12-26  16842.250000  0.010369  0.015213  16919.804688  16919.804688   \n",
              "8    2022-12-27  16919.291016  0.011784  0.008959  16717.173828  16717.173828   \n",
              "..          ...           ...       ...       ...           ...           ...   \n",
              "361  2023-12-15  43028.250000  0.942383  0.928951  41929.757813  41929.757813   \n",
              "362  2023-12-16  41937.742188  0.927321  0.930058  42240.117188  42240.117188   \n",
              "363  2023-12-17  42236.109375  0.916442  0.913584  41364.664063  41364.664063   \n",
              "364  2023-12-18  41348.203125  0.929293  0.886250  42623.539063  42623.539063   \n",
              "365  2023-12-19  42641.511719  0.949265  0.934657  42150.578125  42150.578125   \n",
              "\n",
              "          Volume  DailyReturn  MovingAverage  PriceToVolumeRatio  \n",
              "4    15329265213    -0.198384   16758.162891            0.000001  \n",
              "5     9744636213     0.302452   16839.778125            0.000002  \n",
              "6    11656379938    -0.034245   16826.914453            0.000001  \n",
              "7    11886957804     0.462050   16847.368359            0.000001  \n",
              "8    15748580239    -1.197596   16824.734766            0.000001  \n",
              "..           ...          ...            ...                 ...  \n",
              "361  19639442462    -2.543268   42107.705469            0.000002  \n",
              "362  14386729590     0.740189   42306.962500            0.000003  \n",
              "363  16678702876    -2.072563   42289.850782            0.000002  \n",
              "364  25224642008     3.043358   42236.410157            0.000002  \n",
              "365  25344405504    -1.109624   42061.731250            0.000002  \n",
              "\n",
              "[362 rows x 10 columns]"
            ],
            "text/html": [
              "\n",
              "  <div id=\"df-58a8f28f-a124-4c32-8d21-95941176d3df\" class=\"colab-df-container\">\n",
              "    <div>\n",
              "<style scoped>\n",
              "    .dataframe tbody tr th:only-of-type {\n",
              "        vertical-align: middle;\n",
              "    }\n",
              "\n",
              "    .dataframe tbody tr th {\n",
              "        vertical-align: top;\n",
              "    }\n",
              "\n",
              "    .dataframe thead th {\n",
              "        text-align: right;\n",
              "    }\n",
              "</style>\n",
              "<table border=\"1\" class=\"dataframe\">\n",
              "  <thead>\n",
              "    <tr style=\"text-align: right;\">\n",
              "      <th></th>\n",
              "      <th>Date</th>\n",
              "      <th>Open</th>\n",
              "      <th>High</th>\n",
              "      <th>Low</th>\n",
              "      <th>Close</th>\n",
              "      <th>Adj Close</th>\n",
              "      <th>Volume</th>\n",
              "      <th>DailyReturn</th>\n",
              "      <th>MovingAverage</th>\n",
              "      <th>PriceToVolumeRatio</th>\n",
              "    </tr>\n",
              "  </thead>\n",
              "  <tbody>\n",
              "    <tr>\n",
              "      <th>4</th>\n",
              "      <td>2022-12-23</td>\n",
              "      <td>16829.644531</td>\n",
              "      <td>0.009839</td>\n",
              "      <td>0.014555</td>\n",
              "      <td>16796.953125</td>\n",
              "      <td>16796.953125</td>\n",
              "      <td>15329265213</td>\n",
              "      <td>-0.198384</td>\n",
              "      <td>16758.162891</td>\n",
              "      <td>0.000001</td>\n",
              "    </tr>\n",
              "    <tr>\n",
              "      <th>5</th>\n",
              "      <td>2022-12-24</td>\n",
              "      <td>16796.976563</td>\n",
              "      <td>0.008396</td>\n",
              "      <td>0.014521</td>\n",
              "      <td>16847.755859</td>\n",
              "      <td>16847.755859</td>\n",
              "      <td>9744636213</td>\n",
              "      <td>0.302452</td>\n",
              "      <td>16839.778125</td>\n",
              "      <td>0.000002</td>\n",
              "    </tr>\n",
              "    <tr>\n",
              "      <th>6</th>\n",
              "      <td>2022-12-25</td>\n",
              "      <td>16847.505859</td>\n",
              "      <td>0.008248</td>\n",
              "      <td>0.013115</td>\n",
              "      <td>16841.986328</td>\n",
              "      <td>16841.986328</td>\n",
              "      <td>11656379938</td>\n",
              "      <td>-0.034245</td>\n",
              "      <td>16826.914453</td>\n",
              "      <td>0.000001</td>\n",
              "    </tr>\n",
              "    <tr>\n",
              "      <th>7</th>\n",
              "      <td>2022-12-26</td>\n",
              "      <td>16842.250000</td>\n",
              "      <td>0.010369</td>\n",
              "      <td>0.015213</td>\n",
              "      <td>16919.804688</td>\n",
              "      <td>16919.804688</td>\n",
              "      <td>11886957804</td>\n",
              "      <td>0.462050</td>\n",
              "      <td>16847.368359</td>\n",
              "      <td>0.000001</td>\n",
              "    </tr>\n",
              "    <tr>\n",
              "      <th>8</th>\n",
              "      <td>2022-12-27</td>\n",
              "      <td>16919.291016</td>\n",
              "      <td>0.011784</td>\n",
              "      <td>0.008959</td>\n",
              "      <td>16717.173828</td>\n",
              "      <td>16717.173828</td>\n",
              "      <td>15748580239</td>\n",
              "      <td>-1.197596</td>\n",
              "      <td>16824.734766</td>\n",
              "      <td>0.000001</td>\n",
              "    </tr>\n",
              "    <tr>\n",
              "      <th>...</th>\n",
              "      <td>...</td>\n",
              "      <td>...</td>\n",
              "      <td>...</td>\n",
              "      <td>...</td>\n",
              "      <td>...</td>\n",
              "      <td>...</td>\n",
              "      <td>...</td>\n",
              "      <td>...</td>\n",
              "      <td>...</td>\n",
              "      <td>...</td>\n",
              "    </tr>\n",
              "    <tr>\n",
              "      <th>361</th>\n",
              "      <td>2023-12-15</td>\n",
              "      <td>43028.250000</td>\n",
              "      <td>0.942383</td>\n",
              "      <td>0.928951</td>\n",
              "      <td>41929.757813</td>\n",
              "      <td>41929.757813</td>\n",
              "      <td>19639442462</td>\n",
              "      <td>-2.543268</td>\n",
              "      <td>42107.705469</td>\n",
              "      <td>0.000002</td>\n",
              "    </tr>\n",
              "    <tr>\n",
              "      <th>362</th>\n",
              "      <td>2023-12-16</td>\n",
              "      <td>41937.742188</td>\n",
              "      <td>0.927321</td>\n",
              "      <td>0.930058</td>\n",
              "      <td>42240.117188</td>\n",
              "      <td>42240.117188</td>\n",
              "      <td>14386729590</td>\n",
              "      <td>0.740189</td>\n",
              "      <td>42306.962500</td>\n",
              "      <td>0.000003</td>\n",
              "    </tr>\n",
              "    <tr>\n",
              "      <th>363</th>\n",
              "      <td>2023-12-17</td>\n",
              "      <td>42236.109375</td>\n",
              "      <td>0.916442</td>\n",
              "      <td>0.913584</td>\n",
              "      <td>41364.664063</td>\n",
              "      <td>41364.664063</td>\n",
              "      <td>16678702876</td>\n",
              "      <td>-2.072563</td>\n",
              "      <td>42289.850782</td>\n",
              "      <td>0.000002</td>\n",
              "    </tr>\n",
              "    <tr>\n",
              "      <th>364</th>\n",
              "      <td>2023-12-18</td>\n",
              "      <td>41348.203125</td>\n",
              "      <td>0.929293</td>\n",
              "      <td>0.886250</td>\n",
              "      <td>42623.539063</td>\n",
              "      <td>42623.539063</td>\n",
              "      <td>25224642008</td>\n",
              "      <td>3.043358</td>\n",
              "      <td>42236.410157</td>\n",
              "      <td>0.000002</td>\n",
              "    </tr>\n",
              "    <tr>\n",
              "      <th>365</th>\n",
              "      <td>2023-12-19</td>\n",
              "      <td>42641.511719</td>\n",
              "      <td>0.949265</td>\n",
              "      <td>0.934657</td>\n",
              "      <td>42150.578125</td>\n",
              "      <td>42150.578125</td>\n",
              "      <td>25344405504</td>\n",
              "      <td>-1.109624</td>\n",
              "      <td>42061.731250</td>\n",
              "      <td>0.000002</td>\n",
              "    </tr>\n",
              "  </tbody>\n",
              "</table>\n",
              "<p>362 rows × 10 columns</p>\n",
              "</div>\n",
              "    <div class=\"colab-df-buttons\">\n",
              "\n",
              "  <div class=\"colab-df-container\">\n",
              "    <button class=\"colab-df-convert\" onclick=\"convertToInteractive('df-58a8f28f-a124-4c32-8d21-95941176d3df')\"\n",
              "            title=\"Convert this dataframe to an interactive table.\"\n",
              "            style=\"display:none;\">\n",
              "\n",
              "  <svg xmlns=\"http://www.w3.org/2000/svg\" height=\"24px\" viewBox=\"0 -960 960 960\">\n",
              "    <path d=\"M120-120v-720h720v720H120Zm60-500h600v-160H180v160Zm220 220h160v-160H400v160Zm0 220h160v-160H400v160ZM180-400h160v-160H180v160Zm440 0h160v-160H620v160ZM180-180h160v-160H180v160Zm440 0h160v-160H620v160Z\"/>\n",
              "  </svg>\n",
              "    </button>\n",
              "\n",
              "  <style>\n",
              "    .colab-df-container {\n",
              "      display:flex;\n",
              "      gap: 12px;\n",
              "    }\n",
              "\n",
              "    .colab-df-convert {\n",
              "      background-color: #E8F0FE;\n",
              "      border: none;\n",
              "      border-radius: 50%;\n",
              "      cursor: pointer;\n",
              "      display: none;\n",
              "      fill: #1967D2;\n",
              "      height: 32px;\n",
              "      padding: 0 0 0 0;\n",
              "      width: 32px;\n",
              "    }\n",
              "\n",
              "    .colab-df-convert:hover {\n",
              "      background-color: #E2EBFA;\n",
              "      box-shadow: 0px 1px 2px rgba(60, 64, 67, 0.3), 0px 1px 3px 1px rgba(60, 64, 67, 0.15);\n",
              "      fill: #174EA6;\n",
              "    }\n",
              "\n",
              "    .colab-df-buttons div {\n",
              "      margin-bottom: 4px;\n",
              "    }\n",
              "\n",
              "    [theme=dark] .colab-df-convert {\n",
              "      background-color: #3B4455;\n",
              "      fill: #D2E3FC;\n",
              "    }\n",
              "\n",
              "    [theme=dark] .colab-df-convert:hover {\n",
              "      background-color: #434B5C;\n",
              "      box-shadow: 0px 1px 3px 1px rgba(0, 0, 0, 0.15);\n",
              "      filter: drop-shadow(0px 1px 2px rgba(0, 0, 0, 0.3));\n",
              "      fill: #FFFFFF;\n",
              "    }\n",
              "  </style>\n",
              "\n",
              "    <script>\n",
              "      const buttonEl =\n",
              "        document.querySelector('#df-58a8f28f-a124-4c32-8d21-95941176d3df button.colab-df-convert');\n",
              "      buttonEl.style.display =\n",
              "        google.colab.kernel.accessAllowed ? 'block' : 'none';\n",
              "\n",
              "      async function convertToInteractive(key) {\n",
              "        const element = document.querySelector('#df-58a8f28f-a124-4c32-8d21-95941176d3df');\n",
              "        const dataTable =\n",
              "          await google.colab.kernel.invokeFunction('convertToInteractive',\n",
              "                                                    [key], {});\n",
              "        if (!dataTable) return;\n",
              "\n",
              "        const docLinkHtml = 'Like what you see? Visit the ' +\n",
              "          '<a target=\"_blank\" href=https://colab.research.google.com/notebooks/data_table.ipynb>data table notebook</a>'\n",
              "          + ' to learn more about interactive tables.';\n",
              "        element.innerHTML = '';\n",
              "        dataTable['output_type'] = 'display_data';\n",
              "        await google.colab.output.renderOutput(dataTable, element);\n",
              "        const docLink = document.createElement('div');\n",
              "        docLink.innerHTML = docLinkHtml;\n",
              "        element.appendChild(docLink);\n",
              "      }\n",
              "    </script>\n",
              "  </div>\n",
              "\n",
              "\n",
              "<div id=\"df-27f88f81-5c6b-4afb-a5f8-b06cfc87212c\">\n",
              "  <button class=\"colab-df-quickchart\" onclick=\"quickchart('df-27f88f81-5c6b-4afb-a5f8-b06cfc87212c')\"\n",
              "            title=\"Suggest charts\"\n",
              "            style=\"display:none;\">\n",
              "\n",
              "<svg xmlns=\"http://www.w3.org/2000/svg\" height=\"24px\"viewBox=\"0 0 24 24\"\n",
              "     width=\"24px\">\n",
              "    <g>\n",
              "        <path d=\"M19 3H5c-1.1 0-2 .9-2 2v14c0 1.1.9 2 2 2h14c1.1 0 2-.9 2-2V5c0-1.1-.9-2-2-2zM9 17H7v-7h2v7zm4 0h-2V7h2v10zm4 0h-2v-4h2v4z\"/>\n",
              "    </g>\n",
              "</svg>\n",
              "  </button>\n",
              "\n",
              "<style>\n",
              "  .colab-df-quickchart {\n",
              "      --bg-color: #E8F0FE;\n",
              "      --fill-color: #1967D2;\n",
              "      --hover-bg-color: #E2EBFA;\n",
              "      --hover-fill-color: #174EA6;\n",
              "      --disabled-fill-color: #AAA;\n",
              "      --disabled-bg-color: #DDD;\n",
              "  }\n",
              "\n",
              "  [theme=dark] .colab-df-quickchart {\n",
              "      --bg-color: #3B4455;\n",
              "      --fill-color: #D2E3FC;\n",
              "      --hover-bg-color: #434B5C;\n",
              "      --hover-fill-color: #FFFFFF;\n",
              "      --disabled-bg-color: #3B4455;\n",
              "      --disabled-fill-color: #666;\n",
              "  }\n",
              "\n",
              "  .colab-df-quickchart {\n",
              "    background-color: var(--bg-color);\n",
              "    border: none;\n",
              "    border-radius: 50%;\n",
              "    cursor: pointer;\n",
              "    display: none;\n",
              "    fill: var(--fill-color);\n",
              "    height: 32px;\n",
              "    padding: 0;\n",
              "    width: 32px;\n",
              "  }\n",
              "\n",
              "  .colab-df-quickchart:hover {\n",
              "    background-color: var(--hover-bg-color);\n",
              "    box-shadow: 0 1px 2px rgba(60, 64, 67, 0.3), 0 1px 3px 1px rgba(60, 64, 67, 0.15);\n",
              "    fill: var(--button-hover-fill-color);\n",
              "  }\n",
              "\n",
              "  .colab-df-quickchart-complete:disabled,\n",
              "  .colab-df-quickchart-complete:disabled:hover {\n",
              "    background-color: var(--disabled-bg-color);\n",
              "    fill: var(--disabled-fill-color);\n",
              "    box-shadow: none;\n",
              "  }\n",
              "\n",
              "  .colab-df-spinner {\n",
              "    border: 2px solid var(--fill-color);\n",
              "    border-color: transparent;\n",
              "    border-bottom-color: var(--fill-color);\n",
              "    animation:\n",
              "      spin 1s steps(1) infinite;\n",
              "  }\n",
              "\n",
              "  @keyframes spin {\n",
              "    0% {\n",
              "      border-color: transparent;\n",
              "      border-bottom-color: var(--fill-color);\n",
              "      border-left-color: var(--fill-color);\n",
              "    }\n",
              "    20% {\n",
              "      border-color: transparent;\n",
              "      border-left-color: var(--fill-color);\n",
              "      border-top-color: var(--fill-color);\n",
              "    }\n",
              "    30% {\n",
              "      border-color: transparent;\n",
              "      border-left-color: var(--fill-color);\n",
              "      border-top-color: var(--fill-color);\n",
              "      border-right-color: var(--fill-color);\n",
              "    }\n",
              "    40% {\n",
              "      border-color: transparent;\n",
              "      border-right-color: var(--fill-color);\n",
              "      border-top-color: var(--fill-color);\n",
              "    }\n",
              "    60% {\n",
              "      border-color: transparent;\n",
              "      border-right-color: var(--fill-color);\n",
              "    }\n",
              "    80% {\n",
              "      border-color: transparent;\n",
              "      border-right-color: var(--fill-color);\n",
              "      border-bottom-color: var(--fill-color);\n",
              "    }\n",
              "    90% {\n",
              "      border-color: transparent;\n",
              "      border-bottom-color: var(--fill-color);\n",
              "    }\n",
              "  }\n",
              "</style>\n",
              "\n",
              "  <script>\n",
              "    async function quickchart(key) {\n",
              "      const quickchartButtonEl =\n",
              "        document.querySelector('#' + key + ' button');\n",
              "      quickchartButtonEl.disabled = true;  // To prevent multiple clicks.\n",
              "      quickchartButtonEl.classList.add('colab-df-spinner');\n",
              "      try {\n",
              "        const charts = await google.colab.kernel.invokeFunction(\n",
              "            'suggestCharts', [key], {});\n",
              "      } catch (error) {\n",
              "        console.error('Error during call to suggestCharts:', error);\n",
              "      }\n",
              "      quickchartButtonEl.classList.remove('colab-df-spinner');\n",
              "      quickchartButtonEl.classList.add('colab-df-quickchart-complete');\n",
              "    }\n",
              "    (() => {\n",
              "      let quickchartButtonEl =\n",
              "        document.querySelector('#df-27f88f81-5c6b-4afb-a5f8-b06cfc87212c button');\n",
              "      quickchartButtonEl.style.display =\n",
              "        google.colab.kernel.accessAllowed ? 'block' : 'none';\n",
              "    })();\n",
              "  </script>\n",
              "</div>\n",
              "\n",
              "  <div id=\"id_20b76628-bb20-4c22-a6a2-cd824dd57462\">\n",
              "    <style>\n",
              "      .colab-df-generate {\n",
              "        background-color: #E8F0FE;\n",
              "        border: none;\n",
              "        border-radius: 50%;\n",
              "        cursor: pointer;\n",
              "        display: none;\n",
              "        fill: #1967D2;\n",
              "        height: 32px;\n",
              "        padding: 0 0 0 0;\n",
              "        width: 32px;\n",
              "      }\n",
              "\n",
              "      .colab-df-generate:hover {\n",
              "        background-color: #E2EBFA;\n",
              "        box-shadow: 0px 1px 2px rgba(60, 64, 67, 0.3), 0px 1px 3px 1px rgba(60, 64, 67, 0.15);\n",
              "        fill: #174EA6;\n",
              "      }\n",
              "\n",
              "      [theme=dark] .colab-df-generate {\n",
              "        background-color: #3B4455;\n",
              "        fill: #D2E3FC;\n",
              "      }\n",
              "\n",
              "      [theme=dark] .colab-df-generate:hover {\n",
              "        background-color: #434B5C;\n",
              "        box-shadow: 0px 1px 3px 1px rgba(0, 0, 0, 0.15);\n",
              "        filter: drop-shadow(0px 1px 2px rgba(0, 0, 0, 0.3));\n",
              "        fill: #FFFFFF;\n",
              "      }\n",
              "    </style>\n",
              "    <button class=\"colab-df-generate\" onclick=\"generateWithVariable('data')\"\n",
              "            title=\"Generate code using this dataframe.\"\n",
              "            style=\"display:none;\">\n",
              "\n",
              "  <svg xmlns=\"http://www.w3.org/2000/svg\" height=\"24px\"viewBox=\"0 0 24 24\"\n",
              "       width=\"24px\">\n",
              "    <path d=\"M7,19H8.4L18.45,9,17,7.55,7,17.6ZM5,21V16.75L18.45,3.32a2,2,0,0,1,2.83,0l1.4,1.43a1.91,1.91,0,0,1,.58,1.4,1.91,1.91,0,0,1-.58,1.4L9.25,21ZM18.45,9,17,7.55Zm-12,3A5.31,5.31,0,0,0,4.9,8.1,5.31,5.31,0,0,0,1,6.5,5.31,5.31,0,0,0,4.9,4.9,5.31,5.31,0,0,0,6.5,1,5.31,5.31,0,0,0,8.1,4.9,5.31,5.31,0,0,0,12,6.5,5.46,5.46,0,0,0,6.5,12Z\"/>\n",
              "  </svg>\n",
              "    </button>\n",
              "    <script>\n",
              "      (() => {\n",
              "      const buttonEl =\n",
              "        document.querySelector('#id_20b76628-bb20-4c22-a6a2-cd824dd57462 button.colab-df-generate');\n",
              "      buttonEl.style.display =\n",
              "        google.colab.kernel.accessAllowed ? 'block' : 'none';\n",
              "\n",
              "      buttonEl.onclick = () => {\n",
              "        google.colab.notebook.generateWithVariable('data');\n",
              "      }\n",
              "      })();\n",
              "    </script>\n",
              "  </div>\n",
              "\n",
              "    </div>\n",
              "  </div>\n"
            ]
          },
          "metadata": {},
          "execution_count": 269
        }
      ]
    },
    {
      "cell_type": "markdown",
      "source": [
        "> Data Splitting and Model Training"
      ],
      "metadata": {
        "id": "eHjF6p1Op8IT"
      }
    },
    {
      "cell_type": "code",
      "source": [
        "features = ['Open', 'High', 'Low', 'Volume', 'DailyReturn', 'MovingAverage', 'PriceToVolumeRatio']\n",
        "X = data[features]\n",
        "Y = data['Close']\n",
        "print(X.columns)\n",
        "print(Y.name)"
      ],
      "metadata": {
        "colab": {
          "base_uri": "https://localhost:8080/"
        },
        "outputId": "24b00776-c561-43ca-b0e5-527b394649fc",
        "id": "gUD7bKjPp8IT"
      },
      "execution_count": 270,
      "outputs": [
        {
          "output_type": "stream",
          "name": "stdout",
          "text": [
            "Index(['Open', 'High', 'Low', 'Volume', 'DailyReturn', 'MovingAverage',\n",
            "       'PriceToVolumeRatio'],\n",
            "      dtype='object')\n",
            "Close\n"
          ]
        }
      ]
    },
    {
      "cell_type": "code",
      "source": [
        "imputer = SimpleImputer(strategy='mean')\n",
        "X = imputer.fit_transform(X)"
      ],
      "metadata": {
        "id": "hqDQtEsVp8IT"
      },
      "execution_count": 271,
      "outputs": []
    },
    {
      "cell_type": "code",
      "source": [
        "X_train, X_test, y_train, y_test = train_test_split(X, Y, test_size=0.2, random_state=42)\n",
        "print(\"X_train shape:\", X_train.shape)\n",
        "print(\"X_test shape:\", X_test.shape)\n",
        "print(\"y_train shape:\", y_train.shape)\n",
        "print(\"y_test shape:\", y_test.shape)"
      ],
      "metadata": {
        "colab": {
          "base_uri": "https://localhost:8080/"
        },
        "outputId": "ef34e2f5-ff2a-4140-fa6d-15d67be2a864",
        "id": "HOO1ctqXp8IT"
      },
      "execution_count": 272,
      "outputs": [
        {
          "output_type": "stream",
          "name": "stdout",
          "text": [
            "X_train shape: (289, 7)\n",
            "X_test shape: (73, 7)\n",
            "y_train shape: (289,)\n",
            "y_test shape: (73,)\n"
          ]
        }
      ]
    },
    {
      "cell_type": "code",
      "source": [
        "y_test"
      ],
      "metadata": {
        "colab": {
          "base_uri": "https://localhost:8080/"
        },
        "id": "6bhqv-1-A8TH",
        "outputId": "c75d7561-5ca0-4d0f-d09f-bba8c0bd475a"
      },
      "execution_count": 273,
      "outputs": [
        {
          "output_type": "execute_result",
          "data": {
            "text/plain": [
              "167    27119.066406\n",
              "37     23117.859375\n",
              "19     16955.078125\n",
              "326    37313.968750\n",
              "61     24641.277344\n",
              "           ...     \n",
              "301    28519.466797\n",
              "86     24375.960938\n",
              "98     27139.888672\n",
              "345    37858.492188\n",
              "307    29993.896484\n",
              "Name: Close, Length: 73, dtype: float64"
            ]
          },
          "metadata": {},
          "execution_count": 273
        }
      ]
    },
    {
      "cell_type": "code",
      "source": [
        "model = LinearRegression()"
      ],
      "metadata": {
        "id": "LydblPP4p8IU"
      },
      "execution_count": 274,
      "outputs": []
    },
    {
      "cell_type": "markdown",
      "source": [
        "> Model Evaluation"
      ],
      "metadata": {
        "id": "38hhu4JGp8IU"
      }
    },
    {
      "cell_type": "code",
      "source": [
        "model.fit(X_train, y_train)\n",
        "predictions = model.predict(X_test)\n",
        "predictions"
      ],
      "metadata": {
        "colab": {
          "base_uri": "https://localhost:8080/"
        },
        "outputId": "855341b1-a82f-4dcd-8a4b-7209e873dbdd",
        "id": "01MKEum9p8IU"
      },
      "execution_count": 275,
      "outputs": [
        {
          "output_type": "execute_result",
          "data": {
            "text/plain": [
              "array([27168.81618667, 23242.4045972 , 16908.9546495 , 37128.56257963,\n",
              "       24596.45024889, 30711.40482712, 20108.81585305, 27374.01533076,\n",
              "       26567.61872914, 29222.90583675, 26253.27876905, 23173.14769021,\n",
              "       29445.71165637, 23636.88313986, 27679.60179647, 30508.930958  ,\n",
              "       25792.62220786, 29082.32950352, 35695.22492157, 27741.80526729,\n",
              "       16617.22036706, 31159.27937809, 22496.55255111, 27757.67959263,\n",
              "       37815.38794398, 30511.461779  , 29367.25928414, 26507.64157129,\n",
              "       27136.2214614 , 42299.07252993, 21125.74885449, 29563.43480724,\n",
              "       23420.94314085, 43389.27107424, 26414.3372935 , 30351.94433431,\n",
              "       23124.49729033, 21128.22967503, 28309.74710527, 25075.31181006,\n",
              "       26232.54322186, 39841.63469332, 22616.67822997, 27431.64245117,\n",
              "       30183.46184497, 41546.7047931 , 28392.50037347, 24619.45149591,\n",
              "       16440.90970336, 22756.3971701 , 29315.37999311, 27731.45222389,\n",
              "       26889.42477727, 29793.57394954, 26287.85268271, 37243.6598322 ,\n",
              "       28024.97761452, 16904.74133938, 27397.83051304, 20038.08151563,\n",
              "       37297.71279234, 26009.33650618, 20755.96990191, 23327.46007376,\n",
              "       26522.56839146, 22434.37849572, 29218.54936174, 28506.85243214,\n",
              "       28682.67349793, 24245.78178796, 27034.34622324, 37949.79879498,\n",
              "       29961.94352127])"
            ]
          },
          "metadata": {},
          "execution_count": 275
        }
      ]
    },
    {
      "cell_type": "code",
      "source": [
        "print('Model Coefficients: \\n', model.coef_)\n",
        "print('Model Intercept: \\n', model.intercept_)"
      ],
      "metadata": {
        "colab": {
          "base_uri": "https://localhost:8080/"
        },
        "outputId": "d2353337-a7d7-404d-eb5a-271b1b0f3866",
        "id": "sBxmKtmLp8IV"
      },
      "execution_count": 276,
      "outputs": [
        {
          "output_type": "stream",
          "name": "stdout",
          "text": [
            "Model Coefficients: \n",
            " [ 4.33637933e-01  6.75946913e+03  7.03147763e+03 -7.20319804e-10\n",
            "  1.95315431e+02  7.18247292e-02  3.96059121e-02]\n",
            "Model Intercept: \n",
            " 8132.503069674331\n"
          ]
        }
      ]
    },
    {
      "cell_type": "code",
      "source": [
        "print(\"Performance (R^2): \", model.score(X_train, y_train))"
      ],
      "metadata": {
        "colab": {
          "base_uri": "https://localhost:8080/"
        },
        "outputId": "e76c52a5-1c50-4ace-bc09-58217752eb8f",
        "id": "nEXeI0Vgp8IV"
      },
      "execution_count": 277,
      "outputs": [
        {
          "output_type": "stream",
          "name": "stdout",
          "text": [
            "Performance (R^2):  0.9996098832213572\n"
          ]
        }
      ]
    },
    {
      "cell_type": "code",
      "source": [
        "mse = mean_squared_error(y_test, predictions)\n",
        "print(f'Mean Squared Error: {mse}')"
      ],
      "metadata": {
        "colab": {
          "base_uri": "https://localhost:8080/"
        },
        "outputId": "173a1377-c06b-4a7e-bf2b-ae2203b2f321",
        "id": "7Lb1Kqx5p8IW"
      },
      "execution_count": 278,
      "outputs": [
        {
          "output_type": "stream",
          "name": "stdout",
          "text": [
            "Mean Squared Error: 9246.456983353508\n"
          ]
        }
      ]
    },
    {
      "cell_type": "code",
      "source": [
        "# Calculate Mean Absolute Error\n",
        "mae = mean_absolute_error(y_test, predictions)\n",
        "print(f'Mean Absolute Error: {mae:.2f}')"
      ],
      "metadata": {
        "colab": {
          "base_uri": "https://localhost:8080/"
        },
        "id": "gBmPyu2s-9dy",
        "outputId": "99585d75-2efc-4aac-dd55-e52768d80c67"
      },
      "execution_count": 279,
      "outputs": [
        {
          "output_type": "stream",
          "name": "stdout",
          "text": [
            "Mean Absolute Error: 68.14\n"
          ]
        }
      ]
    },
    {
      "cell_type": "code",
      "source": [
        "# Calculate R-squared\n",
        "r2 = r2_score(y_test, predictions)\n",
        "print(f'R-squared: {r2:.2f}')"
      ],
      "metadata": {
        "colab": {
          "base_uri": "https://localhost:8080/"
        },
        "id": "sNQAcEl9CIzV",
        "outputId": "8bfb4981-9663-4361-afab-a2714eb8f2e1"
      },
      "execution_count": 280,
      "outputs": [
        {
          "output_type": "stream",
          "name": "stdout",
          "text": [
            "R-squared: 1.00\n"
          ]
        }
      ]
    },
    {
      "cell_type": "code",
      "source": [
        "df_results = pd.DataFrame({'Date': pd.to_datetime(y_test.index, format='%Y-%m-%d'),\n",
        "                           'Actual_Close': y_test.values,\n",
        "                           'Predicted_Close': predictions})\n",
        "\n",
        "# Display the new DataFrame\n",
        "print(df_results)"
      ],
      "metadata": {
        "colab": {
          "base_uri": "https://localhost:8080/"
        },
        "outputId": "127ed0ff-95a8-487c-fc6c-6d18deffab27",
        "id": "LySkT9WVp8IW"
      },
      "execution_count": 281,
      "outputs": [
        {
          "output_type": "stream",
          "name": "stdout",
          "text": [
            "                            Date  Actual_Close  Predicted_Close\n",
            "0  1970-01-01 00:00:00.000000167  27119.066406     27168.816187\n",
            "1  1970-01-01 00:00:00.000000037  23117.859375     23242.404597\n",
            "2  1970-01-01 00:00:00.000000019  16955.078125     16908.954649\n",
            "3  1970-01-01 00:00:00.000000326  37313.968750     37128.562580\n",
            "4  1970-01-01 00:00:00.000000061  24641.277344     24596.450249\n",
            "..                           ...           ...              ...\n",
            "68 1970-01-01 00:00:00.000000301  28519.466797     28682.673498\n",
            "69 1970-01-01 00:00:00.000000086  24375.960938     24245.781788\n",
            "70 1970-01-01 00:00:00.000000098  27139.888672     27034.346223\n",
            "71 1970-01-01 00:00:00.000000345  37858.492188     37949.798795\n",
            "72 1970-01-01 00:00:00.000000307  29993.896484     29961.943521\n",
            "\n",
            "[73 rows x 3 columns]\n"
          ]
        }
      ]
    },
    {
      "cell_type": "code",
      "source": [
        "df_results[['Actual_Close', 'Predicted_Close']].plot()"
      ],
      "metadata": {
        "colab": {
          "base_uri": "https://localhost:8080/",
          "height": 447
        },
        "outputId": "3f0dcd64-6a78-4ba2-f7ab-3f65387639e5",
        "id": "kYSmaoXrp8IW"
      },
      "execution_count": 282,
      "outputs": [
        {
          "output_type": "execute_result",
          "data": {
            "text/plain": [
              "<Axes: >"
            ]
          },
          "metadata": {},
          "execution_count": 282
        },
        {
          "output_type": "display_data",
          "data": {
            "text/plain": [
              "<Figure size 640x480 with 1 Axes>"
            ],
            "image/png": "[encoded data removed]"
          },
          "metadata": {}
        }
      ]
    },
    {
      "cell_type": "code",
      "source": [
        "plt.figure(figsize=(8, 6))\n",
        "plt.scatter(y_test, predictions, color='blue', alpha=0.5)\n",
        "plt.plot([min(y_test), max(y_test)], [min(y_test), max(y_test)], linestyle='--', color='red', linewidth=2)\n",
        "plt.title('Actual vs. Predicted Values')\n",
        "plt.xlabel('Actual Values')\n",
        "plt.ylabel('Predicted Values')\n",
        "plt.show()"
      ],
      "metadata": {
        "colab": {
          "base_uri": "https://localhost:8080/",
          "height": 564
        },
        "id": "BIysR46ysTJv",
        "outputId": "bd042fe9-7a41-406d-e5a7-f72d1c75d9c7"
      },
      "execution_count": 283,
      "outputs": [
        {
          "output_type": "display_data",
          "data": {
            "text/plain": [
              "<Figure size 800x600 with 1 Axes>"
            ],
            "image/png": "[encoded data removed]"
          },
          "metadata": {}
        }
      ]
    }
  ]
}