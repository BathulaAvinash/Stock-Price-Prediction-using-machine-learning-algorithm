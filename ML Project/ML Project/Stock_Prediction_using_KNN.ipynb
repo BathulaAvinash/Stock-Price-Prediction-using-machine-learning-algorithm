{
  "nbformat": 4,
  "nbformat_minor": 0,
  "metadata": {
    "colab": {
      "provenance": []
    },
    "kernelspec": {
      "name": "python3",
      "display_name": "Python 3"
    },
    "language_info": {
      "name": "python"
    }
  },
  "cells": [
    {
      "cell_type": "markdown",
      "source": [
        "**Stock Prediction using KNN algorithm**\n"
      ],
      "metadata": {
        "id": "sGIi5TVTPpjC"
      }
    },
    {
      "cell_type": "markdown",
      "source": [
        "***Importing important libraries***"
      ],
      "metadata": {
        "id": "8iegve4ERG4c"
      }
    },
    {
      "cell_type": "code",
      "execution_count": 144,
      "metadata": {
        "id": "H73G29WpPla7"
      },
      "outputs": [],
      "source": [
        "import pandas as pd\n",
        "from sklearn.model_selection import train_test_split\n",
        "from sklearn.metrics import accuracy_score, recall_score, precision_score,f1_score, roc_auc_score\n",
        "from sklearn.linear_model import LinearRegression\n",
        "from sklearn.neighbors import KNeighborsRegressor\n",
        "from sklearn.svm import SVR\n",
        "from sklearn.tree import DecisionTreeRegressor\n",
        "from sklearn.impute import SimpleImputer\n",
        "from sklearn.metrics import mean_squared_error, mean_absolute_error, r2_score\n",
        "from sklearn.metrics import roc_curve, auc\n",
        "import matplotlib.pyplot as plt"
      ]
    },
    {
      "cell_type": "markdown",
      "source": [
        "***Tesla Dataset***\n",
        "\n",
        "> In this project, I select tesla datasets which play a crucial role as they form the foundation for training and evaluating machine learning models i.e KNN algorithm for stock market price prediction. Dataset represents historical stock market data for different assets, and understanding their characteristics is vital for building effective predictive models.\n",
        "\n",
        "\n",
        "> Features of dataset\n",
        "* Date: Essential for organizing data chronologically and identifying trends over time.\n",
        "* Open: The opening price of Datasets on a given day.\n",
        "* High: The highest price of Datasets on a given day.\n",
        "* Low: The lowest price of Datasets on a given day.\n",
        "* Close: The closing price of Datasets on a given day.\n",
        "* Adj Close: The adjusted closing price of Datasets on a given day, considering dividends, stock splits, etc.\n",
        "* Volume: The volume of Datasets traded on a given day.\n",
        "\n",
        "\n",
        "\n",
        "\n",
        "\n"
      ],
      "metadata": {
        "id": "eDYfot84P1uP"
      }
    },
    {
      "cell_type": "markdown",
      "source": [
        "*Load the dataset*"
      ],
      "metadata": {
        "id": "RDQJ2pLYRi3m"
      }
    },
    {
      "cell_type": "code",
      "source": [
        "data = pd.read_csv('TESLA.csv')\n",
        "print(data)"
      ],
      "metadata": {
        "colab": {
          "base_uri": "https://localhost:8080/"
        },
        "id": "AvETHCwXRrge",
        "outputId": "81cf11f9-9248-4dc0-960d-f6f865b909c2"
      },
      "execution_count": 145,
      "outputs": [
        {
          "output_type": "stream",
          "name": "stdout",
          "text": [
            "           Date        Open        High         Low       Close   Adj Close  \\\n",
            "0    2021-09-29  259.933319  264.500000  256.893341  260.436676  260.436676   \n",
            "1    2021-09-30  260.333344  263.043335  258.333344  258.493347  258.493347   \n",
            "2    2021-10-01  259.466675  260.260010  254.529999  258.406677  258.406677   \n",
            "3    2021-10-04  265.500000  268.989990  258.706665  260.510010  260.510010   \n",
            "4    2021-10-05  261.600006  265.769989  258.066681  260.196655  260.196655   \n",
            "..          ...         ...         ...         ...         ...         ...   \n",
            "248  2022-09-23  283.089996  284.500000  272.820007  275.329987  275.329987   \n",
            "249  2022-09-26  271.829987  284.089996  270.309998  276.010010  276.010010   \n",
            "250  2022-09-27  283.839996  288.670013  277.510010  282.940002  282.940002   \n",
            "251  2022-09-28  283.079987  289.000000  277.570007  287.809998  287.809998   \n",
            "252  2022-09-29  282.760010  283.649994  265.779999  268.209991  268.209991   \n",
            "\n",
            "       Volume  \n",
            "0    62828700  \n",
            "1    53868000  \n",
            "2    51094200  \n",
            "3    91449900  \n",
            "4    55297800  \n",
            "..        ...  \n",
            "248  63615400  \n",
            "249  58076900  \n",
            "250  61925200  \n",
            "251  54664800  \n",
            "252  77393100  \n",
            "\n",
            "[253 rows x 7 columns]\n"
          ]
        }
      ]
    },
    {
      "cell_type": "markdown",
      "source": [
        "*Quick peek at functions:*"
      ],
      "metadata": {
        "id": "qfrN5JQ0R08l"
      }
    },
    {
      "cell_type": "code",
      "source": [
        "data.shape"
      ],
      "metadata": {
        "colab": {
          "base_uri": "https://localhost:8080/"
        },
        "id": "q-KIFBbcR1UQ",
        "outputId": "09435a7b-6ba0-4356-96af-ae6fe0f17293"
      },
      "execution_count": 146,
      "outputs": [
        {
          "output_type": "execute_result",
          "data": {
            "text/plain": [
              "(253, 7)"
            ]
          },
          "metadata": {},
          "execution_count": 146
        }
      ]
    },
    {
      "cell_type": "code",
      "source": [
        "data.columns"
      ],
      "metadata": {
        "colab": {
          "base_uri": "https://localhost:8080/"
        },
        "id": "rhTHKggCSmDn",
        "outputId": "a50b1bc5-368d-4ff4-e854-bca1b9a585fb"
      },
      "execution_count": 147,
      "outputs": [
        {
          "output_type": "execute_result",
          "data": {
            "text/plain": [
              "Index(['Date', 'Open', 'High', 'Low', 'Close', 'Adj Close', 'Volume'], dtype='object')"
            ]
          },
          "metadata": {},
          "execution_count": 147
        }
      ]
    },
    {
      "cell_type": "code",
      "source": [
        "print(data.describe())"
      ],
      "metadata": {
        "colab": {
          "base_uri": "https://localhost:8080/"
        },
        "id": "ZlsrQh9pSp4c",
        "outputId": "2d0dea3a-dfb3-4add-d7e4-2178199a1119"
      },
      "execution_count": 148,
      "outputs": [
        {
          "output_type": "stream",
          "name": "stdout",
          "text": [
            "             Open        High         Low       Close   Adj Close  \\\n",
            "count  253.000000  253.000000  253.000000  253.000000  253.000000   \n",
            "mean   300.136008  307.486021  292.114058  299.709104  299.709104   \n",
            "std     46.139272   46.789896   44.685331   45.788283   45.788283   \n",
            "min    207.949997  217.973328  206.856674  209.386673  209.386673   \n",
            "25%    266.513336  273.166656  260.723328  266.923340  266.923340   \n",
            "50%    298.500000  303.709991  289.130005  296.666656  296.666656   \n",
            "75%    335.600006  344.950012  327.510010  336.336670  336.336670   \n",
            "max    411.470001  414.496674  405.666656  409.970001  409.970001   \n",
            "\n",
            "             Volume  \n",
            "count  2.530000e+02  \n",
            "mean   8.050938e+07  \n",
            "std    2.546595e+07  \n",
            "min    3.504270e+07  \n",
            "25%    6.255570e+07  \n",
            "50%    7.695630e+07  \n",
            "75%    9.347310e+07  \n",
            "max    1.885563e+08  \n"
          ]
        }
      ]
    },
    {
      "cell_type": "code",
      "source": [
        "print(data.info())"
      ],
      "metadata": {
        "colab": {
          "base_uri": "https://localhost:8080/"
        },
        "id": "O0LPK8e8Svqs",
        "outputId": "27bd781f-e827-4412-a54e-e0498dca6e53"
      },
      "execution_count": 149,
      "outputs": [
        {
          "output_type": "stream",
          "name": "stdout",
          "text": [
            "<class 'pandas.core.frame.DataFrame'>\n",
            "RangeIndex: 253 entries, 0 to 252\n",
            "Data columns (total 7 columns):\n",
            " #   Column     Non-Null Count  Dtype  \n",
            "---  ------     --------------  -----  \n",
            " 0   Date       253 non-null    object \n",
            " 1   Open       253 non-null    float64\n",
            " 2   High       253 non-null    float64\n",
            " 3   Low        253 non-null    float64\n",
            " 4   Close      253 non-null    float64\n",
            " 5   Adj Close  253 non-null    float64\n",
            " 6   Volume     253 non-null    int64  \n",
            "dtypes: float64(5), int64(1), object(1)\n",
            "memory usage: 14.0+ KB\n",
            "None\n"
          ]
        }
      ]
    },
    {
      "cell_type": "markdown",
      "source": [
        "*Data Preprocessing*\n",
        "\n",
        "> Handling Missing Values:\n",
        "\n"
      ],
      "metadata": {
        "id": "IX0vxBMPVZ4U"
      }
    },
    {
      "cell_type": "code",
      "source": [
        "missing_values = data.isnull().sum()\n",
        "print(\"Missing Values:\\n\", missing_values)\n",
        "data = data.dropna()\n",
        "print(\"Missing Values After Handling:\\n\", data.isnull().sum())"
      ],
      "metadata": {
        "colab": {
          "base_uri": "https://localhost:8080/"
        },
        "id": "aYbkcmJRTQH7",
        "outputId": "1f18fc70-fd1b-4307-8018-3a4e62e59730"
      },
      "execution_count": 150,
      "outputs": [
        {
          "output_type": "stream",
          "name": "stdout",
          "text": [
            "Missing Values:\n",
            " Date         0\n",
            "Open         0\n",
            "High         0\n",
            "Low          0\n",
            "Close        0\n",
            "Adj Close    0\n",
            "Volume       0\n",
            "dtype: int64\n",
            "Missing Values After Handling:\n",
            " Date         0\n",
            "Open         0\n",
            "High         0\n",
            "Low          0\n",
            "Close        0\n",
            "Adj Close    0\n",
            "Volume       0\n",
            "dtype: int64\n"
          ]
        }
      ]
    },
    {
      "cell_type": "markdown",
      "source": [
        "\n",
        "\n",
        "> Feature Scaling\n",
        "\n"
      ],
      "metadata": {
        "id": "isndxjVCWRNl"
      }
    },
    {
      "cell_type": "code",
      "source": [
        "from sklearn.preprocessing import MinMaxScaler\n",
        "scaler = MinMaxScaler()\n",
        "data[['High']] = scaler.fit_transform(data[['High']])\n",
        "data[['Low']] = scaler.fit_transform(data[['Low']])\n",
        "data"
      ],
      "metadata": {
        "colab": {
          "base_uri": "https://localhost:8080/",
          "height": 424
        },
        "id": "cBNPMtemWUKf",
        "outputId": "bd6d8579-4131-4986-e9dc-af0fbb87a792"
      },
      "execution_count": 151,
      "outputs": [
        {
          "output_type": "execute_result",
          "data": {
            "text/plain": [
              "           Date        Open      High       Low       Close   Adj Close  \\\n",
              "0    2021-09-29  259.933319  0.236749  0.251681  260.436676  260.436676   \n",
              "1    2021-09-30  260.333344  0.229337  0.258924  258.493347  258.493347   \n",
              "2    2021-10-01  259.466675  0.215174  0.239793  258.406677  258.406677   \n",
              "3    2021-10-04  265.500000  0.259596  0.260802  260.510010  260.510010   \n",
              "4    2021-10-05  261.600006  0.243211  0.257583  260.196655  260.196655   \n",
              "..          ...         ...       ...       ...         ...         ...   \n",
              "248  2022-09-23  283.089996  0.338518  0.331791  275.329987  275.329987   \n",
              "249  2022-09-26  271.829987  0.336432  0.319166  276.010010  276.010010   \n",
              "250  2022-09-27  283.839996  0.359737  0.355381  282.940002  282.940002   \n",
              "251  2022-09-28  283.079987  0.361416  0.355683  287.809998  287.809998   \n",
              "252  2022-09-29  282.760010  0.334193  0.296380  268.209991  268.209991   \n",
              "\n",
              "       Volume  \n",
              "0    62828700  \n",
              "1    53868000  \n",
              "2    51094200  \n",
              "3    91449900  \n",
              "4    55297800  \n",
              "..        ...  \n",
              "248  63615400  \n",
              "249  58076900  \n",
              "250  61925200  \n",
              "251  54664800  \n",
              "252  77393100  \n",
              "\n",
              "[253 rows x 7 columns]"
            ],
            "text/html": [
              "\n",
              "  <div id=\"df-0de6c036-cb64-4790-a427-d343f7881e4d\" class=\"colab-df-container\">\n",
              "    <div>\n",
              "<style scoped>\n",
              "    .dataframe tbody tr th:only-of-type {\n",
              "        vertical-align: middle;\n",
              "    }\n",
              "\n",
              "    .dataframe tbody tr th {\n",
              "        vertical-align: top;\n",
              "    }\n",
              "\n",
              "    .dataframe thead th {\n",
              "        text-align: right;\n",
              "    }\n",
              "</style>\n",
              "<table border=\"1\" class=\"dataframe\">\n",
              "  <thead>\n",
              "    <tr style=\"text-align: right;\">\n",
              "      <th></th>\n",
              "      <th>Date</th>\n",
              "      <th>Open</th>\n",
              "      <th>High</th>\n",
              "      <th>Low</th>\n",
              "      <th>Close</th>\n",
              "      <th>Adj Close</th>\n",
              "      <th>Volume</th>\n",
              "    </tr>\n",
              "  </thead>\n",
              "  <tbody>\n",
              "    <tr>\n",
              "      <th>0</th>\n",
              "      <td>2021-09-29</td>\n",
              "      <td>259.933319</td>\n",
              "      <td>0.236749</td>\n",
              "      <td>0.251681</td>\n",
              "      <td>260.436676</td>\n",
              "      <td>260.436676</td>\n",
              "      <td>62828700</td>\n",
              "    </tr>\n",
              "    <tr>\n",
              "      <th>1</th>\n",
              "      <td>2021-09-30</td>\n",
              "      <td>260.333344</td>\n",
              "      <td>0.229337</td>\n",
              "      <td>0.258924</td>\n",
              "      <td>258.493347</td>\n",
              "      <td>258.493347</td>\n",
              "      <td>53868000</td>\n",
              "    </tr>\n",
              "    <tr>\n",
              "      <th>2</th>\n",
              "      <td>2021-10-01</td>\n",
              "      <td>259.466675</td>\n",
              "      <td>0.215174</td>\n",
              "      <td>0.239793</td>\n",
              "      <td>258.406677</td>\n",
              "      <td>258.406677</td>\n",
              "      <td>51094200</td>\n",
              "    </tr>\n",
              "    <tr>\n",
              "      <th>3</th>\n",
              "      <td>2021-10-04</td>\n",
              "      <td>265.500000</td>\n",
              "      <td>0.259596</td>\n",
              "      <td>0.260802</td>\n",
              "      <td>260.510010</td>\n",
              "      <td>260.510010</td>\n",
              "      <td>91449900</td>\n",
              "    </tr>\n",
              "    <tr>\n",
              "      <th>4</th>\n",
              "      <td>2021-10-05</td>\n",
              "      <td>261.600006</td>\n",
              "      <td>0.243211</td>\n",
              "      <td>0.257583</td>\n",
              "      <td>260.196655</td>\n",
              "      <td>260.196655</td>\n",
              "      <td>55297800</td>\n",
              "    </tr>\n",
              "    <tr>\n",
              "      <th>...</th>\n",
              "      <td>...</td>\n",
              "      <td>...</td>\n",
              "      <td>...</td>\n",
              "      <td>...</td>\n",
              "      <td>...</td>\n",
              "      <td>...</td>\n",
              "      <td>...</td>\n",
              "    </tr>\n",
              "    <tr>\n",
              "      <th>248</th>\n",
              "      <td>2022-09-23</td>\n",
              "      <td>283.089996</td>\n",
              "      <td>0.338518</td>\n",
              "      <td>0.331791</td>\n",
              "      <td>275.329987</td>\n",
              "      <td>275.329987</td>\n",
              "      <td>63615400</td>\n",
              "    </tr>\n",
              "    <tr>\n",
              "      <th>249</th>\n",
              "      <td>2022-09-26</td>\n",
              "      <td>271.829987</td>\n",
              "      <td>0.336432</td>\n",
              "      <td>0.319166</td>\n",
              "      <td>276.010010</td>\n",
              "      <td>276.010010</td>\n",
              "      <td>58076900</td>\n",
              "    </tr>\n",
              "    <tr>\n",
              "      <th>250</th>\n",
              "      <td>2022-09-27</td>\n",
              "      <td>283.839996</td>\n",
              "      <td>0.359737</td>\n",
              "      <td>0.355381</td>\n",
              "      <td>282.940002</td>\n",
              "      <td>282.940002</td>\n",
              "      <td>61925200</td>\n",
              "    </tr>\n",
              "    <tr>\n",
              "      <th>251</th>\n",
              "      <td>2022-09-28</td>\n",
              "      <td>283.079987</td>\n",
              "      <td>0.361416</td>\n",
              "      <td>0.355683</td>\n",
              "      <td>287.809998</td>\n",
              "      <td>287.809998</td>\n",
              "      <td>54664800</td>\n",
              "    </tr>\n",
              "    <tr>\n",
              "      <th>252</th>\n",
              "      <td>2022-09-29</td>\n",
              "      <td>282.760010</td>\n",
              "      <td>0.334193</td>\n",
              "      <td>0.296380</td>\n",
              "      <td>268.209991</td>\n",
              "      <td>268.209991</td>\n",
              "      <td>77393100</td>\n",
              "    </tr>\n",
              "  </tbody>\n",
              "</table>\n",
              "<p>253 rows × 7 columns</p>\n",
              "</div>\n",
              "    <div class=\"colab-df-buttons\">\n",
              "\n",
              "  <div class=\"colab-df-container\">\n",
              "    <button class=\"colab-df-convert\" onclick=\"convertToInteractive('df-0de6c036-cb64-4790-a427-d343f7881e4d')\"\n",
              "            title=\"Convert this dataframe to an interactive table.\"\n",
              "            style=\"display:none;\">\n",
              "\n",
              "  <svg xmlns=\"http://www.w3.org/2000/svg\" height=\"24px\" viewBox=\"0 -960 960 960\">\n",
              "    <path d=\"M120-120v-720h720v720H120Zm60-500h600v-160H180v160Zm220 220h160v-160H400v160Zm0 220h160v-160H400v160ZM180-400h160v-160H180v160Zm440 0h160v-160H620v160ZM180-180h160v-160H180v160Zm440 0h160v-160H620v160Z\"/>\n",
              "  </svg>\n",
              "    </button>\n",
              "\n",
              "  <style>\n",
              "    .colab-df-container {\n",
              "      display:flex;\n",
              "      gap: 12px;\n",
              "    }\n",
              "\n",
              "    .colab-df-convert {\n",
              "      background-color: #E8F0FE;\n",
              "      border: none;\n",
              "      border-radius: 50%;\n",
              "      cursor: pointer;\n",
              "      display: none;\n",
              "      fill: #1967D2;\n",
              "      height: 32px;\n",
              "      padding: 0 0 0 0;\n",
              "      width: 32px;\n",
              "    }\n",
              "\n",
              "    .colab-df-convert:hover {\n",
              "      background-color: #E2EBFA;\n",
              "      box-shadow: 0px 1px 2px rgba(60, 64, 67, 0.3), 0px 1px 3px 1px rgba(60, 64, 67, 0.15);\n",
              "      fill: #174EA6;\n",
              "    }\n",
              "\n",
              "    .colab-df-buttons div {\n",
              "      margin-bottom: 4px;\n",
              "    }\n",
              "\n",
              "    [theme=dark] .colab-df-convert {\n",
              "      background-color: #3B4455;\n",
              "      fill: #D2E3FC;\n",
              "    }\n",
              "\n",
              "    [theme=dark] .colab-df-convert:hover {\n",
              "      background-color: #434B5C;\n",
              "      box-shadow: 0px 1px 3px 1px rgba(0, 0, 0, 0.15);\n",
              "      filter: drop-shadow(0px 1px 2px rgba(0, 0, 0, 0.3));\n",
              "      fill: #FFFFFF;\n",
              "    }\n",
              "  </style>\n",
              "\n",
              "    <script>\n",
              "      const buttonEl =\n",
              "        document.querySelector('#df-0de6c036-cb64-4790-a427-d343f7881e4d button.colab-df-convert');\n",
              "      buttonEl.style.display =\n",
              "        google.colab.kernel.accessAllowed ? 'block' : 'none';\n",
              "\n",
              "      async function convertToInteractive(key) {\n",
              "        const element = document.querySelector('#df-0de6c036-cb64-4790-a427-d343f7881e4d');\n",
              "        const dataTable =\n",
              "          await google.colab.kernel.invokeFunction('convertToInteractive',\n",
              "                                                    [key], {});\n",
              "        if (!dataTable) return;\n",
              "\n",
              "        const docLinkHtml = 'Like what you see? Visit the ' +\n",
              "          '<a target=\"_blank\" href=https://colab.research.google.com/notebooks/data_table.ipynb>data table notebook</a>'\n",
              "          + ' to learn more about interactive tables.';\n",
              "        element.innerHTML = '';\n",
              "        dataTable['output_type'] = 'display_data';\n",
              "        await google.colab.output.renderOutput(dataTable, element);\n",
              "        const docLink = document.createElement('div');\n",
              "        docLink.innerHTML = docLinkHtml;\n",
              "        element.appendChild(docLink);\n",
              "      }\n",
              "    </script>\n",
              "  </div>\n",
              "\n",
              "\n",
              "<div id=\"df-ac8961a9-aa3c-4231-8266-223c0282e170\">\n",
              "  <button class=\"colab-df-quickchart\" onclick=\"quickchart('df-ac8961a9-aa3c-4231-8266-223c0282e170')\"\n",
              "            title=\"Suggest charts\"\n",
              "            style=\"display:none;\">\n",
              "\n",
              "<svg xmlns=\"http://www.w3.org/2000/svg\" height=\"24px\"viewBox=\"0 0 24 24\"\n",
              "     width=\"24px\">\n",
              "    <g>\n",
              "        <path d=\"M19 3H5c-1.1 0-2 .9-2 2v14c0 1.1.9 2 2 2h14c1.1 0 2-.9 2-2V5c0-1.1-.9-2-2-2zM9 17H7v-7h2v7zm4 0h-2V7h2v10zm4 0h-2v-4h2v4z\"/>\n",
              "    </g>\n",
              "</svg>\n",
              "  </button>\n",
              "\n",
              "<style>\n",
              "  .colab-df-quickchart {\n",
              "      --bg-color: #E8F0FE;\n",
              "      --fill-color: #1967D2;\n",
              "      --hover-bg-color: #E2EBFA;\n",
              "      --hover-fill-color: #174EA6;\n",
              "      --disabled-fill-color: #AAA;\n",
              "      --disabled-bg-color: #DDD;\n",
              "  }\n",
              "\n",
              "  [theme=dark] .colab-df-quickchart {\n",
              "      --bg-color: #3B4455;\n",
              "      --fill-color: #D2E3FC;\n",
              "      --hover-bg-color: #434B5C;\n",
              "      --hover-fill-color: #FFFFFF;\n",
              "      --disabled-bg-color: #3B4455;\n",
              "      --disabled-fill-color: #666;\n",
              "  }\n",
              "\n",
              "  .colab-df-quickchart {\n",
              "    background-color: var(--bg-color);\n",
              "    border: none;\n",
              "    border-radius: 50%;\n",
              "    cursor: pointer;\n",
              "    display: none;\n",
              "    fill: var(--fill-color);\n",
              "    height: 32px;\n",
              "    padding: 0;\n",
              "    width: 32px;\n",
              "  }\n",
              "\n",
              "  .colab-df-quickchart:hover {\n",
              "    background-color: var(--hover-bg-color);\n",
              "    box-shadow: 0 1px 2px rgba(60, 64, 67, 0.3), 0 1px 3px 1px rgba(60, 64, 67, 0.15);\n",
              "    fill: var(--button-hover-fill-color);\n",
              "  }\n",
              "\n",
              "  .colab-df-quickchart-complete:disabled,\n",
              "  .colab-df-quickchart-complete:disabled:hover {\n",
              "    background-color: var(--disabled-bg-color);\n",
              "    fill: var(--disabled-fill-color);\n",
              "    box-shadow: none;\n",
              "  }\n",
              "\n",
              "  .colab-df-spinner {\n",
              "    border: 2px solid var(--fill-color);\n",
              "    border-color: transparent;\n",
              "    border-bottom-color: var(--fill-color);\n",
              "    animation:\n",
              "      spin 1s steps(1) infinite;\n",
              "  }\n",
              "\n",
              "  @keyframes spin {\n",
              "    0% {\n",
              "      border-color: transparent;\n",
              "      border-bottom-color: var(--fill-color);\n",
              "      border-left-color: var(--fill-color);\n",
              "    }\n",
              "    20% {\n",
              "      border-color: transparent;\n",
              "      border-left-color: var(--fill-color);\n",
              "      border-top-color: var(--fill-color);\n",
              "    }\n",
              "    30% {\n",
              "      border-color: transparent;\n",
              "      border-left-color: var(--fill-color);\n",
              "      border-top-color: var(--fill-color);\n",
              "      border-right-color: var(--fill-color);\n",
              "    }\n",
              "    40% {\n",
              "      border-color: transparent;\n",
              "      border-right-color: var(--fill-color);\n",
              "      border-top-color: var(--fill-color);\n",
              "    }\n",
              "    60% {\n",
              "      border-color: transparent;\n",
              "      border-right-color: var(--fill-color);\n",
              "    }\n",
              "    80% {\n",
              "      border-color: transparent;\n",
              "      border-right-color: var(--fill-color);\n",
              "      border-bottom-color: var(--fill-color);\n",
              "    }\n",
              "    90% {\n",
              "      border-color: transparent;\n",
              "      border-bottom-color: var(--fill-color);\n",
              "    }\n",
              "  }\n",
              "</style>\n",
              "\n",
              "  <script>\n",
              "    async function quickchart(key) {\n",
              "      const quickchartButtonEl =\n",
              "        document.querySelector('#' + key + ' button');\n",
              "      quickchartButtonEl.disabled = true;  // To prevent multiple clicks.\n",
              "      quickchartButtonEl.classList.add('colab-df-spinner');\n",
              "      try {\n",
              "        const charts = await google.colab.kernel.invokeFunction(\n",
              "            'suggestCharts', [key], {});\n",
              "      } catch (error) {\n",
              "        console.error('Error during call to suggestCharts:', error);\n",
              "      }\n",
              "      quickchartButtonEl.classList.remove('colab-df-spinner');\n",
              "      quickchartButtonEl.classList.add('colab-df-quickchart-complete');\n",
              "    }\n",
              "    (() => {\n",
              "      let quickchartButtonEl =\n",
              "        document.querySelector('#df-ac8961a9-aa3c-4231-8266-223c0282e170 button');\n",
              "      quickchartButtonEl.style.display =\n",
              "        google.colab.kernel.accessAllowed ? 'block' : 'none';\n",
              "    })();\n",
              "  </script>\n",
              "</div>\n",
              "\n",
              "  <div id=\"id_72951341-80c4-42ae-b542-971434342e18\">\n",
              "    <style>\n",
              "      .colab-df-generate {\n",
              "        background-color: #E8F0FE;\n",
              "        border: none;\n",
              "        border-radius: 50%;\n",
              "        cursor: pointer;\n",
              "        display: none;\n",
              "        fill: #1967D2;\n",
              "        height: 32px;\n",
              "        padding: 0 0 0 0;\n",
              "        width: 32px;\n",
              "      }\n",
              "\n",
              "      .colab-df-generate:hover {\n",
              "        background-color: #E2EBFA;\n",
              "        box-shadow: 0px 1px 2px rgba(60, 64, 67, 0.3), 0px 1px 3px 1px rgba(60, 64, 67, 0.15);\n",
              "        fill: #174EA6;\n",
              "      }\n",
              "\n",
              "      [theme=dark] .colab-df-generate {\n",
              "        background-color: #3B4455;\n",
              "        fill: #D2E3FC;\n",
              "      }\n",
              "\n",
              "      [theme=dark] .colab-df-generate:hover {\n",
              "        background-color: #434B5C;\n",
              "        box-shadow: 0px 1px 3px 1px rgba(0, 0, 0, 0.15);\n",
              "        filter: drop-shadow(0px 1px 2px rgba(0, 0, 0, 0.3));\n",
              "        fill: #FFFFFF;\n",
              "      }\n",
              "    </style>\n",
              "    <button class=\"colab-df-generate\" onclick=\"generateWithVariable('data')\"\n",
              "            title=\"Generate code using this dataframe.\"\n",
              "            style=\"display:none;\">\n",
              "\n",
              "  <svg xmlns=\"http://www.w3.org/2000/svg\" height=\"24px\"viewBox=\"0 0 24 24\"\n",
              "       width=\"24px\">\n",
              "    <path d=\"M7,19H8.4L18.45,9,17,7.55,7,17.6ZM5,21V16.75L18.45,3.32a2,2,0,0,1,2.83,0l1.4,1.43a1.91,1.91,0,0,1,.58,1.4,1.91,1.91,0,0,1-.58,1.4L9.25,21ZM18.45,9,17,7.55Zm-12,3A5.31,5.31,0,0,0,4.9,8.1,5.31,5.31,0,0,0,1,6.5,5.31,5.31,0,0,0,4.9,4.9,5.31,5.31,0,0,0,6.5,1,5.31,5.31,0,0,0,8.1,4.9,5.31,5.31,0,0,0,12,6.5,5.46,5.46,0,0,0,6.5,12Z\"/>\n",
              "  </svg>\n",
              "    </button>\n",
              "    <script>\n",
              "      (() => {\n",
              "      const buttonEl =\n",
              "        document.querySelector('#id_72951341-80c4-42ae-b542-971434342e18 button.colab-df-generate');\n",
              "      buttonEl.style.display =\n",
              "        google.colab.kernel.accessAllowed ? 'block' : 'none';\n",
              "\n",
              "      buttonEl.onclick = () => {\n",
              "        google.colab.notebook.generateWithVariable('data');\n",
              "      }\n",
              "      })();\n",
              "    </script>\n",
              "  </div>\n",
              "\n",
              "    </div>\n",
              "  </div>\n"
            ]
          },
          "metadata": {},
          "execution_count": 151
        }
      ]
    },
    {
      "cell_type": "markdown",
      "source": [
        "\n",
        "\n",
        "> Feature Engineering\n",
        "\n"
      ],
      "metadata": {
        "id": "tKbew_lvX4w0"
      }
    },
    {
      "cell_type": "code",
      "source": [
        "data['DailyReturn'] = data['Adj Close'].pct_change() * 100\n",
        "data['MovingAverage'] = data['Adj Close'].rolling(window=5).mean()\n",
        "data['PriceToVolumeRatio'] = data['Adj Close']/data['Volume']\n",
        "data=data.dropna()\n",
        "data"
      ],
      "metadata": {
        "colab": {
          "base_uri": "https://localhost:8080/",
          "height": 617
        },
        "id": "REjgCMQQX-u6",
        "outputId": "bf18d156-df1c-462c-c995-4a13bf3cec81"
      },
      "execution_count": 152,
      "outputs": [
        {
          "output_type": "execute_result",
          "data": {
            "text/plain": [
              "           Date        Open      High       Low       Close   Adj Close  \\\n",
              "4    2021-10-05  261.600006  0.243211  0.257583  260.196655  260.196655   \n",
              "5    2021-10-06  258.733337  0.225147  0.255939  260.916656  260.916656   \n",
              "6    2021-10-07  261.820007  0.256255  0.272974  264.536682  264.536682   \n",
              "7    2021-10-08  265.403320  0.241634  0.268833  261.829987  261.829987   \n",
              "8    2021-10-11  262.549988  0.249877  0.276529  263.980011  263.980011   \n",
              "..          ...         ...       ...       ...         ...         ...   \n",
              "248  2022-09-23  283.089996  0.338518  0.331791  275.329987  275.329987   \n",
              "249  2022-09-26  271.829987  0.336432  0.319166  276.010010  276.010010   \n",
              "250  2022-09-27  283.839996  0.359737  0.355381  282.940002  282.940002   \n",
              "251  2022-09-28  283.079987  0.361416  0.355683  287.809998  287.809998   \n",
              "252  2022-09-29  282.760010  0.334193  0.296380  268.209991  268.209991   \n",
              "\n",
              "       Volume  DailyReturn  MovingAverage  PriceToVolumeRatio  \n",
              "4    55297800    -0.120285     259.608673            0.000005  \n",
              "5    43898400     0.276714     259.704669            0.000006  \n",
              "6    57587400     1.387426     260.913336            0.000005  \n",
              "7    50215800    -1.023183     261.597998            0.000005  \n",
              "8    42600900     0.821153     262.291998            0.000006  \n",
              "..        ...          ...            ...                 ...  \n",
              "248  63615400    -4.594757     296.503998            0.000004  \n",
              "249  58076900     0.246985     289.891998            0.000005  \n",
              "250  61925200     2.510776     284.733997            0.000005  \n",
              "251  54664800     1.721212     282.135999            0.000005  \n",
              "252  77393100    -6.810051     278.059998            0.000003  \n",
              "\n",
              "[249 rows x 10 columns]"
            ],
            "text/html": [
              "\n",
              "  <div id=\"df-b4054da1-1efa-4b4f-9d40-e50f791b0edf\" class=\"colab-df-container\">\n",
              "    <div>\n",
              "<style scoped>\n",
              "    .dataframe tbody tr th:only-of-type {\n",
              "        vertical-align: middle;\n",
              "    }\n",
              "\n",
              "    .dataframe tbody tr th {\n",
              "        vertical-align: top;\n",
              "    }\n",
              "\n",
              "    .dataframe thead th {\n",
              "        text-align: right;\n",
              "    }\n",
              "</style>\n",
              "<table border=\"1\" class=\"dataframe\">\n",
              "  <thead>\n",
              "    <tr style=\"text-align: right;\">\n",
              "      <th></th>\n",
              "      <th>Date</th>\n",
              "      <th>Open</th>\n",
              "      <th>High</th>\n",
              "      <th>Low</th>\n",
              "      <th>Close</th>\n",
              "      <th>Adj Close</th>\n",
              "      <th>Volume</th>\n",
              "      <th>DailyReturn</th>\n",
              "      <th>MovingAverage</th>\n",
              "      <th>PriceToVolumeRatio</th>\n",
              "    </tr>\n",
              "  </thead>\n",
              "  <tbody>\n",
              "    <tr>\n",
              "      <th>4</th>\n",
              "      <td>2021-10-05</td>\n",
              "      <td>261.600006</td>\n",
              "      <td>0.243211</td>\n",
              "      <td>0.257583</td>\n",
              "      <td>260.196655</td>\n",
              "      <td>260.196655</td>\n",
              "      <td>55297800</td>\n",
              "      <td>-0.120285</td>\n",
              "      <td>259.608673</td>\n",
              "      <td>0.000005</td>\n",
              "    </tr>\n",
              "    <tr>\n",
              "      <th>5</th>\n",
              "      <td>2021-10-06</td>\n",
              "      <td>258.733337</td>\n",
              "      <td>0.225147</td>\n",
              "      <td>0.255939</td>\n",
              "      <td>260.916656</td>\n",
              "      <td>260.916656</td>\n",
              "      <td>43898400</td>\n",
              "      <td>0.276714</td>\n",
              "      <td>259.704669</td>\n",
              "      <td>0.000006</td>\n",
              "    </tr>\n",
              "    <tr>\n",
              "      <th>6</th>\n",
              "      <td>2021-10-07</td>\n",
              "      <td>261.820007</td>\n",
              "      <td>0.256255</td>\n",
              "      <td>0.272974</td>\n",
              "      <td>264.536682</td>\n",
              "      <td>264.536682</td>\n",
              "      <td>57587400</td>\n",
              "      <td>1.387426</td>\n",
              "      <td>260.913336</td>\n",
              "      <td>0.000005</td>\n",
              "    </tr>\n",
              "    <tr>\n",
              "      <th>7</th>\n",
              "      <td>2021-10-08</td>\n",
              "      <td>265.403320</td>\n",
              "      <td>0.241634</td>\n",
              "      <td>0.268833</td>\n",
              "      <td>261.829987</td>\n",
              "      <td>261.829987</td>\n",
              "      <td>50215800</td>\n",
              "      <td>-1.023183</td>\n",
              "      <td>261.597998</td>\n",
              "      <td>0.000005</td>\n",
              "    </tr>\n",
              "    <tr>\n",
              "      <th>8</th>\n",
              "      <td>2021-10-11</td>\n",
              "      <td>262.549988</td>\n",
              "      <td>0.249877</td>\n",
              "      <td>0.276529</td>\n",
              "      <td>263.980011</td>\n",
              "      <td>263.980011</td>\n",
              "      <td>42600900</td>\n",
              "      <td>0.821153</td>\n",
              "      <td>262.291998</td>\n",
              "      <td>0.000006</td>\n",
              "    </tr>\n",
              "    <tr>\n",
              "      <th>...</th>\n",
              "      <td>...</td>\n",
              "      <td>...</td>\n",
              "      <td>...</td>\n",
              "      <td>...</td>\n",
              "      <td>...</td>\n",
              "      <td>...</td>\n",
              "      <td>...</td>\n",
              "      <td>...</td>\n",
              "      <td>...</td>\n",
              "      <td>...</td>\n",
              "    </tr>\n",
              "    <tr>\n",
              "      <th>248</th>\n",
              "      <td>2022-09-23</td>\n",
              "      <td>283.089996</td>\n",
              "      <td>0.338518</td>\n",
              "      <td>0.331791</td>\n",
              "      <td>275.329987</td>\n",
              "      <td>275.329987</td>\n",
              "      <td>63615400</td>\n",
              "      <td>-4.594757</td>\n",
              "      <td>296.503998</td>\n",
              "      <td>0.000004</td>\n",
              "    </tr>\n",
              "    <tr>\n",
              "      <th>249</th>\n",
              "      <td>2022-09-26</td>\n",
              "      <td>271.829987</td>\n",
              "      <td>0.336432</td>\n",
              "      <td>0.319166</td>\n",
              "      <td>276.010010</td>\n",
              "      <td>276.010010</td>\n",
              "      <td>58076900</td>\n",
              "      <td>0.246985</td>\n",
              "      <td>289.891998</td>\n",
              "      <td>0.000005</td>\n",
              "    </tr>\n",
              "    <tr>\n",
              "      <th>250</th>\n",
              "      <td>2022-09-27</td>\n",
              "      <td>283.839996</td>\n",
              "      <td>0.359737</td>\n",
              "      <td>0.355381</td>\n",
              "      <td>282.940002</td>\n",
              "      <td>282.940002</td>\n",
              "      <td>61925200</td>\n",
              "      <td>2.510776</td>\n",
              "      <td>284.733997</td>\n",
              "      <td>0.000005</td>\n",
              "    </tr>\n",
              "    <tr>\n",
              "      <th>251</th>\n",
              "      <td>2022-09-28</td>\n",
              "      <td>283.079987</td>\n",
              "      <td>0.361416</td>\n",
              "      <td>0.355683</td>\n",
              "      <td>287.809998</td>\n",
              "      <td>287.809998</td>\n",
              "      <td>54664800</td>\n",
              "      <td>1.721212</td>\n",
              "      <td>282.135999</td>\n",
              "      <td>0.000005</td>\n",
              "    </tr>\n",
              "    <tr>\n",
              "      <th>252</th>\n",
              "      <td>2022-09-29</td>\n",
              "      <td>282.760010</td>\n",
              "      <td>0.334193</td>\n",
              "      <td>0.296380</td>\n",
              "      <td>268.209991</td>\n",
              "      <td>268.209991</td>\n",
              "      <td>77393100</td>\n",
              "      <td>-6.810051</td>\n",
              "      <td>278.059998</td>\n",
              "      <td>0.000003</td>\n",
              "    </tr>\n",
              "  </tbody>\n",
              "</table>\n",
              "<p>249 rows × 10 columns</p>\n",
              "</div>\n",
              "    <div class=\"colab-df-buttons\">\n",
              "\n",
              "  <div class=\"colab-df-container\">\n",
              "    <button class=\"colab-df-convert\" onclick=\"convertToInteractive('df-b4054da1-1efa-4b4f-9d40-e50f791b0edf')\"\n",
              "            title=\"Convert this dataframe to an interactive table.\"\n",
              "            style=\"display:none;\">\n",
              "\n",
              "  <svg xmlns=\"http://www.w3.org/2000/svg\" height=\"24px\" viewBox=\"0 -960 960 960\">\n",
              "    <path d=\"M120-120v-720h720v720H120Zm60-500h600v-160H180v160Zm220 220h160v-160H400v160Zm0 220h160v-160H400v160ZM180-400h160v-160H180v160Zm440 0h160v-160H620v160ZM180-180h160v-160H180v160Zm440 0h160v-160H620v160Z\"/>\n",
              "  </svg>\n",
              "    </button>\n",
              "\n",
              "  <style>\n",
              "    .colab-df-container {\n",
              "      display:flex;\n",
              "      gap: 12px;\n",
              "    }\n",
              "\n",
              "    .colab-df-convert {\n",
              "      background-color: #E8F0FE;\n",
              "      border: none;\n",
              "      border-radius: 50%;\n",
              "      cursor: pointer;\n",
              "      display: none;\n",
              "      fill: #1967D2;\n",
              "      height: 32px;\n",
              "      padding: 0 0 0 0;\n",
              "      width: 32px;\n",
              "    }\n",
              "\n",
              "    .colab-df-convert:hover {\n",
              "      background-color: #E2EBFA;\n",
              "      box-shadow: 0px 1px 2px rgba(60, 64, 67, 0.3), 0px 1px 3px 1px rgba(60, 64, 67, 0.15);\n",
              "      fill: #174EA6;\n",
              "    }\n",
              "\n",
              "    .colab-df-buttons div {\n",
              "      margin-bottom: 4px;\n",
              "    }\n",
              "\n",
              "    [theme=dark] .colab-df-convert {\n",
              "      background-color: #3B4455;\n",
              "      fill: #D2E3FC;\n",
              "    }\n",
              "\n",
              "    [theme=dark] .colab-df-convert:hover {\n",
              "      background-color: #434B5C;\n",
              "      box-shadow: 0px 1px 3px 1px rgba(0, 0, 0, 0.15);\n",
              "      filter: drop-shadow(0px 1px 2px rgba(0, 0, 0, 0.3));\n",
              "      fill: #FFFFFF;\n",
              "    }\n",
              "  </style>\n",
              "\n",
              "    <script>\n",
              "      const buttonEl =\n",
              "        document.querySelector('#df-b4054da1-1efa-4b4f-9d40-e50f791b0edf button.colab-df-convert');\n",
              "      buttonEl.style.display =\n",
              "        google.colab.kernel.accessAllowed ? 'block' : 'none';\n",
              "\n",
              "      async function convertToInteractive(key) {\n",
              "        const element = document.querySelector('#df-b4054da1-1efa-4b4f-9d40-e50f791b0edf');\n",
              "        const dataTable =\n",
              "          await google.colab.kernel.invokeFunction('convertToInteractive',\n",
              "                                                    [key], {});\n",
              "        if (!dataTable) return;\n",
              "\n",
              "        const docLinkHtml = 'Like what you see? Visit the ' +\n",
              "          '<a target=\"_blank\" href=https://colab.research.google.com/notebooks/data_table.ipynb>data table notebook</a>'\n",
              "          + ' to learn more about interactive tables.';\n",
              "        element.innerHTML = '';\n",
              "        dataTable['output_type'] = 'display_data';\n",
              "        await google.colab.output.renderOutput(dataTable, element);\n",
              "        const docLink = document.createElement('div');\n",
              "        docLink.innerHTML = docLinkHtml;\n",
              "        element.appendChild(docLink);\n",
              "      }\n",
              "    </script>\n",
              "  </div>\n",
              "\n",
              "\n",
              "<div id=\"df-ebbe02af-7c46-49cd-b6e6-c7cff94f7b31\">\n",
              "  <button class=\"colab-df-quickchart\" onclick=\"quickchart('df-ebbe02af-7c46-49cd-b6e6-c7cff94f7b31')\"\n",
              "            title=\"Suggest charts\"\n",
              "            style=\"display:none;\">\n",
              "\n",
              "<svg xmlns=\"http://www.w3.org/2000/svg\" height=\"24px\"viewBox=\"0 0 24 24\"\n",
              "     width=\"24px\">\n",
              "    <g>\n",
              "        <path d=\"M19 3H5c-1.1 0-2 .9-2 2v14c0 1.1.9 2 2 2h14c1.1 0 2-.9 2-2V5c0-1.1-.9-2-2-2zM9 17H7v-7h2v7zm4 0h-2V7h2v10zm4 0h-2v-4h2v4z\"/>\n",
              "    </g>\n",
              "</svg>\n",
              "  </button>\n",
              "\n",
              "<style>\n",
              "  .colab-df-quickchart {\n",
              "      --bg-color: #E8F0FE;\n",
              "      --fill-color: #1967D2;\n",
              "      --hover-bg-color: #E2EBFA;\n",
              "      --hover-fill-color: #174EA6;\n",
              "      --disabled-fill-color: #AAA;\n",
              "      --disabled-bg-color: #DDD;\n",
              "  }\n",
              "\n",
              "  [theme=dark] .colab-df-quickchart {\n",
              "      --bg-color: #3B4455;\n",
              "      --fill-color: #D2E3FC;\n",
              "      --hover-bg-color: #434B5C;\n",
              "      --hover-fill-color: #FFFFFF;\n",
              "      --disabled-bg-color: #3B4455;\n",
              "      --disabled-fill-color: #666;\n",
              "  }\n",
              "\n",
              "  .colab-df-quickchart {\n",
              "    background-color: var(--bg-color);\n",
              "    border: none;\n",
              "    border-radius: 50%;\n",
              "    cursor: pointer;\n",
              "    display: none;\n",
              "    fill: var(--fill-color);\n",
              "    height: 32px;\n",
              "    padding: 0;\n",
              "    width: 32px;\n",
              "  }\n",
              "\n",
              "  .colab-df-quickchart:hover {\n",
              "    background-color: var(--hover-bg-color);\n",
              "    box-shadow: 0 1px 2px rgba(60, 64, 67, 0.3), 0 1px 3px 1px rgba(60, 64, 67, 0.15);\n",
              "    fill: var(--button-hover-fill-color);\n",
              "  }\n",
              "\n",
              "  .colab-df-quickchart-complete:disabled,\n",
              "  .colab-df-quickchart-complete:disabled:hover {\n",
              "    background-color: var(--disabled-bg-color);\n",
              "    fill: var(--disabled-fill-color);\n",
              "    box-shadow: none;\n",
              "  }\n",
              "\n",
              "  .colab-df-spinner {\n",
              "    border: 2px solid var(--fill-color);\n",
              "    border-color: transparent;\n",
              "    border-bottom-color: var(--fill-color);\n",
              "    animation:\n",
              "      spin 1s steps(1) infinite;\n",
              "  }\n",
              "\n",
              "  @keyframes spin {\n",
              "    0% {\n",
              "      border-color: transparent;\n",
              "      border-bottom-color: var(--fill-color);\n",
              "      border-left-color: var(--fill-color);\n",
              "    }\n",
              "    20% {\n",
              "      border-color: transparent;\n",
              "      border-left-color: var(--fill-color);\n",
              "      border-top-color: var(--fill-color);\n",
              "    }\n",
              "    30% {\n",
              "      border-color: transparent;\n",
              "      border-left-color: var(--fill-color);\n",
              "      border-top-color: var(--fill-color);\n",
              "      border-right-color: var(--fill-color);\n",
              "    }\n",
              "    40% {\n",
              "      border-color: transparent;\n",
              "      border-right-color: var(--fill-color);\n",
              "      border-top-color: var(--fill-color);\n",
              "    }\n",
              "    60% {\n",
              "      border-color: transparent;\n",
              "      border-right-color: var(--fill-color);\n",
              "    }\n",
              "    80% {\n",
              "      border-color: transparent;\n",
              "      border-right-color: var(--fill-color);\n",
              "      border-bottom-color: var(--fill-color);\n",
              "    }\n",
              "    90% {\n",
              "      border-color: transparent;\n",
              "      border-bottom-color: var(--fill-color);\n",
              "    }\n",
              "  }\n",
              "</style>\n",
              "\n",
              "  <script>\n",
              "    async function quickchart(key) {\n",
              "      const quickchartButtonEl =\n",
              "        document.querySelector('#' + key + ' button');\n",
              "      quickchartButtonEl.disabled = true;  // To prevent multiple clicks.\n",
              "      quickchartButtonEl.classList.add('colab-df-spinner');\n",
              "      try {\n",
              "        const charts = await google.colab.kernel.invokeFunction(\n",
              "            'suggestCharts', [key], {});\n",
              "      } catch (error) {\n",
              "        console.error('Error during call to suggestCharts:', error);\n",
              "      }\n",
              "      quickchartButtonEl.classList.remove('colab-df-spinner');\n",
              "      quickchartButtonEl.classList.add('colab-df-quickchart-complete');\n",
              "    }\n",
              "    (() => {\n",
              "      let quickchartButtonEl =\n",
              "        document.querySelector('#df-ebbe02af-7c46-49cd-b6e6-c7cff94f7b31 button');\n",
              "      quickchartButtonEl.style.display =\n",
              "        google.colab.kernel.accessAllowed ? 'block' : 'none';\n",
              "    })();\n",
              "  </script>\n",
              "</div>\n",
              "\n",
              "  <div id=\"id_dd408043-206d-46cf-8df9-360d7083cd30\">\n",
              "    <style>\n",
              "      .colab-df-generate {\n",
              "        background-color: #E8F0FE;\n",
              "        border: none;\n",
              "        border-radius: 50%;\n",
              "        cursor: pointer;\n",
              "        display: none;\n",
              "        fill: #1967D2;\n",
              "        height: 32px;\n",
              "        padding: 0 0 0 0;\n",
              "        width: 32px;\n",
              "      }\n",
              "\n",
              "      .colab-df-generate:hover {\n",
              "        background-color: #E2EBFA;\n",
              "        box-shadow: 0px 1px 2px rgba(60, 64, 67, 0.3), 0px 1px 3px 1px rgba(60, 64, 67, 0.15);\n",
              "        fill: #174EA6;\n",
              "      }\n",
              "\n",
              "      [theme=dark] .colab-df-generate {\n",
              "        background-color: #3B4455;\n",
              "        fill: #D2E3FC;\n",
              "      }\n",
              "\n",
              "      [theme=dark] .colab-df-generate:hover {\n",
              "        background-color: #434B5C;\n",
              "        box-shadow: 0px 1px 3px 1px rgba(0, 0, 0, 0.15);\n",
              "        filter: drop-shadow(0px 1px 2px rgba(0, 0, 0, 0.3));\n",
              "        fill: #FFFFFF;\n",
              "      }\n",
              "    </style>\n",
              "    <button class=\"colab-df-generate\" onclick=\"generateWithVariable('data')\"\n",
              "            title=\"Generate code using this dataframe.\"\n",
              "            style=\"display:none;\">\n",
              "\n",
              "  <svg xmlns=\"http://www.w3.org/2000/svg\" height=\"24px\"viewBox=\"0 0 24 24\"\n",
              "       width=\"24px\">\n",
              "    <path d=\"M7,19H8.4L18.45,9,17,7.55,7,17.6ZM5,21V16.75L18.45,3.32a2,2,0,0,1,2.83,0l1.4,1.43a1.91,1.91,0,0,1,.58,1.4,1.91,1.91,0,0,1-.58,1.4L9.25,21ZM18.45,9,17,7.55Zm-12,3A5.31,5.31,0,0,0,4.9,8.1,5.31,5.31,0,0,0,1,6.5,5.31,5.31,0,0,0,4.9,4.9,5.31,5.31,0,0,0,6.5,1,5.31,5.31,0,0,0,8.1,4.9,5.31,5.31,0,0,0,12,6.5,5.46,5.46,0,0,0,6.5,12Z\"/>\n",
              "  </svg>\n",
              "    </button>\n",
              "    <script>\n",
              "      (() => {\n",
              "      const buttonEl =\n",
              "        document.querySelector('#id_dd408043-206d-46cf-8df9-360d7083cd30 button.colab-df-generate');\n",
              "      buttonEl.style.display =\n",
              "        google.colab.kernel.accessAllowed ? 'block' : 'none';\n",
              "\n",
              "      buttonEl.onclick = () => {\n",
              "        google.colab.notebook.generateWithVariable('data');\n",
              "      }\n",
              "      })();\n",
              "    </script>\n",
              "  </div>\n",
              "\n",
              "    </div>\n",
              "  </div>\n"
            ]
          },
          "metadata": {},
          "execution_count": 152
        }
      ]
    },
    {
      "cell_type": "markdown",
      "source": [
        "> Data Splitting and Model Training"
      ],
      "metadata": {
        "id": "wjj-ltEdYvFk"
      }
    },
    {
      "cell_type": "code",
      "source": [
        "features = ['Open', 'High', 'Low', 'Volume', 'DailyReturn', 'MovingAverage', 'PriceToVolumeRatio']\n",
        "X = data[features]\n",
        "Y = data['Close']\n",
        "print(X.columns)\n",
        "print(Y.name)"
      ],
      "metadata": {
        "colab": {
          "base_uri": "https://localhost:8080/"
        },
        "id": "_bHGCAZ6Y1uS",
        "outputId": "035973fd-c1e8-493b-d320-4b2c9122dd00"
      },
      "execution_count": 153,
      "outputs": [
        {
          "output_type": "stream",
          "name": "stdout",
          "text": [
            "Index(['Open', 'High', 'Low', 'Volume', 'DailyReturn', 'MovingAverage',\n",
            "       'PriceToVolumeRatio'],\n",
            "      dtype='object')\n",
            "Close\n"
          ]
        }
      ]
    },
    {
      "cell_type": "code",
      "source": [
        "imputer = SimpleImputer(strategy='mean')\n",
        "X = imputer.fit_transform(X)"
      ],
      "metadata": {
        "id": "8Vuk-PICZm74"
      },
      "execution_count": 154,
      "outputs": []
    },
    {
      "cell_type": "code",
      "source": [
        "X_train, X_test, y_train, y_test = train_test_split(X, Y, test_size=0.2, random_state=42)\n",
        "print(\"X_train shape:\", X_train.shape)\n",
        "print(\"X_test shape:\", X_test.shape)\n",
        "print(\"y_train shape:\", y_train.shape)\n",
        "print(\"y_test shape:\", y_test.shape)"
      ],
      "metadata": {
        "colab": {
          "base_uri": "https://localhost:8080/"
        },
        "id": "WcwGoMqWZ2oi",
        "outputId": "0d5d1fbf-6884-49ac-a682-b09b526be7eb"
      },
      "execution_count": 155,
      "outputs": [
        {
          "output_type": "stream",
          "name": "stdout",
          "text": [
            "X_train shape: (199, 7)\n",
            "X_test shape: (50, 7)\n",
            "y_train shape: (199,)\n",
            "y_test shape: (50,)\n"
          ]
        }
      ]
    },
    {
      "cell_type": "code",
      "source": [
        "model = KNeighborsRegressor(n_neighbors=5)"
      ],
      "metadata": {
        "id": "eLvqzc96Z9pf"
      },
      "execution_count": 156,
      "outputs": []
    },
    {
      "cell_type": "markdown",
      "source": [
        "> Model Evaluation"
      ],
      "metadata": {
        "id": "H8s3lnGmaa0M"
      }
    },
    {
      "cell_type": "code",
      "source": [
        "model.fit(X_train, y_train)\n",
        "predictions = model.predict(X_test)\n",
        "predictions"
      ],
      "metadata": {
        "colab": {
          "base_uri": "https://localhost:8080/"
        },
        "id": "mXOhCbt0acR6",
        "outputId": "cee6c949-2dca-4403-8068-0bad9974699d"
      },
      "execution_count": 157,
      "outputs": [
        {
          "output_type": "execute_result",
          "data": {
            "text/plain": [
              "array([338.7519956, 290.115338 , 272.4546632, 318.5813414, 272.2493318,\n",
              "       353.4106626, 315.7446718, 302.3299988, 289.621994 , 304.7739928,\n",
              "       275.61467  , 334.5886654, 317.1960024, 260.119336 , 264.4613314,\n",
              "       288.2186706, 277.995337 , 287.5153352, 301.3866636, 310.0213288,\n",
              "       304.5679992, 287.5153352, 310.0213288, 306.621997 , 289.604672 ,\n",
              "       290.115338 , 299.8953308, 304.981329 , 334.5886654, 321.6039976,\n",
              "       353.8433286, 321.0246704, 307.6713348, 260.7206696, 287.5153352,\n",
              "       291.9799926, 278.502002 , 309.2646668, 341.9459958, 275.61467  ,\n",
              "       318.1113344, 307.6140016, 310.1153384, 315.7446718, 299.5053282,\n",
              "       304.5353392, 305.2959958, 277.8639986, 267.9080018, 296.1026736])"
            ]
          },
          "metadata": {},
          "execution_count": 157
        }
      ]
    },
    {
      "cell_type": "code",
      "source": [
        "mse = mean_squared_error(y_test, predictions)\n",
        "print(f'Mean Squared Error: {mse}')"
      ],
      "metadata": {
        "colab": {
          "base_uri": "https://localhost:8080/"
        },
        "id": "kwz8zF5XalCr",
        "outputId": "7ece6c48-c30e-4bc9-a14c-024326e4c872"
      },
      "execution_count": 158,
      "outputs": [
        {
          "output_type": "stream",
          "name": "stdout",
          "text": [
            "Mean Squared Error: 3304.5078807374466\n"
          ]
        }
      ]
    },
    {
      "cell_type": "code",
      "source": [
        "# Calculate Mean Absolute Error\n",
        "mae = mean_absolute_error(y_test, predictions)\n",
        "print(f'Mean Absolute Error: {mae:.2f}')"
      ],
      "metadata": {
        "colab": {
          "base_uri": "https://localhost:8080/"
        },
        "id": "BujAuxQBNO-y",
        "outputId": "1af7444b-2655-4300-be50-3ed7619916f9"
      },
      "execution_count": 159,
      "outputs": [
        {
          "output_type": "stream",
          "name": "stdout",
          "text": [
            "Mean Absolute Error: 48.35\n"
          ]
        }
      ]
    },
    {
      "cell_type": "code",
      "source": [
        " # Calculate R-squared\n",
        "r2 = r2_score(y_test, predictions)\n",
        "print(f'R-squared: {r2:.2f}')"
      ],
      "metadata": {
        "colab": {
          "base_uri": "https://localhost:8080/"
        },
        "id": "Tblk8AY3NUJQ",
        "outputId": "abbe9213-f117-4f38-a08b-a48538095bcc"
      },
      "execution_count": 160,
      "outputs": [
        {
          "output_type": "stream",
          "name": "stdout",
          "text": [
            "R-squared: -0.18\n"
          ]
        }
      ]
    },
    {
      "cell_type": "code",
      "source": [
        "df_results = pd.DataFrame({'Date': pd.to_datetime(y_test.index, format='%Y-%m-%d'),\n",
        "                           'Actual_Close': y_test.values,\n",
        "                           'Predicted_Close': predictions})\n",
        "\n",
        "# Display the new DataFrame\n",
        "print(df_results)"
      ],
      "metadata": {
        "colab": {
          "base_uri": "https://localhost:8080/"
        },
        "id": "PBd_Pq2vgJ8O",
        "outputId": "158ac9a4-52d8-449b-ab1a-0d20139f7e9b"
      },
      "execution_count": 161,
      "outputs": [
        {
          "output_type": "stream",
          "name": "stdout",
          "text": [
            "                            Date  Actual_Close  Predicted_Close\n",
            "0  1970-01-01 00:00:00.000000141    336.260010       338.751996\n",
            "1  1970-01-01 00:00:00.000000010    270.359985       290.115338\n",
            "2  1970-01-01 00:00:00.000000101    254.679993       272.454663\n",
            "3  1970-01-01 00:00:00.000000064    356.779999       318.581341\n",
            "4  1970-01-01 00:00:00.000000116    280.076660       272.249332\n",
            "5  1970-01-01 00:00:00.000000184    235.070007       353.410663\n",
            "6  1970-01-01 00:00:00.000000200    240.546661       315.744672\n",
            "7  1970-01-01 00:00:00.000000187    232.663330       302.329999\n",
            "8  1970-01-01 00:00:00.000000013    290.036682       289.621994\n",
            "9  1970-01-01 00:00:00.000000108    279.429993       304.773993\n",
            "10 1970-01-01 00:00:00.000000203    271.706665       275.614670\n",
            "11 1970-01-01 00:00:00.000000219    300.029999       334.588665\n",
            "12 1970-01-01 00:00:00.000000205    268.433319       317.196002\n",
            "13 1970-01-01 00:00:00.000000243    303.350006       260.119336\n",
            "14 1970-01-01 00:00:00.000000071    352.706665       264.461331\n",
            "15 1970-01-01 00:00:00.000000227    297.096680       288.218671\n",
            "16 1970-01-01 00:00:00.000000197    237.039993       277.995337\n",
            "17 1970-01-01 00:00:00.000000019    339.476654       287.515335\n",
            "18 1970-01-01 00:00:00.000000166    235.910004       301.386664\n",
            "19 1970-01-01 00:00:00.000000028    387.646667       310.021329\n",
            "20 1970-01-01 00:00:00.000000250    282.940002       304.567999\n",
            "21 1970-01-01 00:00:00.000000023    402.863342       287.515335\n",
            "22 1970-01-01 00:00:00.000000118    301.796661       310.021329\n",
            "23 1970-01-01 00:00:00.000000072    354.799988       306.621997\n",
            "24 1970-01-01 00:00:00.000000179    233.000000       289.604672\n",
            "25 1970-01-01 00:00:00.000000049    356.320007       290.115338\n",
            "26 1970-01-01 00:00:00.000000059    336.290009       299.895331\n",
            "27 1970-01-01 00:00:00.000000014    288.089996       304.981329\n",
            "28 1970-01-01 00:00:00.000000034    351.576660       334.588665\n",
            "29 1970-01-01 00:00:00.000000124    363.946655       321.603998\n",
            "30 1970-01-01 00:00:00.000000204    272.243347       353.843329\n",
            "31 1970-01-01 00:00:00.000000037    379.019989       321.024670\n",
            "32 1970-01-01 00:00:00.000000144    292.140015       307.671335\n",
            "33 1970-01-01 00:00:00.000000163    224.966660       260.720670\n",
            "34 1970-01-01 00:00:00.000000029    341.166656       287.515335\n",
            "35 1970-01-01 00:00:00.000000115    267.296661       291.979993\n",
            "36 1970-01-01 00:00:00.000000022    371.333344       278.502002\n",
            "37 1970-01-01 00:00:00.000000199    240.066666       309.264667\n",
            "38 1970-01-01 00:00:00.000000177    215.736664       341.945996\n",
            "39 1970-01-01 00:00:00.000000162    221.300003       275.614670\n",
            "40 1970-01-01 00:00:00.000000122    337.973328       318.111334\n",
            "41 1970-01-01 00:00:00.000000100    273.843323       307.614002\n",
            "42 1970-01-01 00:00:00.000000112    279.433319       310.115338\n",
            "43 1970-01-01 00:00:00.000000188    228.490005       315.744672\n",
            "44 1970-01-01 00:00:00.000000194    250.763336       299.505328\n",
            "45 1970-01-01 00:00:00.000000020    345.953339       304.535339\n",
            "46 1970-01-01 00:00:00.000000198    238.313339       305.295996\n",
            "47 1970-01-01 00:00:00.000000073    368.739990       277.863999\n",
            "48 1970-01-01 00:00:00.000000176    232.229996       267.908002\n",
            "49 1970-01-01 00:00:00.000000042    378.996674       296.102674\n"
          ]
        }
      ]
    },
    {
      "cell_type": "code",
      "source": [
        "df_results[['Actual_Close', 'Predicted_Close']].plot()"
      ],
      "metadata": {
        "colab": {
          "base_uri": "https://localhost:8080/",
          "height": 447
        },
        "id": "n1vrLCwPaoJH",
        "outputId": "99ab4dfa-eea8-42a7-d8da-f1d6f5fc2158"
      },
      "execution_count": 162,
      "outputs": [
        {
          "output_type": "execute_result",
          "data": {
            "text/plain": [
              "<Axes: >"
            ]
          },
          "metadata": {},
          "execution_count": 162
        },
        {
          "output_type": "display_data",
          "data": {
            "text/plain": [
              "<Figure size 640x480 with 1 Axes>"
            ],
            "image/png": "[encoded data removed]"
          },
          "metadata": {}
        }
      ]
    },
    {
      "cell_type": "code",
      "source": [
        "plt.figure(figsize=(8, 6))\n",
        "plt.scatter(y_test, predictions, color='blue', alpha=0.5)\n",
        "plt.plot([min(y_test), max(y_test)], [min(y_test), max(y_test)],linestyle='--', color='red', linewidth=2)\n",
        "plt.title('Actual vs. Predicted Values')\n",
        "plt.xlabel('Actual Values')\n",
        "plt.ylabel('Predicted Values')\n",
        "plt.show()"
      ],
      "metadata": {
        "colab": {
          "base_uri": "https://localhost:8080/",
          "height": 564
        },
        "id": "bDDpHZDUNYrV",
        "outputId": "64f6512e-b197-441d-ff15-4caaae42adab"
      },
      "execution_count": 163,
      "outputs": [
        {
          "output_type": "display_data",
          "data": {
            "text/plain": [
              "<Figure size 800x600 with 1 Axes>"
            ],
            "image/png": "[encoded data removed]"
          },
          "metadata": {}
        }
      ]
    },
    {
      "cell_type": "markdown",
      "source": [
        "**Stock Prediction using KNN**"
      ],
      "metadata": {
        "id": "8iPYi6_Qp8D7"
      }
    },
    {
      "cell_type": "markdown",
      "source": [
        "***Importing important libraries***"
      ],
      "metadata": {
        "id": "wA13Qa_Gp8D8"
      }
    },
    {
      "cell_type": "code",
      "execution_count": 164,
      "metadata": {
        "id": "-FkfBLZYp8D8"
      },
      "outputs": [],
      "source": [
        "import pandas as pd\n",
        "import yfinance as yf\n",
        "from sklearn.model_selection import train_test_split\n",
        "from sklearn.linear_model import LinearRegression\n",
        "from sklearn.neighbors import KNeighborsRegressor\n",
        "from sklearn.svm import SVR\n",
        "from sklearn.tree import DecisionTreeRegressor\n",
        "from sklearn.impute import SimpleImputer\n",
        "from sklearn.metrics import mean_squared_error\n",
        "import matplotlib.pyplot as plt"
      ]
    },
    {
      "cell_type": "markdown",
      "source": [
        "***NEtflix Dataset***\n",
        "\n",
        "> In this project, I select netflix datasets which play a crucial role as they form the foundation for training and evaluating machine learning models i.e KNN algorithm  for stock market price prediction. Dataset represents historical stock market data for different assets, and understanding their characteristics is vital for building effective predictive models.\n",
        "\n",
        "\n",
        "> Features of dataset\n",
        "* Date: Essential for organizing data chronologically and identifying trends over time.\n",
        "* Open: The opening price of Datasets on a given day.\n",
        "* High: The highest price of Datasets on a given day.\n",
        "* Low: The lowest price of Datasets on a given day.\n",
        "* Close: The closing price of Datasets on a given day.\n",
        "* Adj Close: The adjusted closing price of Datasets on a given day, considering dividends, stock splits, etc.\n",
        "* Volume: The volume of Datasets traded on a given day.\n",
        "\n",
        "\n",
        "\n",
        "\n",
        "\n"
      ],
      "metadata": {
        "id": "tyMo0s4Ep8D8"
      }
    },
    {
      "cell_type": "markdown",
      "source": [
        "*Load the dataset*"
      ],
      "metadata": {
        "id": "m7GvCE7Kp8D9"
      }
    },
    {
      "cell_type": "code",
      "source": [
        "data = pd.read_csv('NFLX.csv')\n",
        "print(data)"
      ],
      "metadata": {
        "colab": {
          "base_uri": "https://localhost:8080/"
        },
        "outputId": "a03d516f-bf6f-4032-8c5a-d2400f3a2141",
        "id": "S1KKPrn1p8D9"
      },
      "execution_count": 165,
      "outputs": [
        {
          "output_type": "stream",
          "name": "stdout",
          "text": [
            "            Date        Open        High         Low       Close   Adj Close  \\\n",
            "0     2018-02-05  262.000000  267.899994  250.029999  254.259995  254.259995   \n",
            "1     2018-02-06  247.699997  266.700012  245.000000  265.720001  265.720001   \n",
            "2     2018-02-07  266.579987  272.450012  264.329987  264.559998  264.559998   \n",
            "3     2018-02-08  267.079987  267.619995  250.000000  250.100006  250.100006   \n",
            "4     2018-02-09  253.850006  255.800003  236.110001  249.470001  249.470001   \n",
            "...          ...         ...         ...         ...         ...         ...   \n",
            "1004  2022-01-31  401.970001  427.700012  398.200012  427.140015  427.140015   \n",
            "1005  2022-02-01  432.959991  458.480011  425.540009  457.130005  457.130005   \n",
            "1006  2022-02-02  448.250000  451.980011  426.480011  429.480011  429.480011   \n",
            "1007  2022-02-03  421.440002  429.260010  404.279999  405.600006  405.600006   \n",
            "1008  2022-02-04  407.309998  412.769989  396.640015  410.170013  410.170013   \n",
            "\n",
            "        Volume  \n",
            "0     11896100  \n",
            "1     12595800  \n",
            "2      8981500  \n",
            "3      9306700  \n",
            "4     16906900  \n",
            "...        ...  \n",
            "1004  20047500  \n",
            "1005  22542300  \n",
            "1006  14346000  \n",
            "1007   9905200  \n",
            "1008   7782400  \n",
            "\n",
            "[1009 rows x 7 columns]\n"
          ]
        }
      ]
    },
    {
      "cell_type": "markdown",
      "source": [
        "*Quick peek at functions:*"
      ],
      "metadata": {
        "id": "1A1bI0knp8D-"
      }
    },
    {
      "cell_type": "code",
      "source": [
        "data.shape"
      ],
      "metadata": {
        "colab": {
          "base_uri": "https://localhost:8080/"
        },
        "outputId": "fe5ab521-09fc-42fd-bdad-d97618ab5326",
        "id": "DNE2ThZDp8D-"
      },
      "execution_count": 166,
      "outputs": [
        {
          "output_type": "execute_result",
          "data": {
            "text/plain": [
              "(1009, 7)"
            ]
          },
          "metadata": {},
          "execution_count": 166
        }
      ]
    },
    {
      "cell_type": "code",
      "source": [
        "data.columns"
      ],
      "metadata": {
        "colab": {
          "base_uri": "https://localhost:8080/"
        },
        "outputId": "cf5b1246-717f-4fee-fea1-e422959c76d6",
        "id": "yCHnBz13p8EF"
      },
      "execution_count": 167,
      "outputs": [
        {
          "output_type": "execute_result",
          "data": {
            "text/plain": [
              "Index(['Date', 'Open', 'High', 'Low', 'Close', 'Adj Close', 'Volume'], dtype='object')"
            ]
          },
          "metadata": {},
          "execution_count": 167
        }
      ]
    },
    {
      "cell_type": "code",
      "source": [
        "print(data.describe())"
      ],
      "metadata": {
        "colab": {
          "base_uri": "https://localhost:8080/"
        },
        "outputId": "ab70f0b2-0edb-4c5b-8e59-efe22775e682",
        "id": "VVDTvy7Op8EF"
      },
      "execution_count": 168,
      "outputs": [
        {
          "output_type": "stream",
          "name": "stdout",
          "text": [
            "              Open         High          Low        Close    Adj Close  \\\n",
            "count  1009.000000  1009.000000  1009.000000  1009.000000  1009.000000   \n",
            "mean    419.059673   425.320703   412.374044   419.000733   419.000733   \n",
            "std     108.537532   109.262960   107.555867   108.289999   108.289999   \n",
            "min     233.919998   250.649994   231.229996   233.880005   233.880005   \n",
            "25%     331.489990   336.299988   326.000000   331.619995   331.619995   \n",
            "50%     377.769989   383.010010   370.880005   378.670013   378.670013   \n",
            "75%     509.130005   515.630005   502.529999   509.079987   509.079987   \n",
            "max     692.349976   700.989990   686.090027   691.690002   691.690002   \n",
            "\n",
            "             Volume  \n",
            "count  1.009000e+03  \n",
            "mean   7.570685e+06  \n",
            "std    5.465535e+06  \n",
            "min    1.144000e+06  \n",
            "25%    4.091900e+06  \n",
            "50%    5.934500e+06  \n",
            "75%    9.322400e+06  \n",
            "max    5.890430e+07  \n"
          ]
        }
      ]
    },
    {
      "cell_type": "code",
      "source": [
        "print(data.info())"
      ],
      "metadata": {
        "colab": {
          "base_uri": "https://localhost:8080/"
        },
        "outputId": "c30d52a5-d97c-4505-c0c3-9b501d683c57",
        "id": "PK3_52xTp8EF"
      },
      "execution_count": 169,
      "outputs": [
        {
          "output_type": "stream",
          "name": "stdout",
          "text": [
            "<class 'pandas.core.frame.DataFrame'>\n",
            "RangeIndex: 1009 entries, 0 to 1008\n",
            "Data columns (total 7 columns):\n",
            " #   Column     Non-Null Count  Dtype  \n",
            "---  ------     --------------  -----  \n",
            " 0   Date       1009 non-null   object \n",
            " 1   Open       1009 non-null   float64\n",
            " 2   High       1009 non-null   float64\n",
            " 3   Low        1009 non-null   float64\n",
            " 4   Close      1009 non-null   float64\n",
            " 5   Adj Close  1009 non-null   float64\n",
            " 6   Volume     1009 non-null   int64  \n",
            "dtypes: float64(5), int64(1), object(1)\n",
            "memory usage: 55.3+ KB\n",
            "None\n"
          ]
        }
      ]
    },
    {
      "cell_type": "markdown",
      "source": [
        "*Data Preprocessing*\n",
        "\n",
        "> Handling Missing Values:\n",
        "\n"
      ],
      "metadata": {
        "id": "2fflqY1Tp8EF"
      }
    },
    {
      "cell_type": "code",
      "source": [
        "missing_values = data.isnull().sum()\n",
        "print(\"Missing Values:\\n\", missing_values)\n",
        "data = data.dropna()\n",
        "print(\"Missing Values After Handling:\\n\", data.isnull().sum())"
      ],
      "metadata": {
        "colab": {
          "base_uri": "https://localhost:8080/"
        },
        "outputId": "9edc9797-3f20-4512-c61c-edc624735a6b",
        "id": "FInSuR-tp8EF"
      },
      "execution_count": 170,
      "outputs": [
        {
          "output_type": "stream",
          "name": "stdout",
          "text": [
            "Missing Values:\n",
            " Date         0\n",
            "Open         0\n",
            "High         0\n",
            "Low          0\n",
            "Close        0\n",
            "Adj Close    0\n",
            "Volume       0\n",
            "dtype: int64\n",
            "Missing Values After Handling:\n",
            " Date         0\n",
            "Open         0\n",
            "High         0\n",
            "Low          0\n",
            "Close        0\n",
            "Adj Close    0\n",
            "Volume       0\n",
            "dtype: int64\n"
          ]
        }
      ]
    },
    {
      "cell_type": "markdown",
      "source": [
        "\n",
        "\n",
        "> Feature Scaling\n",
        "\n"
      ],
      "metadata": {
        "id": "Yn-eNwq_p8EG"
      }
    },
    {
      "cell_type": "code",
      "source": [
        "from sklearn.preprocessing import MinMaxScaler\n",
        "scaler = MinMaxScaler()\n",
        "data[['High']] = scaler.fit_transform(data[['High']])\n",
        "data[['Low']] = scaler.fit_transform(data[['Low']])\n",
        "data"
      ],
      "metadata": {
        "colab": {
          "base_uri": "https://localhost:8080/",
          "height": 424
        },
        "outputId": "f76654e4-f044-423a-9835-b89ee1476f89",
        "id": "qBjjtyXbp8EG"
      },
      "execution_count": 171,
      "outputs": [
        {
          "output_type": "execute_result",
          "data": {
            "text/plain": [
              "            Date        Open      High       Low       Close   Adj Close  \\\n",
              "0     2018-02-05  262.000000  0.038304  0.041331  254.259995  254.259995   \n",
              "1     2018-02-06  247.699997  0.035640  0.030273  265.720001  265.720001   \n",
              "2     2018-02-07  266.579987  0.048408  0.072770  264.559998  264.559998   \n",
              "3     2018-02-08  267.079987  0.037683  0.041265  250.100006  250.100006   \n",
              "4     2018-02-09  253.850006  0.011436  0.010729  249.470001  249.470001   \n",
              "...          ...         ...       ...       ...         ...         ...   \n",
              "1004  2022-01-31  401.970001  0.393147  0.367080  427.140015  427.140015   \n",
              "1005  2022-02-01  432.959991  0.461496  0.427186  457.130005  457.130005   \n",
              "1006  2022-02-02  448.250000  0.447062  0.429253  429.480011  429.480011   \n",
              "1007  2022-02-03  421.440002  0.396611  0.380447  405.600006  405.600006   \n",
              "1008  2022-02-04  407.309998  0.359995  0.363650  410.170013  410.170013   \n",
              "\n",
              "        Volume  \n",
              "0     11896100  \n",
              "1     12595800  \n",
              "2      8981500  \n",
              "3      9306700  \n",
              "4     16906900  \n",
              "...        ...  \n",
              "1004  20047500  \n",
              "1005  22542300  \n",
              "1006  14346000  \n",
              "1007   9905200  \n",
              "1008   7782400  \n",
              "\n",
              "[1009 rows x 7 columns]"
            ],
            "text/html": [
              "\n",
              "  <div id=\"df-a6883c3b-ae38-466d-8379-a93b8c72d08c\" class=\"colab-df-container\">\n",
              "    <div>\n",
              "<style scoped>\n",
              "    .dataframe tbody tr th:only-of-type {\n",
              "        vertical-align: middle;\n",
              "    }\n",
              "\n",
              "    .dataframe tbody tr th {\n",
              "        vertical-align: top;\n",
              "    }\n",
              "\n",
              "    .dataframe thead th {\n",
              "        text-align: right;\n",
              "    }\n",
              "</style>\n",
              "<table border=\"1\" class=\"dataframe\">\n",
              "  <thead>\n",
              "    <tr style=\"text-align: right;\">\n",
              "      <th></th>\n",
              "      <th>Date</th>\n",
              "      <th>Open</th>\n",
              "      <th>High</th>\n",
              "      <th>Low</th>\n",
              "      <th>Close</th>\n",
              "      <th>Adj Close</th>\n",
              "      <th>Volume</th>\n",
              "    </tr>\n",
              "  </thead>\n",
              "  <tbody>\n",
              "    <tr>\n",
              "      <th>0</th>\n",
              "      <td>2018-02-05</td>\n",
              "      <td>262.000000</td>\n",
              "      <td>0.038304</td>\n",
              "      <td>0.041331</td>\n",
              "      <td>254.259995</td>\n",
              "      <td>254.259995</td>\n",
              "      <td>11896100</td>\n",
              "    </tr>\n",
              "    <tr>\n",
              "      <th>1</th>\n",
              "      <td>2018-02-06</td>\n",
              "      <td>247.699997</td>\n",
              "      <td>0.035640</td>\n",
              "      <td>0.030273</td>\n",
              "      <td>265.720001</td>\n",
              "      <td>265.720001</td>\n",
              "      <td>12595800</td>\n",
              "    </tr>\n",
              "    <tr>\n",
              "      <th>2</th>\n",
              "      <td>2018-02-07</td>\n",
              "      <td>266.579987</td>\n",
              "      <td>0.048408</td>\n",
              "      <td>0.072770</td>\n",
              "      <td>264.559998</td>\n",
              "      <td>264.559998</td>\n",
              "      <td>8981500</td>\n",
              "    </tr>\n",
              "    <tr>\n",
              "      <th>3</th>\n",
              "      <td>2018-02-08</td>\n",
              "      <td>267.079987</td>\n",
              "      <td>0.037683</td>\n",
              "      <td>0.041265</td>\n",
              "      <td>250.100006</td>\n",
              "      <td>250.100006</td>\n",
              "      <td>9306700</td>\n",
              "    </tr>\n",
              "    <tr>\n",
              "      <th>4</th>\n",
              "      <td>2018-02-09</td>\n",
              "      <td>253.850006</td>\n",
              "      <td>0.011436</td>\n",
              "      <td>0.010729</td>\n",
              "      <td>249.470001</td>\n",
              "      <td>249.470001</td>\n",
              "      <td>16906900</td>\n",
              "    </tr>\n",
              "    <tr>\n",
              "      <th>...</th>\n",
              "      <td>...</td>\n",
              "      <td>...</td>\n",
              "      <td>...</td>\n",
              "      <td>...</td>\n",
              "      <td>...</td>\n",
              "      <td>...</td>\n",
              "      <td>...</td>\n",
              "    </tr>\n",
              "    <tr>\n",
              "      <th>1004</th>\n",
              "      <td>2022-01-31</td>\n",
              "      <td>401.970001</td>\n",
              "      <td>0.393147</td>\n",
              "      <td>0.367080</td>\n",
              "      <td>427.140015</td>\n",
              "      <td>427.140015</td>\n",
              "      <td>20047500</td>\n",
              "    </tr>\n",
              "    <tr>\n",
              "      <th>1005</th>\n",
              "      <td>2022-02-01</td>\n",
              "      <td>432.959991</td>\n",
              "      <td>0.461496</td>\n",
              "      <td>0.427186</td>\n",
              "      <td>457.130005</td>\n",
              "      <td>457.130005</td>\n",
              "      <td>22542300</td>\n",
              "    </tr>\n",
              "    <tr>\n",
              "      <th>1006</th>\n",
              "      <td>2022-02-02</td>\n",
              "      <td>448.250000</td>\n",
              "      <td>0.447062</td>\n",
              "      <td>0.429253</td>\n",
              "      <td>429.480011</td>\n",
              "      <td>429.480011</td>\n",
              "      <td>14346000</td>\n",
              "    </tr>\n",
              "    <tr>\n",
              "      <th>1007</th>\n",
              "      <td>2022-02-03</td>\n",
              "      <td>421.440002</td>\n",
              "      <td>0.396611</td>\n",
              "      <td>0.380447</td>\n",
              "      <td>405.600006</td>\n",
              "      <td>405.600006</td>\n",
              "      <td>9905200</td>\n",
              "    </tr>\n",
              "    <tr>\n",
              "      <th>1008</th>\n",
              "      <td>2022-02-04</td>\n",
              "      <td>407.309998</td>\n",
              "      <td>0.359995</td>\n",
              "      <td>0.363650</td>\n",
              "      <td>410.170013</td>\n",
              "      <td>410.170013</td>\n",
              "      <td>7782400</td>\n",
              "    </tr>\n",
              "  </tbody>\n",
              "</table>\n",
              "<p>1009 rows × 7 columns</p>\n",
              "</div>\n",
              "    <div class=\"colab-df-buttons\">\n",
              "\n",
              "  <div class=\"colab-df-container\">\n",
              "    <button class=\"colab-df-convert\" onclick=\"convertToInteractive('df-a6883c3b-ae38-466d-8379-a93b8c72d08c')\"\n",
              "            title=\"Convert this dataframe to an interactive table.\"\n",
              "            style=\"display:none;\">\n",
              "\n",
              "  <svg xmlns=\"http://www.w3.org/2000/svg\" height=\"24px\" viewBox=\"0 -960 960 960\">\n",
              "    <path d=\"M120-120v-720h720v720H120Zm60-500h600v-160H180v160Zm220 220h160v-160H400v160Zm0 220h160v-160H400v160ZM180-400h160v-160H180v160Zm440 0h160v-160H620v160ZM180-180h160v-160H180v160Zm440 0h160v-160H620v160Z\"/>\n",
              "  </svg>\n",
              "    </button>\n",
              "\n",
              "  <style>\n",
              "    .colab-df-container {\n",
              "      display:flex;\n",
              "      gap: 12px;\n",
              "    }\n",
              "\n",
              "    .colab-df-convert {\n",
              "      background-color: #E8F0FE;\n",
              "      border: none;\n",
              "      border-radius: 50%;\n",
              "      cursor: pointer;\n",
              "      display: none;\n",
              "      fill: #1967D2;\n",
              "      height: 32px;\n",
              "      padding: 0 0 0 0;\n",
              "      width: 32px;\n",
              "    }\n",
              "\n",
              "    .colab-df-convert:hover {\n",
              "      background-color: #E2EBFA;\n",
              "      box-shadow: 0px 1px 2px rgba(60, 64, 67, 0.3), 0px 1px 3px 1px rgba(60, 64, 67, 0.15);\n",
              "      fill: #174EA6;\n",
              "    }\n",
              "\n",
              "    .colab-df-buttons div {\n",
              "      margin-bottom: 4px;\n",
              "    }\n",
              "\n",
              "    [theme=dark] .colab-df-convert {\n",
              "      background-color: #3B4455;\n",
              "      fill: #D2E3FC;\n",
              "    }\n",
              "\n",
              "    [theme=dark] .colab-df-convert:hover {\n",
              "      background-color: #434B5C;\n",
              "      box-shadow: 0px 1px 3px 1px rgba(0, 0, 0, 0.15);\n",
              "      filter: drop-shadow(0px 1px 2px rgba(0, 0, 0, 0.3));\n",
              "      fill: #FFFFFF;\n",
              "    }\n",
              "  </style>\n",
              "\n",
              "    <script>\n",
              "      const buttonEl =\n",
              "        document.querySelector('#df-a6883c3b-ae38-466d-8379-a93b8c72d08c button.colab-df-convert');\n",
              "      buttonEl.style.display =\n",
              "        google.colab.kernel.accessAllowed ? 'block' : 'none';\n",
              "\n",
              "      async function convertToInteractive(key) {\n",
              "        const element = document.querySelector('#df-a6883c3b-ae38-466d-8379-a93b8c72d08c');\n",
              "        const dataTable =\n",
              "          await google.colab.kernel.invokeFunction('convertToInteractive',\n",
              "                                                    [key], {});\n",
              "        if (!dataTable) return;\n",
              "\n",
              "        const docLinkHtml = 'Like what you see? Visit the ' +\n",
              "          '<a target=\"_blank\" href=https://colab.research.google.com/notebooks/data_table.ipynb>data table notebook</a>'\n",
              "          + ' to learn more about interactive tables.';\n",
              "        element.innerHTML = '';\n",
              "        dataTable['output_type'] = 'display_data';\n",
              "        await google.colab.output.renderOutput(dataTable, element);\n",
              "        const docLink = document.createElement('div');\n",
              "        docLink.innerHTML = docLinkHtml;\n",
              "        element.appendChild(docLink);\n",
              "      }\n",
              "    </script>\n",
              "  </div>\n",
              "\n",
              "\n",
              "<div id=\"df-44661149-314a-47fa-99dd-35a745d267cf\">\n",
              "  <button class=\"colab-df-quickchart\" onclick=\"quickchart('df-44661149-314a-47fa-99dd-35a745d267cf')\"\n",
              "            title=\"Suggest charts\"\n",
              "            style=\"display:none;\">\n",
              "\n",
              "<svg xmlns=\"http://www.w3.org/2000/svg\" height=\"24px\"viewBox=\"0 0 24 24\"\n",
              "     width=\"24px\">\n",
              "    <g>\n",
              "        <path d=\"M19 3H5c-1.1 0-2 .9-2 2v14c0 1.1.9 2 2 2h14c1.1 0 2-.9 2-2V5c0-1.1-.9-2-2-2zM9 17H7v-7h2v7zm4 0h-2V7h2v10zm4 0h-2v-4h2v4z\"/>\n",
              "    </g>\n",
              "</svg>\n",
              "  </button>\n",
              "\n",
              "<style>\n",
              "  .colab-df-quickchart {\n",
              "      --bg-color: #E8F0FE;\n",
              "      --fill-color: #1967D2;\n",
              "      --hover-bg-color: #E2EBFA;\n",
              "      --hover-fill-color: #174EA6;\n",
              "      --disabled-fill-color: #AAA;\n",
              "      --disabled-bg-color: #DDD;\n",
              "  }\n",
              "\n",
              "  [theme=dark] .colab-df-quickchart {\n",
              "      --bg-color: #3B4455;\n",
              "      --fill-color: #D2E3FC;\n",
              "      --hover-bg-color: #434B5C;\n",
              "      --hover-fill-color: #FFFFFF;\n",
              "      --disabled-bg-color: #3B4455;\n",
              "      --disabled-fill-color: #666;\n",
              "  }\n",
              "\n",
              "  .colab-df-quickchart {\n",
              "    background-color: var(--bg-color);\n",
              "    border: none;\n",
              "    border-radius: 50%;\n",
              "    cursor: pointer;\n",
              "    display: none;\n",
              "    fill: var(--fill-color);\n",
              "    height: 32px;\n",
              "    padding: 0;\n",
              "    width: 32px;\n",
              "  }\n",
              "\n",
              "  .colab-df-quickchart:hover {\n",
              "    background-color: var(--hover-bg-color);\n",
              "    box-shadow: 0 1px 2px rgba(60, 64, 67, 0.3), 0 1px 3px 1px rgba(60, 64, 67, 0.15);\n",
              "    fill: var(--button-hover-fill-color);\n",
              "  }\n",
              "\n",
              "  .colab-df-quickchart-complete:disabled,\n",
              "  .colab-df-quickchart-complete:disabled:hover {\n",
              "    background-color: var(--disabled-bg-color);\n",
              "    fill: var(--disabled-fill-color);\n",
              "    box-shadow: none;\n",
              "  }\n",
              "\n",
              "  .colab-df-spinner {\n",
              "    border: 2px solid var(--fill-color);\n",
              "    border-color: transparent;\n",
              "    border-bottom-color: var(--fill-color);\n",
              "    animation:\n",
              "      spin 1s steps(1) infinite;\n",
              "  }\n",
              "\n",
              "  @keyframes spin {\n",
              "    0% {\n",
              "      border-color: transparent;\n",
              "      border-bottom-color: var(--fill-color);\n",
              "      border-left-color: var(--fill-color);\n",
              "    }\n",
              "    20% {\n",
              "      border-color: transparent;\n",
              "      border-left-color: var(--fill-color);\n",
              "      border-top-color: var(--fill-color);\n",
              "    }\n",
              "    30% {\n",
              "      border-color: transparent;\n",
              "      border-left-color: var(--fill-color);\n",
              "      border-top-color: var(--fill-color);\n",
              "      border-right-color: var(--fill-color);\n",
              "    }\n",
              "    40% {\n",
              "      border-color: transparent;\n",
              "      border-right-color: var(--fill-color);\n",
              "      border-top-color: var(--fill-color);\n",
              "    }\n",
              "    60% {\n",
              "      border-color: transparent;\n",
              "      border-right-color: var(--fill-color);\n",
              "    }\n",
              "    80% {\n",
              "      border-color: transparent;\n",
              "      border-right-color: var(--fill-color);\n",
              "      border-bottom-color: var(--fill-color);\n",
              "    }\n",
              "    90% {\n",
              "      border-color: transparent;\n",
              "      border-bottom-color: var(--fill-color);\n",
              "    }\n",
              "  }\n",
              "</style>\n",
              "\n",
              "  <script>\n",
              "    async function quickchart(key) {\n",
              "      const quickchartButtonEl =\n",
              "        document.querySelector('#' + key + ' button');\n",
              "      quickchartButtonEl.disabled = true;  // To prevent multiple clicks.\n",
              "      quickchartButtonEl.classList.add('colab-df-spinner');\n",
              "      try {\n",
              "        const charts = await google.colab.kernel.invokeFunction(\n",
              "            'suggestCharts', [key], {});\n",
              "      } catch (error) {\n",
              "        console.error('Error during call to suggestCharts:', error);\n",
              "      }\n",
              "      quickchartButtonEl.classList.remove('colab-df-spinner');\n",
              "      quickchartButtonEl.classList.add('colab-df-quickchart-complete');\n",
              "    }\n",
              "    (() => {\n",
              "      let quickchartButtonEl =\n",
              "        document.querySelector('#df-44661149-314a-47fa-99dd-35a745d267cf button');\n",
              "      quickchartButtonEl.style.display =\n",
              "        google.colab.kernel.accessAllowed ? 'block' : 'none';\n",
              "    })();\n",
              "  </script>\n",
              "</div>\n",
              "\n",
              "  <div id=\"id_78c852b9-9d28-45ea-a063-ffcb129b6f38\">\n",
              "    <style>\n",
              "      .colab-df-generate {\n",
              "        background-color: #E8F0FE;\n",
              "        border: none;\n",
              "        border-radius: 50%;\n",
              "        cursor: pointer;\n",
              "        display: none;\n",
              "        fill: #1967D2;\n",
              "        height: 32px;\n",
              "        padding: 0 0 0 0;\n",
              "        width: 32px;\n",
              "      }\n",
              "\n",
              "      .colab-df-generate:hover {\n",
              "        background-color: #E2EBFA;\n",
              "        box-shadow: 0px 1px 2px rgba(60, 64, 67, 0.3), 0px 1px 3px 1px rgba(60, 64, 67, 0.15);\n",
              "        fill: #174EA6;\n",
              "      }\n",
              "\n",
              "      [theme=dark] .colab-df-generate {\n",
              "        background-color: #3B4455;\n",
              "        fill: #D2E3FC;\n",
              "      }\n",
              "\n",
              "      [theme=dark] .colab-df-generate:hover {\n",
              "        background-color: #434B5C;\n",
              "        box-shadow: 0px 1px 3px 1px rgba(0, 0, 0, 0.15);\n",
              "        filter: drop-shadow(0px 1px 2px rgba(0, 0, 0, 0.3));\n",
              "        fill: #FFFFFF;\n",
              "      }\n",
              "    </style>\n",
              "    <button class=\"colab-df-generate\" onclick=\"generateWithVariable('data')\"\n",
              "            title=\"Generate code using this dataframe.\"\n",
              "            style=\"display:none;\">\n",
              "\n",
              "  <svg xmlns=\"http://www.w3.org/2000/svg\" height=\"24px\"viewBox=\"0 0 24 24\"\n",
              "       width=\"24px\">\n",
              "    <path d=\"M7,19H8.4L18.45,9,17,7.55,7,17.6ZM5,21V16.75L18.45,3.32a2,2,0,0,1,2.83,0l1.4,1.43a1.91,1.91,0,0,1,.58,1.4,1.91,1.91,0,0,1-.58,1.4L9.25,21ZM18.45,9,17,7.55Zm-12,3A5.31,5.31,0,0,0,4.9,8.1,5.31,5.31,0,0,0,1,6.5,5.31,5.31,0,0,0,4.9,4.9,5.31,5.31,0,0,0,6.5,1,5.31,5.31,0,0,0,8.1,4.9,5.31,5.31,0,0,0,12,6.5,5.46,5.46,0,0,0,6.5,12Z\"/>\n",
              "  </svg>\n",
              "    </button>\n",
              "    <script>\n",
              "      (() => {\n",
              "      const buttonEl =\n",
              "        document.querySelector('#id_78c852b9-9d28-45ea-a063-ffcb129b6f38 button.colab-df-generate');\n",
              "      buttonEl.style.display =\n",
              "        google.colab.kernel.accessAllowed ? 'block' : 'none';\n",
              "\n",
              "      buttonEl.onclick = () => {\n",
              "        google.colab.notebook.generateWithVariable('data');\n",
              "      }\n",
              "      })();\n",
              "    </script>\n",
              "  </div>\n",
              "\n",
              "    </div>\n",
              "  </div>\n"
            ]
          },
          "metadata": {},
          "execution_count": 171
        }
      ]
    },
    {
      "cell_type": "markdown",
      "source": [
        "\n",
        "\n",
        "> Feature Engineering\n",
        "\n"
      ],
      "metadata": {
        "id": "DEeecRZYp8EG"
      }
    },
    {
      "cell_type": "code",
      "source": [
        "data['DailyReturn'] = data['Adj Close'].pct_change() * 100\n",
        "data['MovingAverage'] = data['Adj Close'].rolling(window=5).mean()\n",
        "data['PriceToVolumeRatio'] = data['Adj Close']/data['Volume']\n",
        "data=data.dropna()\n",
        "data"
      ],
      "metadata": {
        "colab": {
          "base_uri": "https://localhost:8080/",
          "height": 617
        },
        "outputId": "b18f25c4-7c71-4ede-f038-1b87cdbcfcd4",
        "id": "wNiRG6Jfp8EG"
      },
      "execution_count": 172,
      "outputs": [
        {
          "output_type": "execute_result",
          "data": {
            "text/plain": [
              "            Date        Open      High       Low       Close   Adj Close  \\\n",
              "4     2018-02-09  253.850006  0.011436  0.010729  249.470001  249.470001   \n",
              "5     2018-02-12  252.139999  0.018875  0.039067  257.950012  257.950012   \n",
              "6     2018-02-13  257.290009  0.023893  0.051598  258.269989  258.269989   \n",
              "7     2018-02-14  260.470001  0.042701  0.063976  266.000000  266.000000   \n",
              "8     2018-02-15  270.029999  0.066283  0.080025  280.269989  280.269989   \n",
              "...          ...         ...       ...       ...         ...         ...   \n",
              "1004  2022-01-31  401.970001  0.393147  0.367080  427.140015  427.140015   \n",
              "1005  2022-02-01  432.959991  0.461496  0.427186  457.130005  457.130005   \n",
              "1006  2022-02-02  448.250000  0.447062  0.429253  429.480011  429.480011   \n",
              "1007  2022-02-03  421.440002  0.396611  0.380447  405.600006  405.600006   \n",
              "1008  2022-02-04  407.309998  0.359995  0.363650  410.170013  410.170013   \n",
              "\n",
              "        Volume  DailyReturn  MovingAverage  PriceToVolumeRatio  \n",
              "4     16906900    -0.251901     256.822000            0.000015  \n",
              "5      8534900     3.399211     257.560004            0.000030  \n",
              "6      6855200     0.124046     256.070001            0.000038  \n",
              "7     10972000     2.992996     256.358002            0.000024  \n",
              "8     10759700     5.364658     262.391998            0.000026  \n",
              "...        ...          ...            ...                 ...  \n",
              "1004  20047500    11.130199     384.864007            0.000021  \n",
              "1005  22542300     7.021115     403.006006            0.000020  \n",
              "1006  14346000    -6.048606     416.962006            0.000030  \n",
              "1007   9905200    -5.560213     420.742004            0.000041  \n",
              "1008   7782400     1.126728     425.904010            0.000053  \n",
              "\n",
              "[1005 rows x 10 columns]"
            ],
            "text/html": [
              "\n",
              "  <div id=\"df-0059b0b8-4518-46ba-8bf6-2550bce39a2c\" class=\"colab-df-container\">\n",
              "    <div>\n",
              "<style scoped>\n",
              "    .dataframe tbody tr th:only-of-type {\n",
              "        vertical-align: middle;\n",
              "    }\n",
              "\n",
              "    .dataframe tbody tr th {\n",
              "        vertical-align: top;\n",
              "    }\n",
              "\n",
              "    .dataframe thead th {\n",
              "        text-align: right;\n",
              "    }\n",
              "</style>\n",
              "<table border=\"1\" class=\"dataframe\">\n",
              "  <thead>\n",
              "    <tr style=\"text-align: right;\">\n",
              "      <th></th>\n",
              "      <th>Date</th>\n",
              "      <th>Open</th>\n",
              "      <th>High</th>\n",
              "      <th>Low</th>\n",
              "      <th>Close</th>\n",
              "      <th>Adj Close</th>\n",
              "      <th>Volume</th>\n",
              "      <th>DailyReturn</th>\n",
              "      <th>MovingAverage</th>\n",
              "      <th>PriceToVolumeRatio</th>\n",
              "    </tr>\n",
              "  </thead>\n",
              "  <tbody>\n",
              "    <tr>\n",
              "      <th>4</th>\n",
              "      <td>2018-02-09</td>\n",
              "      <td>253.850006</td>\n",
              "      <td>0.011436</td>\n",
              "      <td>0.010729</td>\n",
              "      <td>249.470001</td>\n",
              "      <td>249.470001</td>\n",
              "      <td>16906900</td>\n",
              "      <td>-0.251901</td>\n",
              "      <td>256.822000</td>\n",
              "      <td>0.000015</td>\n",
              "    </tr>\n",
              "    <tr>\n",
              "      <th>5</th>\n",
              "      <td>2018-02-12</td>\n",
              "      <td>252.139999</td>\n",
              "      <td>0.018875</td>\n",
              "      <td>0.039067</td>\n",
              "      <td>257.950012</td>\n",
              "      <td>257.950012</td>\n",
              "      <td>8534900</td>\n",
              "      <td>3.399211</td>\n",
              "      <td>257.560004</td>\n",
              "      <td>0.000030</td>\n",
              "    </tr>\n",
              "    <tr>\n",
              "      <th>6</th>\n",
              "      <td>2018-02-13</td>\n",
              "      <td>257.290009</td>\n",
              "      <td>0.023893</td>\n",
              "      <td>0.051598</td>\n",
              "      <td>258.269989</td>\n",
              "      <td>258.269989</td>\n",
              "      <td>6855200</td>\n",
              "      <td>0.124046</td>\n",
              "      <td>256.070001</td>\n",
              "      <td>0.000038</td>\n",
              "    </tr>\n",
              "    <tr>\n",
              "      <th>7</th>\n",
              "      <td>2018-02-14</td>\n",
              "      <td>260.470001</td>\n",
              "      <td>0.042701</td>\n",
              "      <td>0.063976</td>\n",
              "      <td>266.000000</td>\n",
              "      <td>266.000000</td>\n",
              "      <td>10972000</td>\n",
              "      <td>2.992996</td>\n",
              "      <td>256.358002</td>\n",
              "      <td>0.000024</td>\n",
              "    </tr>\n",
              "    <tr>\n",
              "      <th>8</th>\n",
              "      <td>2018-02-15</td>\n",
              "      <td>270.029999</td>\n",
              "      <td>0.066283</td>\n",
              "      <td>0.080025</td>\n",
              "      <td>280.269989</td>\n",
              "      <td>280.269989</td>\n",
              "      <td>10759700</td>\n",
              "      <td>5.364658</td>\n",
              "      <td>262.391998</td>\n",
              "      <td>0.000026</td>\n",
              "    </tr>\n",
              "    <tr>\n",
              "      <th>...</th>\n",
              "      <td>...</td>\n",
              "      <td>...</td>\n",
              "      <td>...</td>\n",
              "      <td>...</td>\n",
              "      <td>...</td>\n",
              "      <td>...</td>\n",
              "      <td>...</td>\n",
              "      <td>...</td>\n",
              "      <td>...</td>\n",
              "      <td>...</td>\n",
              "    </tr>\n",
              "    <tr>\n",
              "      <th>1004</th>\n",
              "      <td>2022-01-31</td>\n",
              "      <td>401.970001</td>\n",
              "      <td>0.393147</td>\n",
              "      <td>0.367080</td>\n",
              "      <td>427.140015</td>\n",
              "      <td>427.140015</td>\n",
              "      <td>20047500</td>\n",
              "      <td>11.130199</td>\n",
              "      <td>384.864007</td>\n",
              "      <td>0.000021</td>\n",
              "    </tr>\n",
              "    <tr>\n",
              "      <th>1005</th>\n",
              "      <td>2022-02-01</td>\n",
              "      <td>432.959991</td>\n",
              "      <td>0.461496</td>\n",
              "      <td>0.427186</td>\n",
              "      <td>457.130005</td>\n",
              "      <td>457.130005</td>\n",
              "      <td>22542300</td>\n",
              "      <td>7.021115</td>\n",
              "      <td>403.006006</td>\n",
              "      <td>0.000020</td>\n",
              "    </tr>\n",
              "    <tr>\n",
              "      <th>1006</th>\n",
              "      <td>2022-02-02</td>\n",
              "      <td>448.250000</td>\n",
              "      <td>0.447062</td>\n",
              "      <td>0.429253</td>\n",
              "      <td>429.480011</td>\n",
              "      <td>429.480011</td>\n",
              "      <td>14346000</td>\n",
              "      <td>-6.048606</td>\n",
              "      <td>416.962006</td>\n",
              "      <td>0.000030</td>\n",
              "    </tr>\n",
              "    <tr>\n",
              "      <th>1007</th>\n",
              "      <td>2022-02-03</td>\n",
              "      <td>421.440002</td>\n",
              "      <td>0.396611</td>\n",
              "      <td>0.380447</td>\n",
              "      <td>405.600006</td>\n",
              "      <td>405.600006</td>\n",
              "      <td>9905200</td>\n",
              "      <td>-5.560213</td>\n",
              "      <td>420.742004</td>\n",
              "      <td>0.000041</td>\n",
              "    </tr>\n",
              "    <tr>\n",
              "      <th>1008</th>\n",
              "      <td>2022-02-04</td>\n",
              "      <td>407.309998</td>\n",
              "      <td>0.359995</td>\n",
              "      <td>0.363650</td>\n",
              "      <td>410.170013</td>\n",
              "      <td>410.170013</td>\n",
              "      <td>7782400</td>\n",
              "      <td>1.126728</td>\n",
              "      <td>425.904010</td>\n",
              "      <td>0.000053</td>\n",
              "    </tr>\n",
              "  </tbody>\n",
              "</table>\n",
              "<p>1005 rows × 10 columns</p>\n",
              "</div>\n",
              "    <div class=\"colab-df-buttons\">\n",
              "\n",
              "  <div class=\"colab-df-container\">\n",
              "    <button class=\"colab-df-convert\" onclick=\"convertToInteractive('df-0059b0b8-4518-46ba-8bf6-2550bce39a2c')\"\n",
              "            title=\"Convert this dataframe to an interactive table.\"\n",
              "            style=\"display:none;\">\n",
              "\n",
              "  <svg xmlns=\"http://www.w3.org/2000/svg\" height=\"24px\" viewBox=\"0 -960 960 960\">\n",
              "    <path d=\"M120-120v-720h720v720H120Zm60-500h600v-160H180v160Zm220 220h160v-160H400v160Zm0 220h160v-160H400v160ZM180-400h160v-160H180v160Zm440 0h160v-160H620v160ZM180-180h160v-160H180v160Zm440 0h160v-160H620v160Z\"/>\n",
              "  </svg>\n",
              "    </button>\n",
              "\n",
              "  <style>\n",
              "    .colab-df-container {\n",
              "      display:flex;\n",
              "      gap: 12px;\n",
              "    }\n",
              "\n",
              "    .colab-df-convert {\n",
              "      background-color: #E8F0FE;\n",
              "      border: none;\n",
              "      border-radius: 50%;\n",
              "      cursor: pointer;\n",
              "      display: none;\n",
              "      fill: #1967D2;\n",
              "      height: 32px;\n",
              "      padding: 0 0 0 0;\n",
              "      width: 32px;\n",
              "    }\n",
              "\n",
              "    .colab-df-convert:hover {\n",
              "      background-color: #E2EBFA;\n",
              "      box-shadow: 0px 1px 2px rgba(60, 64, 67, 0.3), 0px 1px 3px 1px rgba(60, 64, 67, 0.15);\n",
              "      fill: #174EA6;\n",
              "    }\n",
              "\n",
              "    .colab-df-buttons div {\n",
              "      margin-bottom: 4px;\n",
              "    }\n",
              "\n",
              "    [theme=dark] .colab-df-convert {\n",
              "      background-color: #3B4455;\n",
              "      fill: #D2E3FC;\n",
              "    }\n",
              "\n",
              "    [theme=dark] .colab-df-convert:hover {\n",
              "      background-color: #434B5C;\n",
              "      box-shadow: 0px 1px 3px 1px rgba(0, 0, 0, 0.15);\n",
              "      filter: drop-shadow(0px 1px 2px rgba(0, 0, 0, 0.3));\n",
              "      fill: #FFFFFF;\n",
              "    }\n",
              "  </style>\n",
              "\n",
              "    <script>\n",
              "      const buttonEl =\n",
              "        document.querySelector('#df-0059b0b8-4518-46ba-8bf6-2550bce39a2c button.colab-df-convert');\n",
              "      buttonEl.style.display =\n",
              "        google.colab.kernel.accessAllowed ? 'block' : 'none';\n",
              "\n",
              "      async function convertToInteractive(key) {\n",
              "        const element = document.querySelector('#df-0059b0b8-4518-46ba-8bf6-2550bce39a2c');\n",
              "        const dataTable =\n",
              "          await google.colab.kernel.invokeFunction('convertToInteractive',\n",
              "                                                    [key], {});\n",
              "        if (!dataTable) return;\n",
              "\n",
              "        const docLinkHtml = 'Like what you see? Visit the ' +\n",
              "          '<a target=\"_blank\" href=https://colab.research.google.com/notebooks/data_table.ipynb>data table notebook</a>'\n",
              "          + ' to learn more about interactive tables.';\n",
              "        element.innerHTML = '';\n",
              "        dataTable['output_type'] = 'display_data';\n",
              "        await google.colab.output.renderOutput(dataTable, element);\n",
              "        const docLink = document.createElement('div');\n",
              "        docLink.innerHTML = docLinkHtml;\n",
              "        element.appendChild(docLink);\n",
              "      }\n",
              "    </script>\n",
              "  </div>\n",
              "\n",
              "\n",
              "<div id=\"df-49aee01c-a373-412a-b31b-9550c75841a0\">\n",
              "  <button class=\"colab-df-quickchart\" onclick=\"quickchart('df-49aee01c-a373-412a-b31b-9550c75841a0')\"\n",
              "            title=\"Suggest charts\"\n",
              "            style=\"display:none;\">\n",
              "\n",
              "<svg xmlns=\"http://www.w3.org/2000/svg\" height=\"24px\"viewBox=\"0 0 24 24\"\n",
              "     width=\"24px\">\n",
              "    <g>\n",
              "        <path d=\"M19 3H5c-1.1 0-2 .9-2 2v14c0 1.1.9 2 2 2h14c1.1 0 2-.9 2-2V5c0-1.1-.9-2-2-2zM9 17H7v-7h2v7zm4 0h-2V7h2v10zm4 0h-2v-4h2v4z\"/>\n",
              "    </g>\n",
              "</svg>\n",
              "  </button>\n",
              "\n",
              "<style>\n",
              "  .colab-df-quickchart {\n",
              "      --bg-color: #E8F0FE;\n",
              "      --fill-color: #1967D2;\n",
              "      --hover-bg-color: #E2EBFA;\n",
              "      --hover-fill-color: #174EA6;\n",
              "      --disabled-fill-color: #AAA;\n",
              "      --disabled-bg-color: #DDD;\n",
              "  }\n",
              "\n",
              "  [theme=dark] .colab-df-quickchart {\n",
              "      --bg-color: #3B4455;\n",
              "      --fill-color: #D2E3FC;\n",
              "      --hover-bg-color: #434B5C;\n",
              "      --hover-fill-color: #FFFFFF;\n",
              "      --disabled-bg-color: #3B4455;\n",
              "      --disabled-fill-color: #666;\n",
              "  }\n",
              "\n",
              "  .colab-df-quickchart {\n",
              "    background-color: var(--bg-color);\n",
              "    border: none;\n",
              "    border-radius: 50%;\n",
              "    cursor: pointer;\n",
              "    display: none;\n",
              "    fill: var(--fill-color);\n",
              "    height: 32px;\n",
              "    padding: 0;\n",
              "    width: 32px;\n",
              "  }\n",
              "\n",
              "  .colab-df-quickchart:hover {\n",
              "    background-color: var(--hover-bg-color);\n",
              "    box-shadow: 0 1px 2px rgba(60, 64, 67, 0.3), 0 1px 3px 1px rgba(60, 64, 67, 0.15);\n",
              "    fill: var(--button-hover-fill-color);\n",
              "  }\n",
              "\n",
              "  .colab-df-quickchart-complete:disabled,\n",
              "  .colab-df-quickchart-complete:disabled:hover {\n",
              "    background-color: var(--disabled-bg-color);\n",
              "    fill: var(--disabled-fill-color);\n",
              "    box-shadow: none;\n",
              "  }\n",
              "\n",
              "  .colab-df-spinner {\n",
              "    border: 2px solid var(--fill-color);\n",
              "    border-color: transparent;\n",
              "    border-bottom-color: var(--fill-color);\n",
              "    animation:\n",
              "      spin 1s steps(1) infinite;\n",
              "  }\n",
              "\n",
              "  @keyframes spin {\n",
              "    0% {\n",
              "      border-color: transparent;\n",
              "      border-bottom-color: var(--fill-color);\n",
              "      border-left-color: var(--fill-color);\n",
              "    }\n",
              "    20% {\n",
              "      border-color: transparent;\n",
              "      border-left-color: var(--fill-color);\n",
              "      border-top-color: var(--fill-color);\n",
              "    }\n",
              "    30% {\n",
              "      border-color: transparent;\n",
              "      border-left-color: var(--fill-color);\n",
              "      border-top-color: var(--fill-color);\n",
              "      border-right-color: var(--fill-color);\n",
              "    }\n",
              "    40% {\n",
              "      border-color: transparent;\n",
              "      border-right-color: var(--fill-color);\n",
              "      border-top-color: var(--fill-color);\n",
              "    }\n",
              "    60% {\n",
              "      border-color: transparent;\n",
              "      border-right-color: var(--fill-color);\n",
              "    }\n",
              "    80% {\n",
              "      border-color: transparent;\n",
              "      border-right-color: var(--fill-color);\n",
              "      border-bottom-color: var(--fill-color);\n",
              "    }\n",
              "    90% {\n",
              "      border-color: transparent;\n",
              "      border-bottom-color: var(--fill-color);\n",
              "    }\n",
              "  }\n",
              "</style>\n",
              "\n",
              "  <script>\n",
              "    async function quickchart(key) {\n",
              "      const quickchartButtonEl =\n",
              "        document.querySelector('#' + key + ' button');\n",
              "      quickchartButtonEl.disabled = true;  // To prevent multiple clicks.\n",
              "      quickchartButtonEl.classList.add('colab-df-spinner');\n",
              "      try {\n",
              "        const charts = await google.colab.kernel.invokeFunction(\n",
              "            'suggestCharts', [key], {});\n",
              "      } catch (error) {\n",
              "        console.error('Error during call to suggestCharts:', error);\n",
              "      }\n",
              "      quickchartButtonEl.classList.remove('colab-df-spinner');\n",
              "      quickchartButtonEl.classList.add('colab-df-quickchart-complete');\n",
              "    }\n",
              "    (() => {\n",
              "      let quickchartButtonEl =\n",
              "        document.querySelector('#df-49aee01c-a373-412a-b31b-9550c75841a0 button');\n",
              "      quickchartButtonEl.style.display =\n",
              "        google.colab.kernel.accessAllowed ? 'block' : 'none';\n",
              "    })();\n",
              "  </script>\n",
              "</div>\n",
              "\n",
              "  <div id=\"id_2dc3eb30-7a8b-4dd4-80c8-6d12a70170d0\">\n",
              "    <style>\n",
              "      .colab-df-generate {\n",
              "        background-color: #E8F0FE;\n",
              "        border: none;\n",
              "        border-radius: 50%;\n",
              "        cursor: pointer;\n",
              "        display: none;\n",
              "        fill: #1967D2;\n",
              "        height: 32px;\n",
              "        padding: 0 0 0 0;\n",
              "        width: 32px;\n",
              "      }\n",
              "\n",
              "      .colab-df-generate:hover {\n",
              "        background-color: #E2EBFA;\n",
              "        box-shadow: 0px 1px 2px rgba(60, 64, 67, 0.3), 0px 1px 3px 1px rgba(60, 64, 67, 0.15);\n",
              "        fill: #174EA6;\n",
              "      }\n",
              "\n",
              "      [theme=dark] .colab-df-generate {\n",
              "        background-color: #3B4455;\n",
              "        fill: #D2E3FC;\n",
              "      }\n",
              "\n",
              "      [theme=dark] .colab-df-generate:hover {\n",
              "        background-color: #434B5C;\n",
              "        box-shadow: 0px 1px 3px 1px rgba(0, 0, 0, 0.15);\n",
              "        filter: drop-shadow(0px 1px 2px rgba(0, 0, 0, 0.3));\n",
              "        fill: #FFFFFF;\n",
              "      }\n",
              "    </style>\n",
              "    <button class=\"colab-df-generate\" onclick=\"generateWithVariable('data')\"\n",
              "            title=\"Generate code using this dataframe.\"\n",
              "            style=\"display:none;\">\n",
              "\n",
              "  <svg xmlns=\"http://www.w3.org/2000/svg\" height=\"24px\"viewBox=\"0 0 24 24\"\n",
              "       width=\"24px\">\n",
              "    <path d=\"M7,19H8.4L18.45,9,17,7.55,7,17.6ZM5,21V16.75L18.45,3.32a2,2,0,0,1,2.83,0l1.4,1.43a1.91,1.91,0,0,1,.58,1.4,1.91,1.91,0,0,1-.58,1.4L9.25,21ZM18.45,9,17,7.55Zm-12,3A5.31,5.31,0,0,0,4.9,8.1,5.31,5.31,0,0,0,1,6.5,5.31,5.31,0,0,0,4.9,4.9,5.31,5.31,0,0,0,6.5,1,5.31,5.31,0,0,0,8.1,4.9,5.31,5.31,0,0,0,12,6.5,5.46,5.46,0,0,0,6.5,12Z\"/>\n",
              "  </svg>\n",
              "    </button>\n",
              "    <script>\n",
              "      (() => {\n",
              "      const buttonEl =\n",
              "        document.querySelector('#id_2dc3eb30-7a8b-4dd4-80c8-6d12a70170d0 button.colab-df-generate');\n",
              "      buttonEl.style.display =\n",
              "        google.colab.kernel.accessAllowed ? 'block' : 'none';\n",
              "\n",
              "      buttonEl.onclick = () => {\n",
              "        google.colab.notebook.generateWithVariable('data');\n",
              "      }\n",
              "      })();\n",
              "    </script>\n",
              "  </div>\n",
              "\n",
              "    </div>\n",
              "  </div>\n"
            ]
          },
          "metadata": {},
          "execution_count": 172
        }
      ]
    },
    {
      "cell_type": "markdown",
      "source": [
        "> Data Splitting and Model Training"
      ],
      "metadata": {
        "id": "rh5rZi8bp8EG"
      }
    },
    {
      "cell_type": "code",
      "source": [
        "features = ['Open', 'High', 'Low', 'Volume', 'DailyReturn', 'MovingAverage', 'PriceToVolumeRatio']\n",
        "X = data[features]\n",
        "Y = data['Close']\n",
        "print(X.columns)\n",
        "print(Y.name)"
      ],
      "metadata": {
        "colab": {
          "base_uri": "https://localhost:8080/"
        },
        "outputId": "d07548ad-35fa-4a67-b40f-97ca1f15ea02",
        "id": "-lK_etp4p8EG"
      },
      "execution_count": 173,
      "outputs": [
        {
          "output_type": "stream",
          "name": "stdout",
          "text": [
            "Index(['Open', 'High', 'Low', 'Volume', 'DailyReturn', 'MovingAverage',\n",
            "       'PriceToVolumeRatio'],\n",
            "      dtype='object')\n",
            "Close\n"
          ]
        }
      ]
    },
    {
      "cell_type": "code",
      "source": [
        "imputer = SimpleImputer(strategy='mean')\n",
        "X = imputer.fit_transform(X)"
      ],
      "metadata": {
        "id": "6Tywx7fep8EG"
      },
      "execution_count": 174,
      "outputs": []
    },
    {
      "cell_type": "code",
      "source": [
        "X_train, X_test, y_train, y_test = train_test_split(X, Y, test_size=0.2, random_state=42)\n",
        "print(\"X_train shape:\", X_train.shape)\n",
        "print(\"X_test shape:\", X_test.shape)\n",
        "print(\"y_train shape:\", y_train.shape)\n",
        "print(\"y_test shape:\", y_test.shape)"
      ],
      "metadata": {
        "colab": {
          "base_uri": "https://localhost:8080/"
        },
        "outputId": "42cb4fb7-ef6a-4b95-9890-a47ec280790f",
        "id": "YovRAEn5p8EG"
      },
      "execution_count": 175,
      "outputs": [
        {
          "output_type": "stream",
          "name": "stdout",
          "text": [
            "X_train shape: (804, 7)\n",
            "X_test shape: (201, 7)\n",
            "y_train shape: (804,)\n",
            "y_test shape: (201,)\n"
          ]
        }
      ]
    },
    {
      "cell_type": "code",
      "source": [
        "model = KNeighborsRegressor(n_neighbors=5)"
      ],
      "metadata": {
        "id": "F9-3VwDOp8EG"
      },
      "execution_count": 176,
      "outputs": []
    },
    {
      "cell_type": "markdown",
      "source": [
        "> Model Evaluation"
      ],
      "metadata": {
        "id": "mH3MeZZOp8EG"
      }
    },
    {
      "cell_type": "code",
      "source": [
        "model.fit(X_train, y_train)\n",
        "predictions = model.predict(X_test)\n",
        "predictions"
      ],
      "metadata": {
        "colab": {
          "base_uri": "https://localhost:8080/"
        },
        "outputId": "45468c02-5d3b-4215-ba33-d40da70c7eb6",
        "id": "AVloo1qPp8EH"
      },
      "execution_count": 177,
      "outputs": [
        {
          "output_type": "execute_result",
          "data": {
            "text/plain": [
              "array([527.4500058, 420.5859984, 455.4920044, 301.0100036, 304.6859986,\n",
              "       462.7939942, 332.8659972, 380.3780028, 421.2599974, 422.7600038,\n",
              "       583.4720092, 355.7380004, 527.0940002, 380.6939942, 455.1580018,\n",
              "       379.5859986, 517.1260008, 540.3160094, 352.0339906, 341.9880006,\n",
              "       537.2559936, 412.1899964, 329.0400026, 349.6099976, 418.7480042,\n",
              "       302.6859988, 350.745996 , 385.0899962, 366.2820006, 552.1880064,\n",
              "       497.4339904, 594.5160156, 309.4859984, 330.3040038, 415.4000062,\n",
              "       400.0799988, 480.5099916, 397.7959962, 347.0860048, 338.1320006,\n",
              "       351.4619934, 394.5840026, 474.8040038, 533.6380126, 383.597992 ,\n",
              "       335.4619996, 394.601996 , 375.7400024, 355.5700014, 591.9719848,\n",
              "       425.3180054, 425.6460084, 350.8180056, 439.2160036, 392.9379884,\n",
              "       387.9419984, 369.9419984, 366.5900024, 379.069995 , 371.2580016,\n",
              "       538.7680054, 456.8739992, 355.923999 , 445.3960022, 445.3960022,\n",
              "       372.082001 , 398.6059996, 354.296002 , 414.2939942, 498.2620056,\n",
              "       355.5700014, 387.1260008, 339.5380004, 383.291998 , 439.151996 ,\n",
              "       358.3460022, 495.278003 , 319.0140016, 329.0400026, 357.8840028,\n",
              "       527.5120054, 481.7199892, 429.182007 , 319.9320008, 425.401996 ,\n",
              "       571.6460084, 443.0839966, 488.6120058, 308.6319946, 382.825995 ,\n",
              "       338.9279908, 472.5300048, 537.2559936, 339.5880066, 547.2919982,\n",
              "       459.1300048, 384.5880066, 400.1640012, 338.9279908, 363.5279968,\n",
              "       577.554004 , 375.7179992, 357.1700012, 364.6039978, 340.6700012,\n",
              "       387.0940002, 537.2559936, 406.0819946, 547.2919982, 349.8340026,\n",
              "       351.9619994, 542.1099976, 404.4200012, 382.825995 , 369.6140014,\n",
              "       308.7779936, 431.4259888, 428.6739988, 429.022003 , 341.9880006,\n",
              "       319.4119996, 466.3979982, 376.4680054, 349.8340026, 425.401996 ,\n",
              "       405.6559998, 335.1900026, 555.0619936, 390.8580016, 392.254004 ,\n",
              "       301.6339966, 338.0759948, 517.1260008, 426.8359986, 363.3679994,\n",
              "       299.2660034, 394.4799988, 350.8180056, 401.2899962, 329.0400026,\n",
              "       319.4119996, 363.3679994, 382.825995 , 333.1459958, 583.4720092,\n",
              "       527.5120054, 339.7739992, 343.0380004, 523.9359926, 481.8139954,\n",
              "       480.5099916, 583.4720092, 555.5759886, 302.6579956, 354.296002 ,\n",
              "       495.0380006, 493.378003 , 554.0980102, 371.2580016, 369.1260012,\n",
              "       405.6559998, 413.0700014, 502.8260072, 393.1340026, 350.5319948,\n",
              "       432.8659974, 456.8739992, 390.5140014, 494.445996 , 493.378003 ,\n",
              "       378.3119998, 372.082001 , 338.9279908, 406.0819946, 306.8860046,\n",
              "       340.9740052, 413.702002 , 436.6880004, 341.8239928, 433.273993 ,\n",
              "       347.0940004, 379.5859986, 350.8180056, 372.082001 , 494.445996 ,\n",
              "       441.3579894, 404.369995 , 360.706    , 392.9379884, 364.352002 ,\n",
              "       309.4859984, 524.9860046, 361.6199952, 365.5320008, 381.143994 ,\n",
              "       394.4799988, 319.9059936, 548.8699888, 431.4259888, 329.0400026,\n",
              "       513.5879884])"
            ]
          },
          "metadata": {},
          "execution_count": 177
        }
      ]
    },
    {
      "cell_type": "code",
      "source": [
        "mse = mean_squared_error(y_test, predictions)\n",
        "print(f'Mean Squared Error: {mse}')"
      ],
      "metadata": {
        "colab": {
          "base_uri": "https://localhost:8080/"
        },
        "outputId": "18ae664e-9c14-4750-80c2-ca08848f27e7",
        "id": "REdQynF6p8EH"
      },
      "execution_count": 178,
      "outputs": [
        {
          "output_type": "stream",
          "name": "stdout",
          "text": [
            "Mean Squared Error: 8564.582724485952\n"
          ]
        }
      ]
    },
    {
      "cell_type": "code",
      "source": [
        "# Calculate Mean Absolute Error\n",
        "mae = mean_absolute_error(y_test, predictions)\n",
        "print(f'Mean Absolute Error: {mae:.2f}')"
      ],
      "metadata": {
        "colab": {
          "base_uri": "https://localhost:8080/"
        },
        "id": "KEauh5tzNoXj",
        "outputId": "eb9c79fa-6f01-4dbc-d3da-4c7280a3ce57"
      },
      "execution_count": 179,
      "outputs": [
        {
          "output_type": "stream",
          "name": "stdout",
          "text": [
            "Mean Absolute Error: 73.94\n"
          ]
        }
      ]
    },
    {
      "cell_type": "code",
      "source": [
        "# Calculate R-squared\n",
        "r2 = r2_score(y_test, predictions)\n",
        "print(f'R-squared: {r2:.2f}')"
      ],
      "metadata": {
        "colab": {
          "base_uri": "https://localhost:8080/"
        },
        "id": "-5obB7RSNr3h",
        "outputId": "203fd172-31ff-4649-c02b-382e33de3d97"
      },
      "execution_count": 180,
      "outputs": [
        {
          "output_type": "stream",
          "name": "stdout",
          "text": [
            "R-squared: 0.29\n"
          ]
        }
      ]
    },
    {
      "cell_type": "code",
      "source": [
        "df_results = pd.DataFrame({'Date': pd.to_datetime(y_test.index, format='%Y-%m-%d'),\n",
        "                           'Actual_Close': y_test.values,\n",
        "                           'Predicted_Close': predictions})\n",
        "\n",
        "# Display the new DataFrame\n",
        "print(df_results)"
      ],
      "metadata": {
        "colab": {
          "base_uri": "https://localhost:8080/"
        },
        "outputId": "bbd1c8a5-33ae-46e4-fa8c-d1f0d28392e4",
        "id": "5Zyp57msp8EH"
      },
      "execution_count": 181,
      "outputs": [
        {
          "output_type": "stream",
          "name": "stdout",
          "text": [
            "                             Date  Actual_Close  Predicted_Close\n",
            "0   1970-01-01 00:00:00.000000930    633.799988       527.450006\n",
            "1   1970-01-01 00:00:00.000000634    475.470001       420.585998\n",
            "2   1970-01-01 00:00:00.000000686    488.239990       455.492004\n",
            "3   1970-01-01 00:00:00.000000518    371.709991       301.010004\n",
            "4   1970-01-01 00:00:00.000000369    326.459991       304.685999\n",
            "..                            ...           ...              ...\n",
            "196 1970-01-01 00:00:00.000000212    265.140015       319.905994\n",
            "197 1970-01-01 00:00:00.000000782    524.030029       548.869989\n",
            "198 1970-01-01 00:00:00.000000338    351.269989       431.425989\n",
            "199 1970-01-01 00:00:00.000000214    265.320007       329.040003\n",
            "200 1970-01-01 00:00:00.000000354    381.720001       513.587988\n",
            "\n",
            "[201 rows x 3 columns]\n"
          ]
        }
      ]
    },
    {
      "cell_type": "code",
      "source": [
        "df_results[['Actual_Close', 'Predicted_Close']].plot()"
      ],
      "metadata": {
        "colab": {
          "base_uri": "https://localhost:8080/",
          "height": 452
        },
        "outputId": "1dc5a333-e512-4b0a-b4e7-b83a19dec6b6",
        "id": "pYFLyVKTp8EH"
      },
      "execution_count": 182,
      "outputs": [
        {
          "output_type": "execute_result",
          "data": {
            "text/plain": [
              "<Axes: >"
            ]
          },
          "metadata": {},
          "execution_count": 182
        },
        {
          "output_type": "display_data",
          "data": {
            "text/plain": [
              "<Figure size 640x480 with 1 Axes>"
            ],
            "image/png": "[encoded data removed]"
          },
          "metadata": {}
        }
      ]
    },
    {
      "cell_type": "code",
      "source": [
        "plt.figure(figsize=(8, 6))\n",
        "plt.scatter(y_test, predictions, color='blue', alpha=0.5)\n",
        "plt.plot([min(y_test), max(y_test)], [min(y_test), max(y_test)],linestyle='--', color='red', linewidth=2)\n",
        "plt.title('Actual vs. Predicted Values')\n",
        "plt.xlabel('Actual Values')\n",
        "plt.ylabel('Predicted Values')\n",
        "plt.show()\n"
      ],
      "metadata": {
        "colab": {
          "base_uri": "https://localhost:8080/",
          "height": 564
        },
        "id": "6g4pR124NxxW",
        "outputId": "42e3a7a6-4dfd-49e6-8ce9-36106d7b34fa"
      },
      "execution_count": 183,
      "outputs": [
        {
          "output_type": "display_data",
          "data": {
            "text/plain": [
              "<Figure size 800x600 with 1 Axes>"
            ],
            "image/png": "[encoded data removed]"
          },
          "metadata": {}
        }
      ]
    },
    {
      "cell_type": "markdown",
      "source": [
        "**Stock Prediction using KNN**"
      ],
      "metadata": {
        "id": "wIni12uMrIYA"
      }
    },
    {
      "cell_type": "markdown",
      "source": [
        "***Importing important libraries***"
      ],
      "metadata": {
        "id": "N-NvM_AnrIYH"
      }
    },
    {
      "cell_type": "code",
      "execution_count": 184,
      "metadata": {
        "id": "6JSytisDrIYI"
      },
      "outputs": [],
      "source": [
        "import pandas as pd\n",
        "import yfinance as yf\n",
        "from sklearn.model_selection import train_test_split\n",
        "from sklearn.linear_model import LinearRegression\n",
        "from sklearn.neighbors import KNeighborsRegressor\n",
        "from sklearn.svm import SVR\n",
        "from sklearn.tree import DecisionTreeRegressor\n",
        "from sklearn.impute import SimpleImputer\n",
        "from sklearn.metrics import mean_squared_error\n",
        "import matplotlib.pyplot as plt"
      ]
    },
    {
      "cell_type": "markdown",
      "source": [
        "***Bitcoin Dataset***\n",
        "\n",
        "> In this project, I select Bitcoin datasets which play a crucial role as they form the foundation for training and evaluating machine learning models i.e KNN algorithm  for stock market price prediction. Dataset represents historical stock market data for different assets, and understanding their characteristics is vital for building effective predictive models.\n",
        "\n",
        "\n",
        "> Features of dataset\n",
        "* Date: Essential for organizing data chronologically and identifying trends over time.\n",
        "* Open: The opening price of Datasets on a given day.\n",
        "* High: The highest price of Datasets on a given day.\n",
        "* Low: The lowest price of Datasets on a given day.\n",
        "* Close: The closing price of Datasets on a given day.\n",
        "* Adj Close: The adjusted closing price of Datasets on a given day, considering dividends, stock splits, etc.\n",
        "* Volume: The volume of Datasets traded on a given day.\n",
        "\n",
        "\n",
        "\n",
        "\n",
        "\n"
      ],
      "metadata": {
        "id": "sjlCSmR8rIYI"
      }
    },
    {
      "cell_type": "markdown",
      "source": [
        "*Load the dataset*"
      ],
      "metadata": {
        "id": "38QBL0JmrIYI"
      }
    },
    {
      "cell_type": "code",
      "source": [
        "data = pd.read_csv('BTC-USD.csv')\n",
        "print(data)"
      ],
      "metadata": {
        "colab": {
          "base_uri": "https://localhost:8080/"
        },
        "outputId": "03812f73-9add-4253-b89a-009e187e779c",
        "id": "dw3GanhvrIYI"
      },
      "execution_count": 185,
      "outputs": [
        {
          "output_type": "stream",
          "name": "stdout",
          "text": [
            "           Date          Open          High           Low         Close  \\\n",
            "0    2022-12-19  16759.041016  16807.527344  16398.136719  16439.679688   \n",
            "1    2022-12-20  16441.787109  17012.984375  16427.867188  16906.304688   \n",
            "2    2022-12-21  16904.527344  16916.800781  16755.912109  16817.535156   \n",
            "3    2022-12-22  16818.380859  16866.673828  16592.408203  16830.341797   \n",
            "4    2022-12-23  16829.644531  16905.218750  16794.458984  16796.953125   \n",
            "..          ...           ...           ...           ...           ...   \n",
            "361  2023-12-15  43028.250000  43087.824219  41692.968750  41929.757813   \n",
            "362  2023-12-16  41937.742188  42664.945313  41723.113281  42240.117188   \n",
            "363  2023-12-17  42236.109375  42359.496094  41274.542969  41364.664063   \n",
            "364  2023-12-18  41348.203125  42720.296875  40530.257813  42623.539063   \n",
            "365  2023-12-19  42641.511719  43281.062500  41848.339844  42150.578125   \n",
            "\n",
            "        Adj Close       Volume  \n",
            "0    16439.679688  17221074814  \n",
            "1    16906.304688  22722096615  \n",
            "2    16817.535156  14882945045  \n",
            "3    16830.341797  16441573050  \n",
            "4    16796.953125  15329265213  \n",
            "..            ...          ...  \n",
            "361  41929.757813  19639442462  \n",
            "362  42240.117188  14386729590  \n",
            "363  41364.664063  16678702876  \n",
            "364  42623.539063  25224642008  \n",
            "365  42150.578125  25344405504  \n",
            "\n",
            "[366 rows x 7 columns]\n"
          ]
        }
      ]
    },
    {
      "cell_type": "markdown",
      "source": [
        "*Quick peek at functions:*"
      ],
      "metadata": {
        "id": "Qbz7AtDNrIYI"
      }
    },
    {
      "cell_type": "code",
      "source": [
        "data.shape"
      ],
      "metadata": {
        "colab": {
          "base_uri": "https://localhost:8080/"
        },
        "outputId": "c23f229c-2388-41d8-8f21-d8f08bab0e74",
        "id": "E93xoMKVrIYI"
      },
      "execution_count": 186,
      "outputs": [
        {
          "output_type": "execute_result",
          "data": {
            "text/plain": [
              "(366, 7)"
            ]
          },
          "metadata": {},
          "execution_count": 186
        }
      ]
    },
    {
      "cell_type": "code",
      "source": [
        "data.columns"
      ],
      "metadata": {
        "colab": {
          "base_uri": "https://localhost:8080/"
        },
        "outputId": "54d9f98f-b087-4426-848f-e6eb2c2db943",
        "id": "rM8EXEVyrIYI"
      },
      "execution_count": 187,
      "outputs": [
        {
          "output_type": "execute_result",
          "data": {
            "text/plain": [
              "Index(['Date', 'Open', 'High', 'Low', 'Close', 'Adj Close', 'Volume'], dtype='object')"
            ]
          },
          "metadata": {},
          "execution_count": 187
        }
      ]
    },
    {
      "cell_type": "code",
      "source": [
        "print(data.describe())"
      ],
      "metadata": {
        "colab": {
          "base_uri": "https://localhost:8080/"
        },
        "outputId": "3101d66f-a650-4648-8f4e-e2fae014e8ee",
        "id": "xxBxrh6-rIYI"
      },
      "execution_count": 188,
      "outputs": [
        {
          "output_type": "stream",
          "name": "stdout",
          "text": [
            "               Open          High           Low         Close     Adj Close  \\\n",
            "count    366.000000    366.000000    366.000000    366.000000    366.000000   \n",
            "mean   27892.374450  28351.467635  27512.248116  27961.859242  27961.859242   \n",
            "std     5679.175786   5798.605380   5573.093646   5698.534708   5698.534708   \n",
            "min    16441.787109  16628.986328  16398.136719  16439.679688  16439.679688   \n",
            "25%    25614.489746  25957.333008  24999.646973  25754.951660  25754.951660   \n",
            "50%    27438.595703  27926.062500  26966.659179  27461.631836  27461.631836   \n",
            "75%    29913.611817  30364.928223  29675.398926  29975.025390  29975.025390   \n",
            "max    44180.019531  44705.515625  43627.597656  44166.601563  44166.601563   \n",
            "\n",
            "             Volume  \n",
            "count  3.660000e+02  \n",
            "mean   1.802335e+10  \n",
            "std    8.494735e+09  \n",
            "min    5.331173e+09  \n",
            "25%    1.200029e+10  \n",
            "50%    1.575343e+10  \n",
            "75%    2.262914e+10  \n",
            "max    5.462223e+10  \n"
          ]
        }
      ]
    },
    {
      "cell_type": "code",
      "source": [
        "print(data.info())"
      ],
      "metadata": {
        "colab": {
          "base_uri": "https://localhost:8080/"
        },
        "outputId": "d26dfb6f-ef46-4804-86fb-f016dd8fcfd8",
        "id": "U4sk0bLnrIYJ"
      },
      "execution_count": 189,
      "outputs": [
        {
          "output_type": "stream",
          "name": "stdout",
          "text": [
            "<class 'pandas.core.frame.DataFrame'>\n",
            "RangeIndex: 366 entries, 0 to 365\n",
            "Data columns (total 7 columns):\n",
            " #   Column     Non-Null Count  Dtype  \n",
            "---  ------     --------------  -----  \n",
            " 0   Date       366 non-null    object \n",
            " 1   Open       366 non-null    float64\n",
            " 2   High       366 non-null    float64\n",
            " 3   Low        366 non-null    float64\n",
            " 4   Close      366 non-null    float64\n",
            " 5   Adj Close  366 non-null    float64\n",
            " 6   Volume     366 non-null    int64  \n",
            "dtypes: float64(5), int64(1), object(1)\n",
            "memory usage: 20.1+ KB\n",
            "None\n"
          ]
        }
      ]
    },
    {
      "cell_type": "markdown",
      "source": [
        "*Data Preprocessing*\n",
        "\n",
        "> Handling Missing Values:\n",
        "\n"
      ],
      "metadata": {
        "id": "rFrdpBkMrIYJ"
      }
    },
    {
      "cell_type": "code",
      "source": [
        "missing_values = data.isnull().sum()\n",
        "print(\"Missing Values:\\n\", missing_values)\n",
        "data = data.dropna()\n",
        "print(\"Missing Values After Handling:\\n\", data.isnull().sum())"
      ],
      "metadata": {
        "colab": {
          "base_uri": "https://localhost:8080/"
        },
        "outputId": "acb7d251-e3cc-476e-adcb-b33d3d29ba4b",
        "id": "gNqJOxh3rIYJ"
      },
      "execution_count": 190,
      "outputs": [
        {
          "output_type": "stream",
          "name": "stdout",
          "text": [
            "Missing Values:\n",
            " Date         0\n",
            "Open         0\n",
            "High         0\n",
            "Low          0\n",
            "Close        0\n",
            "Adj Close    0\n",
            "Volume       0\n",
            "dtype: int64\n",
            "Missing Values After Handling:\n",
            " Date         0\n",
            "Open         0\n",
            "High         0\n",
            "Low          0\n",
            "Close        0\n",
            "Adj Close    0\n",
            "Volume       0\n",
            "dtype: int64\n"
          ]
        }
      ]
    },
    {
      "cell_type": "markdown",
      "source": [
        "\n",
        "\n",
        "> Feature Scaling\n",
        "\n"
      ],
      "metadata": {
        "id": "LJDVfzu0rIYJ"
      }
    },
    {
      "cell_type": "code",
      "source": [
        "from sklearn.preprocessing import MinMaxScaler\n",
        "scaler = MinMaxScaler()\n",
        "data[['High']] = scaler.fit_transform(data[['High']])\n",
        "data[['Low']] = scaler.fit_transform(data[['Low']])\n",
        "data"
      ],
      "metadata": {
        "colab": {
          "base_uri": "https://localhost:8080/",
          "height": 424
        },
        "outputId": "61b8c1c7-fc38-45a3-f7d5-2d7ee7183c70",
        "id": "-LRDL8CbrIYJ"
      },
      "execution_count": 191,
      "outputs": [
        {
          "output_type": "execute_result",
          "data": {
            "text/plain": [
              "           Date          Open      High       Low         Close     Adj Close  \\\n",
              "0    2022-12-19  16759.041016  0.006359  0.000000  16439.679688  16439.679688   \n",
              "1    2022-12-20  16441.787109  0.013677  0.001092  16906.304688  16906.304688   \n",
              "2    2022-12-21  16904.527344  0.010251  0.013139  16817.535156  16817.535156   \n",
              "3    2022-12-22  16818.380859  0.008466  0.007135  16830.341797  16830.341797   \n",
              "4    2022-12-23  16829.644531  0.009839  0.014555  16796.953125  16796.953125   \n",
              "..          ...           ...       ...       ...           ...           ...   \n",
              "361  2023-12-15  43028.250000  0.942383  0.928951  41929.757813  41929.757813   \n",
              "362  2023-12-16  41937.742188  0.927321  0.930058  42240.117188  42240.117188   \n",
              "363  2023-12-17  42236.109375  0.916442  0.913584  41364.664063  41364.664063   \n",
              "364  2023-12-18  41348.203125  0.929293  0.886250  42623.539063  42623.539063   \n",
              "365  2023-12-19  42641.511719  0.949265  0.934657  42150.578125  42150.578125   \n",
              "\n",
              "          Volume  \n",
              "0    17221074814  \n",
              "1    22722096615  \n",
              "2    14882945045  \n",
              "3    16441573050  \n",
              "4    15329265213  \n",
              "..           ...  \n",
              "361  19639442462  \n",
              "362  14386729590  \n",
              "363  16678702876  \n",
              "364  25224642008  \n",
              "365  25344405504  \n",
              "\n",
              "[366 rows x 7 columns]"
            ],
            "text/html": [
              "\n",
              "  <div id=\"df-9b681068-a8e8-4403-b511-623e6300154d\" class=\"colab-df-container\">\n",
              "    <div>\n",
              "<style scoped>\n",
              "    .dataframe tbody tr th:only-of-type {\n",
              "        vertical-align: middle;\n",
              "    }\n",
              "\n",
              "    .dataframe tbody tr th {\n",
              "        vertical-align: top;\n",
              "    }\n",
              "\n",
              "    .dataframe thead th {\n",
              "        text-align: right;\n",
              "    }\n",
              "</style>\n",
              "<table border=\"1\" class=\"dataframe\">\n",
              "  <thead>\n",
              "    <tr style=\"text-align: right;\">\n",
              "      <th></th>\n",
              "      <th>Date</th>\n",
              "      <th>Open</th>\n",
              "      <th>High</th>\n",
              "      <th>Low</th>\n",
              "      <th>Close</th>\n",
              "      <th>Adj Close</th>\n",
              "      <th>Volume</th>\n",
              "    </tr>\n",
              "  </thead>\n",
              "  <tbody>\n",
              "    <tr>\n",
              "      <th>0</th>\n",
              "      <td>2022-12-19</td>\n",
              "      <td>16759.041016</td>\n",
              "      <td>0.006359</td>\n",
              "      <td>0.000000</td>\n",
              "      <td>16439.679688</td>\n",
              "      <td>16439.679688</td>\n",
              "      <td>17221074814</td>\n",
              "    </tr>\n",
              "    <tr>\n",
              "      <th>1</th>\n",
              "      <td>2022-12-20</td>\n",
              "      <td>16441.787109</td>\n",
              "      <td>0.013677</td>\n",
              "      <td>0.001092</td>\n",
              "      <td>16906.304688</td>\n",
              "      <td>16906.304688</td>\n",
              "      <td>22722096615</td>\n",
              "    </tr>\n",
              "    <tr>\n",
              "      <th>2</th>\n",
              "      <td>2022-12-21</td>\n",
              "      <td>16904.527344</td>\n",
              "      <td>0.010251</td>\n",
              "      <td>0.013139</td>\n",
              "      <td>16817.535156</td>\n",
              "      <td>16817.535156</td>\n",
              "      <td>14882945045</td>\n",
              "    </tr>\n",
              "    <tr>\n",
              "      <th>3</th>\n",
              "      <td>2022-12-22</td>\n",
              "      <td>16818.380859</td>\n",
              "      <td>0.008466</td>\n",
              "      <td>0.007135</td>\n",
              "      <td>16830.341797</td>\n",
              "      <td>16830.341797</td>\n",
              "      <td>16441573050</td>\n",
              "    </tr>\n",
              "    <tr>\n",
              "      <th>4</th>\n",
              "      <td>2022-12-23</td>\n",
              "      <td>16829.644531</td>\n",
              "      <td>0.009839</td>\n",
              "      <td>0.014555</td>\n",
              "      <td>16796.953125</td>\n",
              "      <td>16796.953125</td>\n",
              "      <td>15329265213</td>\n",
              "    </tr>\n",
              "    <tr>\n",
              "      <th>...</th>\n",
              "      <td>...</td>\n",
              "      <td>...</td>\n",
              "      <td>...</td>\n",
              "      <td>...</td>\n",
              "      <td>...</td>\n",
              "      <td>...</td>\n",
              "      <td>...</td>\n",
              "    </tr>\n",
              "    <tr>\n",
              "      <th>361</th>\n",
              "      <td>2023-12-15</td>\n",
              "      <td>43028.250000</td>\n",
              "      <td>0.942383</td>\n",
              "      <td>0.928951</td>\n",
              "      <td>41929.757813</td>\n",
              "      <td>41929.757813</td>\n",
              "      <td>19639442462</td>\n",
              "    </tr>\n",
              "    <tr>\n",
              "      <th>362</th>\n",
              "      <td>2023-12-16</td>\n",
              "      <td>41937.742188</td>\n",
              "      <td>0.927321</td>\n",
              "      <td>0.930058</td>\n",
              "      <td>42240.117188</td>\n",
              "      <td>42240.117188</td>\n",
              "      <td>14386729590</td>\n",
              "    </tr>\n",
              "    <tr>\n",
              "      <th>363</th>\n",
              "      <td>2023-12-17</td>\n",
              "      <td>42236.109375</td>\n",
              "      <td>0.916442</td>\n",
              "      <td>0.913584</td>\n",
              "      <td>41364.664063</td>\n",
              "      <td>41364.664063</td>\n",
              "      <td>16678702876</td>\n",
              "    </tr>\n",
              "    <tr>\n",
              "      <th>364</th>\n",
              "      <td>2023-12-18</td>\n",
              "      <td>41348.203125</td>\n",
              "      <td>0.929293</td>\n",
              "      <td>0.886250</td>\n",
              "      <td>42623.539063</td>\n",
              "      <td>42623.539063</td>\n",
              "      <td>25224642008</td>\n",
              "    </tr>\n",
              "    <tr>\n",
              "      <th>365</th>\n",
              "      <td>2023-12-19</td>\n",
              "      <td>42641.511719</td>\n",
              "      <td>0.949265</td>\n",
              "      <td>0.934657</td>\n",
              "      <td>42150.578125</td>\n",
              "      <td>42150.578125</td>\n",
              "      <td>25344405504</td>\n",
              "    </tr>\n",
              "  </tbody>\n",
              "</table>\n",
              "<p>366 rows × 7 columns</p>\n",
              "</div>\n",
              "    <div class=\"colab-df-buttons\">\n",
              "\n",
              "  <div class=\"colab-df-container\">\n",
              "    <button class=\"colab-df-convert\" onclick=\"convertToInteractive('df-9b681068-a8e8-4403-b511-623e6300154d')\"\n",
              "            title=\"Convert this dataframe to an interactive table.\"\n",
              "            style=\"display:none;\">\n",
              "\n",
              "  <svg xmlns=\"http://www.w3.org/2000/svg\" height=\"24px\" viewBox=\"0 -960 960 960\">\n",
              "    <path d=\"M120-120v-720h720v720H120Zm60-500h600v-160H180v160Zm220 220h160v-160H400v160Zm0 220h160v-160H400v160ZM180-400h160v-160H180v160Zm440 0h160v-160H620v160ZM180-180h160v-160H180v160Zm440 0h160v-160H620v160Z\"/>\n",
              "  </svg>\n",
              "    </button>\n",
              "\n",
              "  <style>\n",
              "    .colab-df-container {\n",
              "      display:flex;\n",
              "      gap: 12px;\n",
              "    }\n",
              "\n",
              "    .colab-df-convert {\n",
              "      background-color: #E8F0FE;\n",
              "      border: none;\n",
              "      border-radius: 50%;\n",
              "      cursor: pointer;\n",
              "      display: none;\n",
              "      fill: #1967D2;\n",
              "      height: 32px;\n",
              "      padding: 0 0 0 0;\n",
              "      width: 32px;\n",
              "    }\n",
              "\n",
              "    .colab-df-convert:hover {\n",
              "      background-color: #E2EBFA;\n",
              "      box-shadow: 0px 1px 2px rgba(60, 64, 67, 0.3), 0px 1px 3px 1px rgba(60, 64, 67, 0.15);\n",
              "      fill: #174EA6;\n",
              "    }\n",
              "\n",
              "    .colab-df-buttons div {\n",
              "      margin-bottom: 4px;\n",
              "    }\n",
              "\n",
              "    [theme=dark] .colab-df-convert {\n",
              "      background-color: #3B4455;\n",
              "      fill: #D2E3FC;\n",
              "    }\n",
              "\n",
              "    [theme=dark] .colab-df-convert:hover {\n",
              "      background-color: #434B5C;\n",
              "      box-shadow: 0px 1px 3px 1px rgba(0, 0, 0, 0.15);\n",
              "      filter: drop-shadow(0px 1px 2px rgba(0, 0, 0, 0.3));\n",
              "      fill: #FFFFFF;\n",
              "    }\n",
              "  </style>\n",
              "\n",
              "    <script>\n",
              "      const buttonEl =\n",
              "        document.querySelector('#df-9b681068-a8e8-4403-b511-623e6300154d button.colab-df-convert');\n",
              "      buttonEl.style.display =\n",
              "        google.colab.kernel.accessAllowed ? 'block' : 'none';\n",
              "\n",
              "      async function convertToInteractive(key) {\n",
              "        const element = document.querySelector('#df-9b681068-a8e8-4403-b511-623e6300154d');\n",
              "        const dataTable =\n",
              "          await google.colab.kernel.invokeFunction('convertToInteractive',\n",
              "                                                    [key], {});\n",
              "        if (!dataTable) return;\n",
              "\n",
              "        const docLinkHtml = 'Like what you see? Visit the ' +\n",
              "          '<a target=\"_blank\" href=https://colab.research.google.com/notebooks/data_table.ipynb>data table notebook</a>'\n",
              "          + ' to learn more about interactive tables.';\n",
              "        element.innerHTML = '';\n",
              "        dataTable['output_type'] = 'display_data';\n",
              "        await google.colab.output.renderOutput(dataTable, element);\n",
              "        const docLink = document.createElement('div');\n",
              "        docLink.innerHTML = docLinkHtml;\n",
              "        element.appendChild(docLink);\n",
              "      }\n",
              "    </script>\n",
              "  </div>\n",
              "\n",
              "\n",
              "<div id=\"df-717bfaa1-1870-42f1-8440-c17a7d7071a0\">\n",
              "  <button class=\"colab-df-quickchart\" onclick=\"quickchart('df-717bfaa1-1870-42f1-8440-c17a7d7071a0')\"\n",
              "            title=\"Suggest charts\"\n",
              "            style=\"display:none;\">\n",
              "\n",
              "<svg xmlns=\"http://www.w3.org/2000/svg\" height=\"24px\"viewBox=\"0 0 24 24\"\n",
              "     width=\"24px\">\n",
              "    <g>\n",
              "        <path d=\"M19 3H5c-1.1 0-2 .9-2 2v14c0 1.1.9 2 2 2h14c1.1 0 2-.9 2-2V5c0-1.1-.9-2-2-2zM9 17H7v-7h2v7zm4 0h-2V7h2v10zm4 0h-2v-4h2v4z\"/>\n",
              "    </g>\n",
              "</svg>\n",
              "  </button>\n",
              "\n",
              "<style>\n",
              "  .colab-df-quickchart {\n",
              "      --bg-color: #E8F0FE;\n",
              "      --fill-color: #1967D2;\n",
              "      --hover-bg-color: #E2EBFA;\n",
              "      --hover-fill-color: #174EA6;\n",
              "      --disabled-fill-color: #AAA;\n",
              "      --disabled-bg-color: #DDD;\n",
              "  }\n",
              "\n",
              "  [theme=dark] .colab-df-quickchart {\n",
              "      --bg-color: #3B4455;\n",
              "      --fill-color: #D2E3FC;\n",
              "      --hover-bg-color: #434B5C;\n",
              "      --hover-fill-color: #FFFFFF;\n",
              "      --disabled-bg-color: #3B4455;\n",
              "      --disabled-fill-color: #666;\n",
              "  }\n",
              "\n",
              "  .colab-df-quickchart {\n",
              "    background-color: var(--bg-color);\n",
              "    border: none;\n",
              "    border-radius: 50%;\n",
              "    cursor: pointer;\n",
              "    display: none;\n",
              "    fill: var(--fill-color);\n",
              "    height: 32px;\n",
              "    padding: 0;\n",
              "    width: 32px;\n",
              "  }\n",
              "\n",
              "  .colab-df-quickchart:hover {\n",
              "    background-color: var(--hover-bg-color);\n",
              "    box-shadow: 0 1px 2px rgba(60, 64, 67, 0.3), 0 1px 3px 1px rgba(60, 64, 67, 0.15);\n",
              "    fill: var(--button-hover-fill-color);\n",
              "  }\n",
              "\n",
              "  .colab-df-quickchart-complete:disabled,\n",
              "  .colab-df-quickchart-complete:disabled:hover {\n",
              "    background-color: var(--disabled-bg-color);\n",
              "    fill: var(--disabled-fill-color);\n",
              "    box-shadow: none;\n",
              "  }\n",
              "\n",
              "  .colab-df-spinner {\n",
              "    border: 2px solid var(--fill-color);\n",
              "    border-color: transparent;\n",
              "    border-bottom-color: var(--fill-color);\n",
              "    animation:\n",
              "      spin 1s steps(1) infinite;\n",
              "  }\n",
              "\n",
              "  @keyframes spin {\n",
              "    0% {\n",
              "      border-color: transparent;\n",
              "      border-bottom-color: var(--fill-color);\n",
              "      border-left-color: var(--fill-color);\n",
              "    }\n",
              "    20% {\n",
              "      border-color: transparent;\n",
              "      border-left-color: var(--fill-color);\n",
              "      border-top-color: var(--fill-color);\n",
              "    }\n",
              "    30% {\n",
              "      border-color: transparent;\n",
              "      border-left-color: var(--fill-color);\n",
              "      border-top-color: var(--fill-color);\n",
              "      border-right-color: var(--fill-color);\n",
              "    }\n",
              "    40% {\n",
              "      border-color: transparent;\n",
              "      border-right-color: var(--fill-color);\n",
              "      border-top-color: var(--fill-color);\n",
              "    }\n",
              "    60% {\n",
              "      border-color: transparent;\n",
              "      border-right-color: var(--fill-color);\n",
              "    }\n",
              "    80% {\n",
              "      border-color: transparent;\n",
              "      border-right-color: var(--fill-color);\n",
              "      border-bottom-color: var(--fill-color);\n",
              "    }\n",
              "    90% {\n",
              "      border-color: transparent;\n",
              "      border-bottom-color: var(--fill-color);\n",
              "    }\n",
              "  }\n",
              "</style>\n",
              "\n",
              "  <script>\n",
              "    async function quickchart(key) {\n",
              "      const quickchartButtonEl =\n",
              "        document.querySelector('#' + key + ' button');\n",
              "      quickchartButtonEl.disabled = true;  // To prevent multiple clicks.\n",
              "      quickchartButtonEl.classList.add('colab-df-spinner');\n",
              "      try {\n",
              "        const charts = await google.colab.kernel.invokeFunction(\n",
              "            'suggestCharts', [key], {});\n",
              "      } catch (error) {\n",
              "        console.error('Error during call to suggestCharts:', error);\n",
              "      }\n",
              "      quickchartButtonEl.classList.remove('colab-df-spinner');\n",
              "      quickchartButtonEl.classList.add('colab-df-quickchart-complete');\n",
              "    }\n",
              "    (() => {\n",
              "      let quickchartButtonEl =\n",
              "        document.querySelector('#df-717bfaa1-1870-42f1-8440-c17a7d7071a0 button');\n",
              "      quickchartButtonEl.style.display =\n",
              "        google.colab.kernel.accessAllowed ? 'block' : 'none';\n",
              "    })();\n",
              "  </script>\n",
              "</div>\n",
              "\n",
              "  <div id=\"id_8fd2f6ce-5f3d-4c5e-af17-220865a56e7e\">\n",
              "    <style>\n",
              "      .colab-df-generate {\n",
              "        background-color: #E8F0FE;\n",
              "        border: none;\n",
              "        border-radius: 50%;\n",
              "        cursor: pointer;\n",
              "        display: none;\n",
              "        fill: #1967D2;\n",
              "        height: 32px;\n",
              "        padding: 0 0 0 0;\n",
              "        width: 32px;\n",
              "      }\n",
              "\n",
              "      .colab-df-generate:hover {\n",
              "        background-color: #E2EBFA;\n",
              "        box-shadow: 0px 1px 2px rgba(60, 64, 67, 0.3), 0px 1px 3px 1px rgba(60, 64, 67, 0.15);\n",
              "        fill: #174EA6;\n",
              "      }\n",
              "\n",
              "      [theme=dark] .colab-df-generate {\n",
              "        background-color: #3B4455;\n",
              "        fill: #D2E3FC;\n",
              "      }\n",
              "\n",
              "      [theme=dark] .colab-df-generate:hover {\n",
              "        background-color: #434B5C;\n",
              "        box-shadow: 0px 1px 3px 1px rgba(0, 0, 0, 0.15);\n",
              "        filter: drop-shadow(0px 1px 2px rgba(0, 0, 0, 0.3));\n",
              "        fill: #FFFFFF;\n",
              "      }\n",
              "    </style>\n",
              "    <button class=\"colab-df-generate\" onclick=\"generateWithVariable('data')\"\n",
              "            title=\"Generate code using this dataframe.\"\n",
              "            style=\"display:none;\">\n",
              "\n",
              "  <svg xmlns=\"http://www.w3.org/2000/svg\" height=\"24px\"viewBox=\"0 0 24 24\"\n",
              "       width=\"24px\">\n",
              "    <path d=\"M7,19H8.4L18.45,9,17,7.55,7,17.6ZM5,21V16.75L18.45,3.32a2,2,0,0,1,2.83,0l1.4,1.43a1.91,1.91,0,0,1,.58,1.4,1.91,1.91,0,0,1-.58,1.4L9.25,21ZM18.45,9,17,7.55Zm-12,3A5.31,5.31,0,0,0,4.9,8.1,5.31,5.31,0,0,0,1,6.5,5.31,5.31,0,0,0,4.9,4.9,5.31,5.31,0,0,0,6.5,1,5.31,5.31,0,0,0,8.1,4.9,5.31,5.31,0,0,0,12,6.5,5.46,5.46,0,0,0,6.5,12Z\"/>\n",
              "  </svg>\n",
              "    </button>\n",
              "    <script>\n",
              "      (() => {\n",
              "      const buttonEl =\n",
              "        document.querySelector('#id_8fd2f6ce-5f3d-4c5e-af17-220865a56e7e button.colab-df-generate');\n",
              "      buttonEl.style.display =\n",
              "        google.colab.kernel.accessAllowed ? 'block' : 'none';\n",
              "\n",
              "      buttonEl.onclick = () => {\n",
              "        google.colab.notebook.generateWithVariable('data');\n",
              "      }\n",
              "      })();\n",
              "    </script>\n",
              "  </div>\n",
              "\n",
              "    </div>\n",
              "  </div>\n"
            ]
          },
          "metadata": {},
          "execution_count": 191
        }
      ]
    },
    {
      "cell_type": "markdown",
      "source": [
        "\n",
        "\n",
        "> Feature Engineering\n",
        "\n"
      ],
      "metadata": {
        "id": "VBsaG2GhrIYJ"
      }
    },
    {
      "cell_type": "code",
      "source": [
        "data['DailyReturn'] = data['Adj Close'].pct_change() * 100\n",
        "data['MovingAverage'] = data['Adj Close'].rolling(window=5).mean()\n",
        "data['PriceToVolumeRatio'] = data['Adj Close']/data['Volume']\n",
        "data=data.dropna()\n",
        "data"
      ],
      "metadata": {
        "colab": {
          "base_uri": "https://localhost:8080/",
          "height": 617
        },
        "outputId": "e97a624b-f8ca-4374-b497-8a9e1e5bd291",
        "id": "UOAotpw6rIYJ"
      },
      "execution_count": 192,
      "outputs": [
        {
          "output_type": "execute_result",
          "data": {
            "text/plain": [
              "           Date          Open      High       Low         Close     Adj Close  \\\n",
              "4    2022-12-23  16829.644531  0.009839  0.014555  16796.953125  16796.953125   \n",
              "5    2022-12-24  16796.976563  0.008396  0.014521  16847.755859  16847.755859   \n",
              "6    2022-12-25  16847.505859  0.008248  0.013115  16841.986328  16841.986328   \n",
              "7    2022-12-26  16842.250000  0.010369  0.015213  16919.804688  16919.804688   \n",
              "8    2022-12-27  16919.291016  0.011784  0.008959  16717.173828  16717.173828   \n",
              "..          ...           ...       ...       ...           ...           ...   \n",
              "361  2023-12-15  43028.250000  0.942383  0.928951  41929.757813  41929.757813   \n",
              "362  2023-12-16  41937.742188  0.927321  0.930058  42240.117188  42240.117188   \n",
              "363  2023-12-17  42236.109375  0.916442  0.913584  41364.664063  41364.664063   \n",
              "364  2023-12-18  41348.203125  0.929293  0.886250  42623.539063  42623.539063   \n",
              "365  2023-12-19  42641.511719  0.949265  0.934657  42150.578125  42150.578125   \n",
              "\n",
              "          Volume  DailyReturn  MovingAverage  PriceToVolumeRatio  \n",
              "4    15329265213    -0.198384   16758.162891            0.000001  \n",
              "5     9744636213     0.302452   16839.778125            0.000002  \n",
              "6    11656379938    -0.034245   16826.914453            0.000001  \n",
              "7    11886957804     0.462050   16847.368359            0.000001  \n",
              "8    15748580239    -1.197596   16824.734766            0.000001  \n",
              "..           ...          ...            ...                 ...  \n",
              "361  19639442462    -2.543268   42107.705469            0.000002  \n",
              "362  14386729590     0.740189   42306.962500            0.000003  \n",
              "363  16678702876    -2.072563   42289.850782            0.000002  \n",
              "364  25224642008     3.043358   42236.410157            0.000002  \n",
              "365  25344405504    -1.109624   42061.731250            0.000002  \n",
              "\n",
              "[362 rows x 10 columns]"
            ],
            "text/html": [
              "\n",
              "  <div id=\"df-83dc7fe7-3dd3-47ad-b233-f0e06e01e199\" class=\"colab-df-container\">\n",
              "    <div>\n",
              "<style scoped>\n",
              "    .dataframe tbody tr th:only-of-type {\n",
              "        vertical-align: middle;\n",
              "    }\n",
              "\n",
              "    .dataframe tbody tr th {\n",
              "        vertical-align: top;\n",
              "    }\n",
              "\n",
              "    .dataframe thead th {\n",
              "        text-align: right;\n",
              "    }\n",
              "</style>\n",
              "<table border=\"1\" class=\"dataframe\">\n",
              "  <thead>\n",
              "    <tr style=\"text-align: right;\">\n",
              "      <th></th>\n",
              "      <th>Date</th>\n",
              "      <th>Open</th>\n",
              "      <th>High</th>\n",
              "      <th>Low</th>\n",
              "      <th>Close</th>\n",
              "      <th>Adj Close</th>\n",
              "      <th>Volume</th>\n",
              "      <th>DailyReturn</th>\n",
              "      <th>MovingAverage</th>\n",
              "      <th>PriceToVolumeRatio</th>\n",
              "    </tr>\n",
              "  </thead>\n",
              "  <tbody>\n",
              "    <tr>\n",
              "      <th>4</th>\n",
              "      <td>2022-12-23</td>\n",
              "      <td>16829.644531</td>\n",
              "      <td>0.009839</td>\n",
              "      <td>0.014555</td>\n",
              "      <td>16796.953125</td>\n",
              "      <td>16796.953125</td>\n",
              "      <td>15329265213</td>\n",
              "      <td>-0.198384</td>\n",
              "      <td>16758.162891</td>\n",
              "      <td>0.000001</td>\n",
              "    </tr>\n",
              "    <tr>\n",
              "      <th>5</th>\n",
              "      <td>2022-12-24</td>\n",
              "      <td>16796.976563</td>\n",
              "      <td>0.008396</td>\n",
              "      <td>0.014521</td>\n",
              "      <td>16847.755859</td>\n",
              "      <td>16847.755859</td>\n",
              "      <td>9744636213</td>\n",
              "      <td>0.302452</td>\n",
              "      <td>16839.778125</td>\n",
              "      <td>0.000002</td>\n",
              "    </tr>\n",
              "    <tr>\n",
              "      <th>6</th>\n",
              "      <td>2022-12-25</td>\n",
              "      <td>16847.505859</td>\n",
              "      <td>0.008248</td>\n",
              "      <td>0.013115</td>\n",
              "      <td>16841.986328</td>\n",
              "      <td>16841.986328</td>\n",
              "      <td>11656379938</td>\n",
              "      <td>-0.034245</td>\n",
              "      <td>16826.914453</td>\n",
              "      <td>0.000001</td>\n",
              "    </tr>\n",
              "    <tr>\n",
              "      <th>7</th>\n",
              "      <td>2022-12-26</td>\n",
              "      <td>16842.250000</td>\n",
              "      <td>0.010369</td>\n",
              "      <td>0.015213</td>\n",
              "      <td>16919.804688</td>\n",
              "      <td>16919.804688</td>\n",
              "      <td>11886957804</td>\n",
              "      <td>0.462050</td>\n",
              "      <td>16847.368359</td>\n",
              "      <td>0.000001</td>\n",
              "    </tr>\n",
              "    <tr>\n",
              "      <th>8</th>\n",
              "      <td>2022-12-27</td>\n",
              "      <td>16919.291016</td>\n",
              "      <td>0.011784</td>\n",
              "      <td>0.008959</td>\n",
              "      <td>16717.173828</td>\n",
              "      <td>16717.173828</td>\n",
              "      <td>15748580239</td>\n",
              "      <td>-1.197596</td>\n",
              "      <td>16824.734766</td>\n",
              "      <td>0.000001</td>\n",
              "    </tr>\n",
              "    <tr>\n",
              "      <th>...</th>\n",
              "      <td>...</td>\n",
              "      <td>...</td>\n",
              "      <td>...</td>\n",
              "      <td>...</td>\n",
              "      <td>...</td>\n",
              "      <td>...</td>\n",
              "      <td>...</td>\n",
              "      <td>...</td>\n",
              "      <td>...</td>\n",
              "      <td>...</td>\n",
              "    </tr>\n",
              "    <tr>\n",
              "      <th>361</th>\n",
              "      <td>2023-12-15</td>\n",
              "      <td>43028.250000</td>\n",
              "      <td>0.942383</td>\n",
              "      <td>0.928951</td>\n",
              "      <td>41929.757813</td>\n",
              "      <td>41929.757813</td>\n",
              "      <td>19639442462</td>\n",
              "      <td>-2.543268</td>\n",
              "      <td>42107.705469</td>\n",
              "      <td>0.000002</td>\n",
              "    </tr>\n",
              "    <tr>\n",
              "      <th>362</th>\n",
              "      <td>2023-12-16</td>\n",
              "      <td>41937.742188</td>\n",
              "      <td>0.927321</td>\n",
              "      <td>0.930058</td>\n",
              "      <td>42240.117188</td>\n",
              "      <td>42240.117188</td>\n",
              "      <td>14386729590</td>\n",
              "      <td>0.740189</td>\n",
              "      <td>42306.962500</td>\n",
              "      <td>0.000003</td>\n",
              "    </tr>\n",
              "    <tr>\n",
              "      <th>363</th>\n",
              "      <td>2023-12-17</td>\n",
              "      <td>42236.109375</td>\n",
              "      <td>0.916442</td>\n",
              "      <td>0.913584</td>\n",
              "      <td>41364.664063</td>\n",
              "      <td>41364.664063</td>\n",
              "      <td>16678702876</td>\n",
              "      <td>-2.072563</td>\n",
              "      <td>42289.850782</td>\n",
              "      <td>0.000002</td>\n",
              "    </tr>\n",
              "    <tr>\n",
              "      <th>364</th>\n",
              "      <td>2023-12-18</td>\n",
              "      <td>41348.203125</td>\n",
              "      <td>0.929293</td>\n",
              "      <td>0.886250</td>\n",
              "      <td>42623.539063</td>\n",
              "      <td>42623.539063</td>\n",
              "      <td>25224642008</td>\n",
              "      <td>3.043358</td>\n",
              "      <td>42236.410157</td>\n",
              "      <td>0.000002</td>\n",
              "    </tr>\n",
              "    <tr>\n",
              "      <th>365</th>\n",
              "      <td>2023-12-19</td>\n",
              "      <td>42641.511719</td>\n",
              "      <td>0.949265</td>\n",
              "      <td>0.934657</td>\n",
              "      <td>42150.578125</td>\n",
              "      <td>42150.578125</td>\n",
              "      <td>25344405504</td>\n",
              "      <td>-1.109624</td>\n",
              "      <td>42061.731250</td>\n",
              "      <td>0.000002</td>\n",
              "    </tr>\n",
              "  </tbody>\n",
              "</table>\n",
              "<p>362 rows × 10 columns</p>\n",
              "</div>\n",
              "    <div class=\"colab-df-buttons\">\n",
              "\n",
              "  <div class=\"colab-df-container\">\n",
              "    <button class=\"colab-df-convert\" onclick=\"convertToInteractive('df-83dc7fe7-3dd3-47ad-b233-f0e06e01e199')\"\n",
              "            title=\"Convert this dataframe to an interactive table.\"\n",
              "            style=\"display:none;\">\n",
              "\n",
              "  <svg xmlns=\"http://www.w3.org/2000/svg\" height=\"24px\" viewBox=\"0 -960 960 960\">\n",
              "    <path d=\"M120-120v-720h720v720H120Zm60-500h600v-160H180v160Zm220 220h160v-160H400v160Zm0 220h160v-160H400v160ZM180-400h160v-160H180v160Zm440 0h160v-160H620v160ZM180-180h160v-160H180v160Zm440 0h160v-160H620v160Z\"/>\n",
              "  </svg>\n",
              "    </button>\n",
              "\n",
              "  <style>\n",
              "    .colab-df-container {\n",
              "      display:flex;\n",
              "      gap: 12px;\n",
              "    }\n",
              "\n",
              "    .colab-df-convert {\n",
              "      background-color: #E8F0FE;\n",
              "      border: none;\n",
              "      border-radius: 50%;\n",
              "      cursor: pointer;\n",
              "      display: none;\n",
              "      fill: #1967D2;\n",
              "      height: 32px;\n",
              "      padding: 0 0 0 0;\n",
              "      width: 32px;\n",
              "    }\n",
              "\n",
              "    .colab-df-convert:hover {\n",
              "      background-color: #E2EBFA;\n",
              "      box-shadow: 0px 1px 2px rgba(60, 64, 67, 0.3), 0px 1px 3px 1px rgba(60, 64, 67, 0.15);\n",
              "      fill: #174EA6;\n",
              "    }\n",
              "\n",
              "    .colab-df-buttons div {\n",
              "      margin-bottom: 4px;\n",
              "    }\n",
              "\n",
              "    [theme=dark] .colab-df-convert {\n",
              "      background-color: #3B4455;\n",
              "      fill: #D2E3FC;\n",
              "    }\n",
              "\n",
              "    [theme=dark] .colab-df-convert:hover {\n",
              "      background-color: #434B5C;\n",
              "      box-shadow: 0px 1px 3px 1px rgba(0, 0, 0, 0.15);\n",
              "      filter: drop-shadow(0px 1px 2px rgba(0, 0, 0, 0.3));\n",
              "      fill: #FFFFFF;\n",
              "    }\n",
              "  </style>\n",
              "\n",
              "    <script>\n",
              "      const buttonEl =\n",
              "        document.querySelector('#df-83dc7fe7-3dd3-47ad-b233-f0e06e01e199 button.colab-df-convert');\n",
              "      buttonEl.style.display =\n",
              "        google.colab.kernel.accessAllowed ? 'block' : 'none';\n",
              "\n",
              "      async function convertToInteractive(key) {\n",
              "        const element = document.querySelector('#df-83dc7fe7-3dd3-47ad-b233-f0e06e01e199');\n",
              "        const dataTable =\n",
              "          await google.colab.kernel.invokeFunction('convertToInteractive',\n",
              "                                                    [key], {});\n",
              "        if (!dataTable) return;\n",
              "\n",
              "        const docLinkHtml = 'Like what you see? Visit the ' +\n",
              "          '<a target=\"_blank\" href=https://colab.research.google.com/notebooks/data_table.ipynb>data table notebook</a>'\n",
              "          + ' to learn more about interactive tables.';\n",
              "        element.innerHTML = '';\n",
              "        dataTable['output_type'] = 'display_data';\n",
              "        await google.colab.output.renderOutput(dataTable, element);\n",
              "        const docLink = document.createElement('div');\n",
              "        docLink.innerHTML = docLinkHtml;\n",
              "        element.appendChild(docLink);\n",
              "      }\n",
              "    </script>\n",
              "  </div>\n",
              "\n",
              "\n",
              "<div id=\"df-64635abe-d092-410a-9623-ff8af80cf8de\">\n",
              "  <button class=\"colab-df-quickchart\" onclick=\"quickchart('df-64635abe-d092-410a-9623-ff8af80cf8de')\"\n",
              "            title=\"Suggest charts\"\n",
              "            style=\"display:none;\">\n",
              "\n",
              "<svg xmlns=\"http://www.w3.org/2000/svg\" height=\"24px\"viewBox=\"0 0 24 24\"\n",
              "     width=\"24px\">\n",
              "    <g>\n",
              "        <path d=\"M19 3H5c-1.1 0-2 .9-2 2v14c0 1.1.9 2 2 2h14c1.1 0 2-.9 2-2V5c0-1.1-.9-2-2-2zM9 17H7v-7h2v7zm4 0h-2V7h2v10zm4 0h-2v-4h2v4z\"/>\n",
              "    </g>\n",
              "</svg>\n",
              "  </button>\n",
              "\n",
              "<style>\n",
              "  .colab-df-quickchart {\n",
              "      --bg-color: #E8F0FE;\n",
              "      --fill-color: #1967D2;\n",
              "      --hover-bg-color: #E2EBFA;\n",
              "      --hover-fill-color: #174EA6;\n",
              "      --disabled-fill-color: #AAA;\n",
              "      --disabled-bg-color: #DDD;\n",
              "  }\n",
              "\n",
              "  [theme=dark] .colab-df-quickchart {\n",
              "      --bg-color: #3B4455;\n",
              "      --fill-color: #D2E3FC;\n",
              "      --hover-bg-color: #434B5C;\n",
              "      --hover-fill-color: #FFFFFF;\n",
              "      --disabled-bg-color: #3B4455;\n",
              "      --disabled-fill-color: #666;\n",
              "  }\n",
              "\n",
              "  .colab-df-quickchart {\n",
              "    background-color: var(--bg-color);\n",
              "    border: none;\n",
              "    border-radius: 50%;\n",
              "    cursor: pointer;\n",
              "    display: none;\n",
              "    fill: var(--fill-color);\n",
              "    height: 32px;\n",
              "    padding: 0;\n",
              "    width: 32px;\n",
              "  }\n",
              "\n",
              "  .colab-df-quickchart:hover {\n",
              "    background-color: var(--hover-bg-color);\n",
              "    box-shadow: 0 1px 2px rgba(60, 64, 67, 0.3), 0 1px 3px 1px rgba(60, 64, 67, 0.15);\n",
              "    fill: var(--button-hover-fill-color);\n",
              "  }\n",
              "\n",
              "  .colab-df-quickchart-complete:disabled,\n",
              "  .colab-df-quickchart-complete:disabled:hover {\n",
              "    background-color: var(--disabled-bg-color);\n",
              "    fill: var(--disabled-fill-color);\n",
              "    box-shadow: none;\n",
              "  }\n",
              "\n",
              "  .colab-df-spinner {\n",
              "    border: 2px solid var(--fill-color);\n",
              "    border-color: transparent;\n",
              "    border-bottom-color: var(--fill-color);\n",
              "    animation:\n",
              "      spin 1s steps(1) infinite;\n",
              "  }\n",
              "\n",
              "  @keyframes spin {\n",
              "    0% {\n",
              "      border-color: transparent;\n",
              "      border-bottom-color: var(--fill-color);\n",
              "      border-left-color: var(--fill-color);\n",
              "    }\n",
              "    20% {\n",
              "      border-color: transparent;\n",
              "      border-left-color: var(--fill-color);\n",
              "      border-top-color: var(--fill-color);\n",
              "    }\n",
              "    30% {\n",
              "      border-color: transparent;\n",
              "      border-left-color: var(--fill-color);\n",
              "      border-top-color: var(--fill-color);\n",
              "      border-right-color: var(--fill-color);\n",
              "    }\n",
              "    40% {\n",
              "      border-color: transparent;\n",
              "      border-right-color: var(--fill-color);\n",
              "      border-top-color: var(--fill-color);\n",
              "    }\n",
              "    60% {\n",
              "      border-color: transparent;\n",
              "      border-right-color: var(--fill-color);\n",
              "    }\n",
              "    80% {\n",
              "      border-color: transparent;\n",
              "      border-right-color: var(--fill-color);\n",
              "      border-bottom-color: var(--fill-color);\n",
              "    }\n",
              "    90% {\n",
              "      border-color: transparent;\n",
              "      border-bottom-color: var(--fill-color);\n",
              "    }\n",
              "  }\n",
              "</style>\n",
              "\n",
              "  <script>\n",
              "    async function quickchart(key) {\n",
              "      const quickchartButtonEl =\n",
              "        document.querySelector('#' + key + ' button');\n",
              "      quickchartButtonEl.disabled = true;  // To prevent multiple clicks.\n",
              "      quickchartButtonEl.classList.add('colab-df-spinner');\n",
              "      try {\n",
              "        const charts = await google.colab.kernel.invokeFunction(\n",
              "            'suggestCharts', [key], {});\n",
              "      } catch (error) {\n",
              "        console.error('Error during call to suggestCharts:', error);\n",
              "      }\n",
              "      quickchartButtonEl.classList.remove('colab-df-spinner');\n",
              "      quickchartButtonEl.classList.add('colab-df-quickchart-complete');\n",
              "    }\n",
              "    (() => {\n",
              "      let quickchartButtonEl =\n",
              "        document.querySelector('#df-64635abe-d092-410a-9623-ff8af80cf8de button');\n",
              "      quickchartButtonEl.style.display =\n",
              "        google.colab.kernel.accessAllowed ? 'block' : 'none';\n",
              "    })();\n",
              "  </script>\n",
              "</div>\n",
              "\n",
              "  <div id=\"id_586c10c7-66c7-432f-afd4-397ef01b2cf8\">\n",
              "    <style>\n",
              "      .colab-df-generate {\n",
              "        background-color: #E8F0FE;\n",
              "        border: none;\n",
              "        border-radius: 50%;\n",
              "        cursor: pointer;\n",
              "        display: none;\n",
              "        fill: #1967D2;\n",
              "        height: 32px;\n",
              "        padding: 0 0 0 0;\n",
              "        width: 32px;\n",
              "      }\n",
              "\n",
              "      .colab-df-generate:hover {\n",
              "        background-color: #E2EBFA;\n",
              "        box-shadow: 0px 1px 2px rgba(60, 64, 67, 0.3), 0px 1px 3px 1px rgba(60, 64, 67, 0.15);\n",
              "        fill: #174EA6;\n",
              "      }\n",
              "\n",
              "      [theme=dark] .colab-df-generate {\n",
              "        background-color: #3B4455;\n",
              "        fill: #D2E3FC;\n",
              "      }\n",
              "\n",
              "      [theme=dark] .colab-df-generate:hover {\n",
              "        background-color: #434B5C;\n",
              "        box-shadow: 0px 1px 3px 1px rgba(0, 0, 0, 0.15);\n",
              "        filter: drop-shadow(0px 1px 2px rgba(0, 0, 0, 0.3));\n",
              "        fill: #FFFFFF;\n",
              "      }\n",
              "    </style>\n",
              "    <button class=\"colab-df-generate\" onclick=\"generateWithVariable('data')\"\n",
              "            title=\"Generate code using this dataframe.\"\n",
              "            style=\"display:none;\">\n",
              "\n",
              "  <svg xmlns=\"http://www.w3.org/2000/svg\" height=\"24px\"viewBox=\"0 0 24 24\"\n",
              "       width=\"24px\">\n",
              "    <path d=\"M7,19H8.4L18.45,9,17,7.55,7,17.6ZM5,21V16.75L18.45,3.32a2,2,0,0,1,2.83,0l1.4,1.43a1.91,1.91,0,0,1,.58,1.4,1.91,1.91,0,0,1-.58,1.4L9.25,21ZM18.45,9,17,7.55Zm-12,3A5.31,5.31,0,0,0,4.9,8.1,5.31,5.31,0,0,0,1,6.5,5.31,5.31,0,0,0,4.9,4.9,5.31,5.31,0,0,0,6.5,1,5.31,5.31,0,0,0,8.1,4.9,5.31,5.31,0,0,0,12,6.5,5.46,5.46,0,0,0,6.5,12Z\"/>\n",
              "  </svg>\n",
              "    </button>\n",
              "    <script>\n",
              "      (() => {\n",
              "      const buttonEl =\n",
              "        document.querySelector('#id_586c10c7-66c7-432f-afd4-397ef01b2cf8 button.colab-df-generate');\n",
              "      buttonEl.style.display =\n",
              "        google.colab.kernel.accessAllowed ? 'block' : 'none';\n",
              "\n",
              "      buttonEl.onclick = () => {\n",
              "        google.colab.notebook.generateWithVariable('data');\n",
              "      }\n",
              "      })();\n",
              "    </script>\n",
              "  </div>\n",
              "\n",
              "    </div>\n",
              "  </div>\n"
            ]
          },
          "metadata": {},
          "execution_count": 192
        }
      ]
    },
    {
      "cell_type": "markdown",
      "source": [
        "> Data Splitting and Model Training"
      ],
      "metadata": {
        "id": "Sp9UssBsrIYJ"
      }
    },
    {
      "cell_type": "code",
      "source": [
        "features = ['Open', 'High', 'Low', 'Volume', 'DailyReturn', 'MovingAverage', 'PriceToVolumeRatio']\n",
        "X = data[features]\n",
        "Y = data['Close']\n",
        "print(X.columns)\n",
        "print(Y.name)"
      ],
      "metadata": {
        "colab": {
          "base_uri": "https://localhost:8080/"
        },
        "outputId": "4afbd942-9096-400a-9704-b90e8eca405d",
        "id": "K4SjS4pgrIYJ"
      },
      "execution_count": 193,
      "outputs": [
        {
          "output_type": "stream",
          "name": "stdout",
          "text": [
            "Index(['Open', 'High', 'Low', 'Volume', 'DailyReturn', 'MovingAverage',\n",
            "       'PriceToVolumeRatio'],\n",
            "      dtype='object')\n",
            "Close\n"
          ]
        }
      ]
    },
    {
      "cell_type": "code",
      "source": [
        "imputer = SimpleImputer(strategy='mean')\n",
        "X = imputer.fit_transform(X)"
      ],
      "metadata": {
        "id": "QmuuDAxbrIYJ"
      },
      "execution_count": 194,
      "outputs": []
    },
    {
      "cell_type": "code",
      "source": [
        "X_train, X_test, y_train, y_test = train_test_split(X, Y, test_size=0.2, random_state=42)\n",
        "print(\"X_train shape:\", X_train.shape)\n",
        "print(\"X_test shape:\", X_test.shape)\n",
        "print(\"y_train shape:\", y_train.shape)\n",
        "print(\"y_test shape:\", y_test.shape)"
      ],
      "metadata": {
        "colab": {
          "base_uri": "https://localhost:8080/"
        },
        "outputId": "c593fc71-3d56-43a9-eb8b-946778a28e93",
        "id": "J9AMirLTrIYJ"
      },
      "execution_count": 195,
      "outputs": [
        {
          "output_type": "stream",
          "name": "stdout",
          "text": [
            "X_train shape: (289, 7)\n",
            "X_test shape: (73, 7)\n",
            "y_train shape: (289,)\n",
            "y_test shape: (73,)\n"
          ]
        }
      ]
    },
    {
      "cell_type": "code",
      "source": [
        "model = KNeighborsRegressor(n_neighbors=5)"
      ],
      "metadata": {
        "id": "PTq0ZfDrrIYK"
      },
      "execution_count": 196,
      "outputs": []
    },
    {
      "cell_type": "markdown",
      "source": [
        "> Model Evaluation"
      ],
      "metadata": {
        "id": "DdGS6ObbrIYK"
      }
    },
    {
      "cell_type": "code",
      "source": [
        "model.fit(X_train, y_train)\n",
        "predictions = model.predict(X_test)\n",
        "predictions"
      ],
      "metadata": {
        "colab": {
          "base_uri": "https://localhost:8080/"
        },
        "outputId": "dd4ccb1a-ab89-47d2-e09c-e79ee153cc2e",
        "id": "RHaT751TrIYK"
      },
      "execution_count": 197,
      "outputs": [
        {
          "output_type": "execute_result",
          "data": {
            "text/plain": [
              "array([29571.0156252, 23985.204297 , 28219.8890628, 26676.7347656,\n",
              "       29831.9519532, 30464.5976566, 27847.2226564, 30738.700781 ,\n",
              "       27832.6265626, 31944.6960938, 27206.753125 , 26676.7347656,\n",
              "       27089.8589844, 36628.503125 , 27233.3253906, 27238.815625 ,\n",
              "       27415.023828 , 26160.6097656, 32437.811719 , 31157.1246096,\n",
              "       30635.2007814, 25281.1023438, 28247.8019532, 27700.346875 ,\n",
              "       26676.7347656, 30700.8101564, 27128.6621094, 27031.3660158,\n",
              "       27080.9558594, 23107.6933594, 35607.3890626, 27708.6039064,\n",
              "       30947.2867188, 27124.0515624, 27122.5679688, 29753.7832032,\n",
              "       26331.2265628, 36628.503125 , 27238.815625 , 25160.9488282,\n",
              "       30635.2007814, 24325.4601562, 34779.9734376, 27978.0679688,\n",
              "       25187.2636718, 36628.503125 , 28898.6980472, 32807.5011718,\n",
              "       29929.0074218, 32437.811719 , 27832.6265626, 28740.7902346,\n",
              "       28384.3296874, 28220.5421878, 28020.1847656, 32827.1222658,\n",
              "       27122.5679688, 30051.5839844, 29785.3464842, 36628.503125 ,\n",
              "       25298.6761718, 30900.1089846, 28059.7910158, 27124.0515624,\n",
              "       27807.94375  , 34016.683203 , 28177.7453126, 23362.546094 ,\n",
              "       27124.0515624, 32039.2726562, 26349.6214844, 30738.700781 ,\n",
              "       28354.4843748])"
            ]
          },
          "metadata": {},
          "execution_count": 197
        }
      ]
    },
    {
      "cell_type": "code",
      "source": [
        "print(\"Performance (R^2): \", model.score(X_train, y_train))"
      ],
      "metadata": {
        "colab": {
          "base_uri": "https://localhost:8080/"
        },
        "outputId": "9182fcd4-464d-4970-cdea-19496e7ded55",
        "id": "8on1CHfIrIYK"
      },
      "execution_count": 198,
      "outputs": [
        {
          "output_type": "stream",
          "name": "stdout",
          "text": [
            "Performance (R^2):  0.26154890930571784\n"
          ]
        }
      ]
    },
    {
      "cell_type": "code",
      "source": [
        "mse = mean_squared_error(y_test, predictions)\n",
        "print(f'Mean Squared Error: {mse}')"
      ],
      "metadata": {
        "colab": {
          "base_uri": "https://localhost:8080/"
        },
        "outputId": "3b78ad07-6ea6-43aa-87b2-e909661b3d76",
        "id": "8Lu0kszArIYK"
      },
      "execution_count": 199,
      "outputs": [
        {
          "output_type": "stream",
          "name": "stdout",
          "text": [
            "Mean Squared Error: 53794226.61303316\n"
          ]
        }
      ]
    },
    {
      "cell_type": "code",
      "source": [
        "# Calculate Mean Absolute Error\n",
        "mae = mean_absolute_error(y_test, predictions)\n",
        "print(f'Mean Absolute Error: {mae:.2f}')"
      ],
      "metadata": {
        "colab": {
          "base_uri": "https://localhost:8080/"
        },
        "id": "C3AEHGsqN_SS",
        "outputId": "f72f5830-d4f7-4741-a21d-06e8b5a35bfc"
      },
      "execution_count": 200,
      "outputs": [
        {
          "output_type": "stream",
          "name": "stdout",
          "text": [
            "Mean Absolute Error: 5279.75\n"
          ]
        }
      ]
    },
    {
      "cell_type": "code",
      "source": [
        "# Calculate R-squared\n",
        "r2 = r2_score(y_test, predictions)\n",
        "print(f'R-squared: {r2:.2f}')"
      ],
      "metadata": {
        "colab": {
          "base_uri": "https://localhost:8080/"
        },
        "id": "pUAKmOEBODGk",
        "outputId": "e1c1da32-28e3-4684-c595-3effa2f228f9"
      },
      "execution_count": 201,
      "outputs": [
        {
          "output_type": "stream",
          "name": "stdout",
          "text": [
            "R-squared: -0.61\n"
          ]
        }
      ]
    },
    {
      "cell_type": "code",
      "source": [
        "df_results = pd.DataFrame({'Date': pd.to_datetime(y_test.index, format='%Y-%m-%d'),\n",
        "                           'Actual_Close': y_test.values,\n",
        "                           'Predicted_Close': predictions})\n",
        "\n",
        "# Display the new DataFrame\n",
        "print(df_results)"
      ],
      "metadata": {
        "colab": {
          "base_uri": "https://localhost:8080/"
        },
        "outputId": "1db478a6-c2a1-4a81-f862-a73c6ed93e65",
        "id": "sxX4LmGfrIYK"
      },
      "execution_count": 202,
      "outputs": [
        {
          "output_type": "stream",
          "name": "stdout",
          "text": [
            "                            Date  Actual_Close  Predicted_Close\n",
            "0  1970-01-01 00:00:00.000000167  27119.066406     29571.015625\n",
            "1  1970-01-01 00:00:00.000000037  23117.859375     23985.204297\n",
            "2  1970-01-01 00:00:00.000000019  16955.078125     28219.889063\n",
            "3  1970-01-01 00:00:00.000000326  37313.968750     26676.734766\n",
            "4  1970-01-01 00:00:00.000000061  24641.277344     29831.951953\n",
            "..                           ...           ...              ...\n",
            "68 1970-01-01 00:00:00.000000301  28519.466797     27124.051562\n",
            "69 1970-01-01 00:00:00.000000086  24375.960938     32039.272656\n",
            "70 1970-01-01 00:00:00.000000098  27139.888672     26349.621484\n",
            "71 1970-01-01 00:00:00.000000345  37858.492188     30738.700781\n",
            "72 1970-01-01 00:00:00.000000307  29993.896484     28354.484375\n",
            "\n",
            "[73 rows x 3 columns]\n"
          ]
        }
      ]
    },
    {
      "cell_type": "code",
      "source": [
        "df_results[['Actual_Close', 'Predicted_Close']].plot()"
      ],
      "metadata": {
        "colab": {
          "base_uri": "https://localhost:8080/",
          "height": 447
        },
        "outputId": "ac20a5db-9bbb-45a5-c520-92e373c3185a",
        "id": "t-QHs_nvrIYK"
      },
      "execution_count": 203,
      "outputs": [
        {
          "output_type": "execute_result",
          "data": {
            "text/plain": [
              "<Axes: >"
            ]
          },
          "metadata": {},
          "execution_count": 203
        },
        {
          "output_type": "display_data",
          "data": {
            "text/plain": [
              "<Figure size 640x480 with 1 Axes>"
            ],
            "image/png": "[encoded data removed]"
          },
          "metadata": {}
        }
      ]
    },
    {
      "cell_type": "code",
      "source": [
        "plt.figure(figsize=(8, 6))\n",
        "plt.scatter(y_test, predictions, color='blue', alpha=0.5)\n",
        "plt.plot([min(y_test), max(y_test)], [min(y_test), max(y_test)],linestyle='--', color='red', linewidth=2)\n",
        "plt.title('Actual vs. Predicted Values')\n",
        "plt.xlabel('Actual Values')\n",
        "plt.ylabel('Predicted Values')\n",
        "plt.show()"
      ],
      "metadata": {
        "colab": {
          "base_uri": "https://localhost:8080/",
          "height": 564
        },
        "id": "Bx3bDRdMOI7L",
        "outputId": "820f4756-b1fa-4d44-ddaa-d3e94aca6cde"
      },
      "execution_count": 204,
      "outputs": [
        {
          "output_type": "display_data",
          "data": {
            "text/plain": [
              "<Figure size 800x600 with 1 Axes>"
            ],
            "image/png": "[encoded data removed]"
          },
          "metadata": {}
        }
      ]
    },
    {
      "cell_type": "markdown",
      "source": [
        "*** Binance Dataset***\n",
        "\n",
        "> In this project, I select  Binance datasets which play a crucial role as they form the foundation for training and evaluating machine learning models i.e KNN algorithm for stock market price prediction. Dataset represents historical stock market data for different assets, and understanding their characteristics is vital for building effective predictive models.\n",
        "\n",
        "\n",
        "> Features of dataset\n",
        "* Date: Essential for organizing data chronologically and identifying trends over time.\n",
        "* Open: The opening price of Datasets on a given day.\n",
        "* High: The highest price of Datasets on a given day.\n",
        "* Low: The lowest price of Datasets on a given day.\n",
        "* Close: The closing price of Datasets on a given day.\n",
        "* Adj Close: The adjusted closing price of Datasets on a given day, considering dividends, stock splits, etc.\n",
        "* Volume: The volume of Datasets traded on a given day.\n",
        "\n",
        "\n",
        "\n",
        "\n",
        "\n"
      ],
      "metadata": {
        "id": "hkxB5IqKrqtE"
      }
    },
    {
      "cell_type": "markdown",
      "source": [
        "*Load the dataset*"
      ],
      "metadata": {
        "id": "beT0ToQurqtE"
      }
    },
    {
      "cell_type": "code",
      "source": [
        "data = pd.read_csv('BNB-USD.csv')\n",
        "print(data)"
      ],
      "metadata": {
        "colab": {
          "base_uri": "https://localhost:8080/"
        },
        "outputId": "3c0633f8-44b8-4d31-eb8e-44531b4715b1",
        "id": "6Jwi55pOrqtE"
      },
      "execution_count": 205,
      "outputs": [
        {
          "output_type": "stream",
          "name": "stdout",
          "text": [
            "           Date        Open        High         Low       Close   Adj Close  \\\n",
            "0    2022-12-19  251.242676  252.933014  238.650787  240.657806  240.657806   \n",
            "1    2022-12-20  240.668228  252.628662  239.801437  251.744537  251.744537   \n",
            "2    2022-12-21  251.694321  251.694321  245.757248  246.046982  246.046982   \n",
            "3    2022-12-22  246.068329  248.032028  240.483200  245.890625  245.890625   \n",
            "4    2022-12-23  245.894135  248.274719  244.452942  246.148178  246.148178   \n",
            "..          ...         ...         ...         ...         ...         ...   \n",
            "361  2023-12-15  253.517441  253.549713  243.867371  244.898438  244.898438   \n",
            "362  2023-12-16  244.896423  248.086380  243.450653  244.350967  244.350967   \n",
            "363  2023-12-17  244.350708  244.432175  239.230637  239.308289  239.308289   \n",
            "364  2023-12-18  239.247147  241.348434  232.752808  241.348434  241.348434   \n",
            "365  2023-12-19  241.347687  253.778625  241.347687  253.105240  253.105240   \n",
            "\n",
            "         Volume  \n",
            "0     751196285  \n",
            "1     667866377  \n",
            "2     479296549  \n",
            "3     543367184  \n",
            "4     388929772  \n",
            "..          ...  \n",
            "361   769388533  \n",
            "362   651447427  \n",
            "363   650163942  \n",
            "364   871708609  \n",
            "365  1226686976  \n",
            "\n",
            "[366 rows x 7 columns]\n"
          ]
        }
      ]
    },
    {
      "cell_type": "markdown",
      "source": [
        "*Quick peek at functions:*"
      ],
      "metadata": {
        "id": "TuELyIAyrqtE"
      }
    },
    {
      "cell_type": "code",
      "source": [
        "data.shape"
      ],
      "metadata": {
        "colab": {
          "base_uri": "https://localhost:8080/"
        },
        "outputId": "0906b8cd-1f1b-41be-b731-77edec392f30",
        "id": "38LdjY-orqtE"
      },
      "execution_count": 206,
      "outputs": [
        {
          "output_type": "execute_result",
          "data": {
            "text/plain": [
              "(366, 7)"
            ]
          },
          "metadata": {},
          "execution_count": 206
        }
      ]
    },
    {
      "cell_type": "code",
      "source": [
        "data.columns"
      ],
      "metadata": {
        "colab": {
          "base_uri": "https://localhost:8080/"
        },
        "outputId": "dcab2aa1-856a-41ed-fefb-2fdf26ccf425",
        "id": "pzw7DTy1rqtF"
      },
      "execution_count": 207,
      "outputs": [
        {
          "output_type": "execute_result",
          "data": {
            "text/plain": [
              "Index(['Date', 'Open', 'High', 'Low', 'Close', 'Adj Close', 'Volume'], dtype='object')"
            ]
          },
          "metadata": {},
          "execution_count": 207
        }
      ]
    },
    {
      "cell_type": "code",
      "source": [
        "print(data.describe())"
      ],
      "metadata": {
        "colab": {
          "base_uri": "https://localhost:8080/"
        },
        "outputId": "db782848-c3cd-4114-c2ef-e5bba41428fa",
        "id": "WfMnGtAGrqtF"
      },
      "execution_count": 208,
      "outputs": [
        {
          "output_type": "stream",
          "name": "stdout",
          "text": [
            "             Open        High         Low       Close   Adj Close  \\\n",
            "count  366.000000  366.000000  366.000000  366.000000  366.000000   \n",
            "mean   265.041061  269.089091  261.058403  265.037719  265.037719   \n",
            "std     41.667309   42.656486   40.717153   41.663551   41.663551   \n",
            "min    205.225800  206.659103  203.655441  205.229416  205.229416   \n",
            "25%    231.900402  236.389728  228.605893  231.913357  231.913357   \n",
            "50%    246.355537  251.505004  242.926544  246.388756  246.388756   \n",
            "75%    308.557312  313.169899  304.356903  308.555268  308.555268   \n",
            "max    348.175751  350.072296  338.260620  348.220917  348.220917   \n",
            "\n",
            "             Volume  \n",
            "count  3.660000e+02  \n",
            "mean   5.566887e+08  \n",
            "std    2.657211e+08  \n",
            "min    2.038465e+08  \n",
            "25%    3.765235e+08  \n",
            "50%    4.849198e+08  \n",
            "75%    6.678265e+08  \n",
            "max    2.480554e+09  \n"
          ]
        }
      ]
    },
    {
      "cell_type": "code",
      "source": [
        "print(data.info())"
      ],
      "metadata": {
        "colab": {
          "base_uri": "https://localhost:8080/"
        },
        "outputId": "ee5d4630-f109-4fa6-9dbc-4b36524bcc13",
        "id": "DURghMB8rqtF"
      },
      "execution_count": 209,
      "outputs": [
        {
          "output_type": "stream",
          "name": "stdout",
          "text": [
            "<class 'pandas.core.frame.DataFrame'>\n",
            "RangeIndex: 366 entries, 0 to 365\n",
            "Data columns (total 7 columns):\n",
            " #   Column     Non-Null Count  Dtype  \n",
            "---  ------     --------------  -----  \n",
            " 0   Date       366 non-null    object \n",
            " 1   Open       366 non-null    float64\n",
            " 2   High       366 non-null    float64\n",
            " 3   Low        366 non-null    float64\n",
            " 4   Close      366 non-null    float64\n",
            " 5   Adj Close  366 non-null    float64\n",
            " 6   Volume     366 non-null    int64  \n",
            "dtypes: float64(5), int64(1), object(1)\n",
            "memory usage: 20.1+ KB\n",
            "None\n"
          ]
        }
      ]
    },
    {
      "cell_type": "markdown",
      "source": [
        "*Data Preprocessing*\n",
        "\n",
        "> Handling Missing Values:\n",
        "\n"
      ],
      "metadata": {
        "id": "cFoHwJA_rqtF"
      }
    },
    {
      "cell_type": "code",
      "source": [
        "missing_values = data.isnull().sum()\n",
        "print(\"Missing Values:\\n\", missing_values)\n",
        "data = data.dropna()\n",
        "print(\"Missing Values After Handling:\\n\", data.isnull().sum())"
      ],
      "metadata": {
        "colab": {
          "base_uri": "https://localhost:8080/"
        },
        "outputId": "08e6ccc8-0e32-45df-fef2-4dd8e4d63882",
        "id": "1pfLfkXGrqtF"
      },
      "execution_count": 210,
      "outputs": [
        {
          "output_type": "stream",
          "name": "stdout",
          "text": [
            "Missing Values:\n",
            " Date         0\n",
            "Open         0\n",
            "High         0\n",
            "Low          0\n",
            "Close        0\n",
            "Adj Close    0\n",
            "Volume       0\n",
            "dtype: int64\n",
            "Missing Values After Handling:\n",
            " Date         0\n",
            "Open         0\n",
            "High         0\n",
            "Low          0\n",
            "Close        0\n",
            "Adj Close    0\n",
            "Volume       0\n",
            "dtype: int64\n"
          ]
        }
      ]
    },
    {
      "cell_type": "markdown",
      "source": [
        "\n",
        "\n",
        "> Feature Scaling\n",
        "\n"
      ],
      "metadata": {
        "id": "ofNv61horqtF"
      }
    },
    {
      "cell_type": "code",
      "source": [
        "from sklearn.preprocessing import MinMaxScaler\n",
        "scaler = MinMaxScaler()\n",
        "data[['High']] = scaler.fit_transform(data[['High']])\n",
        "data[['Low']] = scaler.fit_transform(data[['Low']])\n",
        "data"
      ],
      "metadata": {
        "colab": {
          "base_uri": "https://localhost:8080/",
          "height": 424
        },
        "outputId": "b4a34e6e-8c6f-47d5-8acb-800a74cdd7a1",
        "id": "KEBXnmkYrqtF"
      },
      "execution_count": 211,
      "outputs": [
        {
          "output_type": "execute_result",
          "data": {
            "text/plain": [
              "           Date        Open      High       Low       Close   Adj Close  \\\n",
              "0    2022-12-19  251.242676  0.322661  0.259985  240.657806  240.657806   \n",
              "1    2022-12-20  240.668228  0.320539  0.268533  251.744537  251.744537   \n",
              "2    2022-12-21  251.694321  0.314024  0.312780  246.046982  246.046982   \n",
              "3    2022-12-22  246.068329  0.288488  0.273598  245.890625  245.890625   \n",
              "4    2022-12-23  245.894135  0.290180  0.303090  246.148178  246.148178   \n",
              "..          ...         ...       ...       ...         ...         ...   \n",
              "361  2023-12-15  253.517441  0.326962  0.298740  244.898438  244.898438   \n",
              "362  2023-12-16  244.896423  0.288867  0.295644  244.350967  244.350967   \n",
              "363  2023-12-17  244.350708  0.263386  0.264293  239.308289  239.308289   \n",
              "364  2023-12-18  239.247147  0.241884  0.216168  241.348434  241.348434   \n",
              "365  2023-12-19  241.347687  0.328558  0.280021  253.105240  253.105240   \n",
              "\n",
              "         Volume  \n",
              "0     751196285  \n",
              "1     667866377  \n",
              "2     479296549  \n",
              "3     543367184  \n",
              "4     388929772  \n",
              "..          ...  \n",
              "361   769388533  \n",
              "362   651447427  \n",
              "363   650163942  \n",
              "364   871708609  \n",
              "365  1226686976  \n",
              "\n",
              "[366 rows x 7 columns]"
            ],
            "text/html": [
              "\n",
              "  <div id=\"df-a0271826-843b-4bfd-9368-09f312a5bd1f\" class=\"colab-df-container\">\n",
              "    <div>\n",
              "<style scoped>\n",
              "    .dataframe tbody tr th:only-of-type {\n",
              "        vertical-align: middle;\n",
              "    }\n",
              "\n",
              "    .dataframe tbody tr th {\n",
              "        vertical-align: top;\n",
              "    }\n",
              "\n",
              "    .dataframe thead th {\n",
              "        text-align: right;\n",
              "    }\n",
              "</style>\n",
              "<table border=\"1\" class=\"dataframe\">\n",
              "  <thead>\n",
              "    <tr style=\"text-align: right;\">\n",
              "      <th></th>\n",
              "      <th>Date</th>\n",
              "      <th>Open</th>\n",
              "      <th>High</th>\n",
              "      <th>Low</th>\n",
              "      <th>Close</th>\n",
              "      <th>Adj Close</th>\n",
              "      <th>Volume</th>\n",
              "    </tr>\n",
              "  </thead>\n",
              "  <tbody>\n",
              "    <tr>\n",
              "      <th>0</th>\n",
              "      <td>2022-12-19</td>\n",
              "      <td>251.242676</td>\n",
              "      <td>0.322661</td>\n",
              "      <td>0.259985</td>\n",
              "      <td>240.657806</td>\n",
              "      <td>240.657806</td>\n",
              "      <td>751196285</td>\n",
              "    </tr>\n",
              "    <tr>\n",
              "      <th>1</th>\n",
              "      <td>2022-12-20</td>\n",
              "      <td>240.668228</td>\n",
              "      <td>0.320539</td>\n",
              "      <td>0.268533</td>\n",
              "      <td>251.744537</td>\n",
              "      <td>251.744537</td>\n",
              "      <td>667866377</td>\n",
              "    </tr>\n",
              "    <tr>\n",
              "      <th>2</th>\n",
              "      <td>2022-12-21</td>\n",
              "      <td>251.694321</td>\n",
              "      <td>0.314024</td>\n",
              "      <td>0.312780</td>\n",
              "      <td>246.046982</td>\n",
              "      <td>246.046982</td>\n",
              "      <td>479296549</td>\n",
              "    </tr>\n",
              "    <tr>\n",
              "      <th>3</th>\n",
              "      <td>2022-12-22</td>\n",
              "      <td>246.068329</td>\n",
              "      <td>0.288488</td>\n",
              "      <td>0.273598</td>\n",
              "      <td>245.890625</td>\n",
              "      <td>245.890625</td>\n",
              "      <td>543367184</td>\n",
              "    </tr>\n",
              "    <tr>\n",
              "      <th>4</th>\n",
              "      <td>2022-12-23</td>\n",
              "      <td>245.894135</td>\n",
              "      <td>0.290180</td>\n",
              "      <td>0.303090</td>\n",
              "      <td>246.148178</td>\n",
              "      <td>246.148178</td>\n",
              "      <td>388929772</td>\n",
              "    </tr>\n",
              "    <tr>\n",
              "      <th>...</th>\n",
              "      <td>...</td>\n",
              "      <td>...</td>\n",
              "      <td>...</td>\n",
              "      <td>...</td>\n",
              "      <td>...</td>\n",
              "      <td>...</td>\n",
              "      <td>...</td>\n",
              "    </tr>\n",
              "    <tr>\n",
              "      <th>361</th>\n",
              "      <td>2023-12-15</td>\n",
              "      <td>253.517441</td>\n",
              "      <td>0.326962</td>\n",
              "      <td>0.298740</td>\n",
              "      <td>244.898438</td>\n",
              "      <td>244.898438</td>\n",
              "      <td>769388533</td>\n",
              "    </tr>\n",
              "    <tr>\n",
              "      <th>362</th>\n",
              "      <td>2023-12-16</td>\n",
              "      <td>244.896423</td>\n",
              "      <td>0.288867</td>\n",
              "      <td>0.295644</td>\n",
              "      <td>244.350967</td>\n",
              "      <td>244.350967</td>\n",
              "      <td>651447427</td>\n",
              "    </tr>\n",
              "    <tr>\n",
              "      <th>363</th>\n",
              "      <td>2023-12-17</td>\n",
              "      <td>244.350708</td>\n",
              "      <td>0.263386</td>\n",
              "      <td>0.264293</td>\n",
              "      <td>239.308289</td>\n",
              "      <td>239.308289</td>\n",
              "      <td>650163942</td>\n",
              "    </tr>\n",
              "    <tr>\n",
              "      <th>364</th>\n",
              "      <td>2023-12-18</td>\n",
              "      <td>239.247147</td>\n",
              "      <td>0.241884</td>\n",
              "      <td>0.216168</td>\n",
              "      <td>241.348434</td>\n",
              "      <td>241.348434</td>\n",
              "      <td>871708609</td>\n",
              "    </tr>\n",
              "    <tr>\n",
              "      <th>365</th>\n",
              "      <td>2023-12-19</td>\n",
              "      <td>241.347687</td>\n",
              "      <td>0.328558</td>\n",
              "      <td>0.280021</td>\n",
              "      <td>253.105240</td>\n",
              "      <td>253.105240</td>\n",
              "      <td>1226686976</td>\n",
              "    </tr>\n",
              "  </tbody>\n",
              "</table>\n",
              "<p>366 rows × 7 columns</p>\n",
              "</div>\n",
              "    <div class=\"colab-df-buttons\">\n",
              "\n",
              "  <div class=\"colab-df-container\">\n",
              "    <button class=\"colab-df-convert\" onclick=\"convertToInteractive('df-a0271826-843b-4bfd-9368-09f312a5bd1f')\"\n",
              "            title=\"Convert this dataframe to an interactive table.\"\n",
              "            style=\"display:none;\">\n",
              "\n",
              "  <svg xmlns=\"http://www.w3.org/2000/svg\" height=\"24px\" viewBox=\"0 -960 960 960\">\n",
              "    <path d=\"M120-120v-720h720v720H120Zm60-500h600v-160H180v160Zm220 220h160v-160H400v160Zm0 220h160v-160H400v160ZM180-400h160v-160H180v160Zm440 0h160v-160H620v160ZM180-180h160v-160H180v160Zm440 0h160v-160H620v160Z\"/>\n",
              "  </svg>\n",
              "    </button>\n",
              "\n",
              "  <style>\n",
              "    .colab-df-container {\n",
              "      display:flex;\n",
              "      gap: 12px;\n",
              "    }\n",
              "\n",
              "    .colab-df-convert {\n",
              "      background-color: #E8F0FE;\n",
              "      border: none;\n",
              "      border-radius: 50%;\n",
              "      cursor: pointer;\n",
              "      display: none;\n",
              "      fill: #1967D2;\n",
              "      height: 32px;\n",
              "      padding: 0 0 0 0;\n",
              "      width: 32px;\n",
              "    }\n",
              "\n",
              "    .colab-df-convert:hover {\n",
              "      background-color: #E2EBFA;\n",
              "      box-shadow: 0px 1px 2px rgba(60, 64, 67, 0.3), 0px 1px 3px 1px rgba(60, 64, 67, 0.15);\n",
              "      fill: #174EA6;\n",
              "    }\n",
              "\n",
              "    .colab-df-buttons div {\n",
              "      margin-bottom: 4px;\n",
              "    }\n",
              "\n",
              "    [theme=dark] .colab-df-convert {\n",
              "      background-color: #3B4455;\n",
              "      fill: #D2E3FC;\n",
              "    }\n",
              "\n",
              "    [theme=dark] .colab-df-convert:hover {\n",
              "      background-color: #434B5C;\n",
              "      box-shadow: 0px 1px 3px 1px rgba(0, 0, 0, 0.15);\n",
              "      filter: drop-shadow(0px 1px 2px rgba(0, 0, 0, 0.3));\n",
              "      fill: #FFFFFF;\n",
              "    }\n",
              "  </style>\n",
              "\n",
              "    <script>\n",
              "      const buttonEl =\n",
              "        document.querySelector('#df-a0271826-843b-4bfd-9368-09f312a5bd1f button.colab-df-convert');\n",
              "      buttonEl.style.display =\n",
              "        google.colab.kernel.accessAllowed ? 'block' : 'none';\n",
              "\n",
              "      async function convertToInteractive(key) {\n",
              "        const element = document.querySelector('#df-a0271826-843b-4bfd-9368-09f312a5bd1f');\n",
              "        const dataTable =\n",
              "          await google.colab.kernel.invokeFunction('convertToInteractive',\n",
              "                                                    [key], {});\n",
              "        if (!dataTable) return;\n",
              "\n",
              "        const docLinkHtml = 'Like what you see? Visit the ' +\n",
              "          '<a target=\"_blank\" href=https://colab.research.google.com/notebooks/data_table.ipynb>data table notebook</a>'\n",
              "          + ' to learn more about interactive tables.';\n",
              "        element.innerHTML = '';\n",
              "        dataTable['output_type'] = 'display_data';\n",
              "        await google.colab.output.renderOutput(dataTable, element);\n",
              "        const docLink = document.createElement('div');\n",
              "        docLink.innerHTML = docLinkHtml;\n",
              "        element.appendChild(docLink);\n",
              "      }\n",
              "    </script>\n",
              "  </div>\n",
              "\n",
              "\n",
              "<div id=\"df-42e3ed78-1581-4ce4-8f12-e65c4fd3b0ab\">\n",
              "  <button class=\"colab-df-quickchart\" onclick=\"quickchart('df-42e3ed78-1581-4ce4-8f12-e65c4fd3b0ab')\"\n",
              "            title=\"Suggest charts\"\n",
              "            style=\"display:none;\">\n",
              "\n",
              "<svg xmlns=\"http://www.w3.org/2000/svg\" height=\"24px\"viewBox=\"0 0 24 24\"\n",
              "     width=\"24px\">\n",
              "    <g>\n",
              "        <path d=\"M19 3H5c-1.1 0-2 .9-2 2v14c0 1.1.9 2 2 2h14c1.1 0 2-.9 2-2V5c0-1.1-.9-2-2-2zM9 17H7v-7h2v7zm4 0h-2V7h2v10zm4 0h-2v-4h2v4z\"/>\n",
              "    </g>\n",
              "</svg>\n",
              "  </button>\n",
              "\n",
              "<style>\n",
              "  .colab-df-quickchart {\n",
              "      --bg-color: #E8F0FE;\n",
              "      --fill-color: #1967D2;\n",
              "      --hover-bg-color: #E2EBFA;\n",
              "      --hover-fill-color: #174EA6;\n",
              "      --disabled-fill-color: #AAA;\n",
              "      --disabled-bg-color: #DDD;\n",
              "  }\n",
              "\n",
              "  [theme=dark] .colab-df-quickchart {\n",
              "      --bg-color: #3B4455;\n",
              "      --fill-color: #D2E3FC;\n",
              "      --hover-bg-color: #434B5C;\n",
              "      --hover-fill-color: #FFFFFF;\n",
              "      --disabled-bg-color: #3B4455;\n",
              "      --disabled-fill-color: #666;\n",
              "  }\n",
              "\n",
              "  .colab-df-quickchart {\n",
              "    background-color: var(--bg-color);\n",
              "    border: none;\n",
              "    border-radius: 50%;\n",
              "    cursor: pointer;\n",
              "    display: none;\n",
              "    fill: var(--fill-color);\n",
              "    height: 32px;\n",
              "    padding: 0;\n",
              "    width: 32px;\n",
              "  }\n",
              "\n",
              "  .colab-df-quickchart:hover {\n",
              "    background-color: var(--hover-bg-color);\n",
              "    box-shadow: 0 1px 2px rgba(60, 64, 67, 0.3), 0 1px 3px 1px rgba(60, 64, 67, 0.15);\n",
              "    fill: var(--button-hover-fill-color);\n",
              "  }\n",
              "\n",
              "  .colab-df-quickchart-complete:disabled,\n",
              "  .colab-df-quickchart-complete:disabled:hover {\n",
              "    background-color: var(--disabled-bg-color);\n",
              "    fill: var(--disabled-fill-color);\n",
              "    box-shadow: none;\n",
              "  }\n",
              "\n",
              "  .colab-df-spinner {\n",
              "    border: 2px solid var(--fill-color);\n",
              "    border-color: transparent;\n",
              "    border-bottom-color: var(--fill-color);\n",
              "    animation:\n",
              "      spin 1s steps(1) infinite;\n",
              "  }\n",
              "\n",
              "  @keyframes spin {\n",
              "    0% {\n",
              "      border-color: transparent;\n",
              "      border-bottom-color: var(--fill-color);\n",
              "      border-left-color: var(--fill-color);\n",
              "    }\n",
              "    20% {\n",
              "      border-color: transparent;\n",
              "      border-left-color: var(--fill-color);\n",
              "      border-top-color: var(--fill-color);\n",
              "    }\n",
              "    30% {\n",
              "      border-color: transparent;\n",
              "      border-left-color: var(--fill-color);\n",
              "      border-top-color: var(--fill-color);\n",
              "      border-right-color: var(--fill-color);\n",
              "    }\n",
              "    40% {\n",
              "      border-color: transparent;\n",
              "      border-right-color: var(--fill-color);\n",
              "      border-top-color: var(--fill-color);\n",
              "    }\n",
              "    60% {\n",
              "      border-color: transparent;\n",
              "      border-right-color: var(--fill-color);\n",
              "    }\n",
              "    80% {\n",
              "      border-color: transparent;\n",
              "      border-right-color: var(--fill-color);\n",
              "      border-bottom-color: var(--fill-color);\n",
              "    }\n",
              "    90% {\n",
              "      border-color: transparent;\n",
              "      border-bottom-color: var(--fill-color);\n",
              "    }\n",
              "  }\n",
              "</style>\n",
              "\n",
              "  <script>\n",
              "    async function quickchart(key) {\n",
              "      const quickchartButtonEl =\n",
              "        document.querySelector('#' + key + ' button');\n",
              "      quickchartButtonEl.disabled = true;  // To prevent multiple clicks.\n",
              "      quickchartButtonEl.classList.add('colab-df-spinner');\n",
              "      try {\n",
              "        const charts = await google.colab.kernel.invokeFunction(\n",
              "            'suggestCharts', [key], {});\n",
              "      } catch (error) {\n",
              "        console.error('Error during call to suggestCharts:', error);\n",
              "      }\n",
              "      quickchartButtonEl.classList.remove('colab-df-spinner');\n",
              "      quickchartButtonEl.classList.add('colab-df-quickchart-complete');\n",
              "    }\n",
              "    (() => {\n",
              "      let quickchartButtonEl =\n",
              "        document.querySelector('#df-42e3ed78-1581-4ce4-8f12-e65c4fd3b0ab button');\n",
              "      quickchartButtonEl.style.display =\n",
              "        google.colab.kernel.accessAllowed ? 'block' : 'none';\n",
              "    })();\n",
              "  </script>\n",
              "</div>\n",
              "\n",
              "  <div id=\"id_c6077567-4e43-48a8-a975-275d0c3591b7\">\n",
              "    <style>\n",
              "      .colab-df-generate {\n",
              "        background-color: #E8F0FE;\n",
              "        border: none;\n",
              "        border-radius: 50%;\n",
              "        cursor: pointer;\n",
              "        display: none;\n",
              "        fill: #1967D2;\n",
              "        height: 32px;\n",
              "        padding: 0 0 0 0;\n",
              "        width: 32px;\n",
              "      }\n",
              "\n",
              "      .colab-df-generate:hover {\n",
              "        background-color: #E2EBFA;\n",
              "        box-shadow: 0px 1px 2px rgba(60, 64, 67, 0.3), 0px 1px 3px 1px rgba(60, 64, 67, 0.15);\n",
              "        fill: #174EA6;\n",
              "      }\n",
              "\n",
              "      [theme=dark] .colab-df-generate {\n",
              "        background-color: #3B4455;\n",
              "        fill: #D2E3FC;\n",
              "      }\n",
              "\n",
              "      [theme=dark] .colab-df-generate:hover {\n",
              "        background-color: #434B5C;\n",
              "        box-shadow: 0px 1px 3px 1px rgba(0, 0, 0, 0.15);\n",
              "        filter: drop-shadow(0px 1px 2px rgba(0, 0, 0, 0.3));\n",
              "        fill: #FFFFFF;\n",
              "      }\n",
              "    </style>\n",
              "    <button class=\"colab-df-generate\" onclick=\"generateWithVariable('data')\"\n",
              "            title=\"Generate code using this dataframe.\"\n",
              "            style=\"display:none;\">\n",
              "\n",
              "  <svg xmlns=\"http://www.w3.org/2000/svg\" height=\"24px\"viewBox=\"0 0 24 24\"\n",
              "       width=\"24px\">\n",
              "    <path d=\"M7,19H8.4L18.45,9,17,7.55,7,17.6ZM5,21V16.75L18.45,3.32a2,2,0,0,1,2.83,0l1.4,1.43a1.91,1.91,0,0,1,.58,1.4,1.91,1.91,0,0,1-.58,1.4L9.25,21ZM18.45,9,17,7.55Zm-12,3A5.31,5.31,0,0,0,4.9,8.1,5.31,5.31,0,0,0,1,6.5,5.31,5.31,0,0,0,4.9,4.9,5.31,5.31,0,0,0,6.5,1,5.31,5.31,0,0,0,8.1,4.9,5.31,5.31,0,0,0,12,6.5,5.46,5.46,0,0,0,6.5,12Z\"/>\n",
              "  </svg>\n",
              "    </button>\n",
              "    <script>\n",
              "      (() => {\n",
              "      const buttonEl =\n",
              "        document.querySelector('#id_c6077567-4e43-48a8-a975-275d0c3591b7 button.colab-df-generate');\n",
              "      buttonEl.style.display =\n",
              "        google.colab.kernel.accessAllowed ? 'block' : 'none';\n",
              "\n",
              "      buttonEl.onclick = () => {\n",
              "        google.colab.notebook.generateWithVariable('data');\n",
              "      }\n",
              "      })();\n",
              "    </script>\n",
              "  </div>\n",
              "\n",
              "    </div>\n",
              "  </div>\n"
            ]
          },
          "metadata": {},
          "execution_count": 211
        }
      ]
    },
    {
      "cell_type": "markdown",
      "source": [
        "\n",
        "\n",
        "> Feature Engineering\n",
        "\n"
      ],
      "metadata": {
        "id": "kKG7x9u4rqtF"
      }
    },
    {
      "cell_type": "code",
      "source": [
        "data['DailyReturn'] = data['Adj Close'].pct_change() * 100\n",
        "data['MovingAverage'] = data['Adj Close'].rolling(window=5).mean()\n",
        "data['PriceToVolumeRatio'] = data['Adj Close']/data['Volume']\n",
        "data=data.dropna()\n",
        "data"
      ],
      "metadata": {
        "colab": {
          "base_uri": "https://localhost:8080/",
          "height": 617
        },
        "outputId": "7e66c0d2-6bb1-4d27-e292-8c5619a9e405",
        "id": "JIgLwaUerqtF"
      },
      "execution_count": 212,
      "outputs": [
        {
          "output_type": "execute_result",
          "data": {
            "text/plain": [
              "           Date        Open      High       Low       Close   Adj Close  \\\n",
              "4    2022-12-23  245.894135  0.290180  0.303090  246.148178  246.148178   \n",
              "5    2022-12-24  246.151642  0.275586  0.299376  244.635529  244.635529   \n",
              "6    2022-12-25  244.636398  0.272443  0.282642  243.141495  243.141495   \n",
              "7    2022-12-26  243.147934  0.264528  0.286534  244.198288  244.198288   \n",
              "8    2022-12-27  244.202652  0.286031  0.289043  246.596680  246.596680   \n",
              "..          ...         ...       ...       ...         ...         ...   \n",
              "361  2023-12-15  253.517441  0.326962  0.298740  244.898438  244.898438   \n",
              "362  2023-12-16  244.896423  0.288867  0.295644  244.350967  244.350967   \n",
              "363  2023-12-17  244.350708  0.263386  0.264293  239.308289  239.308289   \n",
              "364  2023-12-18  239.247147  0.241884  0.216168  241.348434  241.348434   \n",
              "365  2023-12-19  241.347687  0.328558  0.280021  253.105240  253.105240   \n",
              "\n",
              "         Volume  DailyReturn  MovingAverage  PriceToVolumeRatio  \n",
              "4     388929772     0.104743     246.097626        6.328859e-07  \n",
              "5     280627376    -0.614528     246.893170        8.717451e-07  \n",
              "6     298063868    -0.610718     245.172562        8.157362e-07  \n",
              "7     276115280     0.434641     244.802823        8.844070e-07  \n",
              "8     391342277     0.982149     244.944034        6.301304e-07  \n",
              "..          ...          ...            ...                 ...  \n",
              "361   769388533    -3.408825     250.355765        3.183027e-07  \n",
              "362   651447427    -0.223550     249.941785        3.750893e-07  \n",
              "363   650163942    -2.063703     246.904447        3.680738e-07  \n",
              "364   871708609     0.852517     244.689468        2.768682e-07  \n",
              "365  1226686976     4.871300     244.602274        2.063324e-07  \n",
              "\n",
              "[362 rows x 10 columns]"
            ],
            "text/html": [
              "\n",
              "  <div id=\"df-32d4b111-4bda-4f8a-a7cc-bebac32e495d\" class=\"colab-df-container\">\n",
              "    <div>\n",
              "<style scoped>\n",
              "    .dataframe tbody tr th:only-of-type {\n",
              "        vertical-align: middle;\n",
              "    }\n",
              "\n",
              "    .dataframe tbody tr th {\n",
              "        vertical-align: top;\n",
              "    }\n",
              "\n",
              "    .dataframe thead th {\n",
              "        text-align: right;\n",
              "    }\n",
              "</style>\n",
              "<table border=\"1\" class=\"dataframe\">\n",
              "  <thead>\n",
              "    <tr style=\"text-align: right;\">\n",
              "      <th></th>\n",
              "      <th>Date</th>\n",
              "      <th>Open</th>\n",
              "      <th>High</th>\n",
              "      <th>Low</th>\n",
              "      <th>Close</th>\n",
              "      <th>Adj Close</th>\n",
              "      <th>Volume</th>\n",
              "      <th>DailyReturn</th>\n",
              "      <th>MovingAverage</th>\n",
              "      <th>PriceToVolumeRatio</th>\n",
              "    </tr>\n",
              "  </thead>\n",
              "  <tbody>\n",
              "    <tr>\n",
              "      <th>4</th>\n",
              "      <td>2022-12-23</td>\n",
              "      <td>245.894135</td>\n",
              "      <td>0.290180</td>\n",
              "      <td>0.303090</td>\n",
              "      <td>246.148178</td>\n",
              "      <td>246.148178</td>\n",
              "      <td>388929772</td>\n",
              "      <td>0.104743</td>\n",
              "      <td>246.097626</td>\n",
              "      <td>6.328859e-07</td>\n",
              "    </tr>\n",
              "    <tr>\n",
              "      <th>5</th>\n",
              "      <td>2022-12-24</td>\n",
              "      <td>246.151642</td>\n",
              "      <td>0.275586</td>\n",
              "      <td>0.299376</td>\n",
              "      <td>244.635529</td>\n",
              "      <td>244.635529</td>\n",
              "      <td>280627376</td>\n",
              "      <td>-0.614528</td>\n",
              "      <td>246.893170</td>\n",
              "      <td>8.717451e-07</td>\n",
              "    </tr>\n",
              "    <tr>\n",
              "      <th>6</th>\n",
              "      <td>2022-12-25</td>\n",
              "      <td>244.636398</td>\n",
              "      <td>0.272443</td>\n",
              "      <td>0.282642</td>\n",
              "      <td>243.141495</td>\n",
              "      <td>243.141495</td>\n",
              "      <td>298063868</td>\n",
              "      <td>-0.610718</td>\n",
              "      <td>245.172562</td>\n",
              "      <td>8.157362e-07</td>\n",
              "    </tr>\n",
              "    <tr>\n",
              "      <th>7</th>\n",
              "      <td>2022-12-26</td>\n",
              "      <td>243.147934</td>\n",
              "      <td>0.264528</td>\n",
              "      <td>0.286534</td>\n",
              "      <td>244.198288</td>\n",
              "      <td>244.198288</td>\n",
              "      <td>276115280</td>\n",
              "      <td>0.434641</td>\n",
              "      <td>244.802823</td>\n",
              "      <td>8.844070e-07</td>\n",
              "    </tr>\n",
              "    <tr>\n",
              "      <th>8</th>\n",
              "      <td>2022-12-27</td>\n",
              "      <td>244.202652</td>\n",
              "      <td>0.286031</td>\n",
              "      <td>0.289043</td>\n",
              "      <td>246.596680</td>\n",
              "      <td>246.596680</td>\n",
              "      <td>391342277</td>\n",
              "      <td>0.982149</td>\n",
              "      <td>244.944034</td>\n",
              "      <td>6.301304e-07</td>\n",
              "    </tr>\n",
              "    <tr>\n",
              "      <th>...</th>\n",
              "      <td>...</td>\n",
              "      <td>...</td>\n",
              "      <td>...</td>\n",
              "      <td>...</td>\n",
              "      <td>...</td>\n",
              "      <td>...</td>\n",
              "      <td>...</td>\n",
              "      <td>...</td>\n",
              "      <td>...</td>\n",
              "      <td>...</td>\n",
              "    </tr>\n",
              "    <tr>\n",
              "      <th>361</th>\n",
              "      <td>2023-12-15</td>\n",
              "      <td>253.517441</td>\n",
              "      <td>0.326962</td>\n",
              "      <td>0.298740</td>\n",
              "      <td>244.898438</td>\n",
              "      <td>244.898438</td>\n",
              "      <td>769388533</td>\n",
              "      <td>-3.408825</td>\n",
              "      <td>250.355765</td>\n",
              "      <td>3.183027e-07</td>\n",
              "    </tr>\n",
              "    <tr>\n",
              "      <th>362</th>\n",
              "      <td>2023-12-16</td>\n",
              "      <td>244.896423</td>\n",
              "      <td>0.288867</td>\n",
              "      <td>0.295644</td>\n",
              "      <td>244.350967</td>\n",
              "      <td>244.350967</td>\n",
              "      <td>651447427</td>\n",
              "      <td>-0.223550</td>\n",
              "      <td>249.941785</td>\n",
              "      <td>3.750893e-07</td>\n",
              "    </tr>\n",
              "    <tr>\n",
              "      <th>363</th>\n",
              "      <td>2023-12-17</td>\n",
              "      <td>244.350708</td>\n",
              "      <td>0.263386</td>\n",
              "      <td>0.264293</td>\n",
              "      <td>239.308289</td>\n",
              "      <td>239.308289</td>\n",
              "      <td>650163942</td>\n",
              "      <td>-2.063703</td>\n",
              "      <td>246.904447</td>\n",
              "      <td>3.680738e-07</td>\n",
              "    </tr>\n",
              "    <tr>\n",
              "      <th>364</th>\n",
              "      <td>2023-12-18</td>\n",
              "      <td>239.247147</td>\n",
              "      <td>0.241884</td>\n",
              "      <td>0.216168</td>\n",
              "      <td>241.348434</td>\n",
              "      <td>241.348434</td>\n",
              "      <td>871708609</td>\n",
              "      <td>0.852517</td>\n",
              "      <td>244.689468</td>\n",
              "      <td>2.768682e-07</td>\n",
              "    </tr>\n",
              "    <tr>\n",
              "      <th>365</th>\n",
              "      <td>2023-12-19</td>\n",
              "      <td>241.347687</td>\n",
              "      <td>0.328558</td>\n",
              "      <td>0.280021</td>\n",
              "      <td>253.105240</td>\n",
              "      <td>253.105240</td>\n",
              "      <td>1226686976</td>\n",
              "      <td>4.871300</td>\n",
              "      <td>244.602274</td>\n",
              "      <td>2.063324e-07</td>\n",
              "    </tr>\n",
              "  </tbody>\n",
              "</table>\n",
              "<p>362 rows × 10 columns</p>\n",
              "</div>\n",
              "    <div class=\"colab-df-buttons\">\n",
              "\n",
              "  <div class=\"colab-df-container\">\n",
              "    <button class=\"colab-df-convert\" onclick=\"convertToInteractive('df-32d4b111-4bda-4f8a-a7cc-bebac32e495d')\"\n",
              "            title=\"Convert this dataframe to an interactive table.\"\n",
              "            style=\"display:none;\">\n",
              "\n",
              "  <svg xmlns=\"http://www.w3.org/2000/svg\" height=\"24px\" viewBox=\"0 -960 960 960\">\n",
              "    <path d=\"M120-120v-720h720v720H120Zm60-500h600v-160H180v160Zm220 220h160v-160H400v160Zm0 220h160v-160H400v160ZM180-400h160v-160H180v160Zm440 0h160v-160H620v160ZM180-180h160v-160H180v160Zm440 0h160v-160H620v160Z\"/>\n",
              "  </svg>\n",
              "    </button>\n",
              "\n",
              "  <style>\n",
              "    .colab-df-container {\n",
              "      display:flex;\n",
              "      gap: 12px;\n",
              "    }\n",
              "\n",
              "    .colab-df-convert {\n",
              "      background-color: #E8F0FE;\n",
              "      border: none;\n",
              "      border-radius: 50%;\n",
              "      cursor: pointer;\n",
              "      display: none;\n",
              "      fill: #1967D2;\n",
              "      height: 32px;\n",
              "      padding: 0 0 0 0;\n",
              "      width: 32px;\n",
              "    }\n",
              "\n",
              "    .colab-df-convert:hover {\n",
              "      background-color: #E2EBFA;\n",
              "      box-shadow: 0px 1px 2px rgba(60, 64, 67, 0.3), 0px 1px 3px 1px rgba(60, 64, 67, 0.15);\n",
              "      fill: #174EA6;\n",
              "    }\n",
              "\n",
              "    .colab-df-buttons div {\n",
              "      margin-bottom: 4px;\n",
              "    }\n",
              "\n",
              "    [theme=dark] .colab-df-convert {\n",
              "      background-color: #3B4455;\n",
              "      fill: #D2E3FC;\n",
              "    }\n",
              "\n",
              "    [theme=dark] .colab-df-convert:hover {\n",
              "      background-color: #434B5C;\n",
              "      box-shadow: 0px 1px 3px 1px rgba(0, 0, 0, 0.15);\n",
              "      filter: drop-shadow(0px 1px 2px rgba(0, 0, 0, 0.3));\n",
              "      fill: #FFFFFF;\n",
              "    }\n",
              "  </style>\n",
              "\n",
              "    <script>\n",
              "      const buttonEl =\n",
              "        document.querySelector('#df-32d4b111-4bda-4f8a-a7cc-bebac32e495d button.colab-df-convert');\n",
              "      buttonEl.style.display =\n",
              "        google.colab.kernel.accessAllowed ? 'block' : 'none';\n",
              "\n",
              "      async function convertToInteractive(key) {\n",
              "        const element = document.querySelector('#df-32d4b111-4bda-4f8a-a7cc-bebac32e495d');\n",
              "        const dataTable =\n",
              "          await google.colab.kernel.invokeFunction('convertToInteractive',\n",
              "                                                    [key], {});\n",
              "        if (!dataTable) return;\n",
              "\n",
              "        const docLinkHtml = 'Like what you see? Visit the ' +\n",
              "          '<a target=\"_blank\" href=https://colab.research.google.com/notebooks/data_table.ipynb>data table notebook</a>'\n",
              "          + ' to learn more about interactive tables.';\n",
              "        element.innerHTML = '';\n",
              "        dataTable['output_type'] = 'display_data';\n",
              "        await google.colab.output.renderOutput(dataTable, element);\n",
              "        const docLink = document.createElement('div');\n",
              "        docLink.innerHTML = docLinkHtml;\n",
              "        element.appendChild(docLink);\n",
              "      }\n",
              "    </script>\n",
              "  </div>\n",
              "\n",
              "\n",
              "<div id=\"df-3d6f9f4e-1a69-4f7c-882a-17bfbe720902\">\n",
              "  <button class=\"colab-df-quickchart\" onclick=\"quickchart('df-3d6f9f4e-1a69-4f7c-882a-17bfbe720902')\"\n",
              "            title=\"Suggest charts\"\n",
              "            style=\"display:none;\">\n",
              "\n",
              "<svg xmlns=\"http://www.w3.org/2000/svg\" height=\"24px\"viewBox=\"0 0 24 24\"\n",
              "     width=\"24px\">\n",
              "    <g>\n",
              "        <path d=\"M19 3H5c-1.1 0-2 .9-2 2v14c0 1.1.9 2 2 2h14c1.1 0 2-.9 2-2V5c0-1.1-.9-2-2-2zM9 17H7v-7h2v7zm4 0h-2V7h2v10zm4 0h-2v-4h2v4z\"/>\n",
              "    </g>\n",
              "</svg>\n",
              "  </button>\n",
              "\n",
              "<style>\n",
              "  .colab-df-quickchart {\n",
              "      --bg-color: #E8F0FE;\n",
              "      --fill-color: #1967D2;\n",
              "      --hover-bg-color: #E2EBFA;\n",
              "      --hover-fill-color: #174EA6;\n",
              "      --disabled-fill-color: #AAA;\n",
              "      --disabled-bg-color: #DDD;\n",
              "  }\n",
              "\n",
              "  [theme=dark] .colab-df-quickchart {\n",
              "      --bg-color: #3B4455;\n",
              "      --fill-color: #D2E3FC;\n",
              "      --hover-bg-color: #434B5C;\n",
              "      --hover-fill-color: #FFFFFF;\n",
              "      --disabled-bg-color: #3B4455;\n",
              "      --disabled-fill-color: #666;\n",
              "  }\n",
              "\n",
              "  .colab-df-quickchart {\n",
              "    background-color: var(--bg-color);\n",
              "    border: none;\n",
              "    border-radius: 50%;\n",
              "    cursor: pointer;\n",
              "    display: none;\n",
              "    fill: var(--fill-color);\n",
              "    height: 32px;\n",
              "    padding: 0;\n",
              "    width: 32px;\n",
              "  }\n",
              "\n",
              "  .colab-df-quickchart:hover {\n",
              "    background-color: var(--hover-bg-color);\n",
              "    box-shadow: 0 1px 2px rgba(60, 64, 67, 0.3), 0 1px 3px 1px rgba(60, 64, 67, 0.15);\n",
              "    fill: var(--button-hover-fill-color);\n",
              "  }\n",
              "\n",
              "  .colab-df-quickchart-complete:disabled,\n",
              "  .colab-df-quickchart-complete:disabled:hover {\n",
              "    background-color: var(--disabled-bg-color);\n",
              "    fill: var(--disabled-fill-color);\n",
              "    box-shadow: none;\n",
              "  }\n",
              "\n",
              "  .colab-df-spinner {\n",
              "    border: 2px solid var(--fill-color);\n",
              "    border-color: transparent;\n",
              "    border-bottom-color: var(--fill-color);\n",
              "    animation:\n",
              "      spin 1s steps(1) infinite;\n",
              "  }\n",
              "\n",
              "  @keyframes spin {\n",
              "    0% {\n",
              "      border-color: transparent;\n",
              "      border-bottom-color: var(--fill-color);\n",
              "      border-left-color: var(--fill-color);\n",
              "    }\n",
              "    20% {\n",
              "      border-color: transparent;\n",
              "      border-left-color: var(--fill-color);\n",
              "      border-top-color: var(--fill-color);\n",
              "    }\n",
              "    30% {\n",
              "      border-color: transparent;\n",
              "      border-left-color: var(--fill-color);\n",
              "      border-top-color: var(--fill-color);\n",
              "      border-right-color: var(--fill-color);\n",
              "    }\n",
              "    40% {\n",
              "      border-color: transparent;\n",
              "      border-right-color: var(--fill-color);\n",
              "      border-top-color: var(--fill-color);\n",
              "    }\n",
              "    60% {\n",
              "      border-color: transparent;\n",
              "      border-right-color: var(--fill-color);\n",
              "    }\n",
              "    80% {\n",
              "      border-color: transparent;\n",
              "      border-right-color: var(--fill-color);\n",
              "      border-bottom-color: var(--fill-color);\n",
              "    }\n",
              "    90% {\n",
              "      border-color: transparent;\n",
              "      border-bottom-color: var(--fill-color);\n",
              "    }\n",
              "  }\n",
              "</style>\n",
              "\n",
              "  <script>\n",
              "    async function quickchart(key) {\n",
              "      const quickchartButtonEl =\n",
              "        document.querySelector('#' + key + ' button');\n",
              "      quickchartButtonEl.disabled = true;  // To prevent multiple clicks.\n",
              "      quickchartButtonEl.classList.add('colab-df-spinner');\n",
              "      try {\n",
              "        const charts = await google.colab.kernel.invokeFunction(\n",
              "            'suggestCharts', [key], {});\n",
              "      } catch (error) {\n",
              "        console.error('Error during call to suggestCharts:', error);\n",
              "      }\n",
              "      quickchartButtonEl.classList.remove('colab-df-spinner');\n",
              "      quickchartButtonEl.classList.add('colab-df-quickchart-complete');\n",
              "    }\n",
              "    (() => {\n",
              "      let quickchartButtonEl =\n",
              "        document.querySelector('#df-3d6f9f4e-1a69-4f7c-882a-17bfbe720902 button');\n",
              "      quickchartButtonEl.style.display =\n",
              "        google.colab.kernel.accessAllowed ? 'block' : 'none';\n",
              "    })();\n",
              "  </script>\n",
              "</div>\n",
              "\n",
              "  <div id=\"id_bd0d9ccc-b6e5-4bda-9678-0cf261e20c33\">\n",
              "    <style>\n",
              "      .colab-df-generate {\n",
              "        background-color: #E8F0FE;\n",
              "        border: none;\n",
              "        border-radius: 50%;\n",
              "        cursor: pointer;\n",
              "        display: none;\n",
              "        fill: #1967D2;\n",
              "        height: 32px;\n",
              "        padding: 0 0 0 0;\n",
              "        width: 32px;\n",
              "      }\n",
              "\n",
              "      .colab-df-generate:hover {\n",
              "        background-color: #E2EBFA;\n",
              "        box-shadow: 0px 1px 2px rgba(60, 64, 67, 0.3), 0px 1px 3px 1px rgba(60, 64, 67, 0.15);\n",
              "        fill: #174EA6;\n",
              "      }\n",
              "\n",
              "      [theme=dark] .colab-df-generate {\n",
              "        background-color: #3B4455;\n",
              "        fill: #D2E3FC;\n",
              "      }\n",
              "\n",
              "      [theme=dark] .colab-df-generate:hover {\n",
              "        background-color: #434B5C;\n",
              "        box-shadow: 0px 1px 3px 1px rgba(0, 0, 0, 0.15);\n",
              "        filter: drop-shadow(0px 1px 2px rgba(0, 0, 0, 0.3));\n",
              "        fill: #FFFFFF;\n",
              "      }\n",
              "    </style>\n",
              "    <button class=\"colab-df-generate\" onclick=\"generateWithVariable('data')\"\n",
              "            title=\"Generate code using this dataframe.\"\n",
              "            style=\"display:none;\">\n",
              "\n",
              "  <svg xmlns=\"http://www.w3.org/2000/svg\" height=\"24px\"viewBox=\"0 0 24 24\"\n",
              "       width=\"24px\">\n",
              "    <path d=\"M7,19H8.4L18.45,9,17,7.55,7,17.6ZM5,21V16.75L18.45,3.32a2,2,0,0,1,2.83,0l1.4,1.43a1.91,1.91,0,0,1,.58,1.4,1.91,1.91,0,0,1-.58,1.4L9.25,21ZM18.45,9,17,7.55Zm-12,3A5.31,5.31,0,0,0,4.9,8.1,5.31,5.31,0,0,0,1,6.5,5.31,5.31,0,0,0,4.9,4.9,5.31,5.31,0,0,0,6.5,1,5.31,5.31,0,0,0,8.1,4.9,5.31,5.31,0,0,0,12,6.5,5.46,5.46,0,0,0,6.5,12Z\"/>\n",
              "  </svg>\n",
              "    </button>\n",
              "    <script>\n",
              "      (() => {\n",
              "      const buttonEl =\n",
              "        document.querySelector('#id_bd0d9ccc-b6e5-4bda-9678-0cf261e20c33 button.colab-df-generate');\n",
              "      buttonEl.style.display =\n",
              "        google.colab.kernel.accessAllowed ? 'block' : 'none';\n",
              "\n",
              "      buttonEl.onclick = () => {\n",
              "        google.colab.notebook.generateWithVariable('data');\n",
              "      }\n",
              "      })();\n",
              "    </script>\n",
              "  </div>\n",
              "\n",
              "    </div>\n",
              "  </div>\n"
            ]
          },
          "metadata": {},
          "execution_count": 212
        }
      ]
    },
    {
      "cell_type": "markdown",
      "source": [
        "> Data Splitting and Model Training"
      ],
      "metadata": {
        "id": "5Fb5LiF7rqtF"
      }
    },
    {
      "cell_type": "code",
      "source": [
        "features = ['Open', 'High', 'Low', 'Volume', 'DailyReturn', 'MovingAverage', 'PriceToVolumeRatio']\n",
        "X = data[features]\n",
        "Y = data['Close']\n",
        "print(X.columns)\n",
        "print(Y.name)"
      ],
      "metadata": {
        "colab": {
          "base_uri": "https://localhost:8080/"
        },
        "outputId": "102763df-cbc0-4dad-e8c2-549a30b67a9f",
        "id": "tT-rA2BArqtF"
      },
      "execution_count": 213,
      "outputs": [
        {
          "output_type": "stream",
          "name": "stdout",
          "text": [
            "Index(['Open', 'High', 'Low', 'Volume', 'DailyReturn', 'MovingAverage',\n",
            "       'PriceToVolumeRatio'],\n",
            "      dtype='object')\n",
            "Close\n"
          ]
        }
      ]
    },
    {
      "cell_type": "code",
      "source": [
        "imputer = SimpleImputer(strategy='mean')\n",
        "X = imputer.fit_transform(X)"
      ],
      "metadata": {
        "id": "CNyg5Id4rqtF"
      },
      "execution_count": 214,
      "outputs": []
    },
    {
      "cell_type": "code",
      "source": [
        "X_train, X_test, y_train, y_test = train_test_split(X, Y, test_size=0.2, random_state=42)\n",
        "print(\"X_train shape:\", X_train.shape)\n",
        "print(\"X_test shape:\", X_test.shape)\n",
        "print(\"y_train shape:\", y_train.shape)\n",
        "print(\"y_test shape:\", y_test.shape)"
      ],
      "metadata": {
        "colab": {
          "base_uri": "https://localhost:8080/"
        },
        "outputId": "b950e8c4-f190-4f9c-92e7-ef442f574b57",
        "id": "w4xG-CqSrqtG"
      },
      "execution_count": 215,
      "outputs": [
        {
          "output_type": "stream",
          "name": "stdout",
          "text": [
            "X_train shape: (289, 7)\n",
            "X_test shape: (73, 7)\n",
            "y_train shape: (289,)\n",
            "y_test shape: (73,)\n"
          ]
        }
      ]
    },
    {
      "cell_type": "code",
      "source": [
        "model = KNeighborsRegressor(n_neighbors=5)"
      ],
      "metadata": {
        "id": "Zh6smTgWrqtG"
      },
      "execution_count": 216,
      "outputs": []
    },
    {
      "cell_type": "markdown",
      "source": [
        "> Model Evaluation"
      ],
      "metadata": {
        "id": "FxUSnJrFrqtG"
      }
    },
    {
      "cell_type": "code",
      "source": [
        "model.fit(X_train, y_train)\n",
        "predictions = model.predict(X_test)\n",
        "predictions"
      ],
      "metadata": {
        "colab": {
          "base_uri": "https://localhost:8080/"
        },
        "outputId": "417a61e2-2cd9-454a-84a2-7b3576485e48",
        "id": "WW2O0P--rqtG"
      },
      "execution_count": 217,
      "outputs": [
        {
          "output_type": "execute_result",
          "data": {
            "text/plain": [
              "array([217.8052554, 303.1653382, 235.671646 , 278.6655182, 270.4230286,\n",
              "       275.1994108, 255.04288  , 243.0390686, 291.2032134, 258.6112214,\n",
              "       229.9150452, 272.9320342, 236.3707796, 244.6151886, 291.1279114,\n",
              "       285.528775 , 246.3022704, 243.7148438, 304.3599488, 286.101059 ,\n",
              "       223.9775118, 285.6366884, 234.9502228, 247.3120666, 288.391977 ,\n",
              "       263.2686218, 256.128485 , 275.5138762, 225.0215274, 275.9259674,\n",
              "       274.0163878, 258.092798 , 293.733914 , 293.5104616, 282.6653806,\n",
              "       288.3316958, 263.2920866, 258.6112214, 249.8366242, 292.0092378,\n",
              "       223.337781 , 300.7315522, 237.4388826, 290.473706 , 289.5125244,\n",
              "       270.3476928, 284.0002014, 286.101059 , 229.9150452, 286.2524626,\n",
              "       223.337781 , 234.2830842, 250.75531  , 273.893402 , 272.9320342,\n",
              "       290.8708008, 251.8560118, 225.0215274, 260.6858582, 263.8175416,\n",
              "       270.8499452, 236.7111816, 286.2524626, 286.2524626, 274.6356876,\n",
              "       245.873288 , 264.523117 , 284.8107332, 300.713565 , 280.8504578,\n",
              "       293.6381804, 264.4472626, 234.9502228])"
            ]
          },
          "metadata": {},
          "execution_count": 217
        }
      ]
    },
    {
      "cell_type": "code",
      "source": [
        "mse = mean_squared_error(y_test, predictions)\n",
        "print(f'Mean Squared Error: {mse}')"
      ],
      "metadata": {
        "colab": {
          "base_uri": "https://localhost:8080/"
        },
        "outputId": "0fa3280f-0b61-4b21-8a8b-c50e57fbb073",
        "id": "TBbXM_VyrqtG"
      },
      "execution_count": 218,
      "outputs": [
        {
          "output_type": "stream",
          "name": "stdout",
          "text": [
            "Mean Squared Error: 2044.471854051432\n"
          ]
        }
      ]
    },
    {
      "cell_type": "code",
      "source": [
        "# Calculate Mean Absolute Error\n",
        "mae = mean_absolute_error(y_test, predictions)\n",
        "print(f'Mean Absolute Error: {mae:.2f}')"
      ],
      "metadata": {
        "colab": {
          "base_uri": "https://localhost:8080/"
        },
        "id": "J3oCVIZ7OeP1",
        "outputId": "503e0b43-cbcb-401a-8125-f63222ff3e44"
      },
      "execution_count": 219,
      "outputs": [
        {
          "output_type": "stream",
          "name": "stdout",
          "text": [
            "Mean Absolute Error: 39.49\n"
          ]
        }
      ]
    },
    {
      "cell_type": "code",
      "source": [
        "# Calculate R-squared\n",
        "r2 = r2_score(y_test, predictions)\n",
        "print(f'R-squared: {r2:.2f}')"
      ],
      "metadata": {
        "colab": {
          "base_uri": "https://localhost:8080/"
        },
        "id": "y81OFOy4Olys",
        "outputId": "14aaa309-5380-4505-f527-d3c05f2d707f"
      },
      "execution_count": 220,
      "outputs": [
        {
          "output_type": "stream",
          "name": "stdout",
          "text": [
            "R-squared: -0.16\n"
          ]
        }
      ]
    },
    {
      "cell_type": "code",
      "source": [
        "df_results = pd.DataFrame({'Date': pd.to_datetime(y_test.index, format='%Y-%m-%d'),\n",
        "                           'Actual_Close': y_test.values,\n",
        "                           'Predicted_Close': predictions})\n",
        "\n",
        "# Display the new DataFrame\n",
        "print(df_results)"
      ],
      "metadata": {
        "colab": {
          "base_uri": "https://localhost:8080/"
        },
        "outputId": "73fb6606-37e4-4032-ed3b-f2050cfeb276",
        "id": "WKz9mbEprqtG"
      },
      "execution_count": 221,
      "outputs": [
        {
          "output_type": "stream",
          "name": "stdout",
          "text": [
            "                            Date  Actual_Close  Predicted_Close\n",
            "0  1970-01-01 00:00:00.000000167    305.156799       217.805255\n",
            "1  1970-01-01 00:00:00.000000037    307.307648       303.165338\n",
            "2  1970-01-01 00:00:00.000000019    261.282837       235.671646\n",
            "3  1970-01-01 00:00:00.000000326    251.082367       278.665518\n",
            "4  1970-01-01 00:00:00.000000061    316.682709       270.423029\n",
            "..                           ...           ...              ...\n",
            "68 1970-01-01 00:00:00.000000301    214.823959       300.713565\n",
            "69 1970-01-01 00:00:00.000000086    307.124939       280.850458\n",
            "70 1970-01-01 00:00:00.000000098    310.949127       293.638180\n",
            "71 1970-01-01 00:00:00.000000345    227.342758       264.447263\n",
            "72 1970-01-01 00:00:00.000000307    217.747375       234.950223\n",
            "\n",
            "[73 rows x 3 columns]\n"
          ]
        }
      ]
    },
    {
      "cell_type": "code",
      "source": [
        "df_results[['Actual_Close', 'Predicted_Close']].plot()"
      ],
      "metadata": {
        "colab": {
          "base_uri": "https://localhost:8080/",
          "height": 447
        },
        "outputId": "7efa0658-e44c-4e72-e0fe-54ee41a874b9",
        "id": "1ONCsj6RrqtG"
      },
      "execution_count": 222,
      "outputs": [
        {
          "output_type": "execute_result",
          "data": {
            "text/plain": [
              "<Axes: >"
            ]
          },
          "metadata": {},
          "execution_count": 222
        },
        {
          "output_type": "display_data",
          "data": {
            "text/plain": [
              "<Figure size 640x480 with 1 Axes>"
            ],
            "image/png": "[encoded data removed]"
          },
          "metadata": {}
        }
      ]
    },
    {
      "cell_type": "code",
      "source": [
        "plt.figure(figsize=(8, 6))\n",
        "plt.scatter(y_test, predictions, color='blue', alpha=0.5)\n",
        "plt.plot([min(y_test), max(y_test)], [min(y_test), max(y_test)],linestyle='--', color='red', linewidth=2)\n",
        "plt.title('Actual vs. Predicted Values')\n",
        "plt.xlabel('Actual Values')\n",
        "plt.ylabel('Predicted Values')\n",
        "plt.show()"
      ],
      "metadata": {
        "colab": {
          "base_uri": "https://localhost:8080/",
          "height": 564
        },
        "id": "CQV91R56OoE8",
        "outputId": "9521264d-656d-4b99-dd2a-b37bbf1a9382"
      },
      "execution_count": 223,
      "outputs": [
        {
          "output_type": "display_data",
          "data": {
            "text/plain": [
              "<Figure size 800x600 with 1 Axes>"
            ],
            "image/png": "[encoded data removed]"
          },
          "metadata": {}
        }
      ]
    }
  ]
}